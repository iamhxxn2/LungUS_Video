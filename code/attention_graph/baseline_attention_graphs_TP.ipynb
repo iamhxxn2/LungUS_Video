{
 "cells": [
  {
   "cell_type": "code",
   "execution_count": 1,
   "id": "4e1294df",
   "metadata": {},
   "outputs": [],
   "source": [
    "import argparse\n",
    "import os \n",
    "import csv\n",
    "import wandb\n",
    "# os.environ['CUDA_LAUNCH_BLOCKING'] = \"1\"\n",
    "import warnings\n",
    "warnings.filterwarnings(\"ignore\")\n",
    "\n",
    "import numpy as np\n",
    "import pandas as pd\n",
    "import matplotlib.pyplot as plt\n",
    "\n",
    "import pickle\n",
    "\n",
    "import torch\n",
    "import torch.nn as nn\n",
    "import torch.optim as optim\n",
    "from timm import optim\n",
    "import torch.nn.functional as F\n",
    "from torch.optim import lr_scheduler\n",
    "from torch.optim.lr_scheduler import ReduceLROnPlateau\n",
    "\n",
    "import torchvision\n",
    "from torchvision import models\n",
    "import timm\n",
    "from torch.utils.data import Dataset, DataLoader, WeightedRandomSampler, default_collate\n",
    "import random\n",
    "from tqdm import tqdm\n",
    "import time\n",
    "import yaml\n",
    "\n",
    "from Dataset_ML import *\n",
    "from utils_ML import *\n",
    "from models_ML import *\n",
    "import vidaug.augmentors as va\n",
    "\n",
    "from sklearn.metrics import classification_report, confusion_matrix, accuracy_score\n",
    "from sklearn.metrics import roc_auc_score\n",
    "from sklearn import metrics\n",
    "from sklearn.metrics import roc_curve\n",
    "\n",
    "import math\n",
    "from sklearn.preprocessing import OneHotEncoder\n",
    "\n",
    "from glob import glob\n",
    "import cv2"
   ]
  },
  {
   "cell_type": "code",
   "execution_count": 2,
   "id": "8192cb2a",
   "metadata": {},
   "outputs": [],
   "source": [
    "def set_all_seeds(SEED):\n",
    "    # REPRODUCIBILITY\n",
    "    torch.manual_seed(SEED)\n",
    "    torch.cuda.manual_seed(SEED)\n",
    "    torch.cuda.manual_seed_all(SEED)\n",
    "    torch.backends.cudnn.deterministic = True\n",
    "    torch.backends.cudnn.benchmark = False\n",
    "    np.random.seed(SEED)\n",
    "    random.seed(SEED)"
   ]
  },
  {
   "cell_type": "code",
   "execution_count": 3,
   "id": "0f52459d",
   "metadata": {},
   "outputs": [],
   "source": [
    "def num_parameters(module):\n",
    "    return sum(p.numel() for p in module.parameters() if p.requires_grad)\n",
    "\n",
    "def collate_video(batch_list):\n",
    "    \"\"\"\n",
    "    A custom collate function to be passed to the callate_fn argument when creating a pytorch dataloader.\n",
    "    This is necessary because videos have different lengths. We handle by combining all videos along the time \n",
    "    dimension and returning the number of frames in each video.\n",
    "    \"\"\"\n",
    "    vids = torch.concat([b[0] for b in batch_list])\n",
    "    # num_frames = [b.shape[0] for b in batch_list]\n",
    "    labels = [b[1] for b in batch_list]\n",
    "    paths = [b[2] for b in batch_list]\n",
    "    # record = {\n",
    "    #     'video': vids,\n",
    "    #     'num_frames': num_frames\n",
    "    # }\n",
    "\n",
    "    # use pytorch's default collate function for remaining items\n",
    "    # for b in batch_list:\n",
    "    #     b.pop('video')\n",
    "    # record.update(default_collate(batch_list))\n",
    "\n",
    "    return vids, labels, paths"
   ]
  },
  {
   "cell_type": "code",
   "execution_count": 4,
   "id": "c62eb9c5",
   "metadata": {},
   "outputs": [],
   "source": [
    "class attention_video_dataset(Dataset):\n",
    "    \"\"\" Video Dataset.\n",
    "    \n",
    "    \"\"\"\n",
    "    # def __init__(self, class0_csv_path, class1_csv_path, class2_csv_path, class3_csv_path, transforms, padding_type, is_train=True): # case 1\n",
    "    def __init__(self, csv_path, transforms, img_size, is_train=True): \n",
    "\n",
    "        # class 0 / class 1, class 2 / class 3\n",
    "        self.csv_path = csv_path\n",
    "        \n",
    "        self.video_df = pd.read_csv(self.csv_path)\n",
    "\n",
    "        self.transforms = transforms\n",
    "        self.is_train = is_train\n",
    "\n",
    "        self.video_path_list = [str(i) for i in self.video_df[f'{img_size}_clip_path']] \n",
    "        \n",
    "        '''\n",
    "        # 5 artifacts class\n",
    "        self.PRED_LABEL = [\n",
    "            'A-line_lbl',\n",
    "            'B-line_lbl',\n",
    "            'Confluent B-line_lbl',\n",
    "            'Consolidation_lbl',\n",
    "            'Pleural effusion_lbl'\n",
    "            ]\n",
    "        '''\n",
    "        \n",
    "        # 4 artifacts class\n",
    "        self.PRED_LABEL = [\n",
    "            'A-line_lbl',\n",
    "            'total-B-line_lbl',\n",
    "            'Consolidation_lbl',\n",
    "            'Pleural effusion_lbl'\n",
    "            ]\n",
    "\n",
    "    def __len__(self):\n",
    "        return len(self.video_df)\n",
    "    \n",
    "    def __getitem__(self, idx):\n",
    "         \n",
    "        clip_path = self.video_path_list[idx]\n",
    "        sampled_clip = load_video(self.video_path_list[idx])\n",
    "\n",
    "        if self.is_train:\n",
    "            # apply augmentation\n",
    "            sometimes = lambda aug: va.Sometimes(0.5, aug)\n",
    "\n",
    "            sigma = 0.7\n",
    "            seq = va.Sequential([ # randomly rotates the video with a degree randomly choosen from [-10, 10]  \n",
    "                sometimes(va.HorizontalFlip()),\n",
    "                sometimes(va.RandomRotate(degrees=10)),\n",
    "                sometimes(va.InverseOrder()),\n",
    "                sometimes(va.GaussianBlur(sigma))\n",
    "            ])\n",
    "            sampled_clip = np.array(seq(sampled_clip))\n",
    "        \n",
    "        augmented_images = []\n",
    "        for frame in sampled_clip:\n",
    "            augmented_image = torch.from_numpy(self.transforms(image=frame)['image']).permute(2, 0, 1)\n",
    "            augmented_images.append(augmented_image)\n",
    "            \n",
    "        torch_auged_clip = torch.concat([f[None] for f in augmented_images])\n",
    "\n",
    "        label = torch.FloatTensor(np.zeros(len(self.PRED_LABEL), dtype=float))\n",
    "        \n",
    "        for i in range(0, len(self.PRED_LABEL)):\n",
    "            if (self.video_df[self.PRED_LABEL[i].strip()].iloc[idx].astype('float') > 0):\n",
    "                label[i] = self.video_df[self.PRED_LABEL[i].strip()].iloc[idx].astype('float')\n",
    "        \n",
    "        return torch_auged_clip, label, clip_path"
   ]
  },
  {
   "cell_type": "code",
   "execution_count": 5,
   "id": "08d0b1cc",
   "metadata": {},
   "outputs": [
    {
     "name": "stdout",
     "output_type": "stream",
     "text": [
      "Number of trainable params: 26483044 (11044 excluding encoder).\n"
     ]
    }
   ],
   "source": [
    "set_all_seeds(1234)\n",
    "\n",
    "fold_num = 2\n",
    "\n",
    "pooling_method = 'attn'\n",
    "# pooling_method = 'max'\n",
    "# pooling_method = 'avg'\n",
    "\n",
    "chk_std = \"loss\"\n",
    "\n",
    "version = 'version_1'\n",
    "train_layer = \"all\"\n",
    "\n",
    "model_name = 'USVN'\n",
    "# model_name = 'C3D'\n",
    "# model_name = 'R2Plus1D'\n",
    "# model_name = 'Transformer_USVN'\n",
    "# model_name = 'CNNLSTM'\n",
    "# model_name = 'CNNTransformer'\n",
    "\n",
    "encoder_name = 'densenet161'\n",
    "# encoder_name = 'mae_densenet161'\n",
    "# encoder_name = 'imgnet_init_densenet161'\n",
    "model_test_rate = \"0.2\"\n",
    "\n",
    "data_type = \"before_all_data\"\n",
    "\n",
    "encoder_batch_size = 32\n",
    "video_batch_size = 4\n",
    "\n",
    "model_output_class = 4\n",
    "img_size = 256\n",
    "\n",
    "encoder = timm.create_model(encoder_name, pretrained=False, num_classes=0)\n",
    "    \n",
    "# Set up model\n",
    "batch_size=1\n",
    "num_heads = 32\n",
    "num_frames = [30]*batch_size\n",
    "\n",
    "model = MedVidNet(train_layer, encoder, num_heads, pooling_method = pooling_method)\n",
    "\n",
    "gpu_index = 0\n",
    "device = torch.device(f\"cuda:{gpu_index}\" if torch.cuda.is_available() else \"cpu\")\n",
    "\n",
    "weight_path = f'/home/work/LUS/Results/clip_base/multilabel_classification/test{model_test_rate}_std_{chk_std}_{data_type}_{version}_{train_layer}_{model_output_class}_artifacts_duplicate_batch{video_batch_size}_256_30frame_{model_name}_{encoder_name}_{encoder_batch_size}_{pooling_method}_fold{fold_num}_checkpoint'\n",
    "\n",
    "check_point = torch.load(weight_path, map_location=device)\n",
    "\n",
    "# torch.nn.DataParallel을 사용하여 모델을 학습하고 저장한 경우에 이러한 접두어가 자주 발생\n",
    "if 'module' in list(check_point['model'].keys())[0]:\n",
    "    # If so, remove the 'module.' prefix from the keys in the state_dict\n",
    "    new_state_dict = {k[7:]: v for k, v in check_point['model'].items()}\n",
    "    model.load_state_dict(new_state_dict)\n",
    "else:\n",
    "    # If not using DataParallel, simply load the state_dict\n",
    "    model.load_state_dict(check_point['model'])\n",
    "\n",
    "model = model.to(device)\n",
    "best_val_thres = check_point['best_valid_thres']\n",
    "\n",
    "num_pars = num_parameters(model)\n",
    "num_pars_encoder = num_parameters(encoder)\n",
    "print(f\"Number of trainable params: {num_pars} ({num_pars - num_pars_encoder} excluding encoder).\")"
   ]
  },
  {
   "cell_type": "code",
   "execution_count": null,
   "id": "e1357b4b",
   "metadata": {},
   "outputs": [],
   "source": [
    "img_size = 256\n",
    "\n",
    "base_path = f'/home/work/LUS/Dataset/csv_files/temporally_separated_test_set'\n",
    "\n",
    "test_csv_path = os.path.join(base_path, f'clip/{model_output_class}_artifacts/temporally_separated_test.csv')\n",
    "    \n",
    "# dataset\n",
    "test_dataset = attention_video_dataset(test_csv_path, transforms = apply_transforms(mode=None), img_size = img_size, is_train = False)\n",
    "# dataloader\n",
    "test_dataloader =  torch.utils.data.DataLoader(test_dataset, batch_size=batch_size, shuffle = False, collate_fn=collate_video, drop_last=False)\n",
    "\n",
    "#len_dataloader\n",
    "len_test_dataset = len(test_dataloader.dataset)\n",
    "print(\"Test dataset size:\", len_test_dataset)\n",
    "print(\"Test data loader size:\", len(test_dataset))"
   ]
  },
  {
   "cell_type": "code",
   "execution_count": null,
   "id": "be6cf760",
   "metadata": {},
   "outputs": [],
   "source": [
    "df = pd.read_csv(test_csv_path, index_col = False)\n",
    "df"
   ]
  },
  {
   "cell_type": "code",
   "execution_count": 8,
   "id": "8c9033e6",
   "metadata": {},
   "outputs": [
    {
     "data": {
      "text/plain": [
       "[0.41905433, 0.7065152, 0.77923757, 0.2663146]"
      ]
     },
     "execution_count": 8,
     "metadata": {},
     "output_type": "execute_result"
    }
   ],
   "source": [
    "best_val_thres"
   ]
  },
  {
   "cell_type": "code",
   "execution_count": 9,
   "id": "3d42c9b6",
   "metadata": {},
   "outputs": [
    {
     "data": {
      "text/plain": [
       "'/home/work/LUS/Dataset/clip_avi_temporally_separated_dataset/44937986_00003_73_102.avi'"
      ]
     },
     "execution_count": 9,
     "metadata": {},
     "output_type": "execute_result"
    }
   ],
   "source": [
    "test_dataloader.dataset[10][2]"
   ]
  },
  {
   "cell_type": "code",
   "execution_count": 10,
   "id": "0d371073",
   "metadata": {},
   "outputs": [],
   "source": [
    "with torch.no_grad():\n",
    "#     test_img, test_label = batch\n",
    "    test_img, test_label, test_path = test_dataloader.dataset[0]\n",
    "    \n",
    "    test_img, test_label = test_img.float().to(device), test_label\n",
    "\n",
    "    test_output, attentions = model(test_img, num_frames)"
   ]
  },
  {
   "cell_type": "code",
   "execution_count": 11,
   "id": "0bce7756",
   "metadata": {},
   "outputs": [
    {
     "name": "stdout",
     "output_type": "stream",
     "text": [
      "torch.Size([30, 1, 32])\n"
     ]
    },
    {
     "data": {
      "text/plain": [
       "torch.Size([30, 32])"
      ]
     },
     "execution_count": 11,
     "metadata": {},
     "output_type": "execute_result"
    }
   ],
   "source": [
    "print(attentions.shape)\n",
    "attentions[:,0].shape"
   ]
  },
  {
   "cell_type": "code",
   "execution_count": 12,
   "id": "8ccfaa7e",
   "metadata": {},
   "outputs": [
    {
     "name": "stdout",
     "output_type": "stream",
     "text": [
      "torch.Size([1, 4])\n",
      "tensor([[-0.5119, -0.2516, -0.3686, -0.9220]], device='cuda:0')\n",
      "tensor([1., 0., 0., 0.])\n"
     ]
    }
   ],
   "source": [
    "print(test_output.shape)\n",
    "print(test_output)\n",
    "print(test_label)"
   ]
  },
  {
   "cell_type": "code",
   "execution_count": 13,
   "id": "ab6247fd",
   "metadata": {},
   "outputs": [],
   "source": [
    "test_output\n",
    "sigmoid = nn.Sigmoid()\n",
    "test_output = sigmoid(test_output)\n",
    "\n",
    "test_preds_np = test_output[0].data.cpu().numpy()\n",
    "\n",
    "test_preds_np = np.where(test_preds_np >= best_val_thres, 1, 0)"
   ]
  },
  {
   "cell_type": "code",
   "execution_count": 14,
   "id": "5288f5ba",
   "metadata": {},
   "outputs": [
    {
     "name": "stdout",
     "output_type": "stream",
     "text": [
      "tensor([[0.3747, 0.4374, 0.4089, 0.2845]], device='cuda:0')\n"
     ]
    },
    {
     "data": {
      "text/plain": [
       "[0, 0, 0, 1]"
      ]
     },
     "execution_count": 14,
     "metadata": {},
     "output_type": "execute_result"
    }
   ],
   "source": [
    "print(test_output)\n",
    "list(test_preds_np)"
   ]
  },
  {
   "cell_type": "code",
   "execution_count": 15,
   "id": "7cf81e0b",
   "metadata": {},
   "outputs": [
    {
     "data": {
      "image/png": "[encoded data removed]",
      "text/plain": [
       "<Figure size 800x150 with 1 Axes>"
      ]
     },
     "metadata": {},
     "output_type": "display_data"
    }
   ],
   "source": [
    "plt.gcf().set_size_inches(8, 1.5)\n",
    "np_at = attentions[:,0].cpu().numpy()\n",
    "\n",
    "for jx in range(num_heads):\n",
    "    plt.plot(np_at[:,jx], label=jx)\n",
    "\n",
    "plt.grid()\n",
    "plt.show()"
   ]
  },
  {
   "cell_type": "code",
   "execution_count": 16,
   "id": "d829cbb5",
   "metadata": {},
   "outputs": [
    {
     "name": "stdout",
     "output_type": "stream",
     "text": [
      "torch.Size([30, 1, 32])\n"
     ]
    },
    {
     "data": {
      "text/plain": [
       "torch.Size([30, 32])"
      ]
     },
     "execution_count": 16,
     "metadata": {},
     "output_type": "execute_result"
    }
   ],
   "source": [
    "print(attentions.shape)\n",
    "attentions[:,0].shape"
   ]
  },
  {
   "cell_type": "code",
   "execution_count": 17,
   "id": "6a0e095f",
   "metadata": {},
   "outputs": [],
   "source": [
    "def get_video_label(test_label):\n",
    "    # 각 인덱스에 해당하는 레이블의 이름\n",
    "    label_names = ['A-line', 'B-lines', 'Consolidation', 'Pleural effusion']\n",
    "    \n",
    "    # test_label이 tensor인지 확인하고 list로 변환\n",
    "    if isinstance(test_label, torch.Tensor):\n",
    "        test_label = test_label.tolist()\n",
    "    \n",
    "    labels = [label_names[idx] for idx, value in enumerate(test_label) if value == 1.0]\n",
    "    \n",
    "    return f\"{', '.join(labels)}\""
   ]
  },
  {
   "cell_type": "code",
   "execution_count": 18,
   "id": "f9d05651",
   "metadata": {},
   "outputs": [
    {
     "data": {
      "text/plain": [
       "'A-line'"
      ]
     },
     "execution_count": 18,
     "metadata": {},
     "output_type": "execute_result"
    }
   ],
   "source": [
    "result = get_video_label(test_label)\n",
    "result"
   ]
  },
  {
   "cell_type": "code",
   "execution_count": 19,
   "id": "d410f4de",
   "metadata": {},
   "outputs": [
    {
     "data": {
      "text/plain": [
       "torch.Size([30, 32])"
      ]
     },
     "execution_count": 19,
     "metadata": {},
     "output_type": "execute_result"
    }
   ],
   "source": [
    "attentions[:, 0].shape"
   ]
  },
  {
   "cell_type": "code",
   "execution_count": null,
   "id": "fc79a8bc",
   "metadata": {},
   "outputs": [],
   "source": [
    "# attention 값의 평균을 통해 각 프레임의 중요도를 계산\n",
    "# mean_attentions = attentions[:, 0].mean(dim=1)  # torch.Size([30])\n",
    "frame_attention_sum = attentions[:, 0].sum(dim=1)  # torch.Size([30])\n",
    "frame_attention_mean = frame_attention_sum / 32\n",
    "\n",
    "# 가장 높은 attention을 갖는 상위 10개의 프레임 인덱스 선택\n",
    "top_frame_indices = torch.topk(frame_attention_mean, k=10).indices  # torch.Size([10])\n",
    "\n",
    "# 상위 10개의 프레임 출력\n",
    "fig, axs = plt.subplots(2, 5, figsize=(15, 6))  # 2행 5열로 출력\n",
    "\n",
    "for i, idx in enumerate(top_frame_indices):\n",
    "    ax = axs[i // 5, i % 5]\n",
    "    ax.imshow(test_img[idx, 0].cpu(), cmap='gray')  # 단일 채널 이미지를 표시\n",
    "    ax.set_title(f\"Frame {idx.item()} (Attention: {frame_attention_mean[idx]:.2f})\", fontsize=10)\n",
    "    ax.axis('off')\n",
    "\n",
    "fig.suptitle(f'Top-10 frame (video labels : {result})', fontsize=16)\n",
    "plt.subplots_adjust(wspace=0.3, hspace=0.5)  # 가로, 세로 여백 조정\n",
    "plt.tight_layout()\n",
    "plt.show()"
   ]
  },
  {
   "cell_type": "code",
   "execution_count": null,
   "id": "bd9c0cce",
   "metadata": {},
   "outputs": [],
   "source": [
    "import matplotlib.pyplot as plt\n",
    "import torch\n",
    "\n",
    "# attention 값의 합을 통해 각 프레임의 중요도를 계산\n",
    "frame_attention_sum = attentions[:, 0].sum(dim=1)  # torch.Size([30])\n",
    "frame_attention_mean = frame_attention_sum / 32\n",
    "\n",
    "# 가장 높은 attention을 갖는 상위 10개의 프레임 인덱스 선택\n",
    "top_frame_indices = torch.topk(frame_attention_mean, k=10).indices  # torch.Size([10])\n",
    "\n",
    "# 폰트 크기 설정\n",
    "plt.rcParams['font.size'] = 12\n",
    "\n",
    "# 1행 10열의 서브플롯 생성\n",
    "fig, ax = plt.subplots(nrows=1, ncols=10, sharex=True, sharey=True)\n",
    "scaling_factor = 1.5\n",
    "fig.set_size_inches(scaling_factor * 10 / 1.13, scaling_factor * 1)\n",
    "\n",
    "# 제목 설정\n",
    "result = get_video_label(test_label)\n",
    "file_name = test_path.split('/')[-1].split('.')[0]\n",
    "\n",
    "fig.suptitle(f'Top-10 frame ({file_name} : {result})', fontsize=12)\n",
    "\n",
    "# 각 프레임을 서브플롯에 출력\n",
    "for i, idx in enumerate(top_frame_indices):\n",
    "    a = ax[i]\n",
    "    a.imshow(test_img[idx, 0].cpu(), cmap='gray')\n",
    "    a.set_xlabel(f'{i}', fontsize=10)\n",
    "    a.tick_params(left=False, right=False, labelleft=False, labelbottom=False, bottom=False)\n",
    "\n",
    "# Adjust the top margin to increase space between title and images\n",
    "fig.subplots_adjust(top=0.85, wspace=0, hspace=0)\n",
    "\n",
    "# Adjust the position of the bottom text\n",
    "# fig.text(0.5, -0.02, 'Top-k frame', ha='center', fontsize=12)\n",
    "\n",
    "# Show the plot\n",
    "plt.show()"
   ]
  },
  {
   "cell_type": "code",
   "execution_count": null,
   "id": "c6d687ea",
   "metadata": {},
   "outputs": [],
   "source": [
    "save_root_dir = f'/home/work/LUS/Results/clip_base/attention_results/temporally_separated_test_set/{model_name}_{video_batch_size}_{encoder_name}_{encoder_batch_size}_fold{fold_num}'\n",
    "top_k = 10\n",
    "\n",
    "model.eval() \n",
    "with torch.no_grad():\n",
    "    for data in tqdm(test_dataloader, desc=\"Testing\", unit=\"batch\"):    \n",
    "        test_img, test_label, test_path = data\n",
    "        \n",
    "        file_name = test_path[0].split('/')[-1].split('.')[0]\n",
    "        \n",
    "        test_img, test_label = test_img.float().to(device), test_label\n",
    "\n",
    "        test_output, attentions = model(test_img, num_frames)\n",
    "\n",
    "        sigmoid = nn.Sigmoid()\n",
    "        test_output = sigmoid(test_output)\n",
    "    #     print(test_output)\n",
    "        test_preds_np = test_output[0].data.cpu().numpy()\n",
    "        print(test_preds_np)\n",
    "\n",
    "        test_preds_np = np.where(test_preds_np >= best_val_thres, 1, 0)\n",
    "\n",
    "        # Calculate the importance of each frame through the sum of attention values\n",
    "    #     print(attentions.shape)\n",
    "        frame_attention_sum = attentions[:, 0].sum(dim=1)  # torch.Size([30])\n",
    "        frame_attention_mean = frame_attention_sum / 32\n",
    "\n",
    "        # Select top-k frames with the highest attention\n",
    "        top_frame_indices = torch.topk(frame_attention_mean, k=top_k).indices  # torch.Size([10])\n",
    "\n",
    "        # Set font size\n",
    "        plt.rcParams['font.size'] = 12\n",
    "\n",
    "        # Create subplots (1 row, 10 columns)\n",
    "        fig, ax = plt.subplots(nrows=1, ncols=top_k, sharex=True, sharey=True)\n",
    "        scaling_factor = 1.5\n",
    "        fig.set_size_inches(scaling_factor * top_k / 1.13, scaling_factor * 1)\n",
    "\n",
    "        # Set the title\n",
    "        int_test_label_lst = test_label[0].int().tolist()\n",
    "\n",
    "        result = get_video_label(test_label[0])\n",
    "        fig.suptitle(f'Top-{top_k} frames ({file_name} : {result})', fontsize=12)\n",
    "\n",
    "        # Plot each frame in the subplots\n",
    "        for i, idx in enumerate(top_frame_indices):\n",
    "            a = ax[i]\n",
    "            a.imshow(test_img[idx, 0].cpu(), cmap='gray')\n",
    "            a.set_xlabel(f'{i}', fontsize=10)\n",
    "            a.tick_params(left=False, right=False, labelleft=False, labelbottom=False, bottom=False)\n",
    "\n",
    "        # Adjust the top margin to increase space between title and images\n",
    "        fig.subplots_adjust(top=0.85, wspace=0, hspace=0)\n",
    "\n",
    "        # Save the plot\n",
    "        os.makedirs(save_root_dir, exist_ok=True)  \n",
    "        save_path = os.path.join(save_root_dir, f'{file_name}_{int_test_label_lst}_{list(test_preds_np)}.png')\n",
    "        plt.savefig(save_path, bbox_inches='tight')  # Save with high resolution\n",
    "    #     plt.savefig(save_path, bbox_inches='tight', dpi=300) \n",
    "\n",
    "        # Show the plot\n",
    "        plt.show()\n",
    "\n",
    "        print(f\"Plot saved at: {save_path}\")"
   ]
  },
  {
   "cell_type": "code",
   "execution_count": 35,
   "id": "da606eda",
   "metadata": {},
   "outputs": [
    {
     "data": {
      "text/plain": [
       "[tensor([1., 0., 0., 0.])]"
      ]
     },
     "execution_count": 35,
     "metadata": {},
     "output_type": "execute_result"
    }
   ],
   "source": [
    "test_label"
   ]
  },
  {
   "cell_type": "code",
   "execution_count": null,
   "id": "e4f92945",
   "metadata": {},
   "outputs": [],
   "source": []
  }
 ],
 "metadata": {
  "kernelspec": {
   "display_name": "PyTorch 2.2 (NGC 23.11/Python 3.10) on Backend.AI",
   "language": "python",
   "name": "python3"
  },
  "language_info": {
   "codemirror_mode": {
    "name": "ipython",
    "version": 3
   },
   "file_extension": ".py",
   "mimetype": "text/x-python",
   "name": "python",
   "nbconvert_exporter": "python",
   "pygments_lexer": "ipython3",
   "version": "3.10.12"
  }
 },
 "nbformat": 4,
 "nbformat_minor": 5
}
