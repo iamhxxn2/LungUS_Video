{
 "cells": [
  {
   "cell_type": "markdown",
   "id": "9b788060",
   "metadata": {},
   "source": [
    "https://www.kaggle.com/code/satishgunjal/binary-multiclass-classification-using-sklearn"
   ]
  },
  {
   "cell_type": "code",
   "execution_count": null,
   "id": "addf78c0",
   "metadata": {},
   "outputs": [],
   "source": [
    "import argparse\n",
    "import os \n",
    "import csv\n",
    "import wandb\n",
    "# os.environ['CUDA_LAUNCH_BLOCKING'] = \"1\"\n",
    "import warnings\n",
    "warnings.filterwarnings(\"ignore\")\n",
    "\n",
    "import numpy as np\n",
    "import pandas as pd\n",
    "import matplotlib.pyplot as plt\n",
    "\n",
    "import pickle\n",
    "\n",
    "import torch\n",
    "import torch.nn as nn\n",
    "import torch.optim as optim\n",
    "from timm import optim\n",
    "import torch.nn.functional as F\n",
    "from torch.optim import lr_scheduler\n",
    "from torch.optim.lr_scheduler import ReduceLROnPlateau\n",
    "\n",
    "from pytorch_grad_cam import GradCAM\n",
    "from pytorch_grad_cam.utils.model_targets import ClassifierOutputTarget\n",
    "from pytorch_grad_cam.utils.image import show_cam_on_image\n",
    "\n",
    "import torchvision\n",
    "from torchvision import models\n",
    "import timm\n",
    "from torch.utils.data import DataLoader, WeightedRandomSampler, default_collate\n",
    "import random\n",
    "from tqdm import tqdm\n",
    "import time\n",
    "\n",
    "from Dataset_ML import *\n",
    "from utils_ML import *\n",
    "\n",
    "from LUV_NET_TFWO import *\n",
    "from LUV_NET import *\n",
    "\n",
    "from cnnlstm import CNNLSTM\n",
    "from C3D_model import C3D\n",
    "from R2Plus1D_model import R2Plus1DClassifier\n",
    "\n",
    "import vidaug.augmentors as va\n",
    "\n",
    "from sklearn.metrics import classification_report, confusion_matrix, accuracy_score\n",
    "from sklearn.metrics import roc_auc_score\n",
    "from sklearn import metrics\n",
    "from sklearn.metrics import roc_curve\n",
    "\n",
    "import math\n",
    "from sklearn.preprocessing import OneHotEncoder\n",
    "\n",
    "from torchinfo import summary\n",
    "from fvcore.nn import FlopCountAnalysis, parameter_count_table"
   ]
  },
  {
   "cell_type": "code",
   "execution_count": 2,
   "id": "5c587979",
   "metadata": {},
   "outputs": [],
   "source": [
    "def set_all_seeds(SEED):\n",
    "    # REPRODUCIBILITY\n",
    "    torch.manual_seed(SEED)\n",
    "    torch.cuda.manual_seed(SEED)\n",
    "    torch.cuda.manual_seed_all(SEED)\n",
    "    torch.backends.cudnn.deterministic = True\n",
    "    torch.backends.cudnn.benchmark = False\n",
    "    np.random.seed(SEED)\n",
    "    random.seed(SEED)"
   ]
  },
  {
   "cell_type": "code",
   "execution_count": 3,
   "id": "14e2920a",
   "metadata": {},
   "outputs": [],
   "source": [
    "def models_output_to_dataframe(df, model_name, labels, model_output):\n",
    "    \"\"\"\n",
    "    모델 출력을 기존 데이터프레임에 추가하는 함수\n",
    "    \"\"\"\n",
    "    temp_df = pd.DataFrame(model_output, columns=labels)\n",
    "    temp_df.columns = [f'{model_name}_{label}' for label in labels]\n",
    "    \n",
    "    if df.empty:\n",
    "        return temp_df\n",
    "    else:\n",
    "        return pd.concat([df, temp_df], axis=1)"
   ]
  },
  {
   "cell_type": "code",
   "execution_count": null,
   "id": "22ec54c7",
   "metadata": {},
   "outputs": [],
   "source": [
    "# def collate_video(batch_list):\n",
    "#     \"\"\"\n",
    "#     A custom collate function to be passed to the callate_fn argument when creating a pytorch dataloader.\n",
    "#     This is necessary because videos have different lengths. We handle by combining all videos along the time \n",
    "#     dimension and returning the number of frames in each video.\n",
    "#     \"\"\"\n",
    "#     vids = torch.concat([b[0] for b in batch_list])\n",
    "#     # num_frames = [b.shape[0] for b in batch_list]\n",
    "#     labels = [b[1] for b in batch_list]\n",
    "#     # record = {\n",
    "#     #     'video': vids,\n",
    "#     #     'num_frames': num_frames\n",
    "#     # }\n",
    "\n",
    "#     # use pytorch's default collate function for remaining items\n",
    "#     # for b in batch_list:\n",
    "#     #     b.pop('video')\n",
    "#     # record.update(default_collate(batch_list))\n",
    "\n",
    "#     return vids, labels\n",
    "\n",
    "def collate_video(batch_list):\n",
    "    \"\"\"\n",
    "    A custom collate function to be passed to the callate_fn argument when creating a pytorch dataloader.\n",
    "    This is necessary because videos have different lengths. We handle by combining all videos along the time \n",
    "    dimension and returning the number of frames in each video.\n",
    "    \"\"\"\n",
    "    vids = torch.concat([b[0] for b in batch_list])\n",
    "    # num_frames = [b.shape[0] for b in batch_list]\n",
    "    labels = [b[1] for b in batch_list]\n",
    "    paths = [b[2] for b in batch_list]\n",
    "\n",
    "    return vids, labels, paths\n",
    "\n",
    "def test(model_test_rate, version, img_size, model_output_class, model_name, num_heads, kernel_size, encoder_name, train_layer, pooling_method, weight_path, base_path, fold_num, batch_size, is_train=False):\n",
    "    \n",
    "    test_csv_path = os.path.join(base_path, f'model_development_set/{version}/{model_output_class}_artifacts/test_{model_test_rate}/fold_{fold_num}/test.csv')\n",
    "    \n",
    "    test_df = pd.read_csv(test_csv_path)\n",
    "    # dataset\n",
    "    test_dataset = video_dataset(test_csv_path, transforms = apply_transforms(mode=None), img_size = img_size, is_train = False)\n",
    "    \n",
    "    if model_name == 'LUV_Net' or model_name == 'LUV_Net_TFWO':\n",
    "        # dataloader\n",
    "        test_dataloader =  torch.utils.data.DataLoader(test_dataset, batch_size=batch_size, shuffle = False, collate_fn=collate_video, drop_last=False)\n",
    "    elif model_name == 'CNNLSTM' or model_name == 'CNNTransformer' or model_name == 'C3D' or model_name == 'R2Plus1D':\n",
    "        test_dataloader =  torch.utils.data.DataLoader(test_dataset, batch_size=batch_size, shuffle = False, drop_last=False)        \n",
    "    \n",
    "    #len_dataloader\n",
    "    len_test_dataset = len(test_dataloader.dataset)\n",
    "    print(len_test_dataset)\n",
    "    # set seed\n",
    "    set_all_seeds(1234)\n",
    "    if model_name == 'LUV_Net' or model_name == 'LUV_Net_TFWO':\n",
    "        if encoder_name == 'densenet161':\n",
    "            encoder = timm.create_model('densenet161', pretrained=False, num_classes=0)\n",
    "        elif encoder_name == 'imgnet_init_densenet161':\n",
    "            encoder = timm.create_model('densenet161', pretrained=False, num_classes=0)\n",
    "        elif encoder_name == 'densenet161_scratch':\n",
    "            encoder = timm.create_model('densenet161', pretrained=False, num_classes=0)\n",
    "        elif encoder_name == 'imgnet_init_resnet50':\n",
    "            encoder = timm.create_model('resnet50', pretrained=False, num_classes=0)\n",
    "        elif encoder_name == 'resnet50_scratch':\n",
    "            encoder = timm.create_model('resnet50', pretrained=False, num_classes=0)\n",
    "            \n",
    "    elif model_name == 'CNNLSTM':\n",
    "        encoder = timm.create_model('densenet161', pretrained=False)\n",
    "        \n",
    "    sigmoid = nn.Sigmoid()\n",
    "    \n",
    "    # Set up model\n",
    "    if model_name == 'LUV_Net':\n",
    "#         num_heads = 32\n",
    "        num_frames = [30]*batch_size\n",
    "        \n",
    "        model = LUV_Net(encoder, num_heads, pooling_method = pooling_method, kernel_width= kernel_size)\n",
    "    \n",
    "    elif model_name == 'LUV_Net_TFWO':\n",
    "        num_frames = [30]*batch_size\n",
    "        \n",
    "        model = LUV_Net_TFWO(encoder, num_heads, pooling_method = pooling_method)\n",
    "        \n",
    "    elif model_name == 'CNNLSTM' :\n",
    "        model = CNNLSTM(encoder = encoder)\n",
    "    \n",
    "    elif model_name == 'C3D':\n",
    "        model = C3D(num_classes=4, pretrained=False)  \n",
    "         \n",
    "    elif model_name == 'R2Plus1D':\n",
    "        model = R2Plus1DClassifier(num_classes=4, layer_sizes=(2, 2, 2, 2))\n",
    "        \n",
    "    gpu_index = 0\n",
    "    device = torch.device(f\"cuda:{gpu_index}\" if torch.cuda.is_available() else \"cpu\")\n",
    "\n",
    "    check_point = torch.load(weight_path, map_location=device)\n",
    "    # torch.nn.DataParallel을 사용하여 모델을 학습하고 저장한 경우에 이러한 접두어가 자주 발생\n",
    "    if 'module' in list(check_point['model'].keys())[0]:\n",
    "        # If so, remove the 'module.' prefix from the keys in the state_dict\n",
    "        new_state_dict = {k[7:]: v for k, v in check_point['model'].items()}\n",
    "        model.load_state_dict(new_state_dict)\n",
    "    else:\n",
    "        # If not using DataParallel, simply load the state_dict\n",
    "        model.load_state_dict(check_point['model'])\n",
    "    \n",
    "    model = model.to(device)\n",
    "    \n",
    "    # load best threshold\n",
    "    best_val_thres = check_point['best_valid_thres']\n",
    "    print(best_val_thres)\n",
    "    # list\n",
    "    model_outputs = []\n",
    "    test_labels = []\n",
    "    test_preds = []\n",
    "    \n",
    "    #acc\n",
    "    test_running_acc = 0.0\n",
    "    \n",
    "    model.eval() \n",
    "    with torch.no_grad():    \n",
    "        for data in tqdm(test_dataloader, desc=\"Testing\", unit=\"batch\"):    \n",
    "            test_img, test_label, path = data\n",
    "#             print(test_img.shape)\n",
    "            test_img = test_img.float().to(device)\n",
    "            test_label = torch.stack([label.to(device) for label in test_label])\n",
    "            \n",
    "            # print(test_img.shape)\n",
    "            test_output, attentions = model(test_img, num_frames)\n",
    "#             print(test_output)\n",
    "            test_output = sigmoid(test_output)\n",
    "            model_outputs.append(test_output[0].cpu().detach().numpy().tolist())\n",
    "        \n",
    "            test_preds_np = test_output[0].data.cpu().numpy()\n",
    "            \n",
    "            test_preds_np = np.where(test_preds_np >= best_val_thres, 1, 0)\n",
    "            \n",
    "            test_preds.append(test_preds_np.tolist())\n",
    "            test_labels.append(test_label[0].detach().cpu().numpy().tolist())\n",
    "            \n",
    "            np_test_label = test_label[0].cpu().numpy()\n",
    "            test_accuracy = accuracy_score(np_test_label, test_preds_np)\n",
    "            \n",
    "            test_running_acc += test_accuracy\n",
    "            \n",
    "#             print(path[0].split('/')[-1].split('.')[0])\n",
    "#             print(f\"prediction : {test_preds_np}, test_label : {np_test_label}\")\n",
    "#             print(f\"correct_num : {test_accuracy}\")\n",
    "#             print('-'*20)\n",
    "            \n",
    "    test_accuracy = test_running_acc / len_test_dataset\n",
    "    print(f\"test_running_acc : {test_running_acc}\")\n",
    "    \n",
    "    return test_accuracy, test_labels, test_preds, model_outputs"
   ]
  },
  {
   "cell_type": "code",
   "execution_count": null,
   "id": "d76a6234",
   "metadata": {},
   "outputs": [],
   "source": [
    "fold_num = 2\n",
    "\n",
    "model_name = 'LUV_Net'\n",
    "pooling_method = 'attn_multilabel_conv'\n",
    "\n",
    "# model_name = 'LUV_Net_TFWO'\n",
    "# pooling_method = 'attn_multilabel_conv'\n",
    "\n",
    "# pooling_method = 'max'\n",
    "# pooling_method = 'avg'\n",
    "\n",
    "chk_std = \"loss\"\n",
    "# chk_std = \"auc\"\n",
    "\n",
    "version = 'version_1'\n",
    "train_layer = 'all'\n",
    "# train_layer = 'pooling'\n",
    "\n",
    "# encoder_name = 'densenet161'\n",
    "# encoder_name = 'imgnet_init_densenet161'\n",
    "encoder_name = 'densenet161_scratch'\n",
    "\n",
    "# encoder_name = 'imgnet_init_resnet50'\n",
    "\n",
    "model_test_rate = \"0.2\"\n",
    "\n",
    "encoder_batch_size = 32\n",
    "# encoder_batch_size = 128\n",
    "\n",
    "batch_size = 4\n",
    "# batch_size = 8\n",
    "# batch_size = 16\n",
    "\n",
    "lr = '1e-06'\n",
    "# lr = '0.000001'\n",
    "# lr = 0.0001\n",
    "\n",
    "# model_output_class = 4\n",
    "model_output_class = 5\n",
    "\n",
    "# head_num = 1\n",
    "# head_num = 2\n",
    "# head_num = 4\n",
    "head_num = 8\n",
    "# head_num = 16\n",
    "# head_num = 32\n",
    "# head_num = 96\n",
    "\n",
    "k_size = 13\n",
    "\n",
    "# img_size = 224\n",
    "img_size = 256\n",
    "\n",
    "weight_path = f'/data2/hoon2/Results/video_model2/seed234_test{model_test_rate}_std_{chk_std}_{version}_{train_layer}_{model_output_class}_artifacts_duplicate_batch{batch_size}_256_30frame_{model_name}_{encoder_name}_{encoder_batch_size}_{pooling_method}_{head_num}head_{k_size}ksize_fold{fold_num}_lr{lr}_checkpoint'\n",
    "# weight_path = f'/data2/hoon2/Results/video_model2/seed34_test{model_test_rate}_std_{chk_std}_{version}_{train_layer}_{model_output_class}_artifacts_duplicate_batch{batch_size}_256_30frame_{model_name}_{encoder_name}_{encoder_batch_size}_{pooling_method}_{head_num}head_{k_size}ksize_fold{fold_num}_lr{lr}_checkpoint'\n",
    "\n",
    "base_path = f'/data2/hoon2/LUS_Dataset/csv_files/clip_multilabel_classification'\n",
    "\n",
    "is_train = False"
   ]
  },
  {
   "cell_type": "code",
   "execution_count": null,
   "id": "fdf0eedf",
   "metadata": {
    "scrolled": true,
    "tags": []
   },
   "outputs": [
    {
     "name": "stdout",
     "output_type": "stream",
     "text": [
      "474\n",
      "[np.float32(0.32767543), np.float32(0.21792471), np.float32(0.13378312), np.float32(0.062454317)]\n"
     ]
    },
    {
     "name": "stderr",
     "output_type": "stream",
     "text": [
      "Testing: 100%|██████████| 474/474 [01:05<00:00,  7.26batch/s]"
     ]
    },
    {
     "name": "stdout",
     "output_type": "stream",
     "text": [
      "test_running_acc : 343.5\n"
     ]
    },
    {
     "name": "stderr",
     "output_type": "stream",
     "text": [
      "\n"
     ]
    }
   ],
   "source": [
    "test_accuracy, test_labels, test_preds, model_output = test(model_test_rate = model_test_rate,\n",
    "                                                            version = version,\n",
    "                                                            img_size = img_size,\n",
    "                                                            model_output_class = model_output_class,\n",
    "                                                            model_name=model_name,\n",
    "                                                            num_heads = head_num,\n",
    "                                                            kernel_size = k_size,\n",
    "                                                            encoder_name = encoder_name,\n",
    "                                                            train_layer = train_layer,\n",
    "                                                            pooling_method = pooling_method,\n",
    "                                                            weight_path=weight_path,\n",
    "                                                            base_path=base_path,\n",
    "                                                            fold_num = fold_num,\n",
    "                                                            batch_size=1, is_train=False)"
   ]
  },
  {
   "cell_type": "code",
   "execution_count": 18,
   "id": "c8174f41",
   "metadata": {},
   "outputs": [],
   "source": [
    "labels = ['A-line', 'total-B-line', 'Consolidation', 'Pleural effusion']\n",
    "\n",
    "models_output_df = pd.DataFrame(columns=labels)"
   ]
  },
  {
   "cell_type": "code",
   "execution_count": 19,
   "id": "70214d05",
   "metadata": {},
   "outputs": [
    {
     "data": {
      "text/html": [
       "<div>\n",
       "<style scoped>\n",
       "    .dataframe tbody tr th:only-of-type {\n",
       "        vertical-align: middle;\n",
       "    }\n",
       "\n",
       "    .dataframe tbody tr th {\n",
       "        vertical-align: top;\n",
       "    }\n",
       "\n",
       "    .dataframe thead th {\n",
       "        text-align: right;\n",
       "    }\n",
       "</style>\n",
       "<table border=\"1\" class=\"dataframe\">\n",
       "  <thead>\n",
       "    <tr style=\"text-align: right;\">\n",
       "      <th></th>\n",
       "      <th>LUV_Net_A-line</th>\n",
       "      <th>LUV_Net_total-B-line</th>\n",
       "      <th>LUV_Net_Consolidation</th>\n",
       "      <th>LUV_Net_Pleural effusion</th>\n",
       "    </tr>\n",
       "  </thead>\n",
       "  <tbody>\n",
       "    <tr>\n",
       "      <th>0</th>\n",
       "      <td>0.638969</td>\n",
       "      <td>0.056549</td>\n",
       "      <td>0.200264</td>\n",
       "      <td>0.053323</td>\n",
       "    </tr>\n",
       "    <tr>\n",
       "      <th>1</th>\n",
       "      <td>0.564432</td>\n",
       "      <td>0.067416</td>\n",
       "      <td>0.235222</td>\n",
       "      <td>0.059285</td>\n",
       "    </tr>\n",
       "    <tr>\n",
       "      <th>2</th>\n",
       "      <td>0.538116</td>\n",
       "      <td>0.070553</td>\n",
       "      <td>0.234339</td>\n",
       "      <td>0.063952</td>\n",
       "    </tr>\n",
       "    <tr>\n",
       "      <th>3</th>\n",
       "      <td>0.626874</td>\n",
       "      <td>0.065029</td>\n",
       "      <td>0.143823</td>\n",
       "      <td>0.018458</td>\n",
       "    </tr>\n",
       "    <tr>\n",
       "      <th>4</th>\n",
       "      <td>0.590891</td>\n",
       "      <td>0.085030</td>\n",
       "      <td>0.137165</td>\n",
       "      <td>0.019419</td>\n",
       "    </tr>\n",
       "  </tbody>\n",
       "</table>\n",
       "</div>"
      ],
      "text/plain": [
       "   LUV_Net_A-line  LUV_Net_total-B-line  LUV_Net_Consolidation  \\\n",
       "0        0.638969              0.056549               0.200264   \n",
       "1        0.564432              0.067416               0.235222   \n",
       "2        0.538116              0.070553               0.234339   \n",
       "3        0.626874              0.065029               0.143823   \n",
       "4        0.590891              0.085030               0.137165   \n",
       "\n",
       "   LUV_Net_Pleural effusion  \n",
       "0                  0.053323  \n",
       "1                  0.059285  \n",
       "2                  0.063952  \n",
       "3                  0.018458  \n",
       "4                  0.019419  "
      ]
     },
     "execution_count": 19,
     "metadata": {},
     "output_type": "execute_result"
    }
   ],
   "source": [
    "models_output_df = models_output_to_dataframe(models_output_df, model_name, labels, model_output)\n",
    "models_output_df.head()"
   ]
  },
  {
   "cell_type": "code",
   "execution_count": 20,
   "id": "f910ba30",
   "metadata": {},
   "outputs": [
    {
     "data": {
      "text/plain": [
       "'LUV_Net'"
      ]
     },
     "execution_count": 20,
     "metadata": {},
     "output_type": "execute_result"
    }
   ],
   "source": [
    "model_version\n",
    "model_name"
   ]
  },
  {
   "cell_type": "code",
   "execution_count": 21,
   "id": "b955557f",
   "metadata": {},
   "outputs": [
    {
     "name": "stdout",
     "output_type": "stream",
     "text": [
      "(474, 4)\n",
      "(474, 4)\n",
      "(474, 4)\n"
     ]
    }
   ],
   "source": [
    "print(np.array(model_output).shape)\n",
    "print(np.array(test_preds).shape)\n",
    "print(np.array(test_labels).shape)\n",
    "# test_preds"
   ]
  },
  {
   "cell_type": "code",
   "execution_count": 22,
   "id": "cab3a8ce",
   "metadata": {},
   "outputs": [
    {
     "data": {
      "text/plain": [
       "[0.6389691233634949,\n",
       " 0.05654912814497948,\n",
       " 0.20026421546936035,\n",
       " 0.053323179483413696]"
      ]
     },
     "execution_count": 22,
     "metadata": {},
     "output_type": "execute_result"
    }
   ],
   "source": [
    "model_output[0]"
   ]
  },
  {
   "cell_type": "code",
   "execution_count": 23,
   "id": "0f9b646d",
   "metadata": {},
   "outputs": [
    {
     "name": "stdout",
     "output_type": "stream",
     "text": [
      "[[0.6389691233634949, 0.05654912814497948, 0.20026421546936035, 0.053323179483413696], [0.5644317269325256, 0.06741595268249512, 0.23522159457206726, 0.05928511172533035], [0.538116455078125, 0.07055304199457169, 0.23433934152126312, 0.06395185738801956], [0.6268742680549622, 0.06502922624349594, 0.14382323622703552, 0.018458424136042595], [0.5908905267715454, 0.08503005653619766, 0.13716469705104828, 0.019418779760599136]]\n",
      "[[1.0, 0.0, 0.0, 0.0], [1.0, 0.0, 0.0, 0.0], [1.0, 0.0, 0.0, 0.0], [1.0, 0.0, 0.0, 0.0], [1.0, 0.0, 0.0, 0.0]]\n",
      "[[1, 0, 1, 0], [1, 0, 1, 0], [1, 0, 1, 1], [1, 0, 1, 0], [1, 0, 1, 0]]\n"
     ]
    }
   ],
   "source": [
    "print(model_output[:5])\n",
    "print(test_labels[:5])\n",
    "print(test_preds[:5])"
   ]
  },
  {
   "cell_type": "code",
   "execution_count": 24,
   "id": "a6504540",
   "metadata": {},
   "outputs": [
    {
     "name": "stdout",
     "output_type": "stream",
     "text": [
      "roc_auc_score = 0.834\n"
     ]
    }
   ],
   "source": [
    "result1 = roc_auc_score(test_labels, model_output, multi_class='ovr')\n",
    "print('roc_auc_score = %.3f' %(result1))"
   ]
  },
  {
   "cell_type": "code",
   "execution_count": 25,
   "id": "6faf21bc",
   "metadata": {},
   "outputs": [
    {
     "data": {
      "image/png": "[encoded data removed]",
      "text/plain": [
       "<Figure size 1500x1200 with 4 Axes>"
      ]
     },
     "metadata": {},
     "output_type": "display_data"
    }
   ],
   "source": [
    "from sklearn.metrics import ConfusionMatrixDisplay, multilabel_confusion_matrix\n",
    "\n",
    "confusion_mat = multilabel_confusion_matrix(test_labels, test_preds)\n",
    "\n",
    "all_labels = [\n",
    "            'A-line',\n",
    "#             'B-line',\n",
    "#             'Confluent B-line',\n",
    "            'B-lines',\n",
    "            'Consolidation',\n",
    "            'Pleural effusion'\n",
    "            ]\n",
    "\n",
    "fig, axs = plt.subplots(nrows=2, ncols=2, figsize=(15, 12))\n",
    "plt.subplots_adjust(wspace=0.1, hspace=0.2)\n",
    "\n",
    "# axs는 2x3 array이므로 axs.flat으로 iterator를 생성합니다.\n",
    "ax_iterator = iter(axs.flat)\n",
    "\n",
    "for idx, label in enumerate(all_labels):\n",
    "    ax = next(ax_iterator)  # 다음 subplot을 가져옵니다.\n",
    "    disp = ConfusionMatrixDisplay(confusion_matrix=confusion_mat[idx], display_labels=[0, 1])\n",
    "    disp.plot(ax=ax, cmap='Blues', colorbar=False)  # 각 subplot에 colorbar를 제거합니다.\n",
    "    ax.set_title(label, fontsize=20)  # 레이블의 글자 크기를 조정합니다.\n",
    "    \n",
    "    # 각 축에 대해 텍스트 크기를 설정합니다.\n",
    "    ax.set_xlabel('Predicted label', fontsize=15)  # x축 라벨 크기 설정\n",
    "    ax.set_ylabel('True label', fontsize=15)       # y축 라벨 크기 설정\n",
    "    ax.tick_params(axis='both', which='major', labelsize=14)  # 축 글자 크기 설정\n",
    "    \n",
    "    for texts in [disp.text_]:\n",
    "        for text in texts.flatten():\n",
    "            text.set_fontsize(20)  # 숫자 텍스트의 크기를 조정합니다.\n",
    "\n",
    "# 남는 subplot을 숨깁니다.\n",
    "for ax in ax_iterator:\n",
    "    ax.set_visible(False)\n",
    "\n",
    "plt.show()"
   ]
  },
  {
   "cell_type": "code",
   "execution_count": 26,
   "id": "4d6835cf",
   "metadata": {},
   "outputs": [
    {
     "name": "stdout",
     "output_type": "stream",
     "text": [
      "Micro-averaged precision :  0.8254375907063836\n",
      "recall :  0.7246835443037974\n",
      "f1-score :  0.7518361898360778\n"
     ]
    }
   ],
   "source": [
    "# precision_score, recall_score, f1_score 함수를 사용하여 각 레이블별 성능을 계산합니다.\n",
    "from sklearn.metrics import precision_score, recall_score, f1_score\n",
    "\n",
    "test_prediction_flat = np.array(test_preds).flatten()\n",
    "test_labels_flat = np.array(test_labels).flatten()\n",
    "\n",
    "precision = precision_score(test_labels_flat, test_prediction_flat, average='weighted')\n",
    "recall = recall_score(test_labels_flat, test_prediction_flat, average='weighted')\n",
    "f1 = f1_score(test_labels_flat, test_prediction_flat, average='weighted')\n",
    "\n",
    "print('Micro-averaged precision : ', precision)\n",
    "print('recall : ', recall)\n",
    "print('f1-score : ', f1)"
   ]
  },
  {
   "cell_type": "code",
   "execution_count": 27,
   "id": "f76861da",
   "metadata": {},
   "outputs": [
    {
     "name": "stdout",
     "output_type": "stream",
     "text": [
      "                  precision    recall  f1-score   support\n",
      "\n",
      "          A-line       0.53      0.79      0.63       107\n",
      "         B-lines       0.25      0.79      0.38        84\n",
      "   Consolidation       0.50      0.83      0.62       109\n",
      "Pleural effusion       0.35      0.62      0.44        63\n",
      "\n",
      "       micro avg       0.39      0.77      0.52       363\n",
      "       macro avg       0.41      0.75      0.52       363\n",
      "    weighted avg       0.42      0.77      0.54       363\n",
      "     samples avg       0.39      0.52      0.43       363\n",
      "\n"
     ]
    }
   ],
   "source": [
    "print(classification_report(\n",
    "    test_labels,\n",
    "    test_preds,\n",
    "    output_dict=False,\n",
    "    target_names=[\n",
    "            'A-line',\n",
    "#             'B-line',\n",
    "#             'Confluent B-line',\n",
    "            'B-lines',\n",
    "            'Consolidation',\n",
    "            'Pleural effusion'\n",
    "            ]\n",
    "))"
   ]
  },
  {
   "cell_type": "code",
   "execution_count": 28,
   "id": "4a960da1",
   "metadata": {},
   "outputs": [
    {
     "name": "stdout",
     "output_type": "stream",
     "text": [
      "A-line results\n",
      "Best Threshold=0.293881, sensitivity = 0.860, specificity = 0.763, J=0.623\n",
      "              precision    recall  f1-score   support\n",
      "\n",
      "      A-line       0.95      0.76      0.85       367\n",
      "      Others       0.51      0.86      0.64       107\n",
      "\n",
      "    accuracy                           0.78       474\n",
      "   macro avg       0.73      0.81      0.74       474\n",
      "weighted avg       0.85      0.78      0.80       474\n",
      "\n"
     ]
    }
   ],
   "source": [
    "from numpy import argmax\n",
    "\n",
    "# calculate roc curves\n",
    "fpr, tpr, thresholds = roc_curve(np.array(test_labels)[:, 0], np.array(model_output)[:, 0])\n",
    "\n",
    "# get the best threshold\n",
    "J = tpr - fpr\n",
    "ix = argmax(J)\n",
    "best_thresh = thresholds[ix]\n",
    "print('A-line results')\n",
    "print('Best Threshold=%f, sensitivity = %.3f, specificity = %.3f, J=%.3f' % (best_thresh, tpr[ix], 1-fpr[ix], J[ix]))\n",
    "\n",
    "y_prob_pred = (np.array(model_output)[:, 0] >= best_thresh).astype(bool)\n",
    "print(classification_report(np.array(test_labels)[:, 0], y_prob_pred, target_names=['A-line', 'Others']))"
   ]
  },
  {
   "cell_type": "code",
   "execution_count": 29,
   "id": "e0bd8394",
   "metadata": {},
   "outputs": [
    {
     "name": "stdout",
     "output_type": "stream",
     "text": [
      "B-lines results\n",
      "Best Threshold=0.146107, sensitivity = 0.940, specificity = 0.395, J=0.335\n",
      "              precision    recall  f1-score   support\n",
      "\n",
      "      B-line       0.97      0.39      0.56       390\n",
      "      Others       0.25      0.94      0.40        84\n",
      "\n",
      "    accuracy                           0.49       474\n",
      "   macro avg       0.61      0.67      0.48       474\n",
      "weighted avg       0.84      0.49      0.53       474\n",
      "\n"
     ]
    }
   ],
   "source": [
    "from numpy import argmax\n",
    "\n",
    "# calculate roc curves\n",
    "fpr, tpr, thresholds = roc_curve(np.array(test_labels)[:, 1], np.array(model_output)[:, 1])\n",
    "\n",
    "# get the best threshold\n",
    "J = tpr - fpr\n",
    "ix = argmax(J)\n",
    "best_thresh = thresholds[ix]\n",
    "print('B-lines results')\n",
    "print('Best Threshold=%f, sensitivity = %.3f, specificity = %.3f, J=%.3f' % (best_thresh, tpr[ix], 1-fpr[ix], J[ix]))\n",
    "\n",
    "y_prob_pred = (np.array(model_output)[:, 1] >= best_thresh).astype(bool)\n",
    "print(classification_report(np.array(test_labels)[:, 1], y_prob_pred, target_names=['B-line', 'Others']))"
   ]
  },
  {
   "cell_type": "code",
   "execution_count": 30,
   "id": "f5dba7c5",
   "metadata": {},
   "outputs": [
    {
     "name": "stdout",
     "output_type": "stream",
     "text": [
      "Consolidation\n",
      "Best Threshold=0.169833, sensitivity = 0.789, specificity = 0.814, J=0.603\n",
      "                  precision    recall  f1-score   support\n",
      "\n",
      "Confluent B-line       0.93      0.81      0.87       365\n",
      "          Others       0.56      0.79      0.65       109\n",
      "\n",
      "        accuracy                           0.81       474\n",
      "       macro avg       0.74      0.80      0.76       474\n",
      "    weighted avg       0.84      0.81      0.82       474\n",
      "\n"
     ]
    }
   ],
   "source": [
    "from numpy import argmax\n",
    "\n",
    "# calculate roc curves\n",
    "fpr, tpr, thresholds = roc_curve(np.array(test_labels)[:, 2], np.array(model_output)[:, 2])\n",
    "\n",
    "# get the best threshold\n",
    "J = tpr - fpr\n",
    "ix = argmax(J)\n",
    "best_thresh = thresholds[ix]\n",
    "# print('Confluent B-line results')\n",
    "print('Consolidation')\n",
    "print('Best Threshold=%f, sensitivity = %.3f, specificity = %.3f, J=%.3f' % (best_thresh, tpr[ix], 1-fpr[ix], J[ix]))\n",
    "\n",
    "y_prob_pred = (np.array(model_output)[:, 2] >= best_thresh).astype(bool)\n",
    "print(classification_report(np.array(test_labels)[:, 2], y_prob_pred, target_names=['Confluent B-line', 'Others']))"
   ]
  },
  {
   "cell_type": "code",
   "execution_count": 31,
   "id": "79a67086",
   "metadata": {},
   "outputs": [
    {
     "name": "stdout",
     "output_type": "stream",
     "text": [
      "Pleural effusion results\n",
      "Best Threshold=0.028242, sensitivity = 0.937, specificity = 0.693, J=0.630\n",
      "                  precision    recall  f1-score   support\n",
      "\n",
      "Pleural effusion       0.99      0.69      0.81       411\n",
      "          Others       0.32      0.94      0.48        63\n",
      "\n",
      "        accuracy                           0.73       474\n",
      "       macro avg       0.65      0.81      0.65       474\n",
      "    weighted avg       0.90      0.73      0.77       474\n",
      "\n"
     ]
    }
   ],
   "source": [
    "from numpy import argmax\n",
    "\n",
    "# calculate roc curves\n",
    "fpr, tpr, thresholds = roc_curve(np.array(test_labels)[:, 3], np.array(model_output)[:, 3])\n",
    "\n",
    "# get the best threshold\n",
    "J = tpr - fpr\n",
    "ix = argmax(J)\n",
    "best_thresh = thresholds[ix]\n",
    "print('Pleural effusion results')\n",
    "print('Best Threshold=%f, sensitivity = %.3f, specificity = %.3f, J=%.3f' % (best_thresh, tpr[ix], 1-fpr[ix], J[ix]))\n",
    "\n",
    "y_prob_pred = (np.array(model_output)[:, 3] >= best_thresh).astype(bool)\n",
    "print(classification_report(np.array(test_labels)[:, 3], y_prob_pred, target_names=['Pleural effusion', 'Others']))"
   ]
  },
  {
   "cell_type": "code",
   "execution_count": 32,
   "id": "057949a5",
   "metadata": {},
   "outputs": [
    {
     "data": {
      "image/png": "[encoded data removed]",
      "text/plain": [
       "<Figure size 800x800 with 1 Axes>"
      ]
     },
     "metadata": {},
     "output_type": "display_data"
    }
   ],
   "source": [
    "from itertools import cycle\n",
    "from sklearn.metrics import roc_curve, auc\n",
    "\n",
    "\n",
    "# ROC curve를 계산하고 시각화합니다.\n",
    "n_classes = len(test_labels[0])\n",
    "fpr = dict()\n",
    "tpr = dict()\n",
    "roc_auc = dict()\n",
    "for i in range(n_classes):\n",
    "    fpr[i], tpr[i], _ = roc_curve(np.array(test_labels)[:, i], np.array(model_output)[:, i])\n",
    "    roc_auc[i] = auc(fpr[i], tpr[i])\n",
    "\n",
    "# 마이크로 평균 ROC curve를 계산합니다.\n",
    "fpr[\"micro\"], tpr[\"micro\"], _ = roc_curve(np.array(test_labels).ravel(), np.array(model_output).ravel())\n",
    "roc_auc[\"micro\"] = auc(fpr[\"micro\"], tpr[\"micro\"])\n",
    "\n",
    "# 모든 레이블에 대한 평균 ROC curve를 계산합니다.\n",
    "all_fpr = np.unique(np.concatenate([fpr[i] for i in range(n_classes)]))\n",
    "mean_tpr = np.zeros_like(all_fpr)\n",
    "for i in range(n_classes):\n",
    "    mean_tpr += np.interp(all_fpr, fpr[i], tpr[i])\n",
    "mean_tpr /= n_classes\n",
    "fpr[\"macro\"] = all_fpr\n",
    "tpr[\"macro\"] = mean_tpr\n",
    "roc_auc[\"macro\"] = auc(fpr[\"macro\"], tpr[\"macro\"])\n",
    "\n",
    "# ROC curve를 그래프로 시각화합니다.\n",
    "plt.figure(figsize=(8, 8))\n",
    "lw = 2\n",
    "plt.plot(fpr[\"micro\"], tpr[\"micro\"], label='Micro-average ROC curve (area = {0:0.3f})'\n",
    "''.format(roc_auc[\"micro\"]), color='deeppink', linestyle=':', linewidth=4)\n",
    "plt.plot(fpr[\"macro\"], tpr[\"macro\"], label='Macro-average ROC curve (area = {0:0.3f})'\n",
    "''.format(roc_auc[\"macro\"]), color='navy', linestyle=':', linewidth=4)\n",
    "\n",
    "colors = cycle(['aqua', 'darkorange', 'cornflowerblue', 'green', 'red'])\n",
    "all_labels = [\n",
    "            'A-line',\n",
    "#             'B-line',\n",
    "#             'Confluent B-line',\n",
    "            'B-lines',\n",
    "            'Consolidation',\n",
    "            'Pleural effusion'\n",
    "            ]\n",
    "\n",
    "for i, label, color in zip(range(len(all_labels)), all_labels, colors):\n",
    "    plt.plot(fpr[i], tpr[i], color=color, lw=lw,\n",
    "            label='{0} (area = {1:0.3f})'\n",
    "            ''.format(label, roc_auc[i]))\n",
    "plt.plot([0, 1], [0, 1], 'k--', lw=lw)\n",
    "plt.xlim([0.0, 1.0])\n",
    "plt.ylim([0.0, 1.05])\n",
    "plt.xlabel('False Positive Rate')\n",
    "plt.ylabel('True Positive Rate')\n",
    "plt.title('Receiver operating characteristic for multi-label data')\n",
    "plt.legend(loc=\"lower right\", fontsize='large')\n",
    "plt.show()"
   ]
  },
  {
   "cell_type": "code",
   "execution_count": 22,
   "id": "eae212bc",
   "metadata": {},
   "outputs": [
    {
     "data": {
      "text/html": [
       "<div>\n",
       "<style scoped>\n",
       "    .dataframe tbody tr th:only-of-type {\n",
       "        vertical-align: middle;\n",
       "    }\n",
       "\n",
       "    .dataframe tbody tr th {\n",
       "        vertical-align: top;\n",
       "    }\n",
       "\n",
       "    .dataframe thead th {\n",
       "        text-align: right;\n",
       "    }\n",
       "</style>\n",
       "<table border=\"1\" class=\"dataframe\">\n",
       "  <thead>\n",
       "    <tr style=\"text-align: right;\">\n",
       "      <th></th>\n",
       "      <th>LUV_Net_A-line</th>\n",
       "      <th>LUV_Net_total-B-line</th>\n",
       "      <th>LUV_Net_Consolidation</th>\n",
       "      <th>LUV_Net_Pleural effusion</th>\n",
       "    </tr>\n",
       "  </thead>\n",
       "  <tbody>\n",
       "    <tr>\n",
       "      <th>0</th>\n",
       "      <td>0.651141</td>\n",
       "      <td>0.075043</td>\n",
       "      <td>0.118112</td>\n",
       "      <td>0.042354</td>\n",
       "    </tr>\n",
       "    <tr>\n",
       "      <th>1</th>\n",
       "      <td>0.639887</td>\n",
       "      <td>0.065999</td>\n",
       "      <td>0.130836</td>\n",
       "      <td>0.047815</td>\n",
       "    </tr>\n",
       "    <tr>\n",
       "      <th>2</th>\n",
       "      <td>0.629501</td>\n",
       "      <td>0.059689</td>\n",
       "      <td>0.155650</td>\n",
       "      <td>0.058999</td>\n",
       "    </tr>\n",
       "    <tr>\n",
       "      <th>3</th>\n",
       "      <td>0.772417</td>\n",
       "      <td>0.074732</td>\n",
       "      <td>0.034258</td>\n",
       "      <td>0.007971</td>\n",
       "    </tr>\n",
       "    <tr>\n",
       "      <th>4</th>\n",
       "      <td>0.756111</td>\n",
       "      <td>0.074656</td>\n",
       "      <td>0.037802</td>\n",
       "      <td>0.009259</td>\n",
       "    </tr>\n",
       "    <tr>\n",
       "      <th>...</th>\n",
       "      <td>...</td>\n",
       "      <td>...</td>\n",
       "      <td>...</td>\n",
       "      <td>...</td>\n",
       "    </tr>\n",
       "    <tr>\n",
       "      <th>469</th>\n",
       "      <td>0.204718</td>\n",
       "      <td>0.184032</td>\n",
       "      <td>0.013575</td>\n",
       "      <td>0.020150</td>\n",
       "    </tr>\n",
       "    <tr>\n",
       "      <th>470</th>\n",
       "      <td>0.178085</td>\n",
       "      <td>0.138722</td>\n",
       "      <td>0.024091</td>\n",
       "      <td>0.036741</td>\n",
       "    </tr>\n",
       "    <tr>\n",
       "      <th>471</th>\n",
       "      <td>0.191245</td>\n",
       "      <td>0.127731</td>\n",
       "      <td>0.025825</td>\n",
       "      <td>0.037120</td>\n",
       "    </tr>\n",
       "    <tr>\n",
       "      <th>472</th>\n",
       "      <td>0.167564</td>\n",
       "      <td>0.168768</td>\n",
       "      <td>0.019650</td>\n",
       "      <td>0.035691</td>\n",
       "    </tr>\n",
       "    <tr>\n",
       "      <th>473</th>\n",
       "      <td>0.142770</td>\n",
       "      <td>0.207385</td>\n",
       "      <td>0.012189</td>\n",
       "      <td>0.033939</td>\n",
       "    </tr>\n",
       "  </tbody>\n",
       "</table>\n",
       "<p>474 rows × 4 columns</p>\n",
       "</div>"
      ],
      "text/plain": [
       "     LUV_Net_A-line  LUV_Net_total-B-line  LUV_Net_Consolidation  \\\n",
       "0          0.651141              0.075043               0.118112   \n",
       "1          0.639887              0.065999               0.130836   \n",
       "2          0.629501              0.059689               0.155650   \n",
       "3          0.772417              0.074732               0.034258   \n",
       "4          0.756111              0.074656               0.037802   \n",
       "..              ...                   ...                    ...   \n",
       "469        0.204718              0.184032               0.013575   \n",
       "470        0.178085              0.138722               0.024091   \n",
       "471        0.191245              0.127731               0.025825   \n",
       "472        0.167564              0.168768               0.019650   \n",
       "473        0.142770              0.207385               0.012189   \n",
       "\n",
       "     LUV_Net_Pleural effusion  \n",
       "0                    0.042354  \n",
       "1                    0.047815  \n",
       "2                    0.058999  \n",
       "3                    0.007971  \n",
       "4                    0.009259  \n",
       "..                        ...  \n",
       "469                  0.020150  \n",
       "470                  0.036741  \n",
       "471                  0.037120  \n",
       "472                  0.035691  \n",
       "473                  0.033939  \n",
       "\n",
       "[474 rows x 4 columns]"
      ]
     },
     "execution_count": 22,
     "metadata": {},
     "output_type": "execute_result"
    }
   ],
   "source": [
    "models_output_df"
   ]
  },
  {
   "cell_type": "code",
   "execution_count": null,
   "id": "e05a7d90",
   "metadata": {},
   "outputs": [],
   "source": [
    "# if 'densenet161' in encoder_name:\n",
    "#     # densenet 161\n",
    "#     models_output_df.to_csv(f'/home/work/LUS/Results/model_output_csv/video_level/internal_test/densenet_161/{model_output_class}_artifacts_batch{batch_size}_fold_{fold_num}_{model_name}_{model_version}_output.csv', index = False)\n",
    "# elif 'resnet' in encoder_name:\n",
    "#     # resnet 50 \n",
    "#     models_output_df.to_csv(f'/home/work/LUS/Results/model_output_csv/video_level/internal_test/densenet_161/{model_output_class}_artifacts_batch{batch_size}_fold_{fold_num}_{model_name}_{model_version}_output.csv', index = False)"
   ]
  },
  {
   "cell_type": "code",
   "execution_count": 26,
   "id": "cf38ee96",
   "metadata": {},
   "outputs": [],
   "source": [
    "if 'imgnet_init_densenet161' in encoder_name:\n",
    "    models_output_df.to_csv(f'/data2/hoon2/Results/model_output_csv/video_level/internal_test/densenet_161/{model_output_class}_artifacts_batch{batch_size}_fold_{fold_num}_{model_name}_{head_num}head_{k_size}ksize_output.csv', index = False)\n",
    "elif 'densenet161_scratch' in encoder_name:\n",
    "    models_output_df.to_csv(f'/data2/hoon2/Results/model_output_csv/video_level/internal_test/densenet_161/{model_output_class}_artifacts_batch{batch_size}_fold_{fold_num}_{model_name}_{head_num}head_{k_size}ksize_output_scratch.csv', index = False)"
   ]
  },
  {
   "cell_type": "code",
   "execution_count": 27,
   "id": "13403c84",
   "metadata": {},
   "outputs": [
    {
     "data": {
      "text/plain": [
       "'v4____'"
      ]
     },
     "execution_count": 27,
     "metadata": {},
     "output_type": "execute_result"
    }
   ],
   "source": [
    "model_name\n",
    "model_version"
   ]
  },
  {
   "cell_type": "code",
   "execution_count": 126,
   "id": "1da4b177",
   "metadata": {},
   "outputs": [],
   "source": [
    "def gt_to_dataframe(df, labels, model_output):\n",
    "    \"\"\"\n",
    "    모델 출력을 기존 데이터프레임에 추가하는 함수\n",
    "    \"\"\"\n",
    "    temp_df = pd.DataFrame(model_output, columns=labels)\n",
    "    temp_df.columns = [f'{label}' for label in labels]\n",
    "    \n",
    "    if df.empty:\n",
    "        return temp_df\n",
    "    else:\n",
    "        return pd.concat([df, temp_df], axis=1)"
   ]
  },
  {
   "cell_type": "code",
   "execution_count": 127,
   "id": "658c4fc3",
   "metadata": {},
   "outputs": [
    {
     "name": "stdout",
     "output_type": "stream",
     "text": [
      "474\n"
     ]
    },
    {
     "data": {
      "text/html": [
       "<div>\n",
       "<style scoped>\n",
       "    .dataframe tbody tr th:only-of-type {\n",
       "        vertical-align: middle;\n",
       "    }\n",
       "\n",
       "    .dataframe tbody tr th {\n",
       "        vertical-align: top;\n",
       "    }\n",
       "\n",
       "    .dataframe thead th {\n",
       "        text-align: right;\n",
       "    }\n",
       "</style>\n",
       "<table border=\"1\" class=\"dataframe\">\n",
       "  <thead>\n",
       "    <tr style=\"text-align: right;\">\n",
       "      <th></th>\n",
       "      <th>A-line</th>\n",
       "      <th>total-B-line</th>\n",
       "      <th>Consolidation</th>\n",
       "      <th>Pleural effusion</th>\n",
       "    </tr>\n",
       "  </thead>\n",
       "  <tbody>\n",
       "    <tr>\n",
       "      <th>0</th>\n",
       "      <td>1.0</td>\n",
       "      <td>0.0</td>\n",
       "      <td>0.0</td>\n",
       "      <td>0.0</td>\n",
       "    </tr>\n",
       "    <tr>\n",
       "      <th>1</th>\n",
       "      <td>1.0</td>\n",
       "      <td>0.0</td>\n",
       "      <td>0.0</td>\n",
       "      <td>0.0</td>\n",
       "    </tr>\n",
       "    <tr>\n",
       "      <th>2</th>\n",
       "      <td>1.0</td>\n",
       "      <td>0.0</td>\n",
       "      <td>0.0</td>\n",
       "      <td>0.0</td>\n",
       "    </tr>\n",
       "    <tr>\n",
       "      <th>3</th>\n",
       "      <td>1.0</td>\n",
       "      <td>0.0</td>\n",
       "      <td>0.0</td>\n",
       "      <td>0.0</td>\n",
       "    </tr>\n",
       "    <tr>\n",
       "      <th>4</th>\n",
       "      <td>1.0</td>\n",
       "      <td>0.0</td>\n",
       "      <td>0.0</td>\n",
       "      <td>0.0</td>\n",
       "    </tr>\n",
       "  </tbody>\n",
       "</table>\n",
       "</div>"
      ],
      "text/plain": [
       "   A-line  total-B-line  Consolidation  Pleural effusion\n",
       "0     1.0           0.0            0.0               0.0\n",
       "1     1.0           0.0            0.0               0.0\n",
       "2     1.0           0.0            0.0               0.0\n",
       "3     1.0           0.0            0.0               0.0\n",
       "4     1.0           0.0            0.0               0.0"
      ]
     },
     "execution_count": 127,
     "metadata": {},
     "output_type": "execute_result"
    }
   ],
   "source": [
    "labels = ['A-line', 'total-B-line', 'Consolidation', 'Pleural effusion']\n",
    "\n",
    "models_gt_df = pd.DataFrame(columns=labels)\n",
    "\n",
    "models_gt_df = gt_to_dataframe(models_gt_df, labels, test_labels)\n",
    "print(len(models_gt_df))\n",
    "models_gt_df.head()"
   ]
  },
  {
   "cell_type": "markdown",
   "id": "5e57ab91",
   "metadata": {},
   "source": [
    "# 신뢰구간"
   ]
  },
  {
   "cell_type": "code",
   "execution_count": 128,
   "id": "d6a02421",
   "metadata": {},
   "outputs": [],
   "source": [
    "from scipy.stats import norm\n",
    "from compare_auc_delong import *\n",
    "\n",
    "def delong_auc_ci(y_true, y_pred, alpha=0.95):\n",
    "    \"\"\"\n",
    "    DeLong 방법을 이용하여 AUC와 95% 신뢰 구간 계산\n",
    "    Args:\n",
    "    - y_true: 실제 레이블 값 (0과 1로 구성된 numpy 배열)\n",
    "    - y_pred: 예측 확률값 (numpy 배열)\n",
    "    - alpha: 신뢰수준 (기본값 0.95)\n",
    "\n",
    "    Returns:\n",
    "    - auc: AUC 값\n",
    "    - ci: AUC에 대한 신뢰 구간 (하한, 상한)\n",
    "    \"\"\"\n",
    "    auc, auc_var = delong_roc_variance(y_true, y_pred)\n",
    "    auc_std = np.sqrt(auc_var)\n",
    "\n",
    "    # 신뢰 구간 계산\n",
    "    lower_upper_q = np.array([0.5 - alpha / 2, 0.5 + alpha / 2])\n",
    "    ci = norm.ppf(lower_upper_q, loc=auc, scale=auc_std)\n",
    "    \n",
    "    # 신뢰 구간의 범위를 0과 1 사이로 조정\n",
    "    ci[ci < 0] = 0\n",
    "    ci[ci > 1] = 1\n",
    "\n",
    "    return auc, ci"
   ]
  },
  {
   "cell_type": "code",
   "execution_count": 129,
   "id": "af17bbbd",
   "metadata": {},
   "outputs": [],
   "source": [
    "def cal_CI(gt_df, method_df):\n",
    "    CI_values = {}\n",
    "    auc_values = {}\n",
    "    for idx in range(len(labels)):\n",
    "        gt_series = gt_df.iloc[:, idx]\n",
    "        method__series = method_df.iloc[:, idx]\n",
    "        \n",
    "        auc, ci = delong_auc_ci(gt_series, method__series)\n",
    "        \n",
    "        CI_values[labels[idx]] = ci\n",
    "        auc_values[labels[idx]] = auc.item()\n",
    "        \n",
    "    return CI_values, auc_values"
   ]
  },
  {
   "cell_type": "code",
   "execution_count": 130,
   "id": "2a183fae",
   "metadata": {},
   "outputs": [
    {
     "data": {
      "text/html": [
       "<div>\n",
       "<style scoped>\n",
       "    .dataframe tbody tr th:only-of-type {\n",
       "        vertical-align: middle;\n",
       "    }\n",
       "\n",
       "    .dataframe tbody tr th {\n",
       "        vertical-align: top;\n",
       "    }\n",
       "\n",
       "    .dataframe thead th {\n",
       "        text-align: right;\n",
       "    }\n",
       "</style>\n",
       "<table border=\"1\" class=\"dataframe\">\n",
       "  <thead>\n",
       "    <tr style=\"text-align: right;\">\n",
       "      <th></th>\n",
       "      <th>Label</th>\n",
       "      <th>AUC</th>\n",
       "      <th>95% CI Lower Bound</th>\n",
       "      <th>95% CI Upper Bound</th>\n",
       "    </tr>\n",
       "  </thead>\n",
       "  <tbody>\n",
       "    <tr>\n",
       "      <th>0</th>\n",
       "      <td>A-line</td>\n",
       "      <td>0.926583</td>\n",
       "      <td>0.895952</td>\n",
       "      <td>0.957214</td>\n",
       "    </tr>\n",
       "    <tr>\n",
       "      <th>1</th>\n",
       "      <td>total-B-line</td>\n",
       "      <td>0.840140</td>\n",
       "      <td>0.797569</td>\n",
       "      <td>0.882711</td>\n",
       "    </tr>\n",
       "    <tr>\n",
       "      <th>2</th>\n",
       "      <td>Consolidation</td>\n",
       "      <td>0.837577</td>\n",
       "      <td>0.796521</td>\n",
       "      <td>0.878633</td>\n",
       "    </tr>\n",
       "    <tr>\n",
       "      <th>3</th>\n",
       "      <td>Pleural effusion</td>\n",
       "      <td>0.951531</td>\n",
       "      <td>0.931752</td>\n",
       "      <td>0.971310</td>\n",
       "    </tr>\n",
       "  </tbody>\n",
       "</table>\n",
       "</div>"
      ],
      "text/plain": [
       "              Label       AUC  95% CI Lower Bound  95% CI Upper Bound\n",
       "0            A-line  0.926583            0.895952            0.957214\n",
       "1      total-B-line  0.840140            0.797569            0.882711\n",
       "2     Consolidation  0.837577            0.796521            0.878633\n",
       "3  Pleural effusion  0.951531            0.931752            0.971310"
      ]
     },
     "execution_count": 130,
     "metadata": {},
     "output_type": "execute_result"
    }
   ],
   "source": [
    "CIs, AUCs = cal_CI(models_gt_df, models_output_df)\n",
    "\n",
    "results = {\n",
    "    'Label': list(AUCs.keys()),\n",
    "    'AUC': list(AUCs.values()),\n",
    "    '95% CI Lower Bound': [ci[0] for ci in CIs.values()],\n",
    "    '95% CI Upper Bound': [ci[1] for ci in CIs.values()]\n",
    "}\n",
    "results_df = pd.DataFrame(results)\n",
    "results_df"
   ]
  },
  {
   "cell_type": "markdown",
   "id": "88b11a16",
   "metadata": {},
   "source": [
    "# model parameter size 및 GFLOPS 계산"
   ]
  },
  {
   "cell_type": "code",
   "execution_count": 2,
   "id": "ec2f5c07",
   "metadata": {},
   "outputs": [],
   "source": [
    "from thop import profile"
   ]
  },
  {
   "cell_type": "code",
   "execution_count": null,
   "id": "2383ed4e",
   "metadata": {},
   "outputs": [],
   "source": [
    "from torchvision.models.video import mvit_v2_s, mvit_v1_b\n",
    "from torchvision.models.video import swin3d_s, swin3d_b\n",
    "\n",
    "densnet = timm.create_model('densenet161', pretrained=False, num_classes=0)\n",
    "resnet = timm.create_model('resnet50', pretrained=False, num_classes=0)\n",
    "\n",
    "head_num = 8\n",
    "k_size = 13\n",
    "train_layer = 'all'\n",
    "\n",
    "models = {\n",
    "    \"LUV_Net_densenet\": LUV_Net(densnet, head_num, pooling_method='attn_multilabel_conv', kernel_width=k_size),\n",
    "    \"LUV_Net_resnet\": LUV_Net(resnet, head_num, pooling_method='attn_multilabel_conv', kernel_width=k_size),\n",
    "    \"mvit_v1_b\": mvit_v1_b(weights=None),\n",
    "    \"swin3d_b\": swin3d_b(weights=None),\n",
    "    \"USVN_densenet\": MedVidNet(train_layer, densnet, head_num, pooling_method='attn'),\n",
    "    \"USVN_resnet\": MedVidNet(train_layer, resnet, head_num, pooling_method='attn'),\n",
    "    \"C3D\": C3D(num_classes=4, pretrained=False),\n",
    "    \"R2Plus1D\": R2Plus1DClassifier(num_classes=4, layer_sizes=(3, 4, 6, 3)),\n",
    "    \"CNNLSTM_densenet\": CNNLSTM(encoder=timm.create_model('densenet161', pretrained=False, num_classes=300)),\n",
    "    \"CNNLSTM_resnet\": CNNLSTM(encoder=timm.create_model('resnet50', pretrained=False, num_classes=300)),\n",
    "}\n",
    "\n",
    "# mvit_v1_b와 swin3d_b의 헤드 수정\n",
    "for model_name in [\"mvit_v1_b\", \"swin3d_b\"]:\n",
    "    in_features = models[model_name].head[1].in_features if hasattr(models[model_name].head, '1') else models[model_name].head.in_features\n",
    "    models[model_name].head = nn.Linear(in_features, 4)"
   ]
  },
  {
   "cell_type": "code",
   "execution_count": null,
   "id": "6d8739c7",
   "metadata": {},
   "outputs": [],
   "source": [
    "results = []\n",
    "\n",
    "for name, model in models.items():\n",
    "    model.eval()\n",
    "    with torch.no_grad():\n",
    "        try:\n",
    "            if name in [\"mvit_v1_b\", \"swin3d_b\"]:\n",
    "                x = torch.randn(1, 30, 3, 256, 256)\n",
    "                x = x.permute(0, 2, 1, 3, 4)\n",
    "                flops, params = profile(model, (x,), verbose=False)\n",
    "            \n",
    "            elif name in [\"LUV_Net_densenet\", \"LUV_Net_resnet\", \"USVN_densenet\", \"USVN_resnet\"]:\n",
    "                x = torch.randn(30, 3, 256, 256)\n",
    "                num_frames = [30]  \n",
    "                flops, params = profile(model, inputs=(x, num_frames), verbose=False)\n",
    "            \n",
    "            else:\n",
    "                x = torch.randn(1, 30, 3, 256, 256)\n",
    "                flops, params = profile(model, inputs=(x,), verbose=False)\n",
    "            \n",
    "            gflops = flops / 1e9\n",
    "            results.append([name, params, gflops])\n",
    "        except Exception as e:\n",
    "            print(f\"Error profiling {name}: {e}\")\n",
    "\n",
    "df = pd.DataFrame(results, columns=[\"Model\", \"Params\", \"GFLOPs\"])\n",
    "df"
   ]
  },
  {
   "cell_type": "markdown",
   "id": "c981d7d9",
   "metadata": {},
   "source": [
    "# Inference Time 계산"
   ]
  },
  {
   "cell_type": "code",
   "execution_count": null,
   "id": "669de6c7",
   "metadata": {},
   "outputs": [],
   "source": [
    "from Dataset_ML import *\n",
    "\n",
    "base_path = f'/data2/hoon2/LUS_Dataset/csv_files/clip_multilabel_classification'\n",
    "\n",
    "version = 'version_1'\n",
    "model_output_class = 5\n",
    "model_test_rate = \"0.2\"\n",
    "fold_num= 0 \n",
    "img_size = 256\n",
    "\n",
    "test_csv_path = os.path.join(base_path, f'model_development_set/{version}/{model_output_class}_artifacts/test_{model_test_rate}/fold_{fold_num}/test.csv')\n",
    "\n",
    "test_dataset = video_dataset(test_csv_path, transforms = apply_transforms(mode=None), img_size = img_size, is_train = False)"
   ]
  },
  {
   "cell_type": "code",
   "execution_count": 16,
   "id": "c4620f51",
   "metadata": {},
   "outputs": [],
   "source": [
    "def collate_video(batch_list):\n",
    "    \"\"\"\n",
    "    A custom collate function to be passed to the callate_fn argument when creating a pytorch dataloader.\n",
    "    This is necessary because videos have different lengths. We handle by combining all videos along the time \n",
    "    dimension and returning the number of frames in each video.\n",
    "    \"\"\"\n",
    "    vids = torch.concat([b[0] for b in batch_list])\n",
    "    # num_frames = [b.shape[0] for b in batch_list]\n",
    "    labels = [b[1] for b in batch_list]\n",
    "    paths = [b[2] for b in batch_list]\n",
    "\n",
    "    return vids, labels, paths\n",
    "\n",
    "def get_dataloader(model_name, test_dataset, batch_size):\n",
    "    \n",
    "    if model_name in [\"LUV_Net_densenet\", \"LUV_Net_resnet\", \"USVN_densenet\", \"USVN_resnet\"]:\n",
    "        return torch.utils.data.DataLoader(test_dataset, batch_size=batch_size, shuffle=False, collate_fn=collate_video, drop_last=False)\n",
    "    elif model_name in [\"CNNLSTM_densenet\", \"CNNLSTM_resnet\", \"C3D\", \"R2Plus1D\", \"mvit_v1_b\", \"swin3d_b\"]:\n",
    "        return torch.utils.data.DataLoader(test_dataset, batch_size=batch_size, shuffle=False, drop_last=False)\n",
    "    else:\n",
    "        raise ValueError(f\"Unknown model name: {model_name}\")"
   ]
  },
  {
   "cell_type": "code",
   "execution_count": 17,
   "id": "6e1bad4b",
   "metadata": {},
   "outputs": [],
   "source": [
    "def measure_inference_time(model_name, model, test_dataset, batch_size, device):\n",
    "    test_dataloader = get_dataloader(model_name, test_dataset, batch_size)\n",
    "    model = model.to(device)\n",
    "    model.eval()\n",
    "    total_time = []\n",
    "    \n",
    "    with torch.no_grad():\n",
    "        for data in tqdm(test_dataloader, desc=f\"Measuring Inference Time for {model_name}\", unit=\"video\"):\n",
    "            test_img, test_label, path = data\n",
    "            test_img = test_img.float().to(device)\n",
    "            num_frames = [test_img.shape[0]]\n",
    "            \n",
    "            start_time = time.time()\n",
    "            if model_name in [\"mvit_v1_b\", \"swin3d_b\"]:\n",
    "                test_img = test_img.permute(0, 2, 1, 3, 4)  # Adjust dimensions for these models\n",
    "                model(test_img)\n",
    "            elif model_name in [\"LUV_Net_densenet\", \"LUV_Net_resnet\", \"USVN_densenet\", \"USVN_resnet\"]:\n",
    "                model(test_img, num_frames)\n",
    "            else:\n",
    "                model(test_img)\n",
    "            \n",
    "            torch.cuda.synchronize()\n",
    "            end_time = time.time()\n",
    "            \n",
    "            inference_time = end_time - start_time\n",
    "            total_time.append(inference_time)\n",
    "    \n",
    "    avg_time = np.mean(total_time)\n",
    "    print(f\"{model_name} - Average Inference Time: {avg_time:.4f} seconds\")\n",
    "    \n",
    "    return avg_time"
   ]
  },
  {
   "cell_type": "code",
   "execution_count": 18,
   "id": "ed197f89",
   "metadata": {},
   "outputs": [],
   "source": [
    "def create_inference_time_df(models, test_dataset, batch_size, device):\n",
    "    results = []\n",
    "    for name, model in models.items():\n",
    "        avg_time = measure_inference_time(name, model, test_dataset, batch_size, device)\n",
    "        results.append([name, avg_time])\n",
    "    \n",
    "    df = pd.DataFrame(results, columns=[\"Model\", \"Inference Time (seconds)\"])\n",
    "    return df"
   ]
  },
  {
   "cell_type": "code",
   "execution_count": 19,
   "id": "bf72e46c",
   "metadata": {},
   "outputs": [
    {
     "name": "stderr",
     "output_type": "stream",
     "text": [
      "Measuring Inference Time for LUV_Net_densenet: 100%|██████████| 474/474 [01:08<00:00,  6.88video/s]\n"
     ]
    },
    {
     "name": "stdout",
     "output_type": "stream",
     "text": [
      "LUV_Net_densenet - Average Inference Time: 0.0652 seconds\n"
     ]
    },
    {
     "name": "stderr",
     "output_type": "stream",
     "text": [
      "Measuring Inference Time for LUV_Net_resnet: 100%|██████████| 474/474 [00:50<00:00,  9.36video/s]\n"
     ]
    },
    {
     "name": "stdout",
     "output_type": "stream",
     "text": [
      "LUV_Net_resnet - Average Inference Time: 0.0271 seconds\n"
     ]
    },
    {
     "name": "stderr",
     "output_type": "stream",
     "text": [
      "Measuring Inference Time for mvit_v1_b: 100%|██████████| 474/474 [01:01<00:00,  7.66video/s]\n"
     ]
    },
    {
     "name": "stdout",
     "output_type": "stream",
     "text": [
      "mvit_v1_b - Average Inference Time: 0.0498 seconds\n"
     ]
    },
    {
     "name": "stderr",
     "output_type": "stream",
     "text": [
      "Measuring Inference Time for swin3d_b: 100%|██████████| 474/474 [01:35<00:00,  4.95video/s]\n"
     ]
    },
    {
     "name": "stdout",
     "output_type": "stream",
     "text": [
      "swin3d_b - Average Inference Time: 0.1214 seconds\n"
     ]
    },
    {
     "name": "stderr",
     "output_type": "stream",
     "text": [
      "Measuring Inference Time for USVN_densenet: 100%|██████████| 474/474 [01:09<00:00,  6.78video/s]\n"
     ]
    },
    {
     "name": "stdout",
     "output_type": "stream",
     "text": [
      "USVN_densenet - Average Inference Time: 0.0616 seconds\n"
     ]
    },
    {
     "name": "stderr",
     "output_type": "stream",
     "text": [
      "Measuring Inference Time for USVN_resnet: 100%|██████████| 474/474 [00:49<00:00,  9.50video/s]\n"
     ]
    },
    {
     "name": "stdout",
     "output_type": "stream",
     "text": [
      "USVN_resnet - Average Inference Time: 0.0252 seconds\n"
     ]
    },
    {
     "name": "stderr",
     "output_type": "stream",
     "text": [
      "Measuring Inference Time for C3D: 100%|██████████| 474/474 [00:49<00:00,  9.66video/s]\n"
     ]
    },
    {
     "name": "stdout",
     "output_type": "stream",
     "text": [
      "C3D - Average Inference Time: 0.0256 seconds\n"
     ]
    },
    {
     "name": "stderr",
     "output_type": "stream",
     "text": [
      "Measuring Inference Time for R2Plus1D: 100%|██████████| 474/474 [01:25<00:00,  5.55video/s]\n"
     ]
    },
    {
     "name": "stdout",
     "output_type": "stream",
     "text": [
      "R2Plus1D - Average Inference Time: 0.0938 seconds\n"
     ]
    },
    {
     "name": "stderr",
     "output_type": "stream",
     "text": [
      "Measuring Inference Time for CNNLSTM_densenet: 100%|██████████| 474/474 [01:10<00:00,  6.76video/s]\n"
     ]
    },
    {
     "name": "stdout",
     "output_type": "stream",
     "text": [
      "CNNLSTM_densenet - Average Inference Time: 0.0622 seconds\n"
     ]
    },
    {
     "name": "stderr",
     "output_type": "stream",
     "text": [
      "Measuring Inference Time for CNNLSTM_resnet: 100%|██████████| 474/474 [00:51<00:00,  9.15video/s]"
     ]
    },
    {
     "name": "stdout",
     "output_type": "stream",
     "text": [
      "CNNLSTM_resnet - Average Inference Time: 0.0256 seconds\n"
     ]
    },
    {
     "name": "stderr",
     "output_type": "stream",
     "text": [
      "\n"
     ]
    },
    {
     "data": {
      "text/html": [
       "<div>\n",
       "<style scoped>\n",
       "    .dataframe tbody tr th:only-of-type {\n",
       "        vertical-align: middle;\n",
       "    }\n",
       "\n",
       "    .dataframe tbody tr th {\n",
       "        vertical-align: top;\n",
       "    }\n",
       "\n",
       "    .dataframe thead th {\n",
       "        text-align: right;\n",
       "    }\n",
       "</style>\n",
       "<table border=\"1\" class=\"dataframe\">\n",
       "  <thead>\n",
       "    <tr style=\"text-align: right;\">\n",
       "      <th></th>\n",
       "      <th>Model</th>\n",
       "      <th>Inference Time (seconds)</th>\n",
       "    </tr>\n",
       "  </thead>\n",
       "  <tbody>\n",
       "    <tr>\n",
       "      <th>0</th>\n",
       "      <td>LUV_Net_densenet</td>\n",
       "      <td>0.065238</td>\n",
       "    </tr>\n",
       "    <tr>\n",
       "      <th>1</th>\n",
       "      <td>LUV_Net_resnet</td>\n",
       "      <td>0.027116</td>\n",
       "    </tr>\n",
       "    <tr>\n",
       "      <th>2</th>\n",
       "      <td>mvit_v1_b</td>\n",
       "      <td>0.049773</td>\n",
       "    </tr>\n",
       "    <tr>\n",
       "      <th>3</th>\n",
       "      <td>swin3d_b</td>\n",
       "      <td>0.121393</td>\n",
       "    </tr>\n",
       "    <tr>\n",
       "      <th>4</th>\n",
       "      <td>USVN_densenet</td>\n",
       "      <td>0.061559</td>\n",
       "    </tr>\n",
       "    <tr>\n",
       "      <th>5</th>\n",
       "      <td>USVN_resnet</td>\n",
       "      <td>0.025181</td>\n",
       "    </tr>\n",
       "    <tr>\n",
       "      <th>6</th>\n",
       "      <td>C3D</td>\n",
       "      <td>0.025572</td>\n",
       "    </tr>\n",
       "    <tr>\n",
       "      <th>7</th>\n",
       "      <td>R2Plus1D</td>\n",
       "      <td>0.093828</td>\n",
       "    </tr>\n",
       "    <tr>\n",
       "      <th>8</th>\n",
       "      <td>CNNLSTM_densenet</td>\n",
       "      <td>0.062158</td>\n",
       "    </tr>\n",
       "    <tr>\n",
       "      <th>9</th>\n",
       "      <td>CNNLSTM_resnet</td>\n",
       "      <td>0.025605</td>\n",
       "    </tr>\n",
       "  </tbody>\n",
       "</table>\n",
       "</div>"
      ],
      "text/plain": [
       "              Model  Inference Time (seconds)\n",
       "0  LUV_Net_densenet                  0.065238\n",
       "1    LUV_Net_resnet                  0.027116\n",
       "2         mvit_v1_b                  0.049773\n",
       "3          swin3d_b                  0.121393\n",
       "4     USVN_densenet                  0.061559\n",
       "5       USVN_resnet                  0.025181\n",
       "6               C3D                  0.025572\n",
       "7          R2Plus1D                  0.093828\n",
       "8  CNNLSTM_densenet                  0.062158\n",
       "9    CNNLSTM_resnet                  0.025605"
      ]
     },
     "execution_count": 19,
     "metadata": {},
     "output_type": "execute_result"
    }
   ],
   "source": [
    "gpu_index = 0\n",
    "device = torch.device(f\"cuda:{gpu_index}\" if torch.cuda.is_available() else \"cpu\")\n",
    "    \n",
    "create_inference_time_df(models, test_dataset, 1, device)"
   ]
  },
  {
   "cell_type": "code",
   "execution_count": null,
   "id": "661f2077",
   "metadata": {},
   "outputs": [],
   "source": []
  },
  {
   "cell_type": "code",
   "execution_count": null,
   "id": "e15bc058",
   "metadata": {},
   "outputs": [],
   "source": [
    "'''\n",
    "print(parameter_count_table(model))\n",
    "\n",
    "# ✅ MedVidNet 전용 입력 (frames, channels, height, width)\n",
    "input_tensor_medvidnet = torch.randn(30, 3, 256, 256)  # (30, 3, 256, 256)\n",
    "\n",
    "# ✅ 다른 모델용 입력 (batch, frames, channels, height, width)\n",
    "input_tensor_others = torch.randn(1, 30, 3, 256, 256)  # (1, 30, 3, 256, 256)\n",
    "\n",
    "# 프레임 수 리스트 (Batch 크기 고려)\n",
    "num_frames_list = [30]  # MedVidNet 모델용\n",
    "\n",
    "# 모델 목록\n",
    "models = {\n",
    "    \"MedVidNet_(DenseNet-161)\": MedVidNet_multi_attn_conv3____(\n",
    "        timm.create_model('densenet161', pretrained=False, num_classes=0),\n",
    "        num_heads=8, pooling_method=\"attn_multilabel_conv\", kernel_width=5\n",
    "    ),\n",
    "    \"MedVidNet_(ResNet-50)\": MedVidNet_multi_attn_conv3____(\n",
    "        timm.create_model('resnet50', pretrained=False, num_classes=0),\n",
    "        num_heads=8, pooling_method=\"attn_multilabel_conv\", kernel_width=5\n",
    "    ),\n",
    "    \"MedVidNet(DenseNet-161)\": MedVidNet(train_layer, timm.create_model('densenet161', pretrained=False, num_classes=0), head_num, pooling_method = 'attn'),\n",
    "    \"MedVidNet(ResNet-50)\": MedVidNet(train_layer, timm.create_model('resnet50', pretrained=False, num_classes=0), head_num, pooling_method = 'attn'),\n",
    "    \"C3D\": C3D(num_classes=4, pretrained=False),\n",
    "    \"R2Plus1D (2,2,2,2)\": R2Plus1DClassifier(num_classes=4, layer_sizes=(2, 2, 2, 2)),\n",
    "    \"R2Plus1D (3,4,6,3)\": R2Plus1DClassifier(num_classes=4, layer_sizes=(3, 4, 6, 3)),\n",
    "    \"CNNLSTM (DenseNet-161)\": CNNLSTM(encoder=timm.create_model('densenet161', pretrained=False, num_classes=300)),\n",
    "    \"CNNLSTM (ResNet-50)\": CNNLSTM(encoder=timm.create_model('resnet50', pretrained=False, num_classes=300))\n",
    "}\n",
    "\n",
    "# FLOPs 계산\n",
    "for name, model in models.items():\n",
    "    model.eval()  # 모델을 평가 모드로 설정\n",
    "    \n",
    "    if \"MedVidNet\" in name:\n",
    "        # ✅ MedVidNet 모델은 (30, 3, 256, 256) 형태의 입력 + num_frames 필요\n",
    "        flops = FlopCountAnalysis(model, (input_tensor_medvidnet, num_frames_list))\n",
    "    else:\n",
    "        # ✅ 다른 모델들은 (1, 30, 3, 256, 256) 형태로 입력\n",
    "        flops = FlopCountAnalysis(model, (input_tensor_others,))\n",
    "    \n",
    "    gflops = flops.total() / 1e9  # GFLOPs로 변환\n",
    "    print(f\"{name}: {gflops:.2f} GFLOPs\")\n",
    "    '''\n"
   ]
  },
  {
   "cell_type": "markdown",
   "id": "9708a733",
   "metadata": {},
   "source": [
    "# grad-cam"
   ]
  },
  {
   "cell_type": "code",
   "execution_count": 7,
   "id": "071b234a",
   "metadata": {},
   "outputs": [],
   "source": [
    "from pytorch_grad_cam import GradCAM\n",
    "from pytorch_grad_cam.utils.model_targets import ClassifierOutputTarget\n",
    "from pytorch_grad_cam.utils.image import show_cam_on_image"
   ]
  },
  {
   "cell_type": "code",
   "execution_count": 8,
   "id": "7b18e78b",
   "metadata": {},
   "outputs": [],
   "source": [
    "def collate_video(batch_list):\n",
    "    \"\"\"\n",
    "    A custom collate function to be passed to the callate_fn argument when creating a pytorch dataloader.\n",
    "    This is necessary because videos have different lengths. We handle by combining all videos along the time \n",
    "    dimension and returning the number of frames in each video.\n",
    "    \"\"\"\n",
    "    vids = torch.concat([b[0] for b in batch_list])\n",
    "    # num_frames = [b.shape[0] for b in batch_list]\n",
    "    labels = [b[1] for b in batch_list]\n",
    "    paths = [b[2] for b in batch_list]\n",
    "\n",
    "    return vids, labels, paths"
   ]
  },
  {
   "cell_type": "code",
   "execution_count": null,
   "id": "4c5dd6a8",
   "metadata": {},
   "outputs": [
    {
     "name": "stdout",
     "output_type": "stream",
     "text": [
      "474\n"
     ]
    }
   ],
   "source": [
    "# dataset\n",
    "video_batch_size = 4\n",
    "\n",
    "test_csv_path = os.path.join(base_path, f'model_development_set/{version}/{model_output_class}_artifacts/test_{model_test_rate}/fold_{fold_num}/test.csv')\n",
    "\n",
    "test_df = pd.read_csv(test_csv_path)\n",
    "# dataset\n",
    "test_dataset = video_dataset(test_csv_path, transforms = apply_transforms(mode=None), img_size = img_size, is_train = False)\n",
    "\n",
    "# dataloader\n",
    "test_dataloader =  torch.utils.data.DataLoader(test_dataset, batch_size=1, shuffle = False, collate_fn=collate_video, drop_last=False)\n",
    "\n",
    "#len_dataloader\n",
    "len_test_dataset = len(test_dataloader.dataset)\n",
    "print(len_test_dataset)\n",
    "# set seed\n",
    "set_all_seeds(1234)\n",
    "\n",
    "encoder = timm.create_model('densenet161', pretrained=False, num_classes=0)"
   ]
  },
  {
   "cell_type": "code",
   "execution_count": null,
   "id": "58adf6ee",
   "metadata": {},
   "outputs": [
    {
     "name": "stdout",
     "output_type": "stream",
     "text": [
      "[np.float32(0.2747937), np.float32(0.28761905), np.float32(0.22301994), np.float32(0.054686785)]\n"
     ]
    },
    {
     "name": "stderr",
     "output_type": "stream",
     "text": [
      "Testing: 100%|██████████| 474/474 [2:17:45<00:00, 17.44s/batch]  \n"
     ]
    }
   ],
   "source": [
    "LABEL_INT2STR = {0:'A-line', \n",
    "                 1:'B-lines',\n",
    "                 2:'Consolidation',\n",
    "                 3:'Pleural effusion'}\n",
    "\n",
    "sigmoid = nn.Sigmoid()\n",
    "\n",
    "# Set up model\n",
    "num_frames = [30]*batch_size\n",
    "num_heads = 8\n",
    "kernel_size = 13\n",
    "\n",
    "model = LUV_Net(encoder, num_heads, pooling_method = pooling_method, kernel_width= kernel_size)\n",
    "\n",
    "gpu_index = 0\n",
    "device = torch.device(f\"cuda:{gpu_index}\" if torch.cuda.is_available() else \"cpu\")\n",
    "\n",
    "check_point = torch.load(weight_path, map_location=device)\n",
    "# torch.nn.DataParallel을 사용하여 모델을 학습하고 저장한 경우에 이러한 접두어가 자주 발생\n",
    "if 'module' in list(check_point['model'].keys())[0]:\n",
    "    # If so, remove the 'module.' prefix from the keys in the state_dict\n",
    "    new_state_dict = {k[7:]: v for k, v in check_point['model'].items()}\n",
    "    model.load_state_dict(new_state_dict)\n",
    "else:\n",
    "    # If not using DataParallel, simply load the state_dict\n",
    "    model.load_state_dict(check_point['model'])\n",
    "\n",
    "model = model.to(device)\n",
    "\n",
    "# load best threshold\n",
    "best_val_thres = check_point['best_valid_thres']\n",
    "print(best_val_thres)\n",
    "\n",
    "model2 = model.encoder\n",
    "\n",
    "layer = model2.features[-1]\n",
    "cam = GradCAM(model=model2, target_layers=[layer])\n",
    "    \n",
    "model.eval() \n",
    "with torch.no_grad():    \n",
    "    for data in tqdm(test_dataloader, desc=\"Testing\", unit=\"batch\"):    \n",
    "        test_img, test_label, path = data\n",
    "#             print(test_img.shape)\n",
    "        test_img = test_img.float().to(device)\n",
    "\n",
    "#             print(test_img.shape)\n",
    "        test_output, attentions = model(test_img, num_frames)\n",
    "#             print(test_output)\n",
    "        test_output = sigmoid(test_output)\n",
    "\n",
    "        test_preds_np = test_output[0].data.cpu().numpy()\n",
    "\n",
    "        test_preds_np = np.where(test_preds_np >= best_val_thres, 1, 0)\n",
    "\n",
    "        np_test_label = test_label[0].cpu().numpy()\n",
    "        \n",
    "        ################################################## \n",
    "        # Grad=-cam\n",
    "    #             print(rgb_vid.shape)\n",
    "    #             print(test_vid.shape)\n",
    "        rgb_vid = load_video(path[0])\n",
    "        cam_results = []\n",
    "        test_img_copy = test_img.clone()\n",
    "        \n",
    "        for frame_idx in range(rgb_vid.shape[0]):\n",
    "            \n",
    "            img = test_img_copy[frame_idx].unsqueeze(0).to(device)\n",
    "\n",
    "    #             print(rgb_vid[frame_idx].shape)\n",
    "            rgb_img = rgb_vid[frame_idx]\n",
    "            rgb_img = np.float32(rgb_img) / 255\n",
    "\n",
    "            with torch.enable_grad():  # 그래디언트 계산 활성화\n",
    "                grayscale_cam = cam(input_tensor=img, aug_smooth=True, eigen_smooth=False)\n",
    "            grayscale_cam = grayscale_cam[0, :]\n",
    "            cam_result = show_cam_on_image(rgb_img, grayscale_cam, use_rgb=True)\n",
    "            cam_results.append(cam_result)\n",
    "                \n",
    "#         print(path[0].split('/')[-1].split('.')[0])\n",
    "#         print(f\"prediction : {test_preds_np}, test_label : {np_test_label}\")\n",
    "        \n",
    "        label_idx = np.where(np_test_label == 1)[0]\n",
    "        labels_lst = [LABEL_INT2STR[idx] for idx in label_idx]\n",
    "\n",
    "        all_labels = ' , '.join(labels_lst)\n",
    "\n",
    "        label_str = ', '.join(np_test_label.astype(int).astype(str))\n",
    "        test_preds_str = ', '.join(test_preds_np.astype(int).astype(str))\n",
    "\n",
    "        patient_id = path[0].split('/')[-1].split('.')[0]\n",
    "        patient_id2 = patient_id.rsplit('_', 2)[0]\n",
    "        file_name = f\"{patient_id}_true[{label_str}]_pred[{test_preds_str}]\"\n",
    "\n",
    "        # Save only the cam_result image\n",
    "        vid_cam_result_output_dir = f'/data2/hoon2/Results/Grad_CAM/{model_name}_{model_version}_{video_batch_size}batch_{encoder_name}_{num_heads}head_{k_size}ksize_fold{fold_num}/video_cam_internal/{patient_id2}'\n",
    "        if not os.path.exists(vid_cam_result_output_dir):\n",
    "            os.makedirs(vid_cam_result_output_dir)\n",
    "#         print(file_name)\n",
    "        fourcc = cv2.VideoWriter_fourcc('M', 'J', 'P', 'G')\n",
    "        video_filename = f'{vid_cam_result_output_dir}/{file_name}.avi'\n",
    "        out = cv2.VideoWriter(video_filename, fourcc, 30, (256, 256))\n",
    "#         print(len(cam_results))\n",
    "#         print(cam_results[0].shape)\n",
    "        for frame in cam_results:\n",
    "            bgr_frame = cv2.cvtColor(frame, cv2.COLOR_RGB2BGR)\n",
    "            out.write(bgr_frame)  # Write each frame\n",
    "        out.release()"
   ]
  },
  {
   "cell_type": "code",
   "execution_count": null,
   "id": "70e6a685",
   "metadata": {},
   "outputs": [],
   "source": []
  },
  {
   "cell_type": "code",
   "execution_count": null,
   "id": "6b41be6e",
   "metadata": {},
   "outputs": [],
   "source": []
  }
 ],
 "metadata": {
  "kernelspec": {
   "display_name": "pda",
   "language": "python",
   "name": "python3"
  },
  "language_info": {
   "codemirror_mode": {
    "name": "ipython",
    "version": 3
   },
   "file_extension": ".py",
   "mimetype": "text/x-python",
   "name": "python",
   "nbconvert_exporter": "python",
   "pygments_lexer": "ipython3",
   "version": "3.9.12"
  }
 },
 "nbformat": 4,
 "nbformat_minor": 5
}
