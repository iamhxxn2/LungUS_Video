{
 "cells": [
  {
   "cell_type": "markdown",
   "id": "d087489e",
   "metadata": {},
   "source": [
    "# CSV "
   ]
  },
  {
   "cell_type": "code",
   "execution_count": 21,
   "id": "5f7d2b68",
   "metadata": {},
   "outputs": [],
   "source": [
    "import pandas as pd\n",
    "import re"
   ]
  },
  {
   "cell_type": "code",
   "execution_count": 22,
   "id": "e6079774",
   "metadata": {},
   "outputs": [
    {
     "name": "stdout",
     "output_type": "stream",
     "text": [
      "319\n"
     ]
    }
   ],
   "source": [
    "CAUH_df = pd.read_csv('/home/work/LUS/Dataset/CAUH/[External]CAUH.csv', index_col=False)\n",
    "\n",
    "print(len(CAUH_df))"
   ]
  },
  {
   "cell_type": "code",
   "execution_count": 23,
   "id": "b3c45506",
   "metadata": {},
   "outputs": [
    {
     "data": {
      "text/html": [
       "<div>\n",
       "<style scoped>\n",
       "    .dataframe tbody tr th:only-of-type {\n",
       "        vertical-align: middle;\n",
       "    }\n",
       "\n",
       "    .dataframe tbody tr th {\n",
       "        vertical-align: top;\n",
       "    }\n",
       "\n",
       "    .dataframe thead th {\n",
       "        text-align: right;\n",
       "    }\n",
       "</style>\n",
       "<table border=\"1\" class=\"dataframe\">\n",
       "  <thead>\n",
       "    <tr style=\"text-align: right;\">\n",
       "      <th></th>\n",
       "      <th>filename</th>\n",
       "      <th>A</th>\n",
       "      <th>B</th>\n",
       "      <th>Effusion</th>\n",
       "      <th>Consolidation</th>\n",
       "      <th>File_name</th>\n",
       "      <th>File_id</th>\n",
       "      <th>Patient_id</th>\n",
       "    </tr>\n",
       "  </thead>\n",
       "  <tbody>\n",
       "    <tr>\n",
       "      <th>0</th>\n",
       "      <td>1/1_1.png</td>\n",
       "      <td>0</td>\n",
       "      <td>1</td>\n",
       "      <td>1</td>\n",
       "      <td>1</td>\n",
       "      <td>1/1_1</td>\n",
       "      <td>1_1</td>\n",
       "      <td>1</td>\n",
       "    </tr>\n",
       "    <tr>\n",
       "      <th>1</th>\n",
       "      <td>1/2_1.png</td>\n",
       "      <td>1</td>\n",
       "      <td>0</td>\n",
       "      <td>0</td>\n",
       "      <td>0</td>\n",
       "      <td>1/2_1</td>\n",
       "      <td>2_1</td>\n",
       "      <td>1</td>\n",
       "    </tr>\n",
       "    <tr>\n",
       "      <th>2</th>\n",
       "      <td>1/3_1.png</td>\n",
       "      <td>0</td>\n",
       "      <td>1</td>\n",
       "      <td>0</td>\n",
       "      <td>0</td>\n",
       "      <td>1/3_1</td>\n",
       "      <td>3_1</td>\n",
       "      <td>1</td>\n",
       "    </tr>\n",
       "    <tr>\n",
       "      <th>3</th>\n",
       "      <td>1/4_1.png</td>\n",
       "      <td>0</td>\n",
       "      <td>0</td>\n",
       "      <td>0</td>\n",
       "      <td>0</td>\n",
       "      <td>1/4_1</td>\n",
       "      <td>4_1</td>\n",
       "      <td>1</td>\n",
       "    </tr>\n",
       "    <tr>\n",
       "      <th>4</th>\n",
       "      <td>1/5_1.png</td>\n",
       "      <td>0</td>\n",
       "      <td>0</td>\n",
       "      <td>0</td>\n",
       "      <td>0</td>\n",
       "      <td>1/5_1</td>\n",
       "      <td>5_1</td>\n",
       "      <td>1</td>\n",
       "    </tr>\n",
       "  </tbody>\n",
       "</table>\n",
       "</div>"
      ],
      "text/plain": [
       "    filename  A  B  Effusion  Consolidation File_name File_id Patient_id\n",
       "0  1/1_1.png  0  1         1              1     1/1_1     1_1          1\n",
       "1  1/2_1.png  1  0         0              0     1/2_1     2_1          1\n",
       "2  1/3_1.png  0  1         0              0     1/3_1     3_1          1\n",
       "3  1/4_1.png  0  0         0              0     1/4_1     4_1          1\n",
       "4  1/5_1.png  0  0         0              0     1/5_1     5_1          1"
      ]
     },
     "execution_count": 23,
     "metadata": {},
     "output_type": "execute_result"
    }
   ],
   "source": [
    "CAUH_df['File_name'] = [i.split('.')[0] for i in CAUH_df['filename']]\n",
    "CAUH_df['File_id'] = [i.split('/')[1].split('.')[0] for i in CAUH_df['filename']]\n",
    "CAUH_df['Patient_id'] = [i.split('/')[0] for i in CAUH_df['filename']]\n",
    "CAUH_df.head()"
   ]
  },
  {
   "cell_type": "markdown",
   "id": "bd8e60ff",
   "metadata": {},
   "source": [
    "# load png file paths"
   ]
  },
  {
   "cell_type": "code",
   "execution_count": 24,
   "id": "453cd2c0",
   "metadata": {},
   "outputs": [],
   "source": [
    "from tqdm import tqdm"
   ]
  },
  {
   "cell_type": "code",
   "execution_count": 25,
   "id": "8c6082f3",
   "metadata": {},
   "outputs": [],
   "source": [
    "from glob import glob\n",
    "\n",
    "all_png_paths = glob('/home/work/LUS/Dataset/CAUH/CAUH_preprocessed_img/*/*.png')"
   ]
  },
  {
   "cell_type": "code",
   "execution_count": 26,
   "id": "7e9be967",
   "metadata": {},
   "outputs": [
    {
     "name": "stdout",
     "output_type": "stream",
     "text": [
      "318\n"
     ]
    }
   ],
   "source": [
    "print(len(all_png_paths))"
   ]
  },
  {
   "cell_type": "code",
   "execution_count": 27,
   "id": "54e80893",
   "metadata": {},
   "outputs": [
    {
     "data": {
      "text/plain": [
       "'/home/work/LUS/Dataset/CAUH/CAUH_preprocessed_img/1/1_1.png'"
      ]
     },
     "execution_count": 27,
     "metadata": {},
     "output_type": "execute_result"
    }
   ],
   "source": [
    "all_png_paths[0]"
   ]
  },
  {
   "cell_type": "code",
   "execution_count": 28,
   "id": "eaed05ad",
   "metadata": {},
   "outputs": [
    {
     "name": "stderr",
     "output_type": "stream",
     "text": [
      "100% 318/318 [00:00<00:00, 223265.60it/s]\n"
     ]
    }
   ],
   "source": [
    "data2 = []\n",
    "\n",
    "# 이미지 case는 제외하기 위해\n",
    "pattern = re.compile(r'(\\d+_\\d+)_\\d+')\n",
    "\n",
    "for i in tqdm(range(len(all_png_paths))):\n",
    "    Patient_id = all_png_paths[i].split('/')[-2]\n",
    "    File_id = all_png_paths[i].split('/')[-1].split('.')[0]\n",
    "    File_name = f'{Patient_id}/{File_id}'\n",
    "        \n",
    "    data2.append({\n",
    "        'Patient_id': Patient_id,\n",
    "        'File_id' : File_id,\n",
    "        'File_name': File_name\n",
    "    })\n",
    "\n",
    "png_df = pd.DataFrame(data2, columns=['Patient_id', 'File_id', 'File_name'])"
   ]
  },
  {
   "cell_type": "code",
   "execution_count": 29,
   "id": "666985f5",
   "metadata": {},
   "outputs": [
    {
     "data": {
      "text/html": [
       "<div>\n",
       "<style scoped>\n",
       "    .dataframe tbody tr th:only-of-type {\n",
       "        vertical-align: middle;\n",
       "    }\n",
       "\n",
       "    .dataframe tbody tr th {\n",
       "        vertical-align: top;\n",
       "    }\n",
       "\n",
       "    .dataframe thead th {\n",
       "        text-align: right;\n",
       "    }\n",
       "</style>\n",
       "<table border=\"1\" class=\"dataframe\">\n",
       "  <thead>\n",
       "    <tr style=\"text-align: right;\">\n",
       "      <th></th>\n",
       "      <th>Patient_id</th>\n",
       "      <th>File_id</th>\n",
       "      <th>File_name</th>\n",
       "    </tr>\n",
       "  </thead>\n",
       "  <tbody>\n",
       "    <tr>\n",
       "      <th>0</th>\n",
       "      <td>1</td>\n",
       "      <td>1_1</td>\n",
       "      <td>1/1_1</td>\n",
       "    </tr>\n",
       "    <tr>\n",
       "      <th>1</th>\n",
       "      <td>1</td>\n",
       "      <td>2_1</td>\n",
       "      <td>1/2_1</td>\n",
       "    </tr>\n",
       "    <tr>\n",
       "      <th>2</th>\n",
       "      <td>1</td>\n",
       "      <td>3_1</td>\n",
       "      <td>1/3_1</td>\n",
       "    </tr>\n",
       "    <tr>\n",
       "      <th>3</th>\n",
       "      <td>1</td>\n",
       "      <td>4_1</td>\n",
       "      <td>1/4_1</td>\n",
       "    </tr>\n",
       "    <tr>\n",
       "      <th>4</th>\n",
       "      <td>1</td>\n",
       "      <td>5_1</td>\n",
       "      <td>1/5_1</td>\n",
       "    </tr>\n",
       "  </tbody>\n",
       "</table>\n",
       "</div>"
      ],
      "text/plain": [
       "  Patient_id File_id File_name\n",
       "0          1     1_1     1/1_1\n",
       "1          1     2_1     1/2_1\n",
       "2          1     3_1     1/3_1\n",
       "3          1     4_1     1/4_1\n",
       "4          1     5_1     1/5_1"
      ]
     },
     "execution_count": 29,
     "metadata": {},
     "output_type": "execute_result"
    }
   ],
   "source": [
    "png_df.head()"
   ]
  },
  {
   "cell_type": "markdown",
   "id": "98105e3e",
   "metadata": {},
   "source": [
    "# png csv, labeling csv merge"
   ]
  },
  {
   "cell_type": "code",
   "execution_count": 30,
   "id": "2888018e",
   "metadata": {},
   "outputs": [
    {
     "name": "stdout",
     "output_type": "stream",
     "text": [
      "CAUH image 개수: 318\n"
     ]
    },
    {
     "data": {
      "text/html": [
       "<div>\n",
       "<style scoped>\n",
       "    .dataframe tbody tr th:only-of-type {\n",
       "        vertical-align: middle;\n",
       "    }\n",
       "\n",
       "    .dataframe tbody tr th {\n",
       "        vertical-align: top;\n",
       "    }\n",
       "\n",
       "    .dataframe thead th {\n",
       "        text-align: right;\n",
       "    }\n",
       "</style>\n",
       "<table border=\"1\" class=\"dataframe\">\n",
       "  <thead>\n",
       "    <tr style=\"text-align: right;\">\n",
       "      <th></th>\n",
       "      <th>filename</th>\n",
       "      <th>A</th>\n",
       "      <th>B</th>\n",
       "      <th>Effusion</th>\n",
       "      <th>Consolidation</th>\n",
       "      <th>File_name</th>\n",
       "      <th>File_id</th>\n",
       "      <th>Patient_id</th>\n",
       "    </tr>\n",
       "  </thead>\n",
       "  <tbody>\n",
       "    <tr>\n",
       "      <th>0</th>\n",
       "      <td>1/1_1.png</td>\n",
       "      <td>0</td>\n",
       "      <td>1</td>\n",
       "      <td>1</td>\n",
       "      <td>1</td>\n",
       "      <td>1/1_1</td>\n",
       "      <td>1_1</td>\n",
       "      <td>1</td>\n",
       "    </tr>\n",
       "    <tr>\n",
       "      <th>1</th>\n",
       "      <td>1/2_1.png</td>\n",
       "      <td>1</td>\n",
       "      <td>0</td>\n",
       "      <td>0</td>\n",
       "      <td>0</td>\n",
       "      <td>1/2_1</td>\n",
       "      <td>2_1</td>\n",
       "      <td>1</td>\n",
       "    </tr>\n",
       "    <tr>\n",
       "      <th>2</th>\n",
       "      <td>1/3_1.png</td>\n",
       "      <td>0</td>\n",
       "      <td>1</td>\n",
       "      <td>0</td>\n",
       "      <td>0</td>\n",
       "      <td>1/3_1</td>\n",
       "      <td>3_1</td>\n",
       "      <td>1</td>\n",
       "    </tr>\n",
       "    <tr>\n",
       "      <th>3</th>\n",
       "      <td>1/4_1.png</td>\n",
       "      <td>0</td>\n",
       "      <td>0</td>\n",
       "      <td>0</td>\n",
       "      <td>0</td>\n",
       "      <td>1/4_1</td>\n",
       "      <td>4_1</td>\n",
       "      <td>1</td>\n",
       "    </tr>\n",
       "    <tr>\n",
       "      <th>4</th>\n",
       "      <td>1/5_1.png</td>\n",
       "      <td>0</td>\n",
       "      <td>0</td>\n",
       "      <td>0</td>\n",
       "      <td>0</td>\n",
       "      <td>1/5_1</td>\n",
       "      <td>5_1</td>\n",
       "      <td>1</td>\n",
       "    </tr>\n",
       "  </tbody>\n",
       "</table>\n",
       "</div>"
      ],
      "text/plain": [
       "    filename  A  B  Effusion  Consolidation File_name File_id Patient_id\n",
       "0  1/1_1.png  0  1         1              1     1/1_1     1_1          1\n",
       "1  1/2_1.png  1  0         0              0     1/2_1     2_1          1\n",
       "2  1/3_1.png  0  1         0              0     1/3_1     3_1          1\n",
       "3  1/4_1.png  0  0         0              0     1/4_1     4_1          1\n",
       "4  1/5_1.png  0  0         0              0     1/5_1     5_1          1"
      ]
     },
     "execution_count": 30,
     "metadata": {},
     "output_type": "execute_result"
    }
   ],
   "source": [
    "# 데이터프레임 merge\n",
    "CAUH_merged_df = pd.merge(CAUH_df, png_df, on='File_name', how='inner', suffixes=('', '_drop'))\n",
    "\n",
    "columns_to_drop = [col for col in CAUH_merged_df.columns if col.endswith('_drop')]\n",
    "CAUH_merged_df = CAUH_merged_df.drop(columns=columns_to_drop)\n",
    "\n",
    "print(f\"CAUH image 개수: {len(CAUH_merged_df)}\")\n",
    "CAUH_merged_df.head()"
   ]
  },
  {
   "cell_type": "code",
   "execution_count": 31,
   "id": "a2f4cb01",
   "metadata": {},
   "outputs": [
    {
     "data": {
      "text/plain": [
       "318"
      ]
     },
     "execution_count": 31,
     "metadata": {},
     "output_type": "execute_result"
    }
   ],
   "source": [
    "len(CAUH_merged_df)"
   ]
  },
  {
   "cell_type": "code",
   "execution_count": 32,
   "id": "3c745339",
   "metadata": {},
   "outputs": [],
   "source": [
    "def create_path(row):\n",
    "    root_path = \"/home/work/LUS/Dataset/CAUH/CAUH_preprocessed_img\"\n",
    "    patient_id = int(row['Patient_id'])\n",
    "    File_id = row['File_id']\n",
    "    return f\"{root_path}/{patient_id}/{File_id}.png\""
   ]
  },
  {
   "cell_type": "code",
   "execution_count": 33,
   "id": "7dcae054",
   "metadata": {},
   "outputs": [
    {
     "name": "stdout",
     "output_type": "stream",
     "text": [
      "/home/work/LUS/Dataset/CAUH/CAUH_preprocessed_img/1/1_1.png\n"
     ]
    }
   ],
   "source": [
    "CAUH_merged_df['img_path'] = CAUH_merged_df.apply(create_path, axis=1)\n",
    "\n",
    "print(CAUH_merged_df.iloc[0]['img_path'])"
   ]
  },
  {
   "cell_type": "code",
   "execution_count": 34,
   "id": "48920340",
   "metadata": {},
   "outputs": [],
   "source": [
    "score_cols = {'A':0, \n",
    "              'B':1, \n",
    "              'Consolidation':3, \n",
    "              'Effusion':3}\n",
    "\n",
    "def assign_LUS_score(row):\n",
    "    # 각 레이블에 대해 점수 계산\n",
    "    scores = []\n",
    "    for label, score in score_cols.items():\n",
    "        if row[label] > 0:  # 레이블이 존재하는 경우\n",
    "            scores.append(score)\n",
    "    # 가장 높은 점수 반환, 레이블이 없는 경우 기본값으로 가장 낮은 점수 할당\n",
    "    return max(scores) if scores else 4"
   ]
  },
  {
   "cell_type": "code",
   "execution_count": 35,
   "id": "14af4c63",
   "metadata": {},
   "outputs": [],
   "source": [
    "CAUH_merged_df['Lung ultrasound score_lbl'] = CAUH_merged_df.apply(assign_LUS_score, axis=1)"
   ]
  },
  {
   "cell_type": "code",
   "execution_count": 36,
   "id": "84985b40",
   "metadata": {},
   "outputs": [],
   "source": [
    "import matplotlib.pyplot as plt\n",
    "import seaborn as sns"
   ]
  },
  {
   "cell_type": "code",
   "execution_count": 37,
   "id": "c9e48ba3",
   "metadata": {},
   "outputs": [],
   "source": [
    "value_counts = CAUH_merged_df['Lung ultrasound score_lbl'].value_counts().sort_index()"
   ]
  },
  {
   "cell_type": "code",
   "execution_count": 38,
   "id": "43e6203a",
   "metadata": {},
   "outputs": [
    {
     "data": {
      "image/png": "[encoded data removed]",
      "text/plain": [
       "<Figure size 1200x600 with 1 Axes>"
      ]
     },
     "metadata": {},
     "output_type": "display_data"
    }
   ],
   "source": [
    "plt.figure(figsize=(12, 6))\n",
    "bars = plt.bar(value_counts.index, value_counts.values)\n",
    "for bar in bars:\n",
    "    height = bar.get_height()\n",
    "    plt.text(bar.get_x() + bar.get_width()/2., height,\n",
    "             f'{height}',\n",
    "             ha='center', va='bottom')\n",
    "\n",
    "plt.title('Distribution of Lung Ultrasound Scores')\n",
    "plt.xlabel('Lung Ultrasound Score')\n",
    "plt.ylabel('counts')\n",
    "plt.xticks(rotation=0) \n",
    "plt.grid(axis='y', linestyle='--', alpha=0.7)\n",
    "\n",
    "# Total frame 수 계산\n",
    "total_frames = value_counts.sum()\n",
    "\n",
    "# Total frame 수를 그래프 왼쪽 위에 표시\n",
    "plt.text(0.02, 0.98, f'Total Frames: {total_frames}', \n",
    "         transform=plt.gca().transAxes,\n",
    "         verticalalignment='top', horizontalalignment='right',\n",
    "         fontsize=10, fontweight='bold')\n",
    "\n",
    "plt.tight_layout()\n",
    "plt.show()"
   ]
  },
  {
   "cell_type": "markdown",
   "id": "445b216d",
   "metadata": {},
   "source": [
    "- 5 artifacts\n",
    "    - A-line / B-line / confluent B-line / Consolidation / Effusion"
   ]
  },
  {
   "cell_type": "code",
   "execution_count": 39,
   "id": "867397d6",
   "metadata": {},
   "outputs": [
    {
     "name": "stdout",
     "output_type": "stream",
     "text": [
      "318\n",
      "315\n",
      "3\n"
     ]
    }
   ],
   "source": [
    "# score 4 제외\n",
    "class_5_new_df = CAUH_merged_df[CAUH_merged_df['Lung ultrasound score_lbl'] != 4]\n",
    "\n",
    "print(len(CAUH_merged_df))\n",
    "print(len(class_5_new_df))\n",
    "print(len(CAUH_merged_df[CAUH_merged_df['Lung ultrasound score_lbl'] == 4]))"
   ]
  },
  {
   "cell_type": "code",
   "execution_count": 41,
   "id": "7d1dd1ec",
   "metadata": {},
   "outputs": [],
   "source": [
    "import os\n",
    "\n",
    "if not os.path.exists(f'/home/work/LUS/Dataset/csv_files/CAUH/4_artifacts'):\n",
    "    os.makedirs(f'/home/work/LUS/Dataset/csv_files/CAUH/4_artifacts')\n",
    "class_5_new_df.to_csv(f\"/home/work/LUS/Dataset/csv_files/CAUH/4_artifacts/CAUH_all_test.csv\", index=False)"
   ]
  },
  {
   "cell_type": "code",
   "execution_count": 42,
   "id": "08346ace",
   "metadata": {},
   "outputs": [
    {
     "data": {
      "text/html": [
       "<div>\n",
       "<style scoped>\n",
       "    .dataframe tbody tr th:only-of-type {\n",
       "        vertical-align: middle;\n",
       "    }\n",
       "\n",
       "    .dataframe tbody tr th {\n",
       "        vertical-align: top;\n",
       "    }\n",
       "\n",
       "    .dataframe thead th {\n",
       "        text-align: right;\n",
       "    }\n",
       "</style>\n",
       "<table border=\"1\" class=\"dataframe\">\n",
       "  <thead>\n",
       "    <tr style=\"text-align: right;\">\n",
       "      <th></th>\n",
       "      <th>filename</th>\n",
       "      <th>A</th>\n",
       "      <th>B</th>\n",
       "      <th>Effusion</th>\n",
       "      <th>Consolidation</th>\n",
       "      <th>File_name</th>\n",
       "      <th>File_id</th>\n",
       "      <th>Patient_id</th>\n",
       "      <th>img_path</th>\n",
       "      <th>Lung ultrasound score_lbl</th>\n",
       "    </tr>\n",
       "  </thead>\n",
       "  <tbody>\n",
       "    <tr>\n",
       "      <th>0</th>\n",
       "      <td>1/1_1.png</td>\n",
       "      <td>0</td>\n",
       "      <td>1</td>\n",
       "      <td>1</td>\n",
       "      <td>1</td>\n",
       "      <td>1/1_1</td>\n",
       "      <td>1_1</td>\n",
       "      <td>1</td>\n",
       "      <td>/home/work/LUS/Dataset/CAUH/CAUH_preprocessed_...</td>\n",
       "      <td>3</td>\n",
       "    </tr>\n",
       "    <tr>\n",
       "      <th>1</th>\n",
       "      <td>1/2_1.png</td>\n",
       "      <td>1</td>\n",
       "      <td>0</td>\n",
       "      <td>0</td>\n",
       "      <td>0</td>\n",
       "      <td>1/2_1</td>\n",
       "      <td>2_1</td>\n",
       "      <td>1</td>\n",
       "      <td>/home/work/LUS/Dataset/CAUH/CAUH_preprocessed_...</td>\n",
       "      <td>0</td>\n",
       "    </tr>\n",
       "    <tr>\n",
       "      <th>2</th>\n",
       "      <td>1/3_1.png</td>\n",
       "      <td>0</td>\n",
       "      <td>1</td>\n",
       "      <td>0</td>\n",
       "      <td>0</td>\n",
       "      <td>1/3_1</td>\n",
       "      <td>3_1</td>\n",
       "      <td>1</td>\n",
       "      <td>/home/work/LUS/Dataset/CAUH/CAUH_preprocessed_...</td>\n",
       "      <td>1</td>\n",
       "    </tr>\n",
       "    <tr>\n",
       "      <th>5</th>\n",
       "      <td>1/6_1.png</td>\n",
       "      <td>1</td>\n",
       "      <td>0</td>\n",
       "      <td>0</td>\n",
       "      <td>0</td>\n",
       "      <td>1/6_1</td>\n",
       "      <td>6_1</td>\n",
       "      <td>1</td>\n",
       "      <td>/home/work/LUS/Dataset/CAUH/CAUH_preprocessed_...</td>\n",
       "      <td>0</td>\n",
       "    </tr>\n",
       "    <tr>\n",
       "      <th>6</th>\n",
       "      <td>10/1_1.png</td>\n",
       "      <td>0</td>\n",
       "      <td>0</td>\n",
       "      <td>1</td>\n",
       "      <td>1</td>\n",
       "      <td>10/1_1</td>\n",
       "      <td>1_1</td>\n",
       "      <td>10</td>\n",
       "      <td>/home/work/LUS/Dataset/CAUH/CAUH_preprocessed_...</td>\n",
       "      <td>3</td>\n",
       "    </tr>\n",
       "    <tr>\n",
       "      <th>...</th>\n",
       "      <td>...</td>\n",
       "      <td>...</td>\n",
       "      <td>...</td>\n",
       "      <td>...</td>\n",
       "      <td>...</td>\n",
       "      <td>...</td>\n",
       "      <td>...</td>\n",
       "      <td>...</td>\n",
       "      <td>...</td>\n",
       "      <td>...</td>\n",
       "    </tr>\n",
       "    <tr>\n",
       "      <th>313</th>\n",
       "      <td>7/5_1.png</td>\n",
       "      <td>1</td>\n",
       "      <td>0</td>\n",
       "      <td>0</td>\n",
       "      <td>0</td>\n",
       "      <td>7/5_1</td>\n",
       "      <td>5_1</td>\n",
       "      <td>7</td>\n",
       "      <td>/home/work/LUS/Dataset/CAUH/CAUH_preprocessed_...</td>\n",
       "      <td>0</td>\n",
       "    </tr>\n",
       "    <tr>\n",
       "      <th>314</th>\n",
       "      <td>7/6_1.png</td>\n",
       "      <td>0</td>\n",
       "      <td>1</td>\n",
       "      <td>0</td>\n",
       "      <td>0</td>\n",
       "      <td>7/6_1</td>\n",
       "      <td>6_1</td>\n",
       "      <td>7</td>\n",
       "      <td>/home/work/LUS/Dataset/CAUH/CAUH_preprocessed_...</td>\n",
       "      <td>1</td>\n",
       "    </tr>\n",
       "    <tr>\n",
       "      <th>315</th>\n",
       "      <td>8/1_1.png</td>\n",
       "      <td>0</td>\n",
       "      <td>0</td>\n",
       "      <td>1</td>\n",
       "      <td>1</td>\n",
       "      <td>8/1_1</td>\n",
       "      <td>1_1</td>\n",
       "      <td>8</td>\n",
       "      <td>/home/work/LUS/Dataset/CAUH/CAUH_preprocessed_...</td>\n",
       "      <td>3</td>\n",
       "    </tr>\n",
       "    <tr>\n",
       "      <th>316</th>\n",
       "      <td>9/1_1.png</td>\n",
       "      <td>0</td>\n",
       "      <td>0</td>\n",
       "      <td>1</td>\n",
       "      <td>0</td>\n",
       "      <td>9/1_1</td>\n",
       "      <td>1_1</td>\n",
       "      <td>9</td>\n",
       "      <td>/home/work/LUS/Dataset/CAUH/CAUH_preprocessed_...</td>\n",
       "      <td>3</td>\n",
       "    </tr>\n",
       "    <tr>\n",
       "      <th>317</th>\n",
       "      <td>9/2_1.png</td>\n",
       "      <td>0</td>\n",
       "      <td>0</td>\n",
       "      <td>1</td>\n",
       "      <td>0</td>\n",
       "      <td>9/2_1</td>\n",
       "      <td>2_1</td>\n",
       "      <td>9</td>\n",
       "      <td>/home/work/LUS/Dataset/CAUH/CAUH_preprocessed_...</td>\n",
       "      <td>3</td>\n",
       "    </tr>\n",
       "  </tbody>\n",
       "</table>\n",
       "<p>315 rows × 10 columns</p>\n",
       "</div>"
      ],
      "text/plain": [
       "       filename  A  B  Effusion  Consolidation File_name File_id Patient_id  \\\n",
       "0     1/1_1.png  0  1         1              1     1/1_1     1_1          1   \n",
       "1     1/2_1.png  1  0         0              0     1/2_1     2_1          1   \n",
       "2     1/3_1.png  0  1         0              0     1/3_1     3_1          1   \n",
       "5     1/6_1.png  1  0         0              0     1/6_1     6_1          1   \n",
       "6    10/1_1.png  0  0         1              1    10/1_1     1_1         10   \n",
       "..          ... .. ..       ...            ...       ...     ...        ...   \n",
       "313   7/5_1.png  1  0         0              0     7/5_1     5_1          7   \n",
       "314   7/6_1.png  0  1         0              0     7/6_1     6_1          7   \n",
       "315   8/1_1.png  0  0         1              1     8/1_1     1_1          8   \n",
       "316   9/1_1.png  0  0         1              0     9/1_1     1_1          9   \n",
       "317   9/2_1.png  0  0         1              0     9/2_1     2_1          9   \n",
       "\n",
       "                                              img_path  \\\n",
       "0    /home/work/LUS/Dataset/CAUH/CAUH_preprocessed_...   \n",
       "1    /home/work/LUS/Dataset/CAUH/CAUH_preprocessed_...   \n",
       "2    /home/work/LUS/Dataset/CAUH/CAUH_preprocessed_...   \n",
       "5    /home/work/LUS/Dataset/CAUH/CAUH_preprocessed_...   \n",
       "6    /home/work/LUS/Dataset/CAUH/CAUH_preprocessed_...   \n",
       "..                                                 ...   \n",
       "313  /home/work/LUS/Dataset/CAUH/CAUH_preprocessed_...   \n",
       "314  /home/work/LUS/Dataset/CAUH/CAUH_preprocessed_...   \n",
       "315  /home/work/LUS/Dataset/CAUH/CAUH_preprocessed_...   \n",
       "316  /home/work/LUS/Dataset/CAUH/CAUH_preprocessed_...   \n",
       "317  /home/work/LUS/Dataset/CAUH/CAUH_preprocessed_...   \n",
       "\n",
       "     Lung ultrasound score_lbl  \n",
       "0                            3  \n",
       "1                            0  \n",
       "2                            1  \n",
       "5                            0  \n",
       "6                            3  \n",
       "..                         ...  \n",
       "313                          0  \n",
       "314                          1  \n",
       "315                          3  \n",
       "316                          3  \n",
       "317                          3  \n",
       "\n",
       "[315 rows x 10 columns]"
      ]
     },
     "execution_count": 42,
     "metadata": {},
     "output_type": "execute_result"
    }
   ],
   "source": [
    "class_5_new_df"
   ]
  },
  {
   "cell_type": "code",
   "execution_count": 43,
   "id": "2ad7c079",
   "metadata": {},
   "outputs": [
    {
     "data": {
      "text/plain": [
       "'/home/work/LUS/Dataset/CAUH/CAUH_preprocessed_img/1/1_1.png'"
      ]
     },
     "execution_count": 43,
     "metadata": {},
     "output_type": "execute_result"
    }
   ],
   "source": [
    "class_5_new_df['img_path'].iloc[0]"
   ]
  },
  {
   "cell_type": "markdown",
   "id": "0c7c140f",
   "metadata": {},
   "source": [
    "# linear probe image 제거 version\n",
    "- linear probe image 제거 : 37 frames"
   ]
  },
  {
   "cell_type": "code",
   "execution_count": 44,
   "id": "3592e169",
   "metadata": {},
   "outputs": [],
   "source": [
    "from glob import glob\n",
    "\n",
    "no_linear_png_paths = glob('/home/work/LUS/Dataset/CAUH/CAUH_preprocessed_img_no_linear/*/*.png')"
   ]
  },
  {
   "cell_type": "code",
   "execution_count": 46,
   "id": "c70b88d4",
   "metadata": {},
   "outputs": [
    {
     "name": "stdout",
     "output_type": "stream",
     "text": [
      "276\n"
     ]
    }
   ],
   "source": [
    "print(len(no_linear_png_paths))"
   ]
  },
  {
   "cell_type": "code",
   "execution_count": 47,
   "id": "393ce3e6",
   "metadata": {},
   "outputs": [
    {
     "name": "stderr",
     "output_type": "stream",
     "text": [
      "100% 276/276 [00:00<00:00, 259325.25it/s]\n"
     ]
    }
   ],
   "source": [
    "data2 = []\n",
    "\n",
    "# 이미지 case는 제외하기 위해\n",
    "pattern = re.compile(r'(\\d+_\\d+)_\\d+')\n",
    "\n",
    "for i in tqdm(range(len(no_linear_png_paths))):\n",
    "    Patient_id = no_linear_png_paths[i].split('/')[-2]\n",
    "    File_id = no_linear_png_paths[i].split('/')[-1].split('.')[0]\n",
    "    File_name = f'{Patient_id}/{File_id}'\n",
    "        \n",
    "    data2.append({\n",
    "        'Patient_id': Patient_id,\n",
    "        'File_id' : File_id,\n",
    "        'File_name': File_name\n",
    "    })\n",
    "\n",
    "no_linear_png_df = pd.DataFrame(data2, columns=['Patient_id', 'File_id', 'File_name'])"
   ]
  },
  {
   "cell_type": "code",
   "execution_count": 48,
   "id": "7515b85b",
   "metadata": {},
   "outputs": [
    {
     "name": "stdout",
     "output_type": "stream",
     "text": [
      "no_linear_CAUH image 개수: 276\n"
     ]
    },
    {
     "data": {
      "text/html": [
       "<div>\n",
       "<style scoped>\n",
       "    .dataframe tbody tr th:only-of-type {\n",
       "        vertical-align: middle;\n",
       "    }\n",
       "\n",
       "    .dataframe tbody tr th {\n",
       "        vertical-align: top;\n",
       "    }\n",
       "\n",
       "    .dataframe thead th {\n",
       "        text-align: right;\n",
       "    }\n",
       "</style>\n",
       "<table border=\"1\" class=\"dataframe\">\n",
       "  <thead>\n",
       "    <tr style=\"text-align: right;\">\n",
       "      <th></th>\n",
       "      <th>filename</th>\n",
       "      <th>A</th>\n",
       "      <th>B</th>\n",
       "      <th>Effusion</th>\n",
       "      <th>Consolidation</th>\n",
       "      <th>File_name</th>\n",
       "      <th>File_id</th>\n",
       "      <th>Patient_id</th>\n",
       "    </tr>\n",
       "  </thead>\n",
       "  <tbody>\n",
       "    <tr>\n",
       "      <th>0</th>\n",
       "      <td>1/1_1.png</td>\n",
       "      <td>0</td>\n",
       "      <td>1</td>\n",
       "      <td>1</td>\n",
       "      <td>1</td>\n",
       "      <td>1/1_1</td>\n",
       "      <td>1_1</td>\n",
       "      <td>1</td>\n",
       "    </tr>\n",
       "    <tr>\n",
       "      <th>1</th>\n",
       "      <td>1/2_1.png</td>\n",
       "      <td>1</td>\n",
       "      <td>0</td>\n",
       "      <td>0</td>\n",
       "      <td>0</td>\n",
       "      <td>1/2_1</td>\n",
       "      <td>2_1</td>\n",
       "      <td>1</td>\n",
       "    </tr>\n",
       "    <tr>\n",
       "      <th>2</th>\n",
       "      <td>1/3_1.png</td>\n",
       "      <td>0</td>\n",
       "      <td>1</td>\n",
       "      <td>0</td>\n",
       "      <td>0</td>\n",
       "      <td>1/3_1</td>\n",
       "      <td>3_1</td>\n",
       "      <td>1</td>\n",
       "    </tr>\n",
       "    <tr>\n",
       "      <th>3</th>\n",
       "      <td>1/4_1.png</td>\n",
       "      <td>0</td>\n",
       "      <td>0</td>\n",
       "      <td>0</td>\n",
       "      <td>0</td>\n",
       "      <td>1/4_1</td>\n",
       "      <td>4_1</td>\n",
       "      <td>1</td>\n",
       "    </tr>\n",
       "    <tr>\n",
       "      <th>4</th>\n",
       "      <td>1/5_1.png</td>\n",
       "      <td>0</td>\n",
       "      <td>0</td>\n",
       "      <td>0</td>\n",
       "      <td>0</td>\n",
       "      <td>1/5_1</td>\n",
       "      <td>5_1</td>\n",
       "      <td>1</td>\n",
       "    </tr>\n",
       "  </tbody>\n",
       "</table>\n",
       "</div>"
      ],
      "text/plain": [
       "    filename  A  B  Effusion  Consolidation File_name File_id Patient_id\n",
       "0  1/1_1.png  0  1         1              1     1/1_1     1_1          1\n",
       "1  1/2_1.png  1  0         0              0     1/2_1     2_1          1\n",
       "2  1/3_1.png  0  1         0              0     1/3_1     3_1          1\n",
       "3  1/4_1.png  0  0         0              0     1/4_1     4_1          1\n",
       "4  1/5_1.png  0  0         0              0     1/5_1     5_1          1"
      ]
     },
     "execution_count": 48,
     "metadata": {},
     "output_type": "execute_result"
    }
   ],
   "source": [
    "# 데이터프레임 merge\n",
    "no_linear_CAUH_merged_df = pd.merge(CAUH_df, no_linear_png_df, on='File_name', how='inner', suffixes=('', '_drop'))\n",
    "\n",
    "columns_to_drop = [col for col in no_linear_CAUH_merged_df.columns if col.endswith('_drop')]\n",
    "no_linear_CAUH_merged_df = no_linear_CAUH_merged_df.drop(columns=columns_to_drop)\n",
    "\n",
    "print(f\"no_linear_CAUH image 개수: {len(no_linear_CAUH_merged_df)}\")\n",
    "no_linear_CAUH_merged_df.head()"
   ]
  },
  {
   "cell_type": "code",
   "execution_count": 49,
   "id": "f0ffcb73",
   "metadata": {},
   "outputs": [],
   "source": [
    "def create_path(row):\n",
    "    root_path = \"/home/work/LUS/Dataset/CAUH/CAUH_preprocessed_img\"\n",
    "    patient_id = int(row['Patient_id'])\n",
    "    File_id = row['File_id']\n",
    "    return f\"{root_path}/{patient_id}/{File_id}.png\""
   ]
  },
  {
   "cell_type": "code",
   "execution_count": 51,
   "id": "7b14ac29",
   "metadata": {},
   "outputs": [
    {
     "name": "stdout",
     "output_type": "stream",
     "text": [
      "/home/work/LUS/Dataset/CAUH/CAUH_preprocessed_img/1/1_1.png\n"
     ]
    }
   ],
   "source": [
    "no_linear_CAUH_merged_df['img_path'] = no_linear_CAUH_merged_df.apply(create_path, axis=1)\n",
    "\n",
    "print(no_linear_CAUH_merged_df.iloc[0]['img_path'])"
   ]
  },
  {
   "cell_type": "code",
   "execution_count": 52,
   "id": "417d5f13",
   "metadata": {},
   "outputs": [],
   "source": [
    "score_cols = {'A':0, \n",
    "              'B':1, \n",
    "              'Consolidation':3, \n",
    "              'Effusion':3}\n",
    "\n",
    "def assign_LUS_score(row):\n",
    "    # 각 레이블에 대해 점수 계산\n",
    "    scores = []\n",
    "    for label, score in score_cols.items():\n",
    "        if row[label] > 0:  # 레이블이 존재하는 경우\n",
    "            scores.append(score)\n",
    "    # 가장 높은 점수 반환, 레이블이 없는 경우 기본값으로 가장 낮은 점수 할당\n",
    "    return max(scores) if scores else 4"
   ]
  },
  {
   "cell_type": "code",
   "execution_count": 53,
   "id": "aa505520",
   "metadata": {},
   "outputs": [],
   "source": [
    "no_linear_CAUH_merged_df['Lung ultrasound score_lbl'] = no_linear_CAUH_merged_df.apply(assign_LUS_score, axis=1)"
   ]
  },
  {
   "cell_type": "code",
   "execution_count": 54,
   "id": "c6a3cec9",
   "metadata": {},
   "outputs": [],
   "source": [
    "value_counts = no_linear_CAUH_merged_df['Lung ultrasound score_lbl'].value_counts().sort_index()"
   ]
  },
  {
   "cell_type": "code",
   "execution_count": 55,
   "id": "1e3ea338",
   "metadata": {},
   "outputs": [
    {
     "data": {
      "image/png": "[encoded data removed]",
      "text/plain": [
       "<Figure size 1200x600 with 1 Axes>"
      ]
     },
     "metadata": {},
     "output_type": "display_data"
    }
   ],
   "source": [
    "plt.figure(figsize=(12, 6))\n",
    "bars = plt.bar(value_counts.index, value_counts.values)\n",
    "for bar in bars:\n",
    "    height = bar.get_height()\n",
    "    plt.text(bar.get_x() + bar.get_width()/2., height,\n",
    "             f'{height}',\n",
    "             ha='center', va='bottom')\n",
    "\n",
    "plt.title('Distribution of Lung Ultrasound Scores')\n",
    "plt.xlabel('Lung Ultrasound Score')\n",
    "plt.ylabel('counts')\n",
    "plt.xticks(rotation=0) \n",
    "plt.grid(axis='y', linestyle='--', alpha=0.7)\n",
    "\n",
    "# Total frame 수 계산\n",
    "total_frames = value_counts.sum()\n",
    "\n",
    "# Total frame 수를 그래프 왼쪽 위에 표시\n",
    "plt.text(0.02, 0.98, f'Total Frames: {total_frames}', \n",
    "         transform=plt.gca().transAxes,\n",
    "         verticalalignment='top', horizontalalignment='right',\n",
    "         fontsize=10, fontweight='bold')\n",
    "\n",
    "plt.tight_layout()\n",
    "plt.show()"
   ]
  },
  {
   "cell_type": "code",
   "execution_count": 56,
   "id": "5c6e6aa2",
   "metadata": {},
   "outputs": [
    {
     "name": "stdout",
     "output_type": "stream",
     "text": [
      "276\n",
      "273\n",
      "3\n"
     ]
    }
   ],
   "source": [
    "# score 4 제외\n",
    "no_linear_class_5_new_df = no_linear_CAUH_merged_df[no_linear_CAUH_merged_df['Lung ultrasound score_lbl'] != 4]\n",
    "\n",
    "print(len(no_linear_CAUH_merged_df))\n",
    "print(len(no_linear_class_5_new_df))\n",
    "print(len(no_linear_CAUH_merged_df[no_linear_CAUH_merged_df['Lung ultrasound score_lbl'] == 4]))"
   ]
  },
  {
   "cell_type": "code",
   "execution_count": 57,
   "id": "67da454a",
   "metadata": {},
   "outputs": [],
   "source": [
    "import os\n",
    "\n",
    "if not os.path.exists(f'/home/work/LUS/Dataset/csv_files/CAUH/4_artifacts'):\n",
    "    os.makedirs(f'/home/work/LUS/Dataset/csv_files/CAUH/4_artifacts')\n",
    "no_linear_class_5_new_df.to_csv(f\"/home/work/LUS/Dataset/csv_files/CAUH/4_artifacts/CAUH_no_linear_test.csv\", index=False)"
   ]
  },
  {
   "cell_type": "code",
   "execution_count": null,
   "id": "3a780553",
   "metadata": {},
   "outputs": [],
   "source": []
  }
 ],
 "metadata": {
  "kernelspec": {
   "display_name": "PyTorch 2.2 (NGC 23.11/Python 3.10) on Backend.AI",
   "language": "python",
   "name": "python3"
  },
  "language_info": {
   "codemirror_mode": {
    "name": "ipython",
    "version": 3
   },
   "file_extension": ".py",
   "mimetype": "text/x-python",
   "name": "python",
   "nbconvert_exporter": "python",
   "pygments_lexer": "ipython3",
   "version": "3.10.12"
  }
 },
 "nbformat": 4,
 "nbformat_minor": 5
}
