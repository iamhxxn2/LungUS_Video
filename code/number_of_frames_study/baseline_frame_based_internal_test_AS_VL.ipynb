{
 "cells": [
  {
   "cell_type": "markdown",
   "id": "88015796",
   "metadata": {},
   "source": [
    "https://www.kaggle.com/code/satishgunjal/binary-multiclass-classification-using-sklearn"
   ]
  },
  {
   "cell_type": "code",
   "execution_count": 1,
   "id": "036b6a68",
   "metadata": {},
   "outputs": [],
   "source": [
    "import os\n",
    "import wandb\n",
    "\n",
    "import numpy as np\n",
    "import pandas as pd\n",
    "import matplotlib.pyplot as plt\n",
    "import csv\n",
    "\n",
    "import pickle\n",
    "from tqdm import tqdm\n",
    "\n",
    "import torch\n",
    "import torch.nn as nn\n",
    "import torch.optim as optim\n",
    "import torchvision\n",
    "from torchvision import models\n",
    "from torch.utils.data import DataLoader\n",
    "import random\n",
    "import torch.nn.functional as F\n",
    "\n",
    "# from Dataset_ML import *\n",
    "from Dataset_ML_AS_VL import *\n",
    "from utils_ML_AS_VL import *\n",
    "\n",
    "from models import *\n",
    "import timm\n",
    "\n",
    "from sklearn.metrics import classification_report, confusion_matrix, accuracy_score\n",
    "from sklearn.metrics import roc_auc_score\n",
    "from sklearn import metrics\n",
    "from sklearn.metrics import roc_curve\n",
    "\n",
    "import math\n",
    "from sklearn.preprocessing import OneHotEncoder"
   ]
  },
  {
   "cell_type": "code",
   "execution_count": 2,
   "id": "28a1af54",
   "metadata": {},
   "outputs": [],
   "source": [
    "import timm"
   ]
  },
  {
   "cell_type": "code",
   "execution_count": 3,
   "id": "fd15eb41",
   "metadata": {},
   "outputs": [],
   "source": [
    "def set_all_seeds(SEED):\n",
    "    # REPRODUCIBILITY\n",
    "    torch.manual_seed(SEED)\n",
    "    torch.cuda.manual_seed(SEED)\n",
    "    torch.cuda.manual_seed_all(SEED)\n",
    "    torch.backends.cudnn.deterministic = True\n",
    "    torch.backends.cudnn.benchmark = False\n",
    "    np.random.seed(SEED)\n",
    "    random.seed(SEED)"
   ]
  },
  {
   "cell_type": "code",
   "execution_count": 4,
   "id": "839f9937",
   "metadata": {},
   "outputs": [],
   "source": [
    "def models_output_to_dataframe(df, fold_num, labels, model_output):\n",
    "    \"\"\"\n",
    "    모델 출력을 기존 데이터프레임에 추가하는 함수\n",
    "    \"\"\"\n",
    "    temp_df = pd.DataFrame(model_output, columns=labels)\n",
    "    if fold_num is not None:\n",
    "        temp_df.columns = [f'{fold_num}_{label}' for label in labels]\n",
    "    else:\n",
    "        temp_df.columns = [f'{label}' for label in labels]\n",
    "    \n",
    "    if df.empty:\n",
    "        return temp_df\n",
    "    else:\n",
    "        return pd.concat([df, temp_df], axis=1)"
   ]
  },
  {
   "cell_type": "code",
   "execution_count": 5,
   "id": "f5d17db3",
   "metadata": {},
   "outputs": [],
   "source": [
    "def frame_based_video_test(frame_num, model_name, artifacts_num, model_test_rate, data_type, fold_num, weight_path, base_path, batch_size, img_size):\n",
    "    \n",
    "    test_csv_path = os.path.join(base_path, f'{data_type}/{version}/clip_length_ablation_study/{frame_num}_clip/fold_{fold_num}/test.csv')\n",
    "    \n",
    "    # dataset\n",
    "    test_dataset = video_dataset(test_csv_path, transforms = apply_transforms(mode=None), img_size = img_size, frame_num = frame_num, is_train = False)\n",
    "    # dataloader\n",
    "    test_dataloader =  torch.utils.data.DataLoader(test_dataset, batch_size=batch_size, shuffle = False, drop_last=False)\n",
    "\n",
    "    #len_dataloader\n",
    "    len_test_dataset = len(test_dataloader.dataset)\n",
    "    print(len_test_dataset)\n",
    "\n",
    "    # set seed\n",
    "    set_all_seeds(1234)\n",
    "\n",
    "    sigmoid = nn.Sigmoid()\n",
    "    \n",
    "    if model_name == 'densenet161':\n",
    "        # load imagenet pretrained model\n",
    "        model = timm.create_model('densenet161', pretrained=False, num_classes=4)\n",
    "    elif model_name == 'resnet50':\n",
    "        # load imagenet pretrained model\n",
    "        model = timm.create_model('resnet50', pretrained=False, num_classes=4)\n",
    "\n",
    "    gpu_index = 0\n",
    "    device = torch.device(f\"cuda:{gpu_index}\" if torch.cuda.is_available() else \"cpu\")\n",
    "\n",
    "    check_point = torch.load(weight_path, map_location=device)\n",
    "\n",
    "    # torch.nn.DataParallel을 사용하여 모델을 학습하고 저장한 경우에 이러한 접두어가 자주 발생\n",
    "    if 'module' in list(check_point['model'].keys())[0]:\n",
    "        # If so, remove the 'module.' prefix from the keys in the state_dict\n",
    "        new_state_dict = {k[7:]: v for k, v in check_point['model'].items()}\n",
    "        model.load_state_dict(new_state_dict)\n",
    "    else:\n",
    "        # If not using DataParallel, simply load the state_dict\n",
    "        model.load_state_dict(check_point['model'])\n",
    "\n",
    "    # model.load_state_dict(check_point['model'])\n",
    "    model = model.to(device)\n",
    "    \n",
    "    # load best threshold\n",
    "    best_val_thres = check_point['best_valid_thres']\n",
    "    print(best_val_thres)\n",
    "    \n",
    "    model_outputs = []\n",
    "    test_labels = []\n",
    "    test_preds = []\n",
    "\n",
    "    test_running_acc = 0.0\n",
    "\n",
    "    model.eval() \n",
    "    with torch.no_grad():    \n",
    "        \n",
    "        for data in tqdm(test_dataloader, desc=\"Testing\", unit=\"batch\"):\n",
    "#         for jdx, data in enumerate(test_dataloader):\n",
    "\n",
    "            test_img, test_label, _ = data\n",
    "\n",
    "            test_img = test_img.to(device)\n",
    "            test_label = test_label.to(device)\n",
    "\n",
    "            frames_preds = []\n",
    "    #         print(test_img.shape)\n",
    "            for t in range(test_img.size(1)):\n",
    "                x_in2 = test_img[:, t, :, :, :]\n",
    "                x_out = model(x_in2)\n",
    "                frame_pred = sigmoid(x_out.squeeze())\n",
    "\n",
    "                frame_pred_np = frame_pred.data.cpu().numpy()\n",
    "                frames_preds.append(frame_pred_np)\n",
    "\n",
    "            frame_2_video_preds_np = np.max(frames_preds, axis=0)\n",
    "#             frame_2_video_preds_np = np.average(frames_preds, axis=0)\n",
    "            model_outputs.append(frame_2_video_preds_np.tolist())\n",
    "            \n",
    "            frame_2_video_preds_np = np.where(frame_2_video_preds_np >= best_val_thres, 1., 0.)\n",
    "#             frame_2_video_preds_np = np.where(frame_2_video_preds_np >= 0.5, 1., 0.)\n",
    "            test_preds.append(frame_2_video_preds_np.tolist())\n",
    "\n",
    "            test_labels.append(test_label[0].cpu().detach().numpy().tolist()) \n",
    "\n",
    "            np_test_label = test_label[0].cpu().numpy()\n",
    "\n",
    "            test_accuracy = accuracy_score(np_test_label, frame_2_video_preds_np)\n",
    "\n",
    "            test_running_acc += test_accuracy\n",
    "\n",
    "#             print(f\"prediction : {frame_2_video_preds_np}, test_label : {np_test_label}\")\n",
    "#             print(f\"correct_num : {test_accuracy}\")\n",
    "#             print('-'*20)\n",
    "\n",
    "    #         if jdx == 0:\n",
    "    #             break\n",
    "\n",
    "    test_accuracy = test_running_acc / len_test_dataset\n",
    "    print(f\"test_running_acc : {test_running_acc}\")\n",
    "        \n",
    "    return test_accuracy, test_labels, test_preds, model_outputs, best_val_thres"
   ]
  },
  {
   "cell_type": "code",
   "execution_count": 132,
   "id": "d62a133e",
   "metadata": {},
   "outputs": [
    {
     "name": "stdout",
     "output_type": "stream",
     "text": [
      "276\n",
      "[0.15330157, 0.18248257, 0.14604743, 0.11298105]\n"
     ]
    },
    {
     "name": "stderr",
     "output_type": "stream",
     "text": [
      "Testing: 100% 276/276 [08:38<00:00,  1.88s/batch]"
     ]
    },
    {
     "name": "stdout",
     "output_type": "stream",
     "text": [
      "test_running_acc : 150.25\n"
     ]
    },
    {
     "name": "stderr",
     "output_type": "stream",
     "text": [
      "\n"
     ]
    }
   ],
   "source": [
    "# chk_std = \"auc\"\n",
    "chk_std = \"loss\"\n",
    "\n",
    "model_test_rate = \"0.2\"\n",
    "\n",
    "fold_num = 3\n",
    "\n",
    "version = 'version_1'\n",
    "\n",
    "lr = 1e-6\n",
    "\n",
    "data_type = \"before_all_data\"\n",
    "\n",
    "frame_size = 256\n",
    "# frame_size = 512\n",
    "\n",
    "# batch_size = 32\n",
    "batch_size = 128\n",
    "\n",
    "# seed_num = 1234\n",
    "seed_num = 234\n",
    "\n",
    "# artifacts = 4\n",
    "artifacts = 5\n",
    "\n",
    "chk_std = \"loss\"\n",
    "\n",
    "frame_num = 50\n",
    "\n",
    "model_name = 'densenet161'\n",
    "# model_name = 'resnet50'\n",
    "\n",
    "# weight_path = f'/home/work/LUS/Results/frame_base/multi_label/seed_{seed_num}_test{model_test_rate}_std_{chk_std}_{data_type}_{version}_{artifacts}_artifacts_densenet161_lr{lr}_batch{batch_size}_{frame_size}_fold{fold_num}_checkpoint'\n",
    "# no aug version\n",
    "weight_path = f'/home/work/LUS/Results/frame_base/multi_label/seed_{seed_num}_test{model_test_rate}_std_{chk_std}_{data_type}_{version}_{artifacts}_artifacts_{model_name}_lr{lr}_batch{batch_size}_{frame_size}_fold{fold_num}_noaug_checkpoint'\n",
    "\n",
    "base_path = f'/home/work/LUS/Dataset/csv_files/clip_multilabel_classification/'\n",
    "\n",
    "test_accuracy, test_labels, test_preds, model_outputs, best_val_thres = frame_based_video_test(frame_num=frame_num,\n",
    "                                                                                               model_name = model_name,\n",
    "                                                                                               artifacts_num = artifacts,\n",
    "                                                                                               model_test_rate=model_test_rate,\n",
    "                                                                                               data_type=data_type,\n",
    "                                                                                                fold_num=fold_num, \n",
    "                                                                                               weight_path=weight_path, \n",
    "                                                                                               base_path=base_path, \n",
    "                                                                                               batch_size=1,\n",
    "                                                                                               img_size = frame_size)"
   ]
  },
  {
   "cell_type": "code",
   "execution_count": 112,
   "id": "220011cb",
   "metadata": {},
   "outputs": [],
   "source": [
    "labels = ['A-line', 'total-B-line', 'Consolidation', 'Pleural effusion']\n",
    "\n",
    "models_output_df = pd.DataFrame(columns=labels)"
   ]
  },
  {
   "cell_type": "code",
   "execution_count": 113,
   "id": "25bf58d5",
   "metadata": {},
   "outputs": [
    {
     "name": "stdout",
     "output_type": "stream",
     "text": [
      "best_threshold : [0.15330157, 0.18248257, 0.14604743, 0.11298105]\n"
     ]
    }
   ],
   "source": [
    "print(f'best_threshold : {best_val_thres}')"
   ]
  },
  {
   "cell_type": "code",
   "execution_count": 114,
   "id": "22fe52eb",
   "metadata": {},
   "outputs": [],
   "source": [
    "from sklearn.metrics import ConfusionMatrixDisplay, multilabel_confusion_matrix\n",
    "\n",
    "# test_labels = [idx[0] for idx in test_labels]\n",
    "test_labels = [[int(y) for y in z] for z in test_labels]\n",
    "\n",
    "confusion_mat = multilabel_confusion_matrix(test_labels, test_preds)\n",
    "\n",
    "all_labels = [\n",
    "            'A-line',\n",
    "            'B-lines',\n",
    "#             'B-line',\n",
    "#             'Confluent B-line',\n",
    "            'Consolidation',\n",
    "            'Pleural effusion'\n",
    "            ]"
   ]
  },
  {
   "cell_type": "code",
   "execution_count": 115,
   "id": "5e6d1c6a",
   "metadata": {},
   "outputs": [
    {
     "data": {
      "image/png": "[encoded data removed]",
      "text/plain": [
       "<Figure size 1500x1200 with 4 Axes>"
      ]
     },
     "metadata": {},
     "output_type": "display_data"
    }
   ],
   "source": [
    "# ConfusionMatrixDisplay 함수를 이용하여 2행 3열로 시각화합니다.\n",
    "# figsize를 조정하여 적당한 크기로 만듭니다.\n",
    "fig, axs = plt.subplots(nrows=2, ncols=2, figsize=(15, 12))\n",
    "plt.subplots_adjust(wspace=0.1, hspace=0.2)\n",
    "\n",
    "# axs는 2x3 array이므로 axs.flat으로 iterator를 생성합니다.\n",
    "ax_iterator = iter(axs.flat)\n",
    "\n",
    "for idx, label in enumerate(all_labels):\n",
    "    ax = next(ax_iterator)  # 다음 subplot을 가져옵니다.\n",
    "    disp = ConfusionMatrixDisplay(confusion_matrix=confusion_mat[idx], display_labels=[0, 1])\n",
    "    disp.plot(ax=ax, cmap='Blues', colorbar=False)  # 각 subplot에 colorbar를 제거합니다.\n",
    "    ax.set_title(label, fontsize=20)\n",
    "    \n",
    "    # 각 축에 대해 텍스트 크기를 설정합니다.\n",
    "    for texts in [disp.text_]:\n",
    "        for text in texts.flatten():\n",
    "            text.set_fontsize(20)  # 숫자 텍스트의 크기를 조정합니다.\n",
    "\n",
    "# 남는 subplot을 숨깁니다.\n",
    "for ax in ax_iterator:\n",
    "    ax.set_visible(False)"
   ]
  },
  {
   "cell_type": "code",
   "execution_count": 116,
   "id": "f9e66347",
   "metadata": {},
   "outputs": [
    {
     "name": "stdout",
     "output_type": "stream",
     "text": [
      "Micro-averaged precision :  0.8359938803645578\n",
      "recall :  0.5335648148148148\n",
      "f1-score :  0.5561613775069544\n"
     ]
    }
   ],
   "source": [
    "# precision_score, recall_score, f1_score 함수를 사용하여 각 레이블별 성능을 계산합니다.\n",
    "from sklearn.metrics import precision_score, recall_score, f1_score\n",
    "\n",
    "test_prediction_flat = np.array(test_preds).flatten()\n",
    "test_labels_flat = np.array(test_labels).flatten()\n",
    "\n",
    "precision = precision_score(test_labels_flat, test_prediction_flat, average='weighted')\n",
    "recall = recall_score(test_labels_flat, test_prediction_flat, average='weighted')\n",
    "f1 = f1_score(test_labels_flat, test_prediction_flat, average='weighted')\n",
    "\n",
    "print('Micro-averaged precision : ', precision)\n",
    "print('recall : ', recall)\n",
    "print('f1-score : ', f1)"
   ]
  },
  {
   "cell_type": "code",
   "execution_count": 117,
   "id": "72aaff24",
   "metadata": {},
   "outputs": [
    {
     "name": "stdout",
     "output_type": "stream",
     "text": [
      "                  precision    recall  f1-score   support\n",
      "\n",
      "          A-line       0.44      0.92      0.59        53\n",
      "         B-lines       0.30      0.98      0.45        45\n",
      "   Consolidation       0.33      1.00      0.50        60\n",
      "Pleural effusion       0.23      1.00      0.37        32\n",
      "\n",
      "       micro avg       0.32      0.97      0.48       190\n",
      "       macro avg       0.32      0.98      0.48       190\n",
      "    weighted avg       0.33      0.97      0.49       190\n",
      "     samples avg       0.36      0.75      0.46       190\n",
      "\n"
     ]
    },
    {
     "name": "stderr",
     "output_type": "stream",
     "text": [
      "/usr/local/lib/python3.10/dist-packages/sklearn/metrics/_classification.py:1344: UndefinedMetricWarning: Recall and F-score are ill-defined and being set to 0.0 in samples with no true labels. Use `zero_division` parameter to control this behavior.\n",
      "  _warn_prf(average, modifier, msg_start, len(result))\n"
     ]
    }
   ],
   "source": [
    "print(classification_report(\n",
    "    test_labels,\n",
    "    test_preds,\n",
    "    output_dict=False,\n",
    "    target_names=[\n",
    "            'A-line',\n",
    "            'B-lines',\n",
    "#             'B-line',\n",
    "#             'Confluent B-line',\n",
    "            'Consolidation',\n",
    "            'Pleural effusion'\n",
    "            ]\n",
    "))"
   ]
  },
  {
   "cell_type": "code",
   "execution_count": 118,
   "id": "0ab03671",
   "metadata": {},
   "outputs": [
    {
     "name": "stdout",
     "output_type": "stream",
     "text": [
      "A-line results\n",
      "Best Threshold=0.277793, sensitivity = 0.906, specificity = 0.853, J=0.758\n",
      "              precision    recall  f1-score   support\n",
      "\n",
      "      A-line       0.97      0.85      0.91       163\n",
      "      Others       0.67      0.91      0.77        53\n",
      "\n",
      "    accuracy                           0.87       216\n",
      "   macro avg       0.82      0.88      0.84       216\n",
      "weighted avg       0.89      0.87      0.87       216\n",
      "\n"
     ]
    }
   ],
   "source": [
    "from numpy import argmax\n",
    "\n",
    "# calculate roc curves\n",
    "fpr, tpr, thresholds = roc_curve(np.array(test_labels)[:, 0], np.array(model_outputs)[:, 0])\n",
    "\n",
    "# get the best threshold\n",
    "J = tpr - fpr\n",
    "ix = argmax(J)\n",
    "best_thresh = thresholds[ix]\n",
    "print('A-line results')\n",
    "print('Best Threshold=%f, sensitivity = %.3f, specificity = %.3f, J=%.3f' % (best_thresh, tpr[ix], 1-fpr[ix], J[ix]))\n",
    "\n",
    "y_prob_pred = (np.array(model_outputs)[:, 0] >= best_thresh).astype(bool)\n",
    "print(classification_report(np.array(test_labels)[:, 0], y_prob_pred, target_names=['A-line', 'Others']))"
   ]
  },
  {
   "cell_type": "code",
   "execution_count": 119,
   "id": "e060ee85",
   "metadata": {},
   "outputs": [
    {
     "name": "stdout",
     "output_type": "stream",
     "text": [
      "B-lines results\n",
      "Best Threshold=0.818954, sensitivity = 0.711, specificity = 0.842, J=0.553\n",
      "              precision    recall  f1-score   support\n",
      "\n",
      "      B-line       0.92      0.84      0.88       171\n",
      "      Others       0.54      0.71      0.62        45\n",
      "\n",
      "    accuracy                           0.81       216\n",
      "   macro avg       0.73      0.78      0.75       216\n",
      "weighted avg       0.84      0.81      0.82       216\n",
      "\n"
     ]
    }
   ],
   "source": [
    "from numpy import argmax\n",
    "\n",
    "# calculate roc curves\n",
    "fpr, tpr, thresholds = roc_curve(np.array(test_labels)[:, 1], np.array(model_outputs)[:, 1])\n",
    "\n",
    "# get the best threshold\n",
    "J = tpr - fpr\n",
    "ix = argmax(J)\n",
    "best_thresh = thresholds[ix]\n",
    "print('B-lines results')\n",
    "print('Best Threshold=%f, sensitivity = %.3f, specificity = %.3f, J=%.3f' % (best_thresh, tpr[ix], 1-fpr[ix], J[ix]))\n",
    "\n",
    "y_prob_pred = (np.array(model_outputs)[:, 1] >= best_thresh).astype(bool)\n",
    "print(classification_report(np.array(test_labels)[:, 1], y_prob_pred, target_names=['B-line', 'Others']))"
   ]
  },
  {
   "cell_type": "code",
   "execution_count": 120,
   "id": "53e6cee9",
   "metadata": {},
   "outputs": [
    {
     "name": "stdout",
     "output_type": "stream",
     "text": [
      "Consolidation results\n",
      "Best Threshold=0.736288, sensitivity = 0.867, specificity = 0.731, J=0.597\n",
      "               precision    recall  f1-score   support\n",
      "\n",
      "Consolidation       0.93      0.73      0.82       156\n",
      "       Others       0.55      0.87      0.68        60\n",
      "\n",
      "     accuracy                           0.77       216\n",
      "    macro avg       0.74      0.80      0.75       216\n",
      " weighted avg       0.83      0.77      0.78       216\n",
      "\n"
     ]
    }
   ],
   "source": [
    "from numpy import argmax\n",
    "\n",
    "# calculate roc curves\n",
    "fpr, tpr, thresholds = roc_curve(np.array(test_labels)[:, 2], np.array(model_outputs)[:, 2])\n",
    "\n",
    "# get the best threshold\n",
    "J = tpr - fpr\n",
    "ix = argmax(J)\n",
    "best_thresh = thresholds[ix]\n",
    "print('Consolidation results')\n",
    "print('Best Threshold=%f, sensitivity = %.3f, specificity = %.3f, J=%.3f' % (best_thresh, tpr[ix], 1-fpr[ix], J[ix]))\n",
    "\n",
    "y_prob_pred = (np.array(model_outputs)[:, 2] >= best_thresh).astype(bool)\n",
    "print(classification_report(np.array(test_labels)[:, 2], y_prob_pred, target_names=['Consolidation', 'Others']))"
   ]
  },
  {
   "cell_type": "code",
   "execution_count": 121,
   "id": "1ad9cf00",
   "metadata": {},
   "outputs": [
    {
     "name": "stdout",
     "output_type": "stream",
     "text": [
      "Pleural effusion results\n",
      "Best Threshold=0.557489, sensitivity = 0.906, specificity = 0.962, J=0.868\n",
      "                  precision    recall  f1-score   support\n",
      "\n",
      "Pleural effusion       0.98      0.96      0.97       184\n",
      "          Others       0.81      0.91      0.85        32\n",
      "\n",
      "        accuracy                           0.95       216\n",
      "       macro avg       0.89      0.93      0.91       216\n",
      "    weighted avg       0.96      0.95      0.95       216\n",
      "\n"
     ]
    }
   ],
   "source": [
    "from numpy import argmax\n",
    "\n",
    "# calculate roc curves\n",
    "fpr, tpr, thresholds = roc_curve(np.array(test_labels)[:, 3], np.array(model_outputs)[:, 3])\n",
    "\n",
    "# get the best threshold\n",
    "J = tpr - fpr\n",
    "ix = argmax(J)\n",
    "best_thresh = thresholds[ix]\n",
    "print('Pleural effusion results')\n",
    "print('Best Threshold=%f, sensitivity = %.3f, specificity = %.3f, J=%.3f' % (best_thresh, tpr[ix], 1-fpr[ix], J[ix]))\n",
    "\n",
    "y_prob_pred = (np.array(model_outputs)[:, 3] >= best_thresh).astype(bool)\n",
    "print(classification_report(np.array(test_labels)[:, 3], y_prob_pred, target_names=['Pleural effusion', 'Others']))"
   ]
  },
  {
   "cell_type": "code",
   "execution_count": 122,
   "id": "a7e585e3",
   "metadata": {},
   "outputs": [
    {
     "data": {
      "image/png": "[encoded data removed]",
      "text/plain": [
       "<Figure size 800x800 with 1 Axes>"
      ]
     },
     "metadata": {},
     "output_type": "display_data"
    }
   ],
   "source": [
    "from itertools import cycle\n",
    "from sklearn.metrics import roc_curve, auc\n",
    "\n",
    "\n",
    "# ROC curve를 계산하고 시각화합니다.\n",
    "n_classes = len(test_labels[0])\n",
    "fpr = dict()\n",
    "tpr = dict()\n",
    "roc_auc = dict()\n",
    "for i in range(n_classes):\n",
    "    fpr[i], tpr[i], _ = roc_curve(np.array(test_labels)[:, i], np.array(model_outputs)[:, i])\n",
    "    roc_auc[i] = auc(fpr[i], tpr[i])\n",
    "\n",
    "# 마이크로 평균 ROC curve를 계산합니다.\n",
    "fpr[\"micro\"], tpr[\"micro\"], _ = roc_curve(np.array(test_labels).ravel(), np.array(model_outputs).ravel())\n",
    "roc_auc[\"micro\"] = auc(fpr[\"micro\"], tpr[\"micro\"])\n",
    "\n",
    "# 모든 레이블에 대한 평균 ROC curve를 계산합니다.\n",
    "all_fpr = np.unique(np.concatenate([fpr[i] for i in range(n_classes)]))\n",
    "mean_tpr = np.zeros_like(all_fpr)\n",
    "for i in range(n_classes):\n",
    "    mean_tpr += np.interp(all_fpr, fpr[i], tpr[i])\n",
    "mean_tpr /= n_classes\n",
    "fpr[\"macro\"] = all_fpr\n",
    "tpr[\"macro\"] = mean_tpr\n",
    "roc_auc[\"macro\"] = auc(fpr[\"macro\"], tpr[\"macro\"])\n",
    "\n",
    "# ROC curve를 그래프로 시각화합니다.\n",
    "plt.figure(figsize=(8, 8))\n",
    "lw = 2\n",
    "plt.plot(fpr[\"micro\"], tpr[\"micro\"], label='Micro-average ROC curve (area = {0:0.3f})'\n",
    "''.format(roc_auc[\"micro\"]), color='deeppink', linestyle=':', linewidth=4)\n",
    "plt.plot(fpr[\"macro\"], tpr[\"macro\"], label='Macro-average ROC curve (area = {0:0.3f})'\n",
    "''.format(roc_auc[\"macro\"]), color='navy', linestyle=':', linewidth=4)\n",
    "\n",
    "colors = cycle(['aqua', 'darkorange', 'cornflowerblue', 'green', 'red'])\n",
    "all_labels = [\n",
    "            'A-line',\n",
    "            'B-lines',\n",
    "#             'B-line',\n",
    "#             'Confluent B-line',\n",
    "            'Consolidation',\n",
    "            'Pleural effusion'\n",
    "            ]\n",
    "\n",
    "for i, label, color in zip(range(len(all_labels)), all_labels, colors):\n",
    "    plt.plot(fpr[i], tpr[i], color=color, lw=lw,\n",
    "            label='{0} (area = {1:0.3f})'\n",
    "            ''.format(label, roc_auc[i]))\n",
    "plt.plot([0, 1], [0, 1], 'k--', lw=lw)\n",
    "plt.xlim([0.0, 1.0])\n",
    "plt.ylim([0.0, 1.05])\n",
    "plt.xlabel('False Positive Rate')\n",
    "plt.ylabel('True Positive Rate')\n",
    "plt.title('Receiver operating characteristic for multi-class data')\n",
    "plt.legend(loc=\"lower right\", fontsize='large')\n",
    "plt.show()\n"
   ]
  },
  {
   "cell_type": "code",
   "execution_count": 123,
   "id": "2b50c4ce",
   "metadata": {},
   "outputs": [
    {
     "data": {
      "text/html": [
       "<div>\n",
       "<style scoped>\n",
       "    .dataframe tbody tr th:only-of-type {\n",
       "        vertical-align: middle;\n",
       "    }\n",
       "\n",
       "    .dataframe tbody tr th {\n",
       "        vertical-align: top;\n",
       "    }\n",
       "\n",
       "    .dataframe thead th {\n",
       "        text-align: right;\n",
       "    }\n",
       "</style>\n",
       "<table border=\"1\" class=\"dataframe\">\n",
       "  <thead>\n",
       "    <tr style=\"text-align: right;\">\n",
       "      <th></th>\n",
       "      <th>3_A-line</th>\n",
       "      <th>3_total-B-line</th>\n",
       "      <th>3_Consolidation</th>\n",
       "      <th>3_Pleural effusion</th>\n",
       "    </tr>\n",
       "  </thead>\n",
       "  <tbody>\n",
       "    <tr>\n",
       "      <th>0</th>\n",
       "      <td>0.394422</td>\n",
       "      <td>0.148741</td>\n",
       "      <td>0.123599</td>\n",
       "      <td>0.147880</td>\n",
       "    </tr>\n",
       "    <tr>\n",
       "      <th>1</th>\n",
       "      <td>0.344896</td>\n",
       "      <td>0.134849</td>\n",
       "      <td>0.074571</td>\n",
       "      <td>0.129868</td>\n",
       "    </tr>\n",
       "    <tr>\n",
       "      <th>2</th>\n",
       "      <td>0.343277</td>\n",
       "      <td>0.179572</td>\n",
       "      <td>0.240258</td>\n",
       "      <td>0.120264</td>\n",
       "    </tr>\n",
       "    <tr>\n",
       "      <th>3</th>\n",
       "      <td>0.156579</td>\n",
       "      <td>0.122675</td>\n",
       "      <td>0.080038</td>\n",
       "      <td>0.112239</td>\n",
       "    </tr>\n",
       "    <tr>\n",
       "      <th>4</th>\n",
       "      <td>0.138994</td>\n",
       "      <td>0.100152</td>\n",
       "      <td>0.984811</td>\n",
       "      <td>0.683531</td>\n",
       "    </tr>\n",
       "  </tbody>\n",
       "</table>\n",
       "</div>"
      ],
      "text/plain": [
       "   3_A-line  3_total-B-line  3_Consolidation  3_Pleural effusion\n",
       "0  0.394422        0.148741         0.123599            0.147880\n",
       "1  0.344896        0.134849         0.074571            0.129868\n",
       "2  0.343277        0.179572         0.240258            0.120264\n",
       "3  0.156579        0.122675         0.080038            0.112239\n",
       "4  0.138994        0.100152         0.984811            0.683531"
      ]
     },
     "execution_count": 123,
     "metadata": {},
     "output_type": "execute_result"
    }
   ],
   "source": [
    "models_output_df = models_output_to_dataframe(models_output_df, fold_num, labels, model_outputs)\n",
    "models_output_df.head()"
   ]
  },
  {
   "cell_type": "code",
   "execution_count": 124,
   "id": "87501e59",
   "metadata": {},
   "outputs": [],
   "source": [
    "if 'densenet161' in model_name:\n",
    "    # densenet 161\n",
    "    models_output_df.to_csv(f'/home/work/LUS/Results/model_output_csv/video_level/internal_test/clip_length_ablation_study/{frame_num}frame_{artifacts}_artifacts_batch{batch_size}_fold_{fold_num}_{model_name}_output.csv', index = False)\n",
    "elif 'resnet' in model_name:\n",
    "    # resnet 50 \n",
    "    models_output_df.to_csv(f'/home/work/LUS/Results/model_output_csv/video_level/internal_test/clip_length_ablation_study/{frame_num}frame_{artifacts}_artifacts_batch{batch_size}_fold_{fold_num}_{model_name}_output.csv', index = False)"
   ]
  },
  {
   "cell_type": "code",
   "execution_count": 125,
   "id": "7ca01aa4",
   "metadata": {},
   "outputs": [
    {
     "data": {
      "text/plain": [
       "128"
      ]
     },
     "execution_count": 125,
     "metadata": {},
     "output_type": "execute_result"
    }
   ],
   "source": [
    "batch_size"
   ]
  },
  {
   "cell_type": "code",
   "execution_count": 126,
   "id": "3c4ffe04",
   "metadata": {},
   "outputs": [
    {
     "data": {
      "text/plain": [
       "216"
      ]
     },
     "execution_count": 126,
     "metadata": {},
     "output_type": "execute_result"
    }
   ],
   "source": [
    "len(test_labels)"
   ]
  },
  {
   "cell_type": "code",
   "execution_count": 127,
   "id": "2cc3f922",
   "metadata": {},
   "outputs": [],
   "source": [
    "def gt_to_dataframe(df, labels, model_output):\n",
    "    \"\"\"\n",
    "    모델 출력을 기존 데이터프레임에 추가하는 함수\n",
    "    \"\"\"\n",
    "    temp_df = pd.DataFrame(model_output, columns=labels)\n",
    "    temp_df.columns = [f'{label}' for label in labels]\n",
    "    \n",
    "    if df.empty:\n",
    "        return temp_df\n",
    "    else:\n",
    "        return pd.concat([df, temp_df], axis=1)"
   ]
  },
  {
   "cell_type": "code",
   "execution_count": 128,
   "id": "07871852",
   "metadata": {},
   "outputs": [
    {
     "name": "stdout",
     "output_type": "stream",
     "text": [
      "216\n"
     ]
    },
    {
     "data": {
      "text/html": [
       "<div>\n",
       "<style scoped>\n",
       "    .dataframe tbody tr th:only-of-type {\n",
       "        vertical-align: middle;\n",
       "    }\n",
       "\n",
       "    .dataframe tbody tr th {\n",
       "        vertical-align: top;\n",
       "    }\n",
       "\n",
       "    .dataframe thead th {\n",
       "        text-align: right;\n",
       "    }\n",
       "</style>\n",
       "<table border=\"1\" class=\"dataframe\">\n",
       "  <thead>\n",
       "    <tr style=\"text-align: right;\">\n",
       "      <th></th>\n",
       "      <th>A-line</th>\n",
       "      <th>total-B-line</th>\n",
       "      <th>Consolidation</th>\n",
       "      <th>Pleural effusion</th>\n",
       "    </tr>\n",
       "  </thead>\n",
       "  <tbody>\n",
       "    <tr>\n",
       "      <th>0</th>\n",
       "      <td>1</td>\n",
       "      <td>0</td>\n",
       "      <td>0</td>\n",
       "      <td>0</td>\n",
       "    </tr>\n",
       "    <tr>\n",
       "      <th>1</th>\n",
       "      <td>1</td>\n",
       "      <td>0</td>\n",
       "      <td>0</td>\n",
       "      <td>0</td>\n",
       "    </tr>\n",
       "    <tr>\n",
       "      <th>2</th>\n",
       "      <td>1</td>\n",
       "      <td>0</td>\n",
       "      <td>0</td>\n",
       "      <td>0</td>\n",
       "    </tr>\n",
       "    <tr>\n",
       "      <th>3</th>\n",
       "      <td>1</td>\n",
       "      <td>0</td>\n",
       "      <td>0</td>\n",
       "      <td>0</td>\n",
       "    </tr>\n",
       "    <tr>\n",
       "      <th>4</th>\n",
       "      <td>0</td>\n",
       "      <td>0</td>\n",
       "      <td>1</td>\n",
       "      <td>1</td>\n",
       "    </tr>\n",
       "  </tbody>\n",
       "</table>\n",
       "</div>"
      ],
      "text/plain": [
       "   A-line  total-B-line  Consolidation  Pleural effusion\n",
       "0       1             0              0                 0\n",
       "1       1             0              0                 0\n",
       "2       1             0              0                 0\n",
       "3       1             0              0                 0\n",
       "4       0             0              1                 1"
      ]
     },
     "execution_count": 128,
     "metadata": {},
     "output_type": "execute_result"
    }
   ],
   "source": [
    "labels = ['A-line', 'total-B-line', 'Consolidation', 'Pleural effusion']\n",
    "\n",
    "models_gt_df = pd.DataFrame(columns=labels)\n",
    "\n",
    "models_gt_df = gt_to_dataframe(models_gt_df, labels, test_labels)\n",
    "print(len(models_gt_df))\n",
    "models_gt_df.head()"
   ]
  },
  {
   "cell_type": "markdown",
   "id": "e4c52eaf",
   "metadata": {},
   "source": [
    "# 신뢰구간"
   ]
  },
  {
   "cell_type": "code",
   "execution_count": 129,
   "id": "9419f773",
   "metadata": {},
   "outputs": [],
   "source": [
    "from scipy.stats import norm\n",
    "from compare_auc_delong import *\n",
    "\n",
    "def delong_auc_ci(y_true, y_pred, alpha=0.95):\n",
    "    \"\"\"\n",
    "    DeLong 방법을 이용하여 AUC와 95% 신뢰 구간 계산\n",
    "    Args:\n",
    "    - y_true: 실제 레이블 값 (0과 1로 구성된 numpy 배열)\n",
    "    - y_pred: 예측 확률값 (numpy 배열)\n",
    "    - alpha: 신뢰수준 (기본값 0.95)\n",
    "\n",
    "    Returns:\n",
    "    - auc: AUC 값\n",
    "    - ci: AUC에 대한 신뢰 구간 (하한, 상한)\n",
    "    \"\"\"\n",
    "    auc, auc_var = delong_roc_variance(y_true, y_pred)\n",
    "    auc_std = np.sqrt(auc_var)\n",
    "\n",
    "    # 신뢰 구간 계산\n",
    "    lower_upper_q = np.array([0.5 - alpha / 2, 0.5 + alpha / 2])\n",
    "    ci = norm.ppf(lower_upper_q, loc=auc, scale=auc_std)\n",
    "    \n",
    "    # 신뢰 구간의 범위를 0과 1 사이로 조정\n",
    "    ci[ci < 0] = 0\n",
    "    ci[ci > 1] = 1\n",
    "\n",
    "    return auc, ci"
   ]
  },
  {
   "cell_type": "code",
   "execution_count": 130,
   "id": "594b2f52",
   "metadata": {},
   "outputs": [],
   "source": [
    "def cal_CI(gt_df, method_df):\n",
    "    CI_values = {}\n",
    "    auc_values = {}\n",
    "    for idx in range(len(labels)):\n",
    "        gt_series = gt_df.iloc[:, idx]\n",
    "        method__series = method_df.iloc[:, idx]\n",
    "        \n",
    "        auc, ci = delong_auc_ci(gt_series, method__series)\n",
    "        \n",
    "        CI_values[labels[idx]] = ci\n",
    "        auc_values[labels[idx]] = auc.item()\n",
    "        \n",
    "    return CI_values, auc_values"
   ]
  },
  {
   "cell_type": "code",
   "execution_count": 131,
   "id": "a68908e3",
   "metadata": {},
   "outputs": [
    {
     "name": "stderr",
     "output_type": "stream",
     "text": [
      "/home/work/LUS/code/video_base/pda_detection/code/compare_auc_delong.py:297: FutureWarning: Support for multi-dimensional indexing (e.g. `obj[:, None]`) is deprecated and will be removed in a future version.  Convert to a numpy array before indexing instead.\n",
      "  predictions_sorted_transposed = predictions[np.newaxis, order]\n"
     ]
    },
    {
     "data": {
      "text/html": [
       "<div>\n",
       "<style scoped>\n",
       "    .dataframe tbody tr th:only-of-type {\n",
       "        vertical-align: middle;\n",
       "    }\n",
       "\n",
       "    .dataframe tbody tr th {\n",
       "        vertical-align: top;\n",
       "    }\n",
       "\n",
       "    .dataframe thead th {\n",
       "        text-align: right;\n",
       "    }\n",
       "</style>\n",
       "<table border=\"1\" class=\"dataframe\">\n",
       "  <thead>\n",
       "    <tr style=\"text-align: right;\">\n",
       "      <th></th>\n",
       "      <th>Label</th>\n",
       "      <th>AUC</th>\n",
       "      <th>95% CI Lower Bound</th>\n",
       "      <th>95% CI Upper Bound</th>\n",
       "    </tr>\n",
       "  </thead>\n",
       "  <tbody>\n",
       "    <tr>\n",
       "      <th>0</th>\n",
       "      <td>A-line</td>\n",
       "      <td>0.920014</td>\n",
       "      <td>0.878677</td>\n",
       "      <td>0.961350</td>\n",
       "    </tr>\n",
       "    <tr>\n",
       "      <th>1</th>\n",
       "      <td>total-B-line</td>\n",
       "      <td>0.817674</td>\n",
       "      <td>0.754474</td>\n",
       "      <td>0.880874</td>\n",
       "    </tr>\n",
       "    <tr>\n",
       "      <th>2</th>\n",
       "      <td>Consolidation</td>\n",
       "      <td>0.865118</td>\n",
       "      <td>0.814181</td>\n",
       "      <td>0.916054</td>\n",
       "    </tr>\n",
       "    <tr>\n",
       "      <th>3</th>\n",
       "      <td>Pleural effusion</td>\n",
       "      <td>0.958815</td>\n",
       "      <td>0.923216</td>\n",
       "      <td>0.994413</td>\n",
       "    </tr>\n",
       "  </tbody>\n",
       "</table>\n",
       "</div>"
      ],
      "text/plain": [
       "              Label       AUC  95% CI Lower Bound  95% CI Upper Bound\n",
       "0            A-line  0.920014            0.878677            0.961350\n",
       "1      total-B-line  0.817674            0.754474            0.880874\n",
       "2     Consolidation  0.865118            0.814181            0.916054\n",
       "3  Pleural effusion  0.958815            0.923216            0.994413"
      ]
     },
     "execution_count": 131,
     "metadata": {},
     "output_type": "execute_result"
    }
   ],
   "source": [
    "CIs, AUCs = cal_CI(models_gt_df, models_output_df)\n",
    "\n",
    "results = {\n",
    "    'Label': list(AUCs.keys()),\n",
    "    'AUC': list(AUCs.values()),\n",
    "    '95% CI Lower Bound': [ci[0] for ci in CIs.values()],\n",
    "    '95% CI Upper Bound': [ci[1] for ci in CIs.values()]\n",
    "}\n",
    "results_df = pd.DataFrame(results)\n",
    "results_df"
   ]
  },
  {
   "cell_type": "code",
   "execution_count": null,
   "id": "b5a01b8e",
   "metadata": {},
   "outputs": [],
   "source": []
  },
  {
   "cell_type": "code",
   "execution_count": null,
   "id": "6ea57538",
   "metadata": {},
   "outputs": [],
   "source": []
  }
 ],
 "metadata": {
  "kernelspec": {
   "display_name": "PyTorch 2.2 (NGC 23.11/Python 3.10) on Backend.AI",
   "language": "python",
   "name": "python3"
  },
  "language_info": {
   "codemirror_mode": {
    "name": "ipython",
    "version": 3
   },
   "file_extension": ".py",
   "mimetype": "text/x-python",
   "name": "python",
   "nbconvert_exporter": "python",
   "pygments_lexer": "ipython3",
   "version": "3.10.12"
  },
  "vscode": {
   "interpreter": {
    "hash": "767d51c1340bd893661ea55ea3124f6de3c7a262a8b4abca0554b478b1e2ff90"
   }
  }
 },
 "nbformat": 4,
 "nbformat_minor": 5
}
