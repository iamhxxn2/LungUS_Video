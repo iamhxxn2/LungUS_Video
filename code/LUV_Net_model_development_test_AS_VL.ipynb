{
 "cells": [
  {
   "cell_type": "markdown",
   "id": "b9eb358c",
   "metadata": {},
   "source": [
    "https://www.kaggle.com/code/satishgunjal/binary-multiclass-classification-using-sklearn"
   ]
  },
  {
   "cell_type": "code",
   "execution_count": null,
   "id": "198e2fc6",
   "metadata": {},
   "outputs": [],
   "source": [
    "import argparse\n",
    "import os \n",
    "import csv\n",
    "import wandb\n",
    "# os.environ['CUDA_LAUNCH_BLOCKING'] = \"1\"\n",
    "import warnings\n",
    "warnings.filterwarnings(\"ignore\")\n",
    "\n",
    "import numpy as np\n",
    "import pandas as pd\n",
    "import matplotlib.pyplot as plt\n",
    "\n",
    "import pickle\n",
    "\n",
    "import torch\n",
    "import torch.nn as nn\n",
    "import torch.optim as optim\n",
    "from timm import optim\n",
    "import torch.nn.functional as F\n",
    "from torch.optim import lr_scheduler\n",
    "from torch.optim.lr_scheduler import ReduceLROnPlateau\n",
    "\n",
    "from pytorch_grad_cam import GradCAM\n",
    "from pytorch_grad_cam.utils.model_targets import ClassifierOutputTarget\n",
    "from pytorch_grad_cam.utils.image import show_cam_on_image\n",
    "\n",
    "import torchvision\n",
    "from torchvision import models\n",
    "import timm\n",
    "from torch.utils.data import DataLoader, WeightedRandomSampler, default_collate\n",
    "import random\n",
    "from tqdm import tqdm\n",
    "import time\n",
    "\n",
    "from Dataset_ML_AS_VL import *\n",
    "from utils_ML_AS_VL import *\n",
    "\n",
    "from LUV_NET_TFWO import *\n",
    "from LUV_NET import *\n",
    "\n",
    "from cnnlstm import CNNLSTM\n",
    "from C3D_model import C3D\n",
    "from R2Plus1D_model import R2Plus1DClassifier\n",
    "\n",
    "import vidaug.augmentors as va\n",
    "\n",
    "from sklearn.metrics import classification_report, confusion_matrix, accuracy_score\n",
    "from sklearn.metrics import roc_auc_score\n",
    "from sklearn import metrics\n",
    "from sklearn.metrics import roc_curve\n",
    "\n",
    "import math\n",
    "from sklearn.preprocessing import OneHotEncoder"
   ]
  },
  {
   "cell_type": "code",
   "execution_count": 2,
   "id": "6090b4b0",
   "metadata": {},
   "outputs": [],
   "source": [
    "def set_all_seeds(SEED):\n",
    "    # REPRODUCIBILITY\n",
    "    torch.manual_seed(SEED)\n",
    "    torch.cuda.manual_seed(SEED)\n",
    "    torch.cuda.manual_seed_all(SEED)\n",
    "    torch.backends.cudnn.deterministic = True\n",
    "    torch.backends.cudnn.benchmark = False\n",
    "    np.random.seed(SEED)\n",
    "    random.seed(SEED)"
   ]
  },
  {
   "cell_type": "code",
   "execution_count": 3,
   "id": "c5db266a",
   "metadata": {},
   "outputs": [],
   "source": [
    "def models_output_to_dataframe(df, model_name, labels, model_output):\n",
    "    \"\"\"\n",
    "    모델 출력을 기존 데이터프레임에 추가하는 함수\n",
    "    \"\"\"\n",
    "    temp_df = pd.DataFrame(model_output, columns=labels)\n",
    "    temp_df.columns = [f'{model_name}_{label}' for label in labels]\n",
    "    \n",
    "    if df.empty:\n",
    "        return temp_df\n",
    "    else:\n",
    "        return pd.concat([df, temp_df], axis=1)"
   ]
  },
  {
   "cell_type": "code",
   "execution_count": null,
   "id": "996104fb",
   "metadata": {},
   "outputs": [],
   "source": [
    "# def collate_video(batch_list):\n",
    "#     \"\"\"\n",
    "#     A custom collate function to be passed to the callate_fn argument when creating a pytorch dataloader.\n",
    "#     This is necessary because videos have different lengths. We handle by combining all videos along the time \n",
    "#     dimension and returning the number of frames in each video.\n",
    "#     \"\"\"\n",
    "#     vids = torch.concat([b[0] for b in batch_list])\n",
    "#     # num_frames = [b.shape[0] for b in batch_list]\n",
    "#     labels = [b[1] for b in batch_list]\n",
    "#     # record = {\n",
    "#     #     'video': vids,\n",
    "#     #     'num_frames': num_frames\n",
    "#     # }\n",
    "\n",
    "#     # use pytorch's default collate function for remaining items\n",
    "#     # for b in batch_list:\n",
    "#     #     b.pop('video')\n",
    "#     # record.update(default_collate(batch_list))\n",
    "\n",
    "#     return vids, labels\n",
    "\n",
    "def collate_video(batch_list):\n",
    "    \"\"\"\n",
    "    A custom collate function to be passed to the callate_fn argument when creating a pytorch dataloader.\n",
    "    This is necessary because videos have different lengths. We handle by combining all videos along the time \n",
    "    dimension and returning the number of frames in each video.\n",
    "    \"\"\"\n",
    "    vids = torch.concat([b[0] for b in batch_list])\n",
    "    # num_frames = [b.shape[0] for b in batch_list]\n",
    "    labels = [b[1] for b in batch_list]\n",
    "    paths = [b[2] for b in batch_list]\n",
    "\n",
    "    return vids, labels, paths\n",
    "\n",
    "def test(frame_num, model_test_rate, version, img_size, model_output_class, model_name, num_heads, kernel_size, encoder_name, train_layer, pooling_method, weight_path, base_path, fold_num, batch_size, is_train=False):\n",
    "    \n",
    "    test_csv_path = os.path.join(base_path, f'model_development_set/{version}/clip_length_ablation_study/{frame_num}_clip/fold_{fold_num}/test.csv')\n",
    "    \n",
    "    test_df = pd.read_csv(test_csv_path)\n",
    "    # dataset\n",
    "    test_dataset = video_dataset(test_csv_path, transforms = apply_transforms(mode=None), img_size = img_size, frame_num = frame_num, is_train = False)\n",
    "    \n",
    "    if model_name == 'LUV_Net' or model_name == 'LUV_Net_TFWO':\n",
    "        # dataloader\n",
    "        test_dataloader =  torch.utils.data.DataLoader(test_dataset, batch_size=batch_size, shuffle = False, collate_fn=collate_video, drop_last=False)\n",
    "    elif model_name == 'CNNLSTM' or model_name == 'CNNTransformer' or model_name == 'C3D' or model_name == 'R2Plus1D':\n",
    "        test_dataloader =  torch.utils.data.DataLoader(test_dataset, batch_size=batch_size, shuffle = False, drop_last=False)        \n",
    "    \n",
    "    #len_dataloader\n",
    "    len_test_dataset = len(test_dataloader.dataset)\n",
    "    print(len_test_dataset)\n",
    "    # set seed\n",
    "    set_all_seeds(1234)\n",
    "    if model_name == 'LUV_Net' or model_name == 'LUV_Net_TFWO':\n",
    "        if encoder_name == 'densenet161':\n",
    "            encoder = timm.create_model('densenet161', pretrained=False, num_classes=0)\n",
    "        elif encoder_name == 'imgnet_init_densenet161':\n",
    "            encoder = timm.create_model('densenet161', pretrained=False, num_classes=0)\n",
    "        elif encoder_name == 'densenet161_scratch':\n",
    "            encoder = timm.create_model('densenet161', pretrained=False, num_classes=0)\n",
    "        elif encoder_name == 'imgnet_init_resnet50':\n",
    "            encoder = timm.create_model('resnet50', pretrained=False, num_classes=0)\n",
    "        elif encoder_name == 'resnet50_scratch':\n",
    "            encoder = timm.create_model('resnet50', pretrained=False, num_classes=0)\n",
    "            \n",
    "    elif model_name == 'CNNLSTM':\n",
    "        encoder = timm.create_model('densenet161', pretrained=False)\n",
    "        \n",
    "    sigmoid = nn.Sigmoid()\n",
    "    \n",
    "    # Set up model\n",
    "    if model_name == 'LUV_Net':\n",
    "#         num_heads = 32\n",
    "        num_frames = [30]*batch_size\n",
    "        \n",
    "        model = LUV_Net(encoder, num_heads, pooling_method = pooling_method, kernel_width= kernel_size)\n",
    "    \n",
    "    elif model_name == 'LUV_Net_TFWO':\n",
    "        num_frames = [30]*batch_size\n",
    "        \n",
    "        model = LUV_Net_TFWO(encoder, num_heads, pooling_method = pooling_method)\n",
    "        \n",
    "    elif model_name == 'CNNLSTM' :\n",
    "        model = CNNLSTM(encoder = encoder)\n",
    "    \n",
    "    elif model_name == 'C3D':\n",
    "        model = C3D(num_classes=4, pretrained=False)  \n",
    "         \n",
    "    elif model_name == 'R2Plus1D':\n",
    "        model = R2Plus1DClassifier(num_classes=4, layer_sizes=(2, 2, 2, 2))\n",
    "        \n",
    "    gpu_index = 1\n",
    "    device = torch.device(f\"cuda:{gpu_index}\" if torch.cuda.is_available() else \"cpu\")\n",
    "\n",
    "    check_point = torch.load(weight_path, map_location=device)\n",
    "    # torch.nn.DataParallel을 사용하여 모델을 학습하고 저장한 경우에 이러한 접두어가 자주 발생\n",
    "    if 'module' in list(check_point['model'].keys())[0]:\n",
    "        # If so, remove the 'module.' prefix from the keys in the state_dict\n",
    "        new_state_dict = {k[7:]: v for k, v in check_point['model'].items()}\n",
    "        model.load_state_dict(new_state_dict)\n",
    "    else:\n",
    "        # If not using DataParallel, simply load the state_dict\n",
    "        model.load_state_dict(check_point['model'])\n",
    "    \n",
    "    model = model.to(device)\n",
    "    \n",
    "    # load best threshold\n",
    "    best_val_thres = check_point['best_valid_thres']\n",
    "    print(best_val_thres)\n",
    "    # list\n",
    "    model_outputs = []\n",
    "    test_labels = []\n",
    "    test_preds = []\n",
    "    \n",
    "    #acc\n",
    "    test_running_acc = 0.0\n",
    "    \n",
    "    model.eval() \n",
    "    with torch.no_grad():    \n",
    "        for data in tqdm(test_dataloader, desc=\"Testing\", unit=\"batch\"):    \n",
    "            test_img, test_label, path = data\n",
    "#             print(test_img.shape)\n",
    "            test_img = test_img.float().to(device)\n",
    "            test_label = torch.stack([label.to(device) for label in test_label])\n",
    "            \n",
    "#             print(test_img.shape)\n",
    "            test_output, attentions = model(test_img, num_frames)\n",
    "#             print(test_output)\n",
    "            test_output = sigmoid(test_output)\n",
    "            model_outputs.append(test_output[0].cpu().detach().numpy().tolist())\n",
    "        \n",
    "            test_preds_np = test_output[0].data.cpu().numpy()\n",
    "            \n",
    "            test_preds_np = np.where(test_preds_np >= best_val_thres, 1, 0)\n",
    "            \n",
    "            test_preds.append(test_preds_np.tolist())\n",
    "            test_labels.append(test_label[0].detach().cpu().numpy().tolist())\n",
    "            \n",
    "            np_test_label = test_label[0].cpu().numpy()\n",
    "            test_accuracy = accuracy_score(np_test_label, test_preds_np)\n",
    "            \n",
    "            test_running_acc += test_accuracy\n",
    "            \n",
    "#             print(path[0].split('/')[-1].split('.')[0])\n",
    "#             print(f\"prediction : {test_preds_np}, test_label : {np_test_label}\")\n",
    "#             print(f\"correct_num : {test_accuracy}\")\n",
    "#             print('-'*20)\n",
    "            \n",
    "    test_accuracy = test_running_acc / len_test_dataset\n",
    "    print(f\"test_running_acc : {test_running_acc}\")\n",
    "    \n",
    "    return test_accuracy, test_labels, test_preds, model_outputs"
   ]
  },
  {
   "cell_type": "code",
   "execution_count": null,
   "id": "b393b7a4",
   "metadata": {
    "scrolled": true,
    "tags": []
   },
   "outputs": [
    {
     "name": "stdout",
     "output_type": "stream",
     "text": [
      "216\n",
      "[0.16362546, 0.28587022, 0.004661878, 0.12426339]\n"
     ]
    },
    {
     "name": "stderr",
     "output_type": "stream",
     "text": [
      "Testing: 100% 216/216 [01:41<00:00,  2.14batch/s]"
     ]
    },
    {
     "name": "stdout",
     "output_type": "stream",
     "text": [
      "test_running_acc : 143.75\n"
     ]
    },
    {
     "name": "stderr",
     "output_type": "stream",
     "text": [
      "\n"
     ]
    }
   ],
   "source": [
    "fold_num = 3\n",
    "\n",
    "model_name = 'LUV_Net'\n",
    "pooling_method = 'attn_multilabel_conv'\n",
    "\n",
    "# model_name = 'LUV_Net_TFWO'\n",
    "# pooling_method = 'attn_multilabel_conv'\n",
    "\n",
    "# pooling_method = 'max'\n",
    "# pooling_method = 'avg'\n",
    "\n",
    "chk_std = \"loss\"\n",
    "# chk_std = \"auc\"\n",
    "\n",
    "version = 'version_1'\n",
    "train_layer = 'all'\n",
    "# train_layer = 'pooling'\n",
    "\n",
    "# encoder_name = 'densenet161'\n",
    "encoder_name = 'imgnet_init_densenet161'\n",
    "\n",
    "# encoder_name = 'imgnet_init_resnet50'\n",
    "\n",
    "model_test_rate = \"0.2\"\n",
    "\n",
    "encoder_batch_size = 32\n",
    "# encoder_batch_size = 128\n",
    "\n",
    "batch_size = 4\n",
    "# batch_size = 8\n",
    "# batch_size = 16\n",
    "\n",
    "lr = '1e-06'\n",
    "# lr = '0.000001'\n",
    "# lr = 0.0001\n",
    "\n",
    "# model_output_class = 4\n",
    "model_output_class = 5\n",
    "\n",
    "frame_num = 70\n",
    "\n",
    "head_num = 8\n",
    "\n",
    "k_size = 13\n",
    "\n",
    "img_size = 256\n",
    "\n",
    "weight_path = f'/home/work/LUS/Results/video_model2/seed234_test{model_test_rate}_std_{chk_std}_{version}_{train_layer}_{model_output_class}_artifacts_duplicate_batch{batch_size}_256_{frame_num}frame_{model_name}_{encoder_name}_{encoder_batch_size}_{pooling_method}_{head_num}head_{k_size}ksize_fold{fold_num}_lr{lr}_checkpoint'\n",
    "base_path = f'/home/work/LUS/Dataset/csv_files/clip_multilabel_classification'\n",
    "\n",
    "is_train = False\n",
    "test_accuracy, test_labels, test_preds, model_output = test(frame_num = frame_num, \n",
    "                                                            model_test_rate = model_test_rate,\n",
    "                                                            version = version,\n",
    "                                                            img_size = img_size,\n",
    "                                                            model_output_class = model_output_class,\n",
    "                                                            model_name=model_name,\n",
    "                                                            num_heads = head_num,\n",
    "                                                            kernel_size = k_size,\n",
    "                                                            encoder_name = encoder_name,\n",
    "                                                            train_layer = train_layer,\n",
    "                                                            pooling_method = pooling_method,\n",
    "                                                            weight_path=weight_path,\n",
    "                                                            base_path=base_path,\n",
    "                                                            fold_num = fold_num,\n",
    "                                                            batch_size=1, is_train=False)\n",
    "# LUS/Results/clip_base/multilabel_classification/test_0.2_std_loss_before_all_data_version_1_all_4_artifacts_duplicate_batch4_256_30frame_USVN_densenet161_attn_fold0_checkpoint"
   ]
  },
  {
   "cell_type": "code",
   "execution_count": 85,
   "id": "368ca052",
   "metadata": {},
   "outputs": [],
   "source": [
    "labels = ['A-line', 'total-B-line', 'Consolidation', 'Pleural effusion']\n",
    "\n",
    "models_output_df = pd.DataFrame(columns=labels)"
   ]
  },
  {
   "cell_type": "code",
   "execution_count": 86,
   "id": "e8b6c52a",
   "metadata": {},
   "outputs": [
    {
     "data": {
      "text/html": [
       "<div>\n",
       "<style scoped>\n",
       "    .dataframe tbody tr th:only-of-type {\n",
       "        vertical-align: middle;\n",
       "    }\n",
       "\n",
       "    .dataframe tbody tr th {\n",
       "        vertical-align: top;\n",
       "    }\n",
       "\n",
       "    .dataframe thead th {\n",
       "        text-align: right;\n",
       "    }\n",
       "</style>\n",
       "<table border=\"1\" class=\"dataframe\">\n",
       "  <thead>\n",
       "    <tr style=\"text-align: right;\">\n",
       "      <th></th>\n",
       "      <th>LUVM_A-line</th>\n",
       "      <th>LUVM_total-B-line</th>\n",
       "      <th>LUVM_Consolidation</th>\n",
       "      <th>LUVM_Pleural effusion</th>\n",
       "    </tr>\n",
       "  </thead>\n",
       "  <tbody>\n",
       "    <tr>\n",
       "      <th>0</th>\n",
       "      <td>0.741523</td>\n",
       "      <td>0.041835</td>\n",
       "      <td>0.051230</td>\n",
       "      <td>0.029731</td>\n",
       "    </tr>\n",
       "    <tr>\n",
       "      <th>1</th>\n",
       "      <td>0.404222</td>\n",
       "      <td>0.148453</td>\n",
       "      <td>0.069259</td>\n",
       "      <td>0.041324</td>\n",
       "    </tr>\n",
       "    <tr>\n",
       "      <th>2</th>\n",
       "      <td>0.121518</td>\n",
       "      <td>0.421342</td>\n",
       "      <td>0.117214</td>\n",
       "      <td>0.007764</td>\n",
       "    </tr>\n",
       "    <tr>\n",
       "      <th>3</th>\n",
       "      <td>0.091310</td>\n",
       "      <td>0.474165</td>\n",
       "      <td>0.161142</td>\n",
       "      <td>0.010789</td>\n",
       "    </tr>\n",
       "    <tr>\n",
       "      <th>4</th>\n",
       "      <td>0.021348</td>\n",
       "      <td>0.562418</td>\n",
       "      <td>0.253553</td>\n",
       "      <td>0.237352</td>\n",
       "    </tr>\n",
       "  </tbody>\n",
       "</table>\n",
       "</div>"
      ],
      "text/plain": [
       "   LUVM_A-line  LUVM_total-B-line  LUVM_Consolidation  LUVM_Pleural effusion\n",
       "0     0.741523           0.041835            0.051230               0.029731\n",
       "1     0.404222           0.148453            0.069259               0.041324\n",
       "2     0.121518           0.421342            0.117214               0.007764\n",
       "3     0.091310           0.474165            0.161142               0.010789\n",
       "4     0.021348           0.562418            0.253553               0.237352"
      ]
     },
     "execution_count": 86,
     "metadata": {},
     "output_type": "execute_result"
    }
   ],
   "source": [
    "models_output_df = models_output_to_dataframe(models_output_df, model_name, labels, model_output)\n",
    "models_output_df.head()"
   ]
  },
  {
   "cell_type": "code",
   "execution_count": 87,
   "id": "3870b858",
   "metadata": {},
   "outputs": [
    {
     "data": {
      "text/plain": [
       "'LUVM'"
      ]
     },
     "execution_count": 87,
     "metadata": {},
     "output_type": "execute_result"
    }
   ],
   "source": [
    "model_version\n",
    "model_name"
   ]
  },
  {
   "cell_type": "code",
   "execution_count": 88,
   "id": "0e3f4bb3",
   "metadata": {},
   "outputs": [
    {
     "name": "stdout",
     "output_type": "stream",
     "text": [
      "(216, 4)\n",
      "(216, 4)\n",
      "(216, 4)\n"
     ]
    }
   ],
   "source": [
    "print(np.array(model_output).shape)\n",
    "print(np.array(test_preds).shape)\n",
    "print(np.array(test_labels).shape)\n",
    "# test_preds"
   ]
  },
  {
   "cell_type": "code",
   "execution_count": 89,
   "id": "78c668ab",
   "metadata": {},
   "outputs": [
    {
     "data": {
      "text/plain": [
       "[0.7415226101875305,\n",
       " 0.04183533415198326,\n",
       " 0.051229510456323624,\n",
       " 0.029730787500739098]"
      ]
     },
     "execution_count": 89,
     "metadata": {},
     "output_type": "execute_result"
    }
   ],
   "source": [
    "model_output[0]"
   ]
  },
  {
   "cell_type": "code",
   "execution_count": 90,
   "id": "aac13e8f",
   "metadata": {},
   "outputs": [
    {
     "name": "stdout",
     "output_type": "stream",
     "text": [
      "[[0.7415226101875305, 0.04183533415198326, 0.051229510456323624, 0.029730787500739098], [0.40422186255455017, 0.14845329523086548, 0.06925923377275467, 0.04132367670536041], [0.12151806801557541, 0.4213421940803528, 0.11721445620059967, 0.0077643669210374355], [0.09130967408418655, 0.47416549921035767, 0.1611415445804596, 0.0107891159132123], [0.02134842611849308, 0.5624175667762756, 0.25355321168899536, 0.23735187947750092]]\n",
      "[[1.0, 0.0, 0.0, 0.0], [1.0, 0.0, 0.0, 0.0], [1.0, 0.0, 0.0, 0.0], [1.0, 0.0, 0.0, 0.0], [0.0, 0.0, 1.0, 1.0]]\n",
      "[[1, 0, 1, 0], [1, 0, 1, 0], [0, 1, 1, 0], [0, 1, 1, 0], [0, 1, 1, 1]]\n"
     ]
    }
   ],
   "source": [
    "print(model_output[:5])\n",
    "print(test_labels[:5])\n",
    "print(test_preds[:5])"
   ]
  },
  {
   "cell_type": "code",
   "execution_count": 91,
   "id": "08c1a199",
   "metadata": {},
   "outputs": [
    {
     "name": "stdout",
     "output_type": "stream",
     "text": [
      "roc_auc_score = 0.893\n"
     ]
    }
   ],
   "source": [
    "result1 = roc_auc_score(test_labels, model_output, multi_class='ovr')\n",
    "print('roc_auc_score = %.3f' %(result1))"
   ]
  },
  {
   "cell_type": "code",
   "execution_count": 92,
   "id": "2aafecd5",
   "metadata": {},
   "outputs": [
    {
     "data": {
      "image/png": "[encoded data removed]",
      "text/plain": [
       "<Figure size 1500x1200 with 4 Axes>"
      ]
     },
     "metadata": {},
     "output_type": "display_data"
    }
   ],
   "source": [
    "from sklearn.metrics import ConfusionMatrixDisplay, multilabel_confusion_matrix\n",
    "\n",
    "confusion_mat = multilabel_confusion_matrix(test_labels, test_preds)\n",
    "\n",
    "all_labels = [\n",
    "            'A-line',\n",
    "#             'B-line',\n",
    "#             'Confluent B-line',\n",
    "            'B-lines',\n",
    "            'Consolidation',\n",
    "            'Pleural effusion'\n",
    "            ]\n",
    "\n",
    "fig, axs = plt.subplots(nrows=2, ncols=2, figsize=(15, 12))\n",
    "plt.subplots_adjust(wspace=0.1, hspace=0.2)\n",
    "\n",
    "# axs는 2x3 array이므로 axs.flat으로 iterator를 생성합니다.\n",
    "ax_iterator = iter(axs.flat)\n",
    "\n",
    "for idx, label in enumerate(all_labels):\n",
    "    ax = next(ax_iterator)  # 다음 subplot을 가져옵니다.\n",
    "    disp = ConfusionMatrixDisplay(confusion_matrix=confusion_mat[idx], display_labels=[0, 1])\n",
    "    disp.plot(ax=ax, cmap='Blues', colorbar=False)  # 각 subplot에 colorbar를 제거합니다.\n",
    "    ax.set_title(label, fontsize=20)  # 레이블의 글자 크기를 조정합니다.\n",
    "    \n",
    "    # 각 축에 대해 텍스트 크기를 설정합니다.\n",
    "    ax.set_xlabel('Predicted label', fontsize=15)  # x축 라벨 크기 설정\n",
    "    ax.set_ylabel('True label', fontsize=15)       # y축 라벨 크기 설정\n",
    "    ax.tick_params(axis='both', which='major', labelsize=14)  # 축 글자 크기 설정\n",
    "    \n",
    "    for texts in [disp.text_]:\n",
    "        for text in texts.flatten():\n",
    "            text.set_fontsize(20)  # 숫자 텍스트의 크기를 조정합니다.\n",
    "\n",
    "# 남는 subplot을 숨깁니다.\n",
    "for ax in ax_iterator:\n",
    "    ax.set_visible(False)\n",
    "\n",
    "plt.show()"
   ]
  },
  {
   "cell_type": "code",
   "execution_count": 93,
   "id": "20732b7e",
   "metadata": {},
   "outputs": [
    {
     "name": "stdout",
     "output_type": "stream",
     "text": [
      "Micro-averaged precision :  0.833934151026412\n",
      "recall :  0.6655092592592593\n",
      "f1-score :  0.6936519666895863\n"
     ]
    }
   ],
   "source": [
    "# precision_score, recall_score, f1_score 함수를 사용하여 각 레이블별 성능을 계산합니다.\n",
    "from sklearn.metrics import precision_score, recall_score, f1_score\n",
    "\n",
    "test_prediction_flat = np.array(test_preds).flatten()\n",
    "test_labels_flat = np.array(test_labels).flatten()\n",
    "\n",
    "precision = precision_score(test_labels_flat, test_prediction_flat, average='weighted')\n",
    "recall = recall_score(test_labels_flat, test_prediction_flat, average='weighted')\n",
    "f1 = f1_score(test_labels_flat, test_prediction_flat, average='weighted')\n",
    "\n",
    "print('Micro-averaged precision : ', precision)\n",
    "print('recall : ', recall)\n",
    "print('f1-score : ', f1)"
   ]
  },
  {
   "cell_type": "code",
   "execution_count": 94,
   "id": "29bf0b86",
   "metadata": {},
   "outputs": [
    {
     "name": "stdout",
     "output_type": "stream",
     "text": [
      "                  precision    recall  f1-score   support\n",
      "\n",
      "          A-line       0.72      0.77      0.75        53\n",
      "         B-lines       0.32      0.89      0.47        45\n",
      "   Consolidation       0.28      1.00      0.44        60\n",
      "Pleural effusion       0.63      1.00      0.77        32\n",
      "\n",
      "       micro avg       0.39      0.91      0.54       190\n",
      "       macro avg       0.49      0.92      0.61       190\n",
      "    weighted avg       0.47      0.91      0.59       190\n",
      "     samples avg       0.41      0.70      0.50       190\n",
      "\n"
     ]
    }
   ],
   "source": [
    "print(classification_report(\n",
    "    test_labels,\n",
    "    test_preds,\n",
    "    output_dict=False,\n",
    "    target_names=[\n",
    "            'A-line',\n",
    "#             'B-line',\n",
    "#             'Confluent B-line',\n",
    "            'B-lines',\n",
    "            'Consolidation',\n",
    "            'Pleural effusion'\n",
    "            ]\n",
    "))"
   ]
  },
  {
   "cell_type": "code",
   "execution_count": 95,
   "id": "48bdf0fe",
   "metadata": {},
   "outputs": [
    {
     "name": "stdout",
     "output_type": "stream",
     "text": [
      "A-line results\n",
      "Best Threshold=0.139749, sensitivity = 0.830, specificity = 0.877, J=0.707\n",
      "              precision    recall  f1-score   support\n",
      "\n",
      "      A-line       0.94      0.88      0.91       163\n",
      "      Others       0.69      0.83      0.75        53\n",
      "\n",
      "    accuracy                           0.87       216\n",
      "   macro avg       0.81      0.85      0.83       216\n",
      "weighted avg       0.88      0.87      0.87       216\n",
      "\n"
     ]
    }
   ],
   "source": [
    "from numpy import argmax\n",
    "\n",
    "# calculate roc curves\n",
    "fpr, tpr, thresholds = roc_curve(np.array(test_labels)[:, 0], np.array(model_output)[:, 0])\n",
    "\n",
    "# get the best threshold\n",
    "J = tpr - fpr\n",
    "ix = argmax(J)\n",
    "best_thresh = thresholds[ix]\n",
    "print('A-line results')\n",
    "print('Best Threshold=%f, sensitivity = %.3f, specificity = %.3f, J=%.3f' % (best_thresh, tpr[ix], 1-fpr[ix], J[ix]))\n",
    "\n",
    "y_prob_pred = (np.array(model_output)[:, 0] >= best_thresh).astype(bool)\n",
    "print(classification_report(np.array(test_labels)[:, 0], y_prob_pred, target_names=['A-line', 'Others']))"
   ]
  },
  {
   "cell_type": "code",
   "execution_count": 96,
   "id": "e5abf973",
   "metadata": {},
   "outputs": [
    {
     "name": "stdout",
     "output_type": "stream",
     "text": [
      "B-lines results\n",
      "Best Threshold=0.577539, sensitivity = 0.733, specificity = 0.807, J=0.540\n",
      "              precision    recall  f1-score   support\n",
      "\n",
      "      B-line       0.92      0.81      0.86       171\n",
      "      Others       0.50      0.73      0.59        45\n",
      "\n",
      "    accuracy                           0.79       216\n",
      "   macro avg       0.71      0.77      0.73       216\n",
      "weighted avg       0.83      0.79      0.80       216\n",
      "\n"
     ]
    }
   ],
   "source": [
    "from numpy import argmax\n",
    "\n",
    "# calculate roc curves\n",
    "fpr, tpr, thresholds = roc_curve(np.array(test_labels)[:, 1], np.array(model_output)[:, 1])\n",
    "\n",
    "# get the best threshold\n",
    "J = tpr - fpr\n",
    "ix = argmax(J)\n",
    "best_thresh = thresholds[ix]\n",
    "print('B-lines results')\n",
    "print('Best Threshold=%f, sensitivity = %.3f, specificity = %.3f, J=%.3f' % (best_thresh, tpr[ix], 1-fpr[ix], J[ix]))\n",
    "\n",
    "y_prob_pred = (np.array(model_output)[:, 1] >= best_thresh).astype(bool)\n",
    "print(classification_report(np.array(test_labels)[:, 1], y_prob_pred, target_names=['B-line', 'Others']))"
   ]
  },
  {
   "cell_type": "code",
   "execution_count": 97,
   "id": "84008b73",
   "metadata": {},
   "outputs": [
    {
     "name": "stdout",
     "output_type": "stream",
     "text": [
      "Consolidation\n",
      "Best Threshold=0.195994, sensitivity = 0.750, specificity = 0.808, J=0.558\n",
      "                  precision    recall  f1-score   support\n",
      "\n",
      "Confluent B-line       0.89      0.81      0.85       156\n",
      "          Others       0.60      0.75      0.67        60\n",
      "\n",
      "        accuracy                           0.79       216\n",
      "       macro avg       0.75      0.78      0.76       216\n",
      "    weighted avg       0.81      0.79      0.80       216\n",
      "\n"
     ]
    }
   ],
   "source": [
    "from numpy import argmax\n",
    "\n",
    "# calculate roc curves\n",
    "fpr, tpr, thresholds = roc_curve(np.array(test_labels)[:, 2], np.array(model_output)[:, 2])\n",
    "\n",
    "# get the best threshold\n",
    "J = tpr - fpr\n",
    "ix = argmax(J)\n",
    "best_thresh = thresholds[ix]\n",
    "# print('Confluent B-line results')\n",
    "print('Consolidation')\n",
    "print('Best Threshold=%f, sensitivity = %.3f, specificity = %.3f, J=%.3f' % (best_thresh, tpr[ix], 1-fpr[ix], J[ix]))\n",
    "\n",
    "y_prob_pred = (np.array(model_output)[:, 2] >= best_thresh).astype(bool)\n",
    "print(classification_report(np.array(test_labels)[:, 2], y_prob_pred, target_names=['Confluent B-line', 'Others']))"
   ]
  },
  {
   "cell_type": "code",
   "execution_count": 98,
   "id": "b125c716",
   "metadata": {},
   "outputs": [
    {
     "name": "stdout",
     "output_type": "stream",
     "text": [
      "Pleural effusion results\n",
      "Best Threshold=0.126984, sensitivity = 1.000, specificity = 0.897, J=0.897\n",
      "                  precision    recall  f1-score   support\n",
      "\n",
      "Pleural effusion       1.00      0.90      0.95       184\n",
      "          Others       0.63      1.00      0.77        32\n",
      "\n",
      "        accuracy                           0.91       216\n",
      "       macro avg       0.81      0.95      0.86       216\n",
      "    weighted avg       0.94      0.91      0.92       216\n",
      "\n"
     ]
    }
   ],
   "source": [
    "from numpy import argmax\n",
    "\n",
    "# calculate roc curves\n",
    "fpr, tpr, thresholds = roc_curve(np.array(test_labels)[:, 3], np.array(model_output)[:, 3])\n",
    "\n",
    "# get the best threshold\n",
    "J = tpr - fpr\n",
    "ix = argmax(J)\n",
    "best_thresh = thresholds[ix]\n",
    "print('Pleural effusion results')\n",
    "print('Best Threshold=%f, sensitivity = %.3f, specificity = %.3f, J=%.3f' % (best_thresh, tpr[ix], 1-fpr[ix], J[ix]))\n",
    "\n",
    "y_prob_pred = (np.array(model_output)[:, 3] >= best_thresh).astype(bool)\n",
    "print(classification_report(np.array(test_labels)[:, 3], y_prob_pred, target_names=['Pleural effusion', 'Others']))"
   ]
  },
  {
   "cell_type": "code",
   "execution_count": 99,
   "id": "74aff07b",
   "metadata": {},
   "outputs": [
    {
     "data": {
      "image/png": "[encoded data removed]",
      "text/plain": [
       "<Figure size 800x800 with 1 Axes>"
      ]
     },
     "metadata": {},
     "output_type": "display_data"
    }
   ],
   "source": [
    "from itertools import cycle\n",
    "from sklearn.metrics import roc_curve, auc\n",
    "\n",
    "\n",
    "# ROC curve를 계산하고 시각화합니다.\n",
    "n_classes = len(test_labels[0])\n",
    "fpr = dict()\n",
    "tpr = dict()\n",
    "roc_auc = dict()\n",
    "for i in range(n_classes):\n",
    "    fpr[i], tpr[i], _ = roc_curve(np.array(test_labels)[:, i], np.array(model_output)[:, i])\n",
    "    roc_auc[i] = auc(fpr[i], tpr[i])\n",
    "\n",
    "# 마이크로 평균 ROC curve를 계산합니다.\n",
    "fpr[\"micro\"], tpr[\"micro\"], _ = roc_curve(np.array(test_labels).ravel(), np.array(model_output).ravel())\n",
    "roc_auc[\"micro\"] = auc(fpr[\"micro\"], tpr[\"micro\"])\n",
    "\n",
    "# 모든 레이블에 대한 평균 ROC curve를 계산합니다.\n",
    "all_fpr = np.unique(np.concatenate([fpr[i] for i in range(n_classes)]))\n",
    "mean_tpr = np.zeros_like(all_fpr)\n",
    "for i in range(n_classes):\n",
    "    mean_tpr += np.interp(all_fpr, fpr[i], tpr[i])\n",
    "mean_tpr /= n_classes\n",
    "fpr[\"macro\"] = all_fpr\n",
    "tpr[\"macro\"] = mean_tpr\n",
    "roc_auc[\"macro\"] = auc(fpr[\"macro\"], tpr[\"macro\"])\n",
    "\n",
    "# ROC curve를 그래프로 시각화합니다.\n",
    "plt.figure(figsize=(8, 8))\n",
    "lw = 2\n",
    "plt.plot(fpr[\"micro\"], tpr[\"micro\"], label='Micro-average ROC curve (area = {0:0.3f})'\n",
    "''.format(roc_auc[\"micro\"]), color='deeppink', linestyle=':', linewidth=4)\n",
    "plt.plot(fpr[\"macro\"], tpr[\"macro\"], label='Macro-average ROC curve (area = {0:0.3f})'\n",
    "''.format(roc_auc[\"macro\"]), color='navy', linestyle=':', linewidth=4)\n",
    "\n",
    "colors = cycle(['aqua', 'darkorange', 'cornflowerblue', 'green', 'red'])\n",
    "all_labels = [\n",
    "            'A-line',\n",
    "#             'B-line',\n",
    "#             'Confluent B-line',\n",
    "            'B-lines',\n",
    "            'Consolidation',\n",
    "            'Pleural effusion'\n",
    "            ]\n",
    "\n",
    "for i, label, color in zip(range(len(all_labels)), all_labels, colors):\n",
    "    plt.plot(fpr[i], tpr[i], color=color, lw=lw,\n",
    "            label='{0} (area = {1:0.3f})'\n",
    "            ''.format(label, roc_auc[i]))\n",
    "plt.plot([0, 1], [0, 1], 'k--', lw=lw)\n",
    "plt.xlim([0.0, 1.0])\n",
    "plt.ylim([0.0, 1.05])\n",
    "plt.xlabel('False Positive Rate')\n",
    "plt.ylabel('True Positive Rate')\n",
    "plt.title('Receiver operating characteristic for multi-label data')\n",
    "plt.legend(loc=\"lower right\", fontsize='large')\n",
    "plt.show()\n"
   ]
  },
  {
   "cell_type": "code",
   "execution_count": 100,
   "id": "595c2893",
   "metadata": {},
   "outputs": [
    {
     "data": {
      "text/html": [
       "<div>\n",
       "<style scoped>\n",
       "    .dataframe tbody tr th:only-of-type {\n",
       "        vertical-align: middle;\n",
       "    }\n",
       "\n",
       "    .dataframe tbody tr th {\n",
       "        vertical-align: top;\n",
       "    }\n",
       "\n",
       "    .dataframe thead th {\n",
       "        text-align: right;\n",
       "    }\n",
       "</style>\n",
       "<table border=\"1\" class=\"dataframe\">\n",
       "  <thead>\n",
       "    <tr style=\"text-align: right;\">\n",
       "      <th></th>\n",
       "      <th>LUVM_A-line</th>\n",
       "      <th>LUVM_total-B-line</th>\n",
       "      <th>LUVM_Consolidation</th>\n",
       "      <th>LUVM_Pleural effusion</th>\n",
       "    </tr>\n",
       "  </thead>\n",
       "  <tbody>\n",
       "    <tr>\n",
       "      <th>0</th>\n",
       "      <td>0.741523</td>\n",
       "      <td>0.041835</td>\n",
       "      <td>0.051230</td>\n",
       "      <td>0.029731</td>\n",
       "    </tr>\n",
       "    <tr>\n",
       "      <th>1</th>\n",
       "      <td>0.404222</td>\n",
       "      <td>0.148453</td>\n",
       "      <td>0.069259</td>\n",
       "      <td>0.041324</td>\n",
       "    </tr>\n",
       "    <tr>\n",
       "      <th>2</th>\n",
       "      <td>0.121518</td>\n",
       "      <td>0.421342</td>\n",
       "      <td>0.117214</td>\n",
       "      <td>0.007764</td>\n",
       "    </tr>\n",
       "    <tr>\n",
       "      <th>3</th>\n",
       "      <td>0.091310</td>\n",
       "      <td>0.474165</td>\n",
       "      <td>0.161142</td>\n",
       "      <td>0.010789</td>\n",
       "    </tr>\n",
       "    <tr>\n",
       "      <th>4</th>\n",
       "      <td>0.021348</td>\n",
       "      <td>0.562418</td>\n",
       "      <td>0.253553</td>\n",
       "      <td>0.237352</td>\n",
       "    </tr>\n",
       "    <tr>\n",
       "      <th>...</th>\n",
       "      <td>...</td>\n",
       "      <td>...</td>\n",
       "      <td>...</td>\n",
       "      <td>...</td>\n",
       "    </tr>\n",
       "    <tr>\n",
       "      <th>211</th>\n",
       "      <td>0.048266</td>\n",
       "      <td>0.047302</td>\n",
       "      <td>0.534777</td>\n",
       "      <td>0.947460</td>\n",
       "    </tr>\n",
       "    <tr>\n",
       "      <th>212</th>\n",
       "      <td>0.035030</td>\n",
       "      <td>0.052488</td>\n",
       "      <td>0.579375</td>\n",
       "      <td>0.955701</td>\n",
       "    </tr>\n",
       "    <tr>\n",
       "      <th>213</th>\n",
       "      <td>0.060939</td>\n",
       "      <td>0.105973</td>\n",
       "      <td>0.454242</td>\n",
       "      <td>0.923996</td>\n",
       "    </tr>\n",
       "    <tr>\n",
       "      <th>214</th>\n",
       "      <td>0.125938</td>\n",
       "      <td>0.064518</td>\n",
       "      <td>0.394167</td>\n",
       "      <td>0.946653</td>\n",
       "    </tr>\n",
       "    <tr>\n",
       "      <th>215</th>\n",
       "      <td>0.121599</td>\n",
       "      <td>0.099480</td>\n",
       "      <td>0.325920</td>\n",
       "      <td>0.947158</td>\n",
       "    </tr>\n",
       "  </tbody>\n",
       "</table>\n",
       "<p>216 rows × 4 columns</p>\n",
       "</div>"
      ],
      "text/plain": [
       "     LUVM_A-line  LUVM_total-B-line  LUVM_Consolidation  LUVM_Pleural effusion\n",
       "0       0.741523           0.041835            0.051230               0.029731\n",
       "1       0.404222           0.148453            0.069259               0.041324\n",
       "2       0.121518           0.421342            0.117214               0.007764\n",
       "3       0.091310           0.474165            0.161142               0.010789\n",
       "4       0.021348           0.562418            0.253553               0.237352\n",
       "..           ...                ...                 ...                    ...\n",
       "211     0.048266           0.047302            0.534777               0.947460\n",
       "212     0.035030           0.052488            0.579375               0.955701\n",
       "213     0.060939           0.105973            0.454242               0.923996\n",
       "214     0.125938           0.064518            0.394167               0.946653\n",
       "215     0.121599           0.099480            0.325920               0.947158\n",
       "\n",
       "[216 rows x 4 columns]"
      ]
     },
     "execution_count": 100,
     "metadata": {},
     "output_type": "execute_result"
    }
   ],
   "source": [
    "models_output_df"
   ]
  },
  {
   "cell_type": "code",
   "execution_count": 101,
   "id": "0bc84f80",
   "metadata": {},
   "outputs": [],
   "source": [
    "# if 'densenet161' in encoder_name:\n",
    "#     # densenet 161\n",
    "#     models_output_df.to_csv(f'/home/work/LUS/Results/model_output_csv/video_level/internal_test/densenet_161/{model_output_class}_artifacts_batch{batch_size}_fold_{fold_num}_{model_name}_{model_version}_output.csv', index = False)\n",
    "# elif 'resnet' in encoder_name:\n",
    "#     # resnet 50 \n",
    "#     models_output_df.to_csv(f'/home/work/LUS/Results/model_output_csv/video_level/internal_test/resnet_50/{model_output_class}_artifacts_batch{batch_size}_fold_{fold_num}_{model_name}_{model_version}_output.csv', index = False)"
   ]
  },
  {
   "cell_type": "code",
   "execution_count": null,
   "id": "3078e13c",
   "metadata": {},
   "outputs": [],
   "source": [
    "models_output_df.to_csv(f'/home/work/LUS/Results/model_output_csv/video_level/internal_test/clip_length_ablation_study/{frame_num}frame_{model_output_class}_artifacts_batch{batch_size}_fold_{fold_num}_{model_name}_{head_num}head_{k_size}ksize_output.csv', index = False)"
   ]
  },
  {
   "cell_type": "code",
   "execution_count": 103,
   "id": "2ae98486",
   "metadata": {},
   "outputs": [
    {
     "data": {
      "text/plain": [
       "'v4____'"
      ]
     },
     "execution_count": 103,
     "metadata": {},
     "output_type": "execute_result"
    }
   ],
   "source": [
    "model_name\n",
    "model_version"
   ]
  },
  {
   "cell_type": "code",
   "execution_count": 104,
   "id": "c9722fd7",
   "metadata": {},
   "outputs": [],
   "source": [
    "def gt_to_dataframe(df, labels, model_output):\n",
    "    \"\"\"\n",
    "    모델 출력을 기존 데이터프레임에 추가하는 함수\n",
    "    \"\"\"\n",
    "    temp_df = pd.DataFrame(model_output, columns=labels)\n",
    "    temp_df.columns = [f'{label}' for label in labels]\n",
    "    \n",
    "    if df.empty:\n",
    "        return temp_df\n",
    "    else:\n",
    "        return pd.concat([df, temp_df], axis=1)"
   ]
  },
  {
   "cell_type": "code",
   "execution_count": 105,
   "id": "6a6aa4f4",
   "metadata": {},
   "outputs": [
    {
     "name": "stdout",
     "output_type": "stream",
     "text": [
      "216\n"
     ]
    },
    {
     "data": {
      "text/html": [
       "<div>\n",
       "<style scoped>\n",
       "    .dataframe tbody tr th:only-of-type {\n",
       "        vertical-align: middle;\n",
       "    }\n",
       "\n",
       "    .dataframe tbody tr th {\n",
       "        vertical-align: top;\n",
       "    }\n",
       "\n",
       "    .dataframe thead th {\n",
       "        text-align: right;\n",
       "    }\n",
       "</style>\n",
       "<table border=\"1\" class=\"dataframe\">\n",
       "  <thead>\n",
       "    <tr style=\"text-align: right;\">\n",
       "      <th></th>\n",
       "      <th>A-line</th>\n",
       "      <th>total-B-line</th>\n",
       "      <th>Consolidation</th>\n",
       "      <th>Pleural effusion</th>\n",
       "    </tr>\n",
       "  </thead>\n",
       "  <tbody>\n",
       "    <tr>\n",
       "      <th>0</th>\n",
       "      <td>1.0</td>\n",
       "      <td>0.0</td>\n",
       "      <td>0.0</td>\n",
       "      <td>0.0</td>\n",
       "    </tr>\n",
       "    <tr>\n",
       "      <th>1</th>\n",
       "      <td>1.0</td>\n",
       "      <td>0.0</td>\n",
       "      <td>0.0</td>\n",
       "      <td>0.0</td>\n",
       "    </tr>\n",
       "    <tr>\n",
       "      <th>2</th>\n",
       "      <td>1.0</td>\n",
       "      <td>0.0</td>\n",
       "      <td>0.0</td>\n",
       "      <td>0.0</td>\n",
       "    </tr>\n",
       "    <tr>\n",
       "      <th>3</th>\n",
       "      <td>1.0</td>\n",
       "      <td>0.0</td>\n",
       "      <td>0.0</td>\n",
       "      <td>0.0</td>\n",
       "    </tr>\n",
       "    <tr>\n",
       "      <th>4</th>\n",
       "      <td>0.0</td>\n",
       "      <td>0.0</td>\n",
       "      <td>1.0</td>\n",
       "      <td>1.0</td>\n",
       "    </tr>\n",
       "  </tbody>\n",
       "</table>\n",
       "</div>"
      ],
      "text/plain": [
       "   A-line  total-B-line  Consolidation  Pleural effusion\n",
       "0     1.0           0.0            0.0               0.0\n",
       "1     1.0           0.0            0.0               0.0\n",
       "2     1.0           0.0            0.0               0.0\n",
       "3     1.0           0.0            0.0               0.0\n",
       "4     0.0           0.0            1.0               1.0"
      ]
     },
     "execution_count": 105,
     "metadata": {},
     "output_type": "execute_result"
    }
   ],
   "source": [
    "labels = ['A-line', 'total-B-line', 'Consolidation', 'Pleural effusion']\n",
    "\n",
    "models_gt_df = pd.DataFrame(columns=labels)\n",
    "\n",
    "models_gt_df = gt_to_dataframe(models_gt_df, labels, test_labels)\n",
    "print(len(models_gt_df))\n",
    "models_gt_df.head()"
   ]
  },
  {
   "cell_type": "markdown",
   "id": "ae2ed441",
   "metadata": {},
   "source": [
    "# 신뢰구간"
   ]
  },
  {
   "cell_type": "code",
   "execution_count": 106,
   "id": "c0404f29",
   "metadata": {},
   "outputs": [],
   "source": [
    "from scipy.stats import norm\n",
    "from compare_auc_delong import *\n",
    "\n",
    "def delong_auc_ci(y_true, y_pred, alpha=0.95):\n",
    "    \"\"\"\n",
    "    DeLong 방법을 이용하여 AUC와 95% 신뢰 구간 계산\n",
    "    Args:\n",
    "    - y_true: 실제 레이블 값 (0과 1로 구성된 numpy 배열)\n",
    "    - y_pred: 예측 확률값 (numpy 배열)\n",
    "    - alpha: 신뢰수준 (기본값 0.95)\n",
    "\n",
    "    Returns:\n",
    "    - auc: AUC 값\n",
    "    - ci: AUC에 대한 신뢰 구간 (하한, 상한)\n",
    "    \"\"\"\n",
    "    auc, auc_var = delong_roc_variance(y_true, y_pred)\n",
    "    auc_std = np.sqrt(auc_var)\n",
    "\n",
    "    # 신뢰 구간 계산\n",
    "    lower_upper_q = np.array([0.5 - alpha / 2, 0.5 + alpha / 2])\n",
    "    ci = norm.ppf(lower_upper_q, loc=auc, scale=auc_std)\n",
    "    \n",
    "    # 신뢰 구간의 범위를 0과 1 사이로 조정\n",
    "    ci[ci < 0] = 0\n",
    "    ci[ci > 1] = 1\n",
    "\n",
    "    return auc, ci"
   ]
  },
  {
   "cell_type": "code",
   "execution_count": 107,
   "id": "e1b0ddba",
   "metadata": {},
   "outputs": [],
   "source": [
    "def cal_CI(gt_df, method_df):\n",
    "    CI_values = {}\n",
    "    auc_values = {}\n",
    "    for idx in range(len(labels)):\n",
    "        gt_series = gt_df.iloc[:, idx]\n",
    "        method__series = method_df.iloc[:, idx]\n",
    "        \n",
    "        auc, ci = delong_auc_ci(gt_series, method__series)\n",
    "        \n",
    "        CI_values[labels[idx]] = ci\n",
    "        auc_values[labels[idx]] = auc.item()\n",
    "        \n",
    "    return CI_values, auc_values"
   ]
  },
  {
   "cell_type": "code",
   "execution_count": 108,
   "id": "2d9efccc",
   "metadata": {},
   "outputs": [
    {
     "data": {
      "text/html": [
       "<div>\n",
       "<style scoped>\n",
       "    .dataframe tbody tr th:only-of-type {\n",
       "        vertical-align: middle;\n",
       "    }\n",
       "\n",
       "    .dataframe tbody tr th {\n",
       "        vertical-align: top;\n",
       "    }\n",
       "\n",
       "    .dataframe thead th {\n",
       "        text-align: right;\n",
       "    }\n",
       "</style>\n",
       "<table border=\"1\" class=\"dataframe\">\n",
       "  <thead>\n",
       "    <tr style=\"text-align: right;\">\n",
       "      <th></th>\n",
       "      <th>Label</th>\n",
       "      <th>AUC</th>\n",
       "      <th>95% CI Lower Bound</th>\n",
       "      <th>95% CI Upper Bound</th>\n",
       "    </tr>\n",
       "  </thead>\n",
       "  <tbody>\n",
       "    <tr>\n",
       "      <th>0</th>\n",
       "      <td>A-line</td>\n",
       "      <td>0.938650</td>\n",
       "      <td>0.907114</td>\n",
       "      <td>0.970186</td>\n",
       "    </tr>\n",
       "    <tr>\n",
       "      <th>1</th>\n",
       "      <td>total-B-line</td>\n",
       "      <td>0.811826</td>\n",
       "      <td>0.743703</td>\n",
       "      <td>0.879949</td>\n",
       "    </tr>\n",
       "    <tr>\n",
       "      <th>2</th>\n",
       "      <td>Consolidation</td>\n",
       "      <td>0.849679</td>\n",
       "      <td>0.792594</td>\n",
       "      <td>0.906765</td>\n",
       "    </tr>\n",
       "    <tr>\n",
       "      <th>3</th>\n",
       "      <td>Pleural effusion</td>\n",
       "      <td>0.971128</td>\n",
       "      <td>0.952205</td>\n",
       "      <td>0.990050</td>\n",
       "    </tr>\n",
       "  </tbody>\n",
       "</table>\n",
       "</div>"
      ],
      "text/plain": [
       "              Label       AUC  95% CI Lower Bound  95% CI Upper Bound\n",
       "0            A-line  0.938650            0.907114            0.970186\n",
       "1      total-B-line  0.811826            0.743703            0.879949\n",
       "2     Consolidation  0.849679            0.792594            0.906765\n",
       "3  Pleural effusion  0.971128            0.952205            0.990050"
      ]
     },
     "execution_count": 108,
     "metadata": {},
     "output_type": "execute_result"
    }
   ],
   "source": [
    "CIs, AUCs = cal_CI(models_gt_df, models_output_df)\n",
    "\n",
    "results = {\n",
    "    'Label': list(AUCs.keys()),\n",
    "    'AUC': list(AUCs.values()),\n",
    "    '95% CI Lower Bound': [ci[0] for ci in CIs.values()],\n",
    "    '95% CI Upper Bound': [ci[1] for ci in CIs.values()]\n",
    "}\n",
    "results_df = pd.DataFrame(results)\n",
    "results_df"
   ]
  },
  {
   "cell_type": "code",
   "execution_count": null,
   "id": "f44a84eb",
   "metadata": {},
   "outputs": [],
   "source": []
  },
  {
   "cell_type": "code",
   "execution_count": null,
   "id": "89ca33d0",
   "metadata": {},
   "outputs": [],
   "source": []
  },
  {
   "cell_type": "markdown",
   "id": "2ae79d9b",
   "metadata": {},
   "source": [
    "# grad-cam"
   ]
  },
  {
   "cell_type": "code",
   "execution_count": 85,
   "id": "b0bd994b",
   "metadata": {},
   "outputs": [],
   "source": [
    "from pytorch_grad_cam import GradCAM\n",
    "from pytorch_grad_cam.utils.model_targets import ClassifierOutputTarget\n",
    "from pytorch_grad_cam.utils.image import show_cam_on_image"
   ]
  },
  {
   "cell_type": "code",
   "execution_count": 86,
   "id": "72aa1b5d",
   "metadata": {},
   "outputs": [],
   "source": [
    "def collate_video(batch_list):\n",
    "    \"\"\"\n",
    "    A custom collate function to be passed to the callate_fn argument when creating a pytorch dataloader.\n",
    "    This is necessary because videos have different lengths. We handle by combining all videos along the time \n",
    "    dimension and returning the number of frames in each video.\n",
    "    \"\"\"\n",
    "    vids = torch.concat([b[0] for b in batch_list])\n",
    "    # num_frames = [b.shape[0] for b in batch_list]\n",
    "    labels = [b[1] for b in batch_list]\n",
    "    paths = [b[2] for b in batch_list]\n",
    "\n",
    "    return vids, labels, paths"
   ]
  },
  {
   "cell_type": "code",
   "execution_count": null,
   "id": "1e5beee2",
   "metadata": {},
   "outputs": [
    {
     "name": "stdout",
     "output_type": "stream",
     "text": [
      "474\n"
     ]
    }
   ],
   "source": [
    "# dataset\n",
    "video_batch_size = 4\n",
    "\n",
    "test_csv_path = os.path.join(base_path, f'model_development_set/{version}/{model_output_class}_artifacts/test_{model_test_rate}/fold_{fold_num}/test.csv')\n",
    "\n",
    "test_df = pd.read_csv(test_csv_path)\n",
    "# dataset\n",
    "test_dataset = video_dataset(test_csv_path, transforms = apply_transforms(mode=None), img_size = img_size, is_train = False)\n",
    "\n",
    "# dataloader\n",
    "test_dataloader =  torch.utils.data.DataLoader(test_dataset, batch_size=1, shuffle = False, collate_fn=collate_video, drop_last=False)\n",
    "\n",
    "#len_dataloader\n",
    "len_test_dataset = len(test_dataloader.dataset)\n",
    "print(len_test_dataset)\n",
    "# set seed\n",
    "set_all_seeds(1234)\n",
    "\n",
    "encoder = timm.create_model('densenet161', pretrained=False, num_classes=0)"
   ]
  },
  {
   "cell_type": "code",
   "execution_count": null,
   "id": "2d7cfd28",
   "metadata": {},
   "outputs": [
    {
     "name": "stdout",
     "output_type": "stream",
     "text": [
      "[0.06845743, 0.22653277, 0.27105176, 0.052114125]\n"
     ]
    },
    {
     "name": "stderr",
     "output_type": "stream",
     "text": [
      "Testing: 100% 474/474 [3:05:46<00:00, 23.51s/batch]  \n"
     ]
    }
   ],
   "source": [
    "LABEL_INT2STR = {0:'A-line', \n",
    "                     1:'B-lines',\n",
    "                     2:'Consolidation',\n",
    "                     3:'Pleural effusion'}\n",
    "\n",
    "sigmoid = nn.Sigmoid()\n",
    "\n",
    "# Set up model\n",
    "num_frames = [30]*batch_size\n",
    "num_heads = 4\n",
    "kernel_size = 13\n",
    "\n",
    "model = MedVidNet_multi_attn_conv3____(encoder, num_heads, pooling_method = pooling_method, kernel_width= kernel_size)\n",
    "\n",
    "gpu_index = 1\n",
    "device = torch.device(f\"cuda:{gpu_index}\" if torch.cuda.is_available() else \"cpu\")\n",
    "\n",
    "check_point = torch.load(weight_path, map_location=device)\n",
    "# torch.nn.DataParallel을 사용하여 모델을 학습하고 저장한 경우에 이러한 접두어가 자주 발생\n",
    "if 'module' in list(check_point['model'].keys())[0]:\n",
    "    # If so, remove the 'module.' prefix from the keys in the state_dict\n",
    "    new_state_dict = {k[7:]: v for k, v in check_point['model'].items()}\n",
    "    model.load_state_dict(new_state_dict)\n",
    "else:\n",
    "    # If not using DataParallel, simply load the state_dict\n",
    "    model.load_state_dict(check_point['model'])\n",
    "\n",
    "model = model.to(device)\n",
    "\n",
    "# load best threshold\n",
    "best_val_thres = check_point['best_valid_thres']\n",
    "print(best_val_thres)\n",
    "\n",
    "model2 = model.encoder\n",
    "\n",
    "layer = model2.features[-1]\n",
    "cam = GradCAM(model=model2, target_layers=[layer])\n",
    "    \n",
    "model.eval() \n",
    "with torch.no_grad():    \n",
    "    for data in tqdm(test_dataloader, desc=\"Testing\", unit=\"batch\"):    \n",
    "        test_img, test_label, path = data\n",
    "#             print(test_img.shape)\n",
    "        test_img = test_img.float().to(device)\n",
    "\n",
    "#             print(test_img.shape)\n",
    "        test_output, attentions = model(test_img, num_frames)\n",
    "#             print(test_output)\n",
    "        test_output = sigmoid(test_output)\n",
    "\n",
    "        test_preds_np = test_output[0].data.cpu().numpy()\n",
    "\n",
    "        test_preds_np = np.where(test_preds_np >= best_val_thres, 1, 0)\n",
    "\n",
    "        np_test_label = test_label[0].cpu().numpy()\n",
    "        \n",
    "        ################################################## \n",
    "        # Grad=-cam\n",
    "    #             print(rgb_vid.shape)\n",
    "    #             print(test_vid.shape)\n",
    "        rgb_vid = load_video(path[0])\n",
    "        cam_results = []\n",
    "        test_img_copy = test_img.clone()\n",
    "        \n",
    "        for frame_idx in range(rgb_vid.shape[0]):\n",
    "            \n",
    "            img = test_img_copy[frame_idx].unsqueeze(0).to(device)\n",
    "\n",
    "    #             print(rgb_vid[frame_idx].shape)\n",
    "            rgb_img = rgb_vid[frame_idx]\n",
    "            rgb_img = np.float32(rgb_img) / 255\n",
    "\n",
    "            with torch.enable_grad():  # 그래디언트 계산 활성화\n",
    "                grayscale_cam = cam(input_tensor=img, aug_smooth=True, eigen_smooth=False)\n",
    "            grayscale_cam = grayscale_cam[0, :]\n",
    "            cam_result = show_cam_on_image(rgb_img, grayscale_cam, use_rgb=True)\n",
    "            cam_results.append(cam_result)\n",
    "                \n",
    "#         print(path[0].split('/')[-1].split('.')[0])\n",
    "#         print(f\"prediction : {test_preds_np}, test_label : {np_test_label}\")\n",
    "        \n",
    "        label_idx = np.where(np_test_label == 1)[0]\n",
    "        labels_lst = [LABEL_INT2STR[idx] for idx in label_idx]\n",
    "\n",
    "        all_labels = ' , '.join(labels_lst)\n",
    "\n",
    "        label_str = ', '.join(np_test_label.astype(int).astype(str))\n",
    "        test_preds_str = ', '.join(test_preds_np.astype(int).astype(str))\n",
    "\n",
    "        patient_id = path[0].split('/')[-1].split('.')[0]\n",
    "        patient_id2 = patient_id.rsplit('_', 2)[0]\n",
    "        file_name = f\"{patient_id}_true[{label_str}]_pred[{test_preds_str}]\"\n",
    "\n",
    "        # Save only the cam_result image\n",
    "        vid_cam_result_output_dir = f'/home/work/LUS/Results/Grad_CAM/video_level/{model_name}_{video_batch_size}batch_{encoder_name}_{num_heads}head_{k_size}ksize_fold{fold_num}/video_cam_internal/{patient_id2}'\n",
    "        if not os.path.exists(vid_cam_result_output_dir):\n",
    "            os.makedirs(vid_cam_result_output_dir)\n",
    "#         print(file_name)\n",
    "        fourcc = cv2.VideoWriter_fourcc('M', 'J', 'P', 'G')\n",
    "        video_filename = f'{vid_cam_result_output_dir}/{file_name}.avi'\n",
    "        out = cv2.VideoWriter(video_filename, fourcc, 30, (256, 256))\n",
    "#         print(len(cam_results))\n",
    "#         print(cam_results[0].shape)\n",
    "        for frame in cam_results:\n",
    "            bgr_frame = cv2.cvtColor(frame, cv2.COLOR_RGB2BGR)\n",
    "            out.write(bgr_frame)  # Write each frame\n",
    "        out.release()"
   ]
  },
  {
   "cell_type": "code",
   "execution_count": null,
   "id": "79ddec0e",
   "metadata": {},
   "outputs": [],
   "source": []
  },
  {
   "cell_type": "code",
   "execution_count": null,
   "id": "021ea277",
   "metadata": {},
   "outputs": [],
   "source": []
  }
 ],
 "metadata": {
  "kernelspec": {
   "display_name": "PyTorch 2.2 (NGC 23.11/Python 3.10) on Backend.AI",
   "language": "python",
   "name": "python3"
  },
  "language_info": {
   "codemirror_mode": {
    "name": "ipython",
    "version": 3
   },
   "file_extension": ".py",
   "mimetype": "text/x-python",
   "name": "python",
   "nbconvert_exporter": "python",
   "pygments_lexer": "ipython3",
   "version": "3.10.12"
  },
  "vscode": {
   "interpreter": {
    "hash": "767d51c1340bd893661ea55ea3124f6de3c7a262a8b4abca0554b478b1e2ff90"
   }
  }
 },
 "nbformat": 4,
 "nbformat_minor": 5
}
