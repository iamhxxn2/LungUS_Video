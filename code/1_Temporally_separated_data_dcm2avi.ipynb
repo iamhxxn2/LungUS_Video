{
 "cells": [
  {
   "cell_type": "code",
   "execution_count": 14,
   "id": "c5fafddb",
   "metadata": {},
   "outputs": [],
   "source": [
    "import re\n",
    "import os\n",
    "import sys\n",
    "import cv2\n",
    "import math\n",
    "import time\n",
    "import shutil\n",
    "\n",
    "import pandas as pd\n",
    "import numpy as np\n",
    "import pydicom\n",
    "from utils import *\n",
    "\n",
    "import matplotlib.pyplot as plt\n",
    "from tqdm import tqdm\n",
    "from shutil import copy\n",
    "from datetime import date\n",
    "from pydicom.uid import UID, generate_uid\n",
    "from multiprocessing import dummy as multiprocessing\n",
    "\n",
    "from glob import glob "
   ]
  },
  {
   "cell_type": "markdown",
   "id": "8dc2ea28",
   "metadata": {},
   "source": [
    "# 1. video data 학습 위한 csv file 생성"
   ]
  },
  {
   "cell_type": "code",
   "execution_count": 35,
   "id": "36e7c35e",
   "metadata": {},
   "outputs": [
    {
     "name": "stdout",
     "output_type": "stream",
     "text": [
      "56\n"
     ]
    }
   ],
   "source": [
    "dcm_root_paths = '/home/work/LUS/Dataset/processed_temporally_separated_dataset_dcm/*/*.dcm'\n",
    "all_dcm_paths = glob(dcm_root_paths)\n",
    "print(len(all_dcm_paths))"
   ]
  },
  {
   "cell_type": "code",
   "execution_count": 36,
   "id": "daaa5ef4",
   "metadata": {},
   "outputs": [
    {
     "data": {
      "text/plain": [
       "'/home/work/LUS/Dataset/processed_temporally_separated_dataset_dcm/*/*.dcm'"
      ]
     },
     "execution_count": 36,
     "metadata": {},
     "output_type": "execute_result"
    }
   ],
   "source": [
    "dcm_root_paths"
   ]
  },
  {
   "cell_type": "code",
   "execution_count": 37,
   "id": "661f3fa0",
   "metadata": {},
   "outputs": [
    {
     "name": "stdout",
     "output_type": "stream",
     "text": [
      "56\n"
     ]
    }
   ],
   "source": [
    "TS_df = pd.read_excel('/home/work/LUS/Dataset/csv_files/Tempollary_Separated_Label.xlsx', index_col=False)\n",
    "\n",
    "print(len(TS_df))"
   ]
  },
  {
   "cell_type": "code",
   "execution_count": 38,
   "id": "5bd1793a",
   "metadata": {},
   "outputs": [
    {
     "data": {
      "text/html": [
       "<div>\n",
       "<style scoped>\n",
       "    .dataframe tbody tr th:only-of-type {\n",
       "        vertical-align: middle;\n",
       "    }\n",
       "\n",
       "    .dataframe tbody tr th {\n",
       "        vertical-align: top;\n",
       "    }\n",
       "\n",
       "    .dataframe thead th {\n",
       "        text-align: right;\n",
       "    }\n",
       "</style>\n",
       "<table border=\"1\" class=\"dataframe\">\n",
       "  <thead>\n",
       "    <tr style=\"text-align: right;\">\n",
       "      <th></th>\n",
       "      <th>Patient \\nnumber</th>\n",
       "      <th>PatientID</th>\n",
       "      <th>Data_idx</th>\n",
       "      <th>StudyDate</th>\n",
       "      <th>Data_type</th>\n",
       "      <th>Point Zone</th>\n",
       "      <th>A-line</th>\n",
       "      <th>B-line</th>\n",
       "      <th>Confluent B-line</th>\n",
       "      <th>Consolidation</th>\n",
       "      <th>Pleural effusion</th>\n",
       "      <th>Lung sliding</th>\n",
       "      <th>Lung Ultrasound Score Leader</th>\n",
       "      <th>Lung Ultrasound Score Final</th>\n",
       "    </tr>\n",
       "  </thead>\n",
       "  <tbody>\n",
       "    <tr>\n",
       "      <th>0</th>\n",
       "      <td>1</td>\n",
       "      <td>44937986</td>\n",
       "      <td>2</td>\n",
       "      <td>20240712</td>\n",
       "      <td>video</td>\n",
       "      <td>NaN</td>\n",
       "      <td>1_152</td>\n",
       "      <td>NaN</td>\n",
       "      <td>NaN</td>\n",
       "      <td>NaN</td>\n",
       "      <td>NaN</td>\n",
       "      <td>1</td>\n",
       "      <td>0</td>\n",
       "      <td>NaN</td>\n",
       "    </tr>\n",
       "    <tr>\n",
       "      <th>1</th>\n",
       "      <td>1</td>\n",
       "      <td>44937986</td>\n",
       "      <td>3</td>\n",
       "      <td>20240712</td>\n",
       "      <td>video</td>\n",
       "      <td>NaN</td>\n",
       "      <td>NaN</td>\n",
       "      <td>NaN</td>\n",
       "      <td>NaN</td>\n",
       "      <td>1_49, 75_124</td>\n",
       "      <td>1_41, 79_119</td>\n",
       "      <td>0</td>\n",
       "      <td>3ce</td>\n",
       "      <td>NaN</td>\n",
       "    </tr>\n",
       "    <tr>\n",
       "      <th>2</th>\n",
       "      <td>1</td>\n",
       "      <td>44937986</td>\n",
       "      <td>4</td>\n",
       "      <td>20240712</td>\n",
       "      <td>video</td>\n",
       "      <td>NaN</td>\n",
       "      <td>NaN</td>\n",
       "      <td>NaN</td>\n",
       "      <td>NaN</td>\n",
       "      <td>1_24, 44_100, 121_150</td>\n",
       "      <td>1_19, 51_96, 131_148</td>\n",
       "      <td>0</td>\n",
       "      <td>3ce</td>\n",
       "      <td>NaN</td>\n",
       "    </tr>\n",
       "    <tr>\n",
       "      <th>3</th>\n",
       "      <td>1</td>\n",
       "      <td>44937986</td>\n",
       "      <td>5</td>\n",
       "      <td>20240712</td>\n",
       "      <td>video</td>\n",
       "      <td>NaN</td>\n",
       "      <td>38_45, 119_124</td>\n",
       "      <td>7_37, 80_114</td>\n",
       "      <td>47_59, 127_137</td>\n",
       "      <td>NaN</td>\n",
       "      <td>NaN</td>\n",
       "      <td>1</td>\n",
       "      <td>2</td>\n",
       "      <td>NaN</td>\n",
       "    </tr>\n",
       "    <tr>\n",
       "      <th>4</th>\n",
       "      <td>1</td>\n",
       "      <td>44937986</td>\n",
       "      <td>6</td>\n",
       "      <td>20240712</td>\n",
       "      <td>video</td>\n",
       "      <td>NaN</td>\n",
       "      <td>76_88</td>\n",
       "      <td>41_61, 132_137</td>\n",
       "      <td>10_22, 66_72, 90_101, 147_151</td>\n",
       "      <td>NaN</td>\n",
       "      <td>NaN</td>\n",
       "      <td>1</td>\n",
       "      <td>2</td>\n",
       "      <td>NaN</td>\n",
       "    </tr>\n",
       "  </tbody>\n",
       "</table>\n",
       "</div>"
      ],
      "text/plain": [
       "   Patient \\nnumber  PatientID  Data_idx  StudyDate Data_type  Point Zone  \\\n",
       "0                 1   44937986         2   20240712     video         NaN   \n",
       "1                 1   44937986         3   20240712     video         NaN   \n",
       "2                 1   44937986         4   20240712     video         NaN   \n",
       "3                 1   44937986         5   20240712     video         NaN   \n",
       "4                 1   44937986         6   20240712     video         NaN   \n",
       "\n",
       "           A-line          B-line               Confluent B-line  \\\n",
       "0           1_152             NaN                            NaN   \n",
       "1             NaN             NaN                            NaN   \n",
       "2             NaN             NaN                            NaN   \n",
       "3  38_45, 119_124    7_37, 80_114                 47_59, 127_137   \n",
       "4           76_88  41_61, 132_137  10_22, 66_72, 90_101, 147_151   \n",
       "\n",
       "           Consolidation      Pleural effusion  Lung sliding  \\\n",
       "0                    NaN                   NaN             1   \n",
       "1           1_49, 75_124          1_41, 79_119             0   \n",
       "2  1_24, 44_100, 121_150  1_19, 51_96, 131_148             0   \n",
       "3                    NaN                   NaN             1   \n",
       "4                    NaN                   NaN             1   \n",
       "\n",
       "  Lung Ultrasound Score Leader  Lung Ultrasound Score Final  \n",
       "0                            0                          NaN  \n",
       "1                          3ce                          NaN  \n",
       "2                          3ce                          NaN  \n",
       "3                            2                          NaN  \n",
       "4                            2                          NaN  "
      ]
     },
     "execution_count": 38,
     "metadata": {},
     "output_type": "execute_result"
    }
   ],
   "source": [
    "TS_df.head()"
   ]
  },
  {
   "cell_type": "code",
   "execution_count": 39,
   "id": "4f9aa064",
   "metadata": {},
   "outputs": [
    {
     "name": "stdout",
     "output_type": "stream",
     "text": [
      "Index(['PatientID', 'Data_idx', 'StudyDate', 'Data_type', 'Point Zone',\n",
      "       'A-line', 'B-line', 'Confluent B-line', 'Consolidation',\n",
      "       'Pleural effusion', 'Lung sliding', 'Lung Ultrasound Score',\n",
      "       'LUS score align', 'study_id'],\n",
      "      dtype='object')\n"
     ]
    }
   ],
   "source": [
    "print(v1_df.columns)"
   ]
  },
  {
   "cell_type": "code",
   "execution_count": 40,
   "id": "f377dc7a",
   "metadata": {},
   "outputs": [
    {
     "data": {
      "text/html": [
       "<div>\n",
       "<style scoped>\n",
       "    .dataframe tbody tr th:only-of-type {\n",
       "        vertical-align: middle;\n",
       "    }\n",
       "\n",
       "    .dataframe tbody tr th {\n",
       "        vertical-align: top;\n",
       "    }\n",
       "\n",
       "    .dataframe thead th {\n",
       "        text-align: right;\n",
       "    }\n",
       "</style>\n",
       "<table border=\"1\" class=\"dataframe\">\n",
       "  <thead>\n",
       "    <tr style=\"text-align: right;\">\n",
       "      <th></th>\n",
       "      <th>Patient \\nnumber</th>\n",
       "      <th>PatientID</th>\n",
       "      <th>Data_idx</th>\n",
       "      <th>StudyDate</th>\n",
       "      <th>Data_type</th>\n",
       "      <th>Point Zone</th>\n",
       "      <th>A-line</th>\n",
       "      <th>B-line</th>\n",
       "      <th>Confluent B-line</th>\n",
       "      <th>Consolidation</th>\n",
       "      <th>Pleural effusion</th>\n",
       "      <th>Lung sliding</th>\n",
       "      <th>Lung Ultrasound Score Leader</th>\n",
       "      <th>Lung Ultrasound Score Final</th>\n",
       "      <th>study_id</th>\n",
       "    </tr>\n",
       "  </thead>\n",
       "  <tbody>\n",
       "    <tr>\n",
       "      <th>0</th>\n",
       "      <td>1</td>\n",
       "      <td>44937986</td>\n",
       "      <td>2</td>\n",
       "      <td>20240712</td>\n",
       "      <td>video</td>\n",
       "      <td>NaN</td>\n",
       "      <td>1_152</td>\n",
       "      <td>NaN</td>\n",
       "      <td>NaN</td>\n",
       "      <td>NaN</td>\n",
       "      <td>NaN</td>\n",
       "      <td>1</td>\n",
       "      <td>0</td>\n",
       "      <td>NaN</td>\n",
       "      <td>44937986_2</td>\n",
       "    </tr>\n",
       "    <tr>\n",
       "      <th>1</th>\n",
       "      <td>1</td>\n",
       "      <td>44937986</td>\n",
       "      <td>3</td>\n",
       "      <td>20240712</td>\n",
       "      <td>video</td>\n",
       "      <td>NaN</td>\n",
       "      <td>NaN</td>\n",
       "      <td>NaN</td>\n",
       "      <td>NaN</td>\n",
       "      <td>1_49, 75_124</td>\n",
       "      <td>1_41, 79_119</td>\n",
       "      <td>0</td>\n",
       "      <td>3ce</td>\n",
       "      <td>NaN</td>\n",
       "      <td>44937986_3</td>\n",
       "    </tr>\n",
       "    <tr>\n",
       "      <th>2</th>\n",
       "      <td>1</td>\n",
       "      <td>44937986</td>\n",
       "      <td>4</td>\n",
       "      <td>20240712</td>\n",
       "      <td>video</td>\n",
       "      <td>NaN</td>\n",
       "      <td>NaN</td>\n",
       "      <td>NaN</td>\n",
       "      <td>NaN</td>\n",
       "      <td>1_24, 44_100, 121_150</td>\n",
       "      <td>1_19, 51_96, 131_148</td>\n",
       "      <td>0</td>\n",
       "      <td>3ce</td>\n",
       "      <td>NaN</td>\n",
       "      <td>44937986_4</td>\n",
       "    </tr>\n",
       "    <tr>\n",
       "      <th>3</th>\n",
       "      <td>1</td>\n",
       "      <td>44937986</td>\n",
       "      <td>5</td>\n",
       "      <td>20240712</td>\n",
       "      <td>video</td>\n",
       "      <td>NaN</td>\n",
       "      <td>38_45, 119_124</td>\n",
       "      <td>7_37, 80_114</td>\n",
       "      <td>47_59, 127_137</td>\n",
       "      <td>NaN</td>\n",
       "      <td>NaN</td>\n",
       "      <td>1</td>\n",
       "      <td>2</td>\n",
       "      <td>NaN</td>\n",
       "      <td>44937986_5</td>\n",
       "    </tr>\n",
       "    <tr>\n",
       "      <th>4</th>\n",
       "      <td>1</td>\n",
       "      <td>44937986</td>\n",
       "      <td>6</td>\n",
       "      <td>20240712</td>\n",
       "      <td>video</td>\n",
       "      <td>NaN</td>\n",
       "      <td>76_88</td>\n",
       "      <td>41_61, 132_137</td>\n",
       "      <td>10_22, 66_72, 90_101, 147_151</td>\n",
       "      <td>NaN</td>\n",
       "      <td>NaN</td>\n",
       "      <td>1</td>\n",
       "      <td>2</td>\n",
       "      <td>NaN</td>\n",
       "      <td>44937986_6</td>\n",
       "    </tr>\n",
       "  </tbody>\n",
       "</table>\n",
       "</div>"
      ],
      "text/plain": [
       "   Patient \\nnumber  PatientID  Data_idx  StudyDate Data_type  Point Zone  \\\n",
       "0                 1   44937986         2   20240712     video         NaN   \n",
       "1                 1   44937986         3   20240712     video         NaN   \n",
       "2                 1   44937986         4   20240712     video         NaN   \n",
       "3                 1   44937986         5   20240712     video         NaN   \n",
       "4                 1   44937986         6   20240712     video         NaN   \n",
       "\n",
       "           A-line          B-line               Confluent B-line  \\\n",
       "0           1_152             NaN                            NaN   \n",
       "1             NaN             NaN                            NaN   \n",
       "2             NaN             NaN                            NaN   \n",
       "3  38_45, 119_124    7_37, 80_114                 47_59, 127_137   \n",
       "4           76_88  41_61, 132_137  10_22, 66_72, 90_101, 147_151   \n",
       "\n",
       "           Consolidation      Pleural effusion  Lung sliding  \\\n",
       "0                    NaN                   NaN             1   \n",
       "1           1_49, 75_124          1_41, 79_119             0   \n",
       "2  1_24, 44_100, 121_150  1_19, 51_96, 131_148             0   \n",
       "3                    NaN                   NaN             1   \n",
       "4                    NaN                   NaN             1   \n",
       "\n",
       "  Lung Ultrasound Score Leader  Lung Ultrasound Score Final    study_id  \n",
       "0                            0                          NaN  44937986_2  \n",
       "1                          3ce                          NaN  44937986_3  \n",
       "2                          3ce                          NaN  44937986_4  \n",
       "3                            2                          NaN  44937986_5  \n",
       "4                            2                          NaN  44937986_6  "
      ]
     },
     "execution_count": 40,
     "metadata": {},
     "output_type": "execute_result"
    }
   ],
   "source": [
    "TS_df['study_id'] = [f\"{row['PatientID']}_{row['Data_idx']}\" for idx, row in TS_df.iterrows()]\n",
    "\n",
    "TS_df.head()"
   ]
  },
  {
   "cell_type": "code",
   "execution_count": 41,
   "id": "86b4dbe0",
   "metadata": {},
   "outputs": [],
   "source": [
    "def create_path(row):\n",
    "    root_path = \"/home/work/LUS/Dataset/processed_temporally_separated_dataset_dcm\"\n",
    "    patient_id = int(row['PatientID'])\n",
    "    data_idx = f\"{row['Data_idx']:05d}\"\n",
    "    return f\"{root_path}/{patient_id}/{data_idx}.dcm\""
   ]
  },
  {
   "cell_type": "code",
   "execution_count": 42,
   "id": "81064e4f",
   "metadata": {},
   "outputs": [
    {
     "name": "stdout",
     "output_type": "stream",
     "text": [
      "/home/work/LUS/Dataset/processed_temporally_separated_dataset_dcm/44937986/00002.dcm\n"
     ]
    }
   ],
   "source": [
    "TS_df['dcm_path'] = TS_df.apply(create_path, axis=1)\n",
    "\n",
    "print(TS_df.iloc[0]['dcm_path'])"
   ]
  },
  {
   "cell_type": "markdown",
   "id": "5b51965d",
   "metadata": {},
   "source": [
    "# 2. 모든 영상의 video를 dcm to avi 형식으로 변환"
   ]
  },
  {
   "cell_type": "code",
   "execution_count": 43,
   "id": "ec156c7a",
   "metadata": {},
   "outputs": [],
   "source": [
    "def dicom_2_avi(video_path, destinationFolder, folder_name, file_name):\n",
    "\n",
    "    # fileName = dicom_path.split('/')[-1]\n",
    "\n",
    "    dataset = pydicom.dcmread(video_path, force=True)\n",
    "    if dataset.PixelData:\n",
    "\n",
    "        test_arr = dataset.pixel_array\n",
    "        if len(test_arr.shape) == 4:  # 동영상인 case만 처리\n",
    "\n",
    "            # get information to crop each frame\n",
    "            xmin = dataset[(0x018, 0x6011)].value[0][(0x018, 0x6018)].value\n",
    "            ymin = dataset[(0x018, 0x6011)].value[0][(0x018, 0x601a)].value\n",
    "            xmax = dataset[(0x018, 0x6011)].value[0][(0x018, 0x601c)].value\n",
    "            ymax = dataset[(0x018, 0x6011)].value[0][(0x018, 0x601e)].value\n",
    "\n",
    "            frames, height, width, channels = test_arr.shape\n",
    "            cropped_height = ymax-ymin \n",
    "            cropped_width = xmax-xmin\n",
    "            fps = 30\n",
    "\n",
    "            try:\n",
    "                fps = dataset[(0x18, 0x40)].value\n",
    "            except:\n",
    "                print(\"couldn't find frame rate, default to 30\")\n",
    "\n",
    "            fourcc = cv2.VideoWriter_fourcc('M', 'J', 'P', 'G')\n",
    "            video_filename = os.path.join(destinationFolder, folder_name, file_name.replace('.dcm', '') + '.avi')\n",
    "            out = cv2.VideoWriter(video_filename, fourcc, fps, (cropped_width, cropped_height))\n",
    "            \n",
    "            for i in range(frames):\n",
    "\n",
    "                outputA = test_arr[i, :, :, 0]\n",
    "\n",
    "                # crop image\n",
    "                cropped_frame = outputA[ymin:ymax, xmin:xmax]\n",
    "                \n",
    "                # if you want resize frame, use it\n",
    "                # output = cv2.resize(smallOutput, cropSize, interpolation=cv2.INTER_CUBIC)\n",
    "                \n",
    "                finaloutput = cv2.merge([cropped_frame, cropped_frame, cropped_frame])\n",
    "                out.write(finaloutput)\n",
    "            \n",
    "            out.release()\n",
    "        \n",
    "        else:\n",
    "            print(f'{file_name} is not a video file.')\n",
    "            return 0\n",
    "    else:\n",
    "        print(f'{file_name} is empty.')\n",
    "        return 0"
   ]
  },
  {
   "cell_type": "markdown",
   "id": "3118ccf3",
   "metadata": {},
   "source": [
    "# SNUH_MICU crop point\n",
    "- (x, y, w, h) = (160 109 989 729)\n",
    "- Top Left: (160, 109)\n",
    "- Top Right: (1149, 109)\n",
    "- Bottom Left: (160, 838)\n",
    "- Bottom Right: (1149, 838)"
   ]
  },
  {
   "cell_type": "code",
   "execution_count": 33,
   "id": "5ab764b1",
   "metadata": {},
   "outputs": [],
   "source": [
    "'''# dcm header 정보를 이용해서 crop하는 method가 아닌 cv method 적용한 version\n",
    "def dicom_2_avi_v2(video_path, destinationFolder, folder_name, file_name):\n",
    "\n",
    "    # fileName = dicom_path.split('/')[-1]\n",
    "\n",
    "    dataset = pydicom.dcmread(video_path, force=True)\n",
    "    if dataset.PixelData:\n",
    "\n",
    "        test_arr = dataset.pixel_array\n",
    "        if len(test_arr.shape) == 4:  # 동영상인 case만 처리\n",
    "\n",
    "\n",
    "            frames, height, width, channels = test_arr.shape\n",
    "                    \n",
    "            fps = 30\n",
    "\n",
    "            fourcc = cv2.VideoWriter_fourcc('M', 'J', 'P', 'G')\n",
    "            video_filename = os.path.join(destinationFolder, folder_name, file_name.replace('.dcm', '') + '.avi')\n",
    "            \n",
    "            # snuh 기준\n",
    "            x, y, w, h = 160, 109, 989, 729\n",
    "            \n",
    "            out = cv2.VideoWriter(video_filename, fourcc, fps, (w, h))\n",
    "            \n",
    "            for i in range(frames):\n",
    "                \n",
    "                org_img = test_arr[i, :, :, 0]\n",
    "\n",
    "                # crop image\n",
    "                cropped_img = org_img[y:y+h, x:x+w]\n",
    "                cropped_img = cv2.cvtColor(cropped_img, cv2.COLOR_GRAY2BGR)\n",
    "                \n",
    "                out.write(cropped_img)\n",
    "            \n",
    "            out.release()\n",
    "        \n",
    "        else:\n",
    "            print(f'{file_name} is not a video file.')\n",
    "            return 0\n",
    "    else:\n",
    "        print(f'{file_name} is empty.')\n",
    "        return 0'''"
   ]
  },
  {
   "cell_type": "code",
   "execution_count": 44,
   "id": "e82635d1",
   "metadata": {},
   "outputs": [
    {
     "name": "stderr",
     "output_type": "stream",
     "text": [
      "100% 56/56 [02:13<00:00,  2.39s/it]"
     ]
    },
    {
     "name": "stdout",
     "output_type": "stream",
     "text": [
      "변환 작업이 완료되었습니다.\n"
     ]
    },
    {
     "name": "stderr",
     "output_type": "stream",
     "text": [
      "\n"
     ]
    }
   ],
   "source": [
    "destination_folder = '/home/work/LUS/Dataset/processed_temporally_separated_dataset_avi'\n",
    "# destination_folder = '/home/work/LUS/Dataset/ex'\n",
    "\n",
    "for index, row in tqdm(TS_df.iterrows(), total=len(TS_df)):\n",
    "    dcm_path = row['dcm_path']\n",
    "    \n",
    "    # 파일 이름과 폴더 이름 추출\n",
    "    file_name = os.path.basename(dcm_path)\n",
    "    folder_name = os.path.basename(os.path.dirname(dcm_path))\n",
    "    \n",
    "    # 대상 폴더 생성\n",
    "    os.makedirs(os.path.join(destination_folder, folder_name), exist_ok=True)\n",
    "    \n",
    "    # DICOM을 AVI로 변환\n",
    "    dicom_2_avi(dcm_path, destination_folder, folder_name, file_name)\n",
    "#     dicom_2_avi_v2(dcm_path, destination_folder, folder_name, file_name)\n",
    "\n",
    "print(\"변환 작업이 완료되었습니다.\")"
   ]
  },
  {
   "cell_type": "code",
   "execution_count": 35,
   "id": "5ae2c8af",
   "metadata": {},
   "outputs": [
    {
     "name": "stdout",
     "output_type": "stream",
     "text": [
      "{44937986, 59202567, 61398238, 14184938, 80306634, 60916943, 37292786, 54258868, 50647226, 61308381, 52426014}\n"
     ]
    }
   ],
   "source": [
    "a = [i for i in TS_df['PatientID']]\n",
    "print(set(a))"
   ]
  },
  {
   "cell_type": "code",
   "execution_count": 40,
   "id": "0cc4530a",
   "metadata": {},
   "outputs": [
    {
     "name": "stdout",
     "output_type": "stream",
     "text": [
      "/home/work/LUS/Dataset/processed_dataset_avi/44937986/00002.avi\n",
      "/home/work/LUS/Dataset/processed_dataset_avi/44937986/00002.avi\n"
     ]
    }
   ],
   "source": [
    "# Replace 'processed_dataset_dcm' with 'processed_dataset_avi' and change the extension to '.avi'\n",
    "def convert_to_avi_path(dcm_path):\n",
    "    return dcm_path.replace('processed_dataset_dcm', 'processed_dataset_avi').replace('.dcm', '.avi')\n",
    "\n",
    "# Apply the function to create the 'avi_path' column\n",
    "TS_df['avi_path'] = TS_df['dcm_path'].apply(convert_to_avi_path)\n",
    "\n",
    "print(TS_df['avi_path'].iloc[0])"
   ]
  },
  {
   "cell_type": "code",
   "execution_count": null,
   "id": "ab1dde78",
   "metadata": {},
   "outputs": [],
   "source": []
  },
  {
   "cell_type": "code",
   "execution_count": null,
   "id": "1088fb71",
   "metadata": {},
   "outputs": [],
   "source": []
  }
 ],
 "metadata": {
  "kernelspec": {
   "display_name": "PyTorch 2.2 (NGC 23.11/Python 3.10) on Backend.AI",
   "language": "python",
   "name": "python3"
  },
  "language_info": {
   "codemirror_mode": {
    "name": "ipython",
    "version": 3
   },
   "file_extension": ".py",
   "mimetype": "text/x-python",
   "name": "python",
   "nbconvert_exporter": "python",
   "pygments_lexer": "ipython3",
   "version": "3.10.12"
  },
  "vscode": {
   "interpreter": {
    "hash": "949777d72b0d2535278d3dc13498b2535136f6dfe0678499012e853ee9abcab1"
   }
  }
 },
 "nbformat": 4,
 "nbformat_minor": 5
}
