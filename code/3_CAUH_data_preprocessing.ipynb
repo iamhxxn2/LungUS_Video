{
 "cells": [
  {
   "cell_type": "markdown",
   "id": "a9f6f37c",
   "metadata": {},
   "source": [
    "- 해당 코드 돌리기 전에 비디오 다이콤 > avi형태로 변환 > png 파일로 변환 완료후 실행"
   ]
  },
  {
   "cell_type": "markdown",
   "id": "4fc3cda5",
   "metadata": {},
   "source": [
    "# image preprocessing"
   ]
  },
  {
   "cell_type": "code",
   "execution_count": null,
   "id": "b11c13d1",
   "metadata": {},
   "outputs": [],
   "source": [
    "import numpy as np\n",
    "import os\n",
    "from glob import glob \n",
    "import pandas as pd\n",
    "\n",
    "import matplotlib.pyplot as plt\n",
    "import cv2"
   ]
  },
  {
   "cell_type": "code",
   "execution_count": null,
   "id": "2c70048b",
   "metadata": {},
   "outputs": [],
   "source": []
  },
  {
   "cell_type": "code",
   "execution_count": null,
   "id": "6d33e383",
   "metadata": {},
   "outputs": [],
   "source": []
  },
  {
   "cell_type": "markdown",
   "id": "e8db8d3b",
   "metadata": {},
   "source": [
    "# CSV "
   ]
  },
  {
   "cell_type": "code",
   "execution_count": 57,
   "id": "9c0bdd01",
   "metadata": {},
   "outputs": [],
   "source": [
    "import pandas as pd\n",
    "import re"
   ]
  },
  {
   "cell_type": "code",
   "execution_count": 58,
   "id": "1849691a",
   "metadata": {},
   "outputs": [
    {
     "name": "stdout",
     "output_type": "stream",
     "text": [
      "319\n"
     ]
    }
   ],
   "source": [
    "CAUH_df = pd.read_csv('/home/work/LUS/Dataset/CAUH/[External]CAUH.csv', index_col=False)\n",
    "\n",
    "print(len(CAUH_df))"
   ]
  },
  {
   "cell_type": "code",
   "execution_count": 59,
   "id": "bec6de12",
   "metadata": {},
   "outputs": [
    {
     "data": {
      "text/html": [
       "<div>\n",
       "<style scoped>\n",
       "    .dataframe tbody tr th:only-of-type {\n",
       "        vertical-align: middle;\n",
       "    }\n",
       "\n",
       "    .dataframe tbody tr th {\n",
       "        vertical-align: top;\n",
       "    }\n",
       "\n",
       "    .dataframe thead th {\n",
       "        text-align: right;\n",
       "    }\n",
       "</style>\n",
       "<table border=\"1\" class=\"dataframe\">\n",
       "  <thead>\n",
       "    <tr style=\"text-align: right;\">\n",
       "      <th></th>\n",
       "      <th>filename</th>\n",
       "      <th>A</th>\n",
       "      <th>B</th>\n",
       "      <th>Effusion</th>\n",
       "      <th>Consolidation</th>\n",
       "      <th>File_name</th>\n",
       "      <th>File_id</th>\n",
       "      <th>Patient_id</th>\n",
       "    </tr>\n",
       "  </thead>\n",
       "  <tbody>\n",
       "    <tr>\n",
       "      <th>0</th>\n",
       "      <td>1/1_1.png</td>\n",
       "      <td>0</td>\n",
       "      <td>1</td>\n",
       "      <td>1</td>\n",
       "      <td>1</td>\n",
       "      <td>1/1_1</td>\n",
       "      <td>1_1</td>\n",
       "      <td>1</td>\n",
       "    </tr>\n",
       "    <tr>\n",
       "      <th>1</th>\n",
       "      <td>1/2_1.png</td>\n",
       "      <td>1</td>\n",
       "      <td>0</td>\n",
       "      <td>0</td>\n",
       "      <td>0</td>\n",
       "      <td>1/2_1</td>\n",
       "      <td>2_1</td>\n",
       "      <td>1</td>\n",
       "    </tr>\n",
       "    <tr>\n",
       "      <th>2</th>\n",
       "      <td>1/3_1.png</td>\n",
       "      <td>0</td>\n",
       "      <td>1</td>\n",
       "      <td>0</td>\n",
       "      <td>0</td>\n",
       "      <td>1/3_1</td>\n",
       "      <td>3_1</td>\n",
       "      <td>1</td>\n",
       "    </tr>\n",
       "    <tr>\n",
       "      <th>3</th>\n",
       "      <td>1/4_1.png</td>\n",
       "      <td>0</td>\n",
       "      <td>0</td>\n",
       "      <td>0</td>\n",
       "      <td>0</td>\n",
       "      <td>1/4_1</td>\n",
       "      <td>4_1</td>\n",
       "      <td>1</td>\n",
       "    </tr>\n",
       "    <tr>\n",
       "      <th>4</th>\n",
       "      <td>1/5_1.png</td>\n",
       "      <td>0</td>\n",
       "      <td>0</td>\n",
       "      <td>0</td>\n",
       "      <td>0</td>\n",
       "      <td>1/5_1</td>\n",
       "      <td>5_1</td>\n",
       "      <td>1</td>\n",
       "    </tr>\n",
       "  </tbody>\n",
       "</table>\n",
       "</div>"
      ],
      "text/plain": [
       "    filename  A  B  Effusion  Consolidation File_name File_id Patient_id\n",
       "0  1/1_1.png  0  1         1              1     1/1_1     1_1          1\n",
       "1  1/2_1.png  1  0         0              0     1/2_1     2_1          1\n",
       "2  1/3_1.png  0  1         0              0     1/3_1     3_1          1\n",
       "3  1/4_1.png  0  0         0              0     1/4_1     4_1          1\n",
       "4  1/5_1.png  0  0         0              0     1/5_1     5_1          1"
      ]
     },
     "execution_count": 59,
     "metadata": {},
     "output_type": "execute_result"
    }
   ],
   "source": [
    "CAUH_df['File_name'] = [i.split('.')[0] for i in CAUH_df['filename']]\n",
    "CAUH_df['File_id'] = [i.split('/')[1].split('.')[0] for i in CAUH_df['filename']]\n",
    "CAUH_df['Patient_id'] = [i.split('/')[0] for i in CAUH_df['filename']]\n",
    "CAUH_df.head()"
   ]
  },
  {
   "cell_type": "markdown",
   "id": "f3088ad0",
   "metadata": {},
   "source": [
    "# load png file paths"
   ]
  },
  {
   "cell_type": "code",
   "execution_count": 60,
   "id": "02e726c0",
   "metadata": {},
   "outputs": [],
   "source": [
    "from tqdm import tqdm"
   ]
  },
  {
   "cell_type": "code",
   "execution_count": 61,
   "id": "5a159478",
   "metadata": {},
   "outputs": [],
   "source": [
    "from glob import glob\n",
    "\n",
    "all_png_paths = glob('/home/work/LUS/Dataset/CAUH/CAUH_preprocessed_img_LJH/*/*.png')"
   ]
  },
  {
   "cell_type": "code",
   "execution_count": 62,
   "id": "1efda35e",
   "metadata": {},
   "outputs": [
    {
     "name": "stdout",
     "output_type": "stream",
     "text": [
      "282\n"
     ]
    }
   ],
   "source": [
    "print(len(all_png_paths))"
   ]
  },
  {
   "cell_type": "code",
   "execution_count": 63,
   "id": "9c346387",
   "metadata": {},
   "outputs": [
    {
     "data": {
      "text/plain": [
       "'/home/work/LUS/Dataset/CAUH/CAUH_preprocessed_img_LJH/47/3_1.png'"
      ]
     },
     "execution_count": 63,
     "metadata": {},
     "output_type": "execute_result"
    }
   ],
   "source": [
    "all_png_paths[0]"
   ]
  },
  {
   "cell_type": "code",
   "execution_count": 25,
   "id": "213e8797",
   "metadata": {},
   "outputs": [
    {
     "name": "stderr",
     "output_type": "stream",
     "text": [
      "100% 282/282 [00:00<00:00, 321586.11it/s]\n"
     ]
    }
   ],
   "source": [
    "data2 = []\n",
    "\n",
    "# 이미지 case는 제외하기 위해\n",
    "pattern = re.compile(r'(\\d+_\\d+)_\\d+')\n",
    "\n",
    "for i in tqdm(range(len(all_png_paths))):\n",
    "    Patient_id = all_png_paths[i].split('/')[-2]\n",
    "    File_id = all_png_paths[i].split('/')[-1].split('.')[0]\n",
    "    File_name = f'{Patient_id}/{File_id}'\n",
    "        \n",
    "    data2.append({\n",
    "        'Patient_id': Patient_id,\n",
    "        'File_id' : File_id,\n",
    "        'File_name': File_name\n",
    "    })\n",
    "\n",
    "png_df = pd.DataFrame(data2, columns=['Patient_id', 'File_id', 'File_name'])"
   ]
  },
  {
   "cell_type": "code",
   "execution_count": 26,
   "id": "47deccd9",
   "metadata": {},
   "outputs": [
    {
     "data": {
      "text/html": [
       "<div>\n",
       "<style scoped>\n",
       "    .dataframe tbody tr th:only-of-type {\n",
       "        vertical-align: middle;\n",
       "    }\n",
       "\n",
       "    .dataframe tbody tr th {\n",
       "        vertical-align: top;\n",
       "    }\n",
       "\n",
       "    .dataframe thead th {\n",
       "        text-align: right;\n",
       "    }\n",
       "</style>\n",
       "<table border=\"1\" class=\"dataframe\">\n",
       "  <thead>\n",
       "    <tr style=\"text-align: right;\">\n",
       "      <th></th>\n",
       "      <th>Patient_id</th>\n",
       "      <th>File_id</th>\n",
       "      <th>File_name</th>\n",
       "    </tr>\n",
       "  </thead>\n",
       "  <tbody>\n",
       "    <tr>\n",
       "      <th>0</th>\n",
       "      <td>47</td>\n",
       "      <td>3_1</td>\n",
       "      <td>47/3_1</td>\n",
       "    </tr>\n",
       "    <tr>\n",
       "      <th>1</th>\n",
       "      <td>47</td>\n",
       "      <td>1_1</td>\n",
       "      <td>47/1_1</td>\n",
       "    </tr>\n",
       "    <tr>\n",
       "      <th>2</th>\n",
       "      <td>47</td>\n",
       "      <td>5_1</td>\n",
       "      <td>47/5_1</td>\n",
       "    </tr>\n",
       "    <tr>\n",
       "      <th>3</th>\n",
       "      <td>47</td>\n",
       "      <td>4_1</td>\n",
       "      <td>47/4_1</td>\n",
       "    </tr>\n",
       "    <tr>\n",
       "      <th>4</th>\n",
       "      <td>47</td>\n",
       "      <td>2_1</td>\n",
       "      <td>47/2_1</td>\n",
       "    </tr>\n",
       "  </tbody>\n",
       "</table>\n",
       "</div>"
      ],
      "text/plain": [
       "  Patient_id File_id File_name\n",
       "0         47     3_1    47/3_1\n",
       "1         47     1_1    47/1_1\n",
       "2         47     5_1    47/5_1\n",
       "3         47     4_1    47/4_1\n",
       "4         47     2_1    47/2_1"
      ]
     },
     "execution_count": 26,
     "metadata": {},
     "output_type": "execute_result"
    }
   ],
   "source": [
    "png_df.head()"
   ]
  },
  {
   "cell_type": "markdown",
   "id": "ef4113d3",
   "metadata": {},
   "source": [
    "# png csv, labeling csv merge\n",
    "- linear probe image 제거 : 37 frames"
   ]
  },
  {
   "cell_type": "code",
   "execution_count": 31,
   "id": "606db6cd",
   "metadata": {},
   "outputs": [
    {
     "data": {
      "text/plain": [
       "282"
      ]
     },
     "execution_count": 31,
     "metadata": {},
     "output_type": "execute_result"
    }
   ],
   "source": [
    "len(CAUH_merged_df)"
   ]
  },
  {
   "cell_type": "code",
   "execution_count": 36,
   "id": "d3d09a3a",
   "metadata": {},
   "outputs": [
    {
     "name": "stdout",
     "output_type": "stream",
     "text": [
      "CAUH image 개수: 282\n"
     ]
    },
    {
     "data": {
      "text/html": [
       "<div>\n",
       "<style scoped>\n",
       "    .dataframe tbody tr th:only-of-type {\n",
       "        vertical-align: middle;\n",
       "    }\n",
       "\n",
       "    .dataframe tbody tr th {\n",
       "        vertical-align: top;\n",
       "    }\n",
       "\n",
       "    .dataframe thead th {\n",
       "        text-align: right;\n",
       "    }\n",
       "</style>\n",
       "<table border=\"1\" class=\"dataframe\">\n",
       "  <thead>\n",
       "    <tr style=\"text-align: right;\">\n",
       "      <th></th>\n",
       "      <th>filename</th>\n",
       "      <th>A</th>\n",
       "      <th>B</th>\n",
       "      <th>Effusion</th>\n",
       "      <th>Consolidation</th>\n",
       "      <th>File_name</th>\n",
       "      <th>Patient_id</th>\n",
       "      <th>File_id</th>\n",
       "    </tr>\n",
       "  </thead>\n",
       "  <tbody>\n",
       "    <tr>\n",
       "      <th>0</th>\n",
       "      <td>1/1_1.png</td>\n",
       "      <td>0</td>\n",
       "      <td>1</td>\n",
       "      <td>1</td>\n",
       "      <td>1</td>\n",
       "      <td>1/1_1</td>\n",
       "      <td>1</td>\n",
       "      <td>1_1</td>\n",
       "    </tr>\n",
       "    <tr>\n",
       "      <th>1</th>\n",
       "      <td>1/2_1.png</td>\n",
       "      <td>1</td>\n",
       "      <td>0</td>\n",
       "      <td>0</td>\n",
       "      <td>0</td>\n",
       "      <td>1/2_1</td>\n",
       "      <td>1</td>\n",
       "      <td>2_1</td>\n",
       "    </tr>\n",
       "    <tr>\n",
       "      <th>2</th>\n",
       "      <td>1/3_1.png</td>\n",
       "      <td>0</td>\n",
       "      <td>1</td>\n",
       "      <td>0</td>\n",
       "      <td>0</td>\n",
       "      <td>1/3_1</td>\n",
       "      <td>1</td>\n",
       "      <td>3_1</td>\n",
       "    </tr>\n",
       "    <tr>\n",
       "      <th>3</th>\n",
       "      <td>1/4_1.png</td>\n",
       "      <td>0</td>\n",
       "      <td>0</td>\n",
       "      <td>0</td>\n",
       "      <td>0</td>\n",
       "      <td>1/4_1</td>\n",
       "      <td>1</td>\n",
       "      <td>4_1</td>\n",
       "    </tr>\n",
       "    <tr>\n",
       "      <th>4</th>\n",
       "      <td>1/5_1.png</td>\n",
       "      <td>0</td>\n",
       "      <td>0</td>\n",
       "      <td>0</td>\n",
       "      <td>0</td>\n",
       "      <td>1/5_1</td>\n",
       "      <td>1</td>\n",
       "      <td>5_1</td>\n",
       "    </tr>\n",
       "  </tbody>\n",
       "</table>\n",
       "</div>"
      ],
      "text/plain": [
       "    filename  A  B  Effusion  Consolidation File_name Patient_id File_id\n",
       "0  1/1_1.png  0  1         1              1     1/1_1          1     1_1\n",
       "1  1/2_1.png  1  0         0              0     1/2_1          1     2_1\n",
       "2  1/3_1.png  0  1         0              0     1/3_1          1     3_1\n",
       "3  1/4_1.png  0  0         0              0     1/4_1          1     4_1\n",
       "4  1/5_1.png  0  0         0              0     1/5_1          1     5_1"
      ]
     },
     "execution_count": 36,
     "metadata": {},
     "output_type": "execute_result"
    }
   ],
   "source": [
    "# 데이터프레임 merge\n",
    "CAUH_merged_df = pd.merge(CAUH_df, png_df, on='File_name', how='inner', suffixes=('', '_drop'))\n",
    "\n",
    "columns_to_drop = [col for col in CAUH_merged_df.columns if col.endswith('_drop')]\n",
    "CAUH_merged_df = CAUH_merged_df.drop(columns=columns_to_drop)\n",
    "\n",
    "print(f\"CAUH image 개수: {len(CAUH_merged_df)}\")\n",
    "CAUH_merged_df.head()"
   ]
  },
  {
   "cell_type": "code",
   "execution_count": 37,
   "id": "653a5bab",
   "metadata": {},
   "outputs": [],
   "source": [
    "def create_path(row):\n",
    "    root_path = \"/home/work/LUS/Dataset/CAUH/CAUH_preprocessed_img_LJH\"\n",
    "    patient_id = int(row['Patient_id'])\n",
    "    File_id = row['File_id']\n",
    "    return f\"{root_path}/{patient_id}/{File_id}.png\""
   ]
  },
  {
   "cell_type": "code",
   "execution_count": 38,
   "id": "7c2adbaa",
   "metadata": {},
   "outputs": [
    {
     "name": "stdout",
     "output_type": "stream",
     "text": [
      "/home/work/LUS/Dataset/CAUH/CAUH_preprocessed_img_LJH/1/1_1.png\n"
     ]
    }
   ],
   "source": [
    "CAUH_merged_df['img_path'] = CAUH_merged_df.apply(create_path, axis=1)\n",
    "\n",
    "print(CAUH_merged_df.iloc[0]['img_path'])"
   ]
  },
  {
   "cell_type": "code",
   "execution_count": 41,
   "id": "ba7ae8e6",
   "metadata": {},
   "outputs": [],
   "source": [
    "score_cols = {'A':0, \n",
    "              'B':1, \n",
    "              'Consolidation':3, \n",
    "              'Effusion':3}\n",
    "\n",
    "def assign_LUS_score(row):\n",
    "    # 각 레이블에 대해 점수 계산\n",
    "    scores = []\n",
    "    for label, score in score_cols.items():\n",
    "        if row[label] > 0:  # 레이블이 존재하는 경우\n",
    "            scores.append(score)\n",
    "    # 가장 높은 점수 반환, 레이블이 없는 경우 기본값으로 가장 낮은 점수 할당\n",
    "    return max(scores) if scores else 4"
   ]
  },
  {
   "cell_type": "code",
   "execution_count": 43,
   "id": "6338137b",
   "metadata": {},
   "outputs": [],
   "source": [
    "CAUH_merged_df['Lung ultrasound score_lbl'] = CAUH_merged_df.apply(assign_LUS_score, axis=1)"
   ]
  },
  {
   "cell_type": "code",
   "execution_count": 40,
   "id": "d24459f1",
   "metadata": {},
   "outputs": [],
   "source": [
    "import matplotlib.pyplot as plt\n",
    "import seaborn as sns"
   ]
  },
  {
   "cell_type": "code",
   "execution_count": 44,
   "id": "c615f4ce",
   "metadata": {},
   "outputs": [],
   "source": [
    "value_counts = CAUH_merged_df['Lung ultrasound score_lbl'].value_counts().sort_index()"
   ]
  },
  {
   "cell_type": "code",
   "execution_count": 45,
   "id": "55d3b7cf",
   "metadata": {},
   "outputs": [
    {
     "data": {
      "image/png": "[encoded data removed]",
      "text/plain": [
       "<Figure size 1200x600 with 1 Axes>"
      ]
     },
     "metadata": {},
     "output_type": "display_data"
    }
   ],
   "source": [
    "plt.figure(figsize=(12, 6))\n",
    "bars = plt.bar(value_counts.index, value_counts.values)\n",
    "for bar in bars:\n",
    "    height = bar.get_height()\n",
    "    plt.text(bar.get_x() + bar.get_width()/2., height,\n",
    "             f'{height}',\n",
    "             ha='center', va='bottom')\n",
    "\n",
    "plt.title('Distribution of Lung Ultrasound Scores')\n",
    "plt.xlabel('Lung Ultrasound Score')\n",
    "plt.ylabel('counts')\n",
    "plt.xticks(rotation=0) \n",
    "plt.grid(axis='y', linestyle='--', alpha=0.7)\n",
    "\n",
    "# Total frame 수 계산\n",
    "total_frames = value_counts.sum()\n",
    "\n",
    "# Total frame 수를 그래프 왼쪽 위에 표시\n",
    "plt.text(0.02, 0.98, f'Total Frames: {total_frames}', \n",
    "         transform=plt.gca().transAxes,\n",
    "         verticalalignment='top', horizontalalignment='right',\n",
    "         fontsize=10, fontweight='bold')\n",
    "\n",
    "plt.tight_layout()\n",
    "plt.show()"
   ]
  },
  {
   "cell_type": "markdown",
   "id": "73367df1",
   "metadata": {},
   "source": [
    "- 5 artifacts\n",
    "    - A-line / B-line / confluent B-line / Consolidation / Effusion"
   ]
  },
  {
   "cell_type": "code",
   "execution_count": 46,
   "id": "1f4d22c8",
   "metadata": {},
   "outputs": [
    {
     "name": "stdout",
     "output_type": "stream",
     "text": [
      "282\n",
      "279\n",
      "3\n"
     ]
    }
   ],
   "source": [
    "# score 4 제외\n",
    "class_5_new_df = CAUH_merged_df[CAUH_merged_df['Lung ultrasound score_lbl'] != 4]\n",
    "\n",
    "print(len(CAUH_merged_df))\n",
    "print(len(class_5_new_df))\n",
    "print(len(CAUH_merged_df[CAUH_merged_df['Lung ultrasound score_lbl'] == 4]))"
   ]
  },
  {
   "cell_type": "code",
   "execution_count": 48,
   "id": "6aecab17",
   "metadata": {},
   "outputs": [],
   "source": [
    "import os\n",
    "\n",
    "if not os.path.exists(f'/home/work/LUS/Dataset/csv_files/CAUH/4_artifacts'):\n",
    "    os.makedirs(f'/home/work/LUS/Dataset/csv_files/CAUH/4_artifacts')\n",
    "class_5_new_df.to_csv(f\"/home/work/LUS/Dataset/csv_files/CAUH/4_artifacts/CAUH_test.csv\", index=False)"
   ]
  },
  {
   "cell_type": "code",
   "execution_count": 49,
   "id": "31e721a0",
   "metadata": {},
   "outputs": [
    {
     "data": {
      "text/html": [
       "<div>\n",
       "<style scoped>\n",
       "    .dataframe tbody tr th:only-of-type {\n",
       "        vertical-align: middle;\n",
       "    }\n",
       "\n",
       "    .dataframe tbody tr th {\n",
       "        vertical-align: top;\n",
       "    }\n",
       "\n",
       "    .dataframe thead th {\n",
       "        text-align: right;\n",
       "    }\n",
       "</style>\n",
       "<table border=\"1\" class=\"dataframe\">\n",
       "  <thead>\n",
       "    <tr style=\"text-align: right;\">\n",
       "      <th></th>\n",
       "      <th>filename</th>\n",
       "      <th>A</th>\n",
       "      <th>B</th>\n",
       "      <th>Effusion</th>\n",
       "      <th>Consolidation</th>\n",
       "      <th>File_name</th>\n",
       "      <th>Patient_id</th>\n",
       "      <th>File_id</th>\n",
       "      <th>img_path</th>\n",
       "      <th>Lung ultrasound score_lbl</th>\n",
       "    </tr>\n",
       "  </thead>\n",
       "  <tbody>\n",
       "    <tr>\n",
       "      <th>0</th>\n",
       "      <td>1/1_1.png</td>\n",
       "      <td>0</td>\n",
       "      <td>1</td>\n",
       "      <td>1</td>\n",
       "      <td>1</td>\n",
       "      <td>1/1_1</td>\n",
       "      <td>1</td>\n",
       "      <td>1_1</td>\n",
       "      <td>/home/work/LUS/Dataset/CAUH/CAUH_preprocessed_...</td>\n",
       "      <td>3</td>\n",
       "    </tr>\n",
       "    <tr>\n",
       "      <th>1</th>\n",
       "      <td>1/2_1.png</td>\n",
       "      <td>1</td>\n",
       "      <td>0</td>\n",
       "      <td>0</td>\n",
       "      <td>0</td>\n",
       "      <td>1/2_1</td>\n",
       "      <td>1</td>\n",
       "      <td>2_1</td>\n",
       "      <td>/home/work/LUS/Dataset/CAUH/CAUH_preprocessed_...</td>\n",
       "      <td>0</td>\n",
       "    </tr>\n",
       "    <tr>\n",
       "      <th>2</th>\n",
       "      <td>1/3_1.png</td>\n",
       "      <td>0</td>\n",
       "      <td>1</td>\n",
       "      <td>0</td>\n",
       "      <td>0</td>\n",
       "      <td>1/3_1</td>\n",
       "      <td>1</td>\n",
       "      <td>3_1</td>\n",
       "      <td>/home/work/LUS/Dataset/CAUH/CAUH_preprocessed_...</td>\n",
       "      <td>1</td>\n",
       "    </tr>\n",
       "    <tr>\n",
       "      <th>5</th>\n",
       "      <td>1/6_1.png</td>\n",
       "      <td>1</td>\n",
       "      <td>0</td>\n",
       "      <td>0</td>\n",
       "      <td>0</td>\n",
       "      <td>1/6_1</td>\n",
       "      <td>1</td>\n",
       "      <td>6_1</td>\n",
       "      <td>/home/work/LUS/Dataset/CAUH/CAUH_preprocessed_...</td>\n",
       "      <td>0</td>\n",
       "    </tr>\n",
       "    <tr>\n",
       "      <th>6</th>\n",
       "      <td>10/1_1.png</td>\n",
       "      <td>0</td>\n",
       "      <td>0</td>\n",
       "      <td>1</td>\n",
       "      <td>1</td>\n",
       "      <td>10/1_1</td>\n",
       "      <td>10</td>\n",
       "      <td>1_1</td>\n",
       "      <td>/home/work/LUS/Dataset/CAUH/CAUH_preprocessed_...</td>\n",
       "      <td>3</td>\n",
       "    </tr>\n",
       "    <tr>\n",
       "      <th>...</th>\n",
       "      <td>...</td>\n",
       "      <td>...</td>\n",
       "      <td>...</td>\n",
       "      <td>...</td>\n",
       "      <td>...</td>\n",
       "      <td>...</td>\n",
       "      <td>...</td>\n",
       "      <td>...</td>\n",
       "      <td>...</td>\n",
       "      <td>...</td>\n",
       "    </tr>\n",
       "    <tr>\n",
       "      <th>277</th>\n",
       "      <td>6/6_1.png</td>\n",
       "      <td>1</td>\n",
       "      <td>0</td>\n",
       "      <td>0</td>\n",
       "      <td>0</td>\n",
       "      <td>6/6_1</td>\n",
       "      <td>6</td>\n",
       "      <td>6_1</td>\n",
       "      <td>/home/work/LUS/Dataset/CAUH/CAUH_preprocessed_...</td>\n",
       "      <td>0</td>\n",
       "    </tr>\n",
       "    <tr>\n",
       "      <th>278</th>\n",
       "      <td>6/7_1.png</td>\n",
       "      <td>0</td>\n",
       "      <td>0</td>\n",
       "      <td>0</td>\n",
       "      <td>1</td>\n",
       "      <td>6/7_1</td>\n",
       "      <td>6</td>\n",
       "      <td>7_1</td>\n",
       "      <td>/home/work/LUS/Dataset/CAUH/CAUH_preprocessed_...</td>\n",
       "      <td>3</td>\n",
       "    </tr>\n",
       "    <tr>\n",
       "      <th>279</th>\n",
       "      <td>8/1_1.png</td>\n",
       "      <td>0</td>\n",
       "      <td>0</td>\n",
       "      <td>1</td>\n",
       "      <td>1</td>\n",
       "      <td>8/1_1</td>\n",
       "      <td>8</td>\n",
       "      <td>1_1</td>\n",
       "      <td>/home/work/LUS/Dataset/CAUH/CAUH_preprocessed_...</td>\n",
       "      <td>3</td>\n",
       "    </tr>\n",
       "    <tr>\n",
       "      <th>280</th>\n",
       "      <td>9/1_1.png</td>\n",
       "      <td>0</td>\n",
       "      <td>0</td>\n",
       "      <td>1</td>\n",
       "      <td>0</td>\n",
       "      <td>9/1_1</td>\n",
       "      <td>9</td>\n",
       "      <td>1_1</td>\n",
       "      <td>/home/work/LUS/Dataset/CAUH/CAUH_preprocessed_...</td>\n",
       "      <td>3</td>\n",
       "    </tr>\n",
       "    <tr>\n",
       "      <th>281</th>\n",
       "      <td>9/2_1.png</td>\n",
       "      <td>0</td>\n",
       "      <td>0</td>\n",
       "      <td>1</td>\n",
       "      <td>0</td>\n",
       "      <td>9/2_1</td>\n",
       "      <td>9</td>\n",
       "      <td>2_1</td>\n",
       "      <td>/home/work/LUS/Dataset/CAUH/CAUH_preprocessed_...</td>\n",
       "      <td>3</td>\n",
       "    </tr>\n",
       "  </tbody>\n",
       "</table>\n",
       "<p>279 rows × 10 columns</p>\n",
       "</div>"
      ],
      "text/plain": [
       "       filename  A  B  Effusion  Consolidation File_name Patient_id File_id  \\\n",
       "0     1/1_1.png  0  1         1              1     1/1_1          1     1_1   \n",
       "1     1/2_1.png  1  0         0              0     1/2_1          1     2_1   \n",
       "2     1/3_1.png  0  1         0              0     1/3_1          1     3_1   \n",
       "5     1/6_1.png  1  0         0              0     1/6_1          1     6_1   \n",
       "6    10/1_1.png  0  0         1              1    10/1_1         10     1_1   \n",
       "..          ... .. ..       ...            ...       ...        ...     ...   \n",
       "277   6/6_1.png  1  0         0              0     6/6_1          6     6_1   \n",
       "278   6/7_1.png  0  0         0              1     6/7_1          6     7_1   \n",
       "279   8/1_1.png  0  0         1              1     8/1_1          8     1_1   \n",
       "280   9/1_1.png  0  0         1              0     9/1_1          9     1_1   \n",
       "281   9/2_1.png  0  0         1              0     9/2_1          9     2_1   \n",
       "\n",
       "                                              img_path  \\\n",
       "0    /home/work/LUS/Dataset/CAUH/CAUH_preprocessed_...   \n",
       "1    /home/work/LUS/Dataset/CAUH/CAUH_preprocessed_...   \n",
       "2    /home/work/LUS/Dataset/CAUH/CAUH_preprocessed_...   \n",
       "5    /home/work/LUS/Dataset/CAUH/CAUH_preprocessed_...   \n",
       "6    /home/work/LUS/Dataset/CAUH/CAUH_preprocessed_...   \n",
       "..                                                 ...   \n",
       "277  /home/work/LUS/Dataset/CAUH/CAUH_preprocessed_...   \n",
       "278  /home/work/LUS/Dataset/CAUH/CAUH_preprocessed_...   \n",
       "279  /home/work/LUS/Dataset/CAUH/CAUH_preprocessed_...   \n",
       "280  /home/work/LUS/Dataset/CAUH/CAUH_preprocessed_...   \n",
       "281  /home/work/LUS/Dataset/CAUH/CAUH_preprocessed_...   \n",
       "\n",
       "     Lung ultrasound score_lbl  \n",
       "0                            3  \n",
       "1                            0  \n",
       "2                            1  \n",
       "5                            0  \n",
       "6                            3  \n",
       "..                         ...  \n",
       "277                          0  \n",
       "278                          3  \n",
       "279                          3  \n",
       "280                          3  \n",
       "281                          3  \n",
       "\n",
       "[279 rows x 10 columns]"
      ]
     },
     "execution_count": 49,
     "metadata": {},
     "output_type": "execute_result"
    }
   ],
   "source": [
    "class_5_new_df"
   ]
  },
  {
   "cell_type": "code",
   "execution_count": 50,
   "id": "990fb3d2",
   "metadata": {},
   "outputs": [
    {
     "data": {
      "text/plain": [
       "'/home/work/LUS/Dataset/CAUH/CAUH_preprocessed_img_LJH/1/1_1.png'"
      ]
     },
     "execution_count": 50,
     "metadata": {},
     "output_type": "execute_result"
    }
   ],
   "source": [
    "class_5_new_df['img_path'].iloc[0]"
   ]
  },
  {
   "cell_type": "code",
   "execution_count": null,
   "id": "cbfd722e",
   "metadata": {},
   "outputs": [],
   "source": []
  }
 ],
 "metadata": {
  "kernelspec": {
   "display_name": "PyTorch 2.2 (NGC 23.11/Python 3.10) on Backend.AI",
   "language": "python",
   "name": "python3"
  },
  "language_info": {
   "codemirror_mode": {
    "name": "ipython",
    "version": 3
   },
   "file_extension": ".py",
   "mimetype": "text/x-python",
   "name": "python",
   "nbconvert_exporter": "python",
   "pygments_lexer": "ipython3",
   "version": "3.10.12"
  }
 },
 "nbformat": 4,
 "nbformat_minor": 5
}
