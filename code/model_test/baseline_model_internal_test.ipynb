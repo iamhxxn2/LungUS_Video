{
 "cells": [
  {
   "cell_type": "markdown",
   "id": "ef3b8a04",
   "metadata": {},
   "source": [
    "https://www.kaggle.com/code/satishgunjal/binary-multiclass-classification-using-sklearn"
   ]
  },
  {
   "cell_type": "code",
   "execution_count": 1,
   "id": "095013e2",
   "metadata": {},
   "outputs": [],
   "source": [
    "import argparse\n",
    "import os \n",
    "import csv\n",
    "import wandb\n",
    "# os.environ['CUDA_LAUNCH_BLOCKING'] = \"1\"\n",
    "import warnings\n",
    "warnings.filterwarnings(\"ignore\")\n",
    "\n",
    "import numpy as np\n",
    "import pandas as pd\n",
    "import matplotlib.pyplot as plt\n",
    "\n",
    "import pickle\n",
    "\n",
    "import torch\n",
    "import torch.nn as nn\n",
    "import torch.optim as optim\n",
    "from timm import optim\n",
    "import torch.nn.functional as F\n",
    "from torch.optim import lr_scheduler\n",
    "from torch.optim.lr_scheduler import ReduceLROnPlateau\n",
    "\n",
    "import torchvision\n",
    "from torchvision import models\n",
    "import timm\n",
    "from torch.utils.data import DataLoader, WeightedRandomSampler, default_collate\n",
    "import random\n",
    "from tqdm import tqdm\n",
    "import time\n",
    "\n",
    "from Dataset_ML import *\n",
    "from utils_ML import *\n",
    "\n",
    "from USVN_model import *\n",
    "from cnnlstm import CNNLSTM\n",
    "from C3D_model import C3D\n",
    "from R2Plus1D_model import R2Plus1DClassifier\n",
    "\n",
    "import vidaug.augmentors as va\n",
    "\n",
    "from sklearn.metrics import classification_report, confusion_matrix, accuracy_score\n",
    "from sklearn.metrics import roc_auc_score\n",
    "from sklearn import metrics\n",
    "from sklearn.metrics import roc_curve\n",
    "\n",
    "import math\n",
    "from sklearn.preprocessing import OneHotEncoder"
   ]
  },
  {
   "cell_type": "code",
   "execution_count": 2,
   "id": "afbb06b8",
   "metadata": {},
   "outputs": [],
   "source": [
    "def set_all_seeds(SEED):\n",
    "    # REPRODUCIBILITY\n",
    "    torch.manual_seed(SEED)\n",
    "    torch.cuda.manual_seed(SEED)\n",
    "    torch.cuda.manual_seed_all(SEED)\n",
    "    torch.backends.cudnn.deterministic = True\n",
    "    torch.backends.cudnn.benchmark = False\n",
    "    np.random.seed(SEED)\n",
    "    random.seed(SEED)"
   ]
  },
  {
   "cell_type": "code",
   "execution_count": 3,
   "id": "cd57c2d3",
   "metadata": {},
   "outputs": [],
   "source": [
    "def models_output_to_dataframe(df, model_name, labels, model_output):\n",
    "    \"\"\"\n",
    "    모델 출력을 기존 데이터프레임에 추가하는 함수\n",
    "    \"\"\"\n",
    "    temp_df = pd.DataFrame(model_output, columns=labels)\n",
    "    temp_df.columns = [f'{model_name}_{label}' for label in labels]\n",
    "    \n",
    "    if df.empty:\n",
    "        return temp_df\n",
    "    else:\n",
    "        return pd.concat([df, temp_df], axis=1)"
   ]
  },
  {
   "cell_type": "code",
   "execution_count": 4,
   "id": "23d39d48",
   "metadata": {},
   "outputs": [],
   "source": [
    "def collate_video(batch_list):\n",
    "    \"\"\"\n",
    "    A custom collate function to be passed to the callate_fn argument when creating a pytorch dataloader.\n",
    "    This is necessary because videos have different lengths. We handle by combining all videos along the time \n",
    "    dimension and returning the number of frames in each video.\n",
    "    \"\"\"\n",
    "    vids = torch.concat([b[0] for b in batch_list])\n",
    "    # num_frames = [b.shape[0] for b in batch_list]\n",
    "    labels = [b[1] for b in batch_list]\n",
    "    paths = [b[2] for b in batch_list]\n",
    "\n",
    "    return vids, labels, paths\n",
    "\n",
    "def test(model_test_rate, data_type, version, img_size, model_output_class, model_name, encoder_name, num_heads, train_layer, pooling_method, weight_path, base_path, fold_num, batch_size, is_train=False):\n",
    "    \n",
    "    test_csv_path = os.path.join(base_path, f'{data_type}/{version}/{model_output_class}_artifacts/test_{model_test_rate}/fold_{fold_num}/test.csv')\n",
    "    \n",
    "    # dataset\n",
    "    test_dataset = video_dataset(test_csv_path, transforms = apply_transforms(mode=None), img_size = img_size, is_train = False)\n",
    "        \n",
    "    if model_name == 'USVN' or model_name == 'BiLSTM_USVN':\n",
    "        # dataloader\n",
    "        test_dataloader =  torch.utils.data.DataLoader(test_dataset, batch_size=batch_size, shuffle = False, collate_fn=collate_video, drop_last=False)\n",
    "    elif model_name == 'Transformer_USVN' or model_name == 'CNNLSTM' or model_name == 'CNNTransformer' or model_name == 'C3D' or model_name == 'R2Plus1D':\n",
    "        test_dataloader =  torch.utils.data.DataLoader(test_dataset, batch_size=batch_size, shuffle = False, drop_last=False)        \n",
    "    \n",
    "    #len_dataloader\n",
    "    len_test_dataset = len(test_dataloader.dataset)\n",
    "    print(len_test_dataset)\n",
    "    # set seed\n",
    "    set_all_seeds(1234)\n",
    "    if model_name == 'USVN':\n",
    "        if encoder_name == 'densenet161':\n",
    "            encoder = timm.create_model('densenet161', pretrained=False, num_classes=0)\n",
    "        elif encoder_name == 'mae_densenet161':\n",
    "            encoder = models.densenet161(pretrained=False)\n",
    "            encoder.classifier = nn.Identity()\n",
    "    #     check_point = torch.load(weight_path, map_location='cpu')\n",
    "        elif encoder_name == 'imgnet_init_densenet161':\n",
    "            encoder = timm.create_model('densenet161', pretrained=False, num_classes=0)\n",
    "        elif encoder_name == 'imgnet_init_resnet50':\n",
    "            encoder = timm.create_model('resnet50', pretrained=False, num_classes=0)\n",
    "        elif encoder_name == 'resnet50_scratch':\n",
    "            encoder = timm.create_model('resnet50', pretrained=False, num_classes=0)\n",
    "            \n",
    "    elif model_name == 'CNNLSTM':\n",
    "        if encoder_name == 'densenet161':\n",
    "            encoder = timm.create_model('densenet161', pretrained=False, num_classes=300)\n",
    "        elif encoder_name == 'imgnet_init_densenet161':\n",
    "            encoder = timm.create_model('densenet161', pretrained=False, num_classes=300)\n",
    "        elif encoder_name == 'imgnet_init_resnet50':\n",
    "            encoder = timm.create_model('resnet50', pretrained=False, num_classes=300)\n",
    "        \n",
    "        \n",
    "    sigmoid = nn.Sigmoid()\n",
    "    \n",
    "    # Set up model\n",
    "    if model_name == 'USVN':\n",
    "        num_frames = [30]*batch_size\n",
    "        model = MedVidNet(train_layer, encoder, num_heads, pooling_method = pooling_method)\n",
    "        \n",
    "    elif model_name == 'CNNLSTM' :\n",
    "        model = CNNLSTM(encoder = encoder)\n",
    "    \n",
    "    elif model_name == 'C3D':\n",
    "        model = C3D(num_classes=4, pretrained=False)  \n",
    "         \n",
    "    elif model_name == 'R2Plus1D':\n",
    "        model = R2Plus1DClassifier(num_classes=4, layer_sizes=(2, 2, 2, 2))\n",
    "        \n",
    "    gpu_index = 1\n",
    "    device = torch.device(f\"cuda:{gpu_index}\" if torch.cuda.is_available() else \"cpu\")\n",
    "\n",
    "    check_point = torch.load(weight_path, map_location=device)\n",
    "    # torch.nn.DataParallel을 사용하여 모델을 학습하고 저장한 경우에 이러한 접두어가 자주 발생\n",
    "    if 'module' in list(check_point['model'].keys())[0]:\n",
    "        # If so, remove the 'module.' prefix from the keys in the state_dict\n",
    "        new_state_dict = {k[7:]: v for k, v in check_point['model'].items()}\n",
    "        model.load_state_dict(new_state_dict)\n",
    "    else:\n",
    "        # If not using DataParallel, simply load the state_dict\n",
    "        model.load_state_dict(check_point['model'])\n",
    "    \n",
    "    model = model.to(device)\n",
    "    \n",
    "    # load best threshold\n",
    "    best_val_thres = check_point['best_valid_thres']\n",
    "    print(best_val_thres)\n",
    "    # list\n",
    "    model_outputs = []\n",
    "    test_labels = []\n",
    "    test_preds = []\n",
    "    \n",
    "    #acc\n",
    "    test_running_acc = 0.0\n",
    "    \n",
    "    model.eval() \n",
    "    with torch.no_grad():    \n",
    "            \n",
    "#         for jdx, data in enumerate(test_dataloader):\n",
    "        for data in tqdm(test_dataloader, desc=\"Testing\", unit=\"batch\"):    \n",
    "            test_img, test_label, _ = data\n",
    "            \n",
    "            test_img = test_img.float().to(device)\n",
    "            test_label = torch.stack([label.to(device) for label in test_label])\n",
    "            \n",
    "            if model_name == 'USVN':\n",
    "                test_output, attentions = model(test_img, num_frames)\n",
    "            elif model_name == 'CNNLSTM' or model_name == 'C3D' or model_name == 'R2Plus1D':\n",
    "                test_output = model(test_img)\n",
    "                \n",
    "            test_output = sigmoid(test_output)\n",
    "            model_outputs.append(test_output[0].cpu().detach().numpy().tolist())\n",
    "        \n",
    "            test_preds_np = test_output[0].data.cpu().numpy()\n",
    "            \n",
    "            test_preds_np = np.where(test_preds_np >= best_val_thres, 1, 0)\n",
    "#             test_preds_np = np.where(test_preds_np >= 0.5, 1, 0)\n",
    "            \n",
    "            test_preds.append(test_preds_np.tolist())\n",
    "#             print(test_label.shape)\n",
    "#             print(test_label[0].shape)\n",
    "            test_labels.append(test_label[0].detach().cpu().numpy().tolist())\n",
    "            \n",
    "            np_test_label = test_label[0].cpu().numpy()\n",
    "#             print(np_test_label.shape)\n",
    "#             print(test_preds_np.shape)\n",
    "            test_accuracy = accuracy_score(np_test_label, test_preds_np)\n",
    "            \n",
    "            test_running_acc += test_accuracy\n",
    "            \n",
    "#             print(f\"prediction : {test_preds_np}, test_label : {np_test_label}\")\n",
    "#             print(f\"correct_num : {test_accuracy}\")\n",
    "#             print('-'*20)\n",
    "            \n",
    "    test_accuracy = test_running_acc / len_test_dataset\n",
    "    print(f\"test_running_acc : {test_running_acc}\")\n",
    "    \n",
    "    return test_accuracy, test_labels, test_preds, model_outputs"
   ]
  },
  {
   "cell_type": "code",
   "execution_count": 20,
   "id": "ce3abf2d",
   "metadata": {
    "scrolled": true,
    "tags": []
   },
   "outputs": [
    {
     "name": "stdout",
     "output_type": "stream",
     "text": [
      "474\n",
      "[0.2621426, 0.19288163, 0.35318676, 0.13632494]\n"
     ]
    },
    {
     "name": "stderr",
     "output_type": "stream",
     "text": [
      "Testing: 100% 474/474 [01:51<00:00,  4.25batch/s]"
     ]
    },
    {
     "name": "stdout",
     "output_type": "stream",
     "text": [
      "test_running_acc : 370.25\n"
     ]
    },
    {
     "name": "stderr",
     "output_type": "stream",
     "text": [
      "\n"
     ]
    }
   ],
   "source": [
    "fold_num = 3\n",
    "\n",
    "pooling_method = 'attn'\n",
    "# pooling_method = 'max'\n",
    "# pooling_method = 'avg'\n",
    "\n",
    "chk_std = \"loss\"\n",
    "# chk_std = \"auc\"\n",
    "\n",
    "model_name = 'USVN'\n",
    "# model_name = 'C3D'\n",
    "# model_name = 'R2Plus1D'\n",
    "# model_name = 'Transformer_USVN'\n",
    "# model_name = 'CNNLSTM'\n",
    "# model_name = 'CNNTransformer'\n",
    "\n",
    "version = 'version_1'\n",
    "\n",
    "train_layer = 'all'\n",
    "# train_layer = 'pooling'\n",
    "\n",
    "# encoder_name = 'densenet161'\n",
    "encoder_name = 'imgnet_init_densenet161'\n",
    "\n",
    "# encoder_name = 'imgnet_init_resnet50'\n",
    "\n",
    "model_test_rate = \"0.2\"\n",
    "\n",
    "# data_type = \"all_data\"\n",
    "# data_type = \"before_all_data_test\"\n",
    "data_type = \"before_all_data\"\n",
    "\n",
    "# num_heads = 32\n",
    "num_heads = 8\n",
    "\n",
    "encoder_batch_size = 32\n",
    "# encoder_batch_size = 128\n",
    "\n",
    "batch_size = 4\n",
    "# batch_size = 8\n",
    "\n",
    "# model_output_class = 4\n",
    "model_output_class = 5\n",
    "\n",
    "img_size = 256\n",
    "\n",
    "# lr = '0.000001'\n",
    "lr = '1e-06'\n",
    "# lr = '0.0001'\n",
    "\n",
    "# weight_path = f'/home/work/LUS/Results/clip_base/multilabel_classification/test0.2_std_loss_before_all_data_version_1_all_5_artifacts_duplicate_batch4_256_30frame_USVN_imgnet_init_densenet161_32_attn_fold3_lr0.0001_checkpoint'\n",
    "weight_path = f'/home/work/LUS/Results/clip_base/multilabel_classification/test{model_test_rate}_std_{chk_std}_{data_type}_{version}_{train_layer}_{model_output_class}_artifacts_duplicate_batch{batch_size}_256_30frame_{model_name}_{encoder_name}_{encoder_batch_size}_{pooling_method}_fold{fold_num}_lr{lr}_checkpoint_'\n",
    "\n",
    "base_path = f'/home/work/LUS/Dataset/csv_files/clip_multilabel_classification'\n",
    "\n",
    "is_train = False\n",
    "\n",
    "test_accuracy, test_labels, test_preds, model_output = test(model_test_rate = model_test_rate,\n",
    "                                                            data_type = data_type,\n",
    "                                                            version = version,\n",
    "                                                            img_size = img_size,\n",
    "                                                            model_output_class = model_output_class,\n",
    "                                                            model_name=model_name,\n",
    "                                                            encoder_name = encoder_name,\n",
    "                                                            train_layer = train_layer,\n",
    "                                                            num_heads = num_heads,\n",
    "                                                            pooling_method = pooling_method,\n",
    "                                                            weight_path=weight_path,\n",
    "                                                            base_path=base_path,\n",
    "                                                            fold_num = fold_num,\n",
    "                                                            batch_size=1, is_train=False)\n",
    "# /home/work/LUS/Results/clip_base/multilabel_classification/test0.2_std_loss_before_all_data_version_1_all_5_artifacts_duplicate_batch4_256_30frame_R2Plus1D_imgnet_init_densenet161_32_attn_fold0_lr1e-06_checkpoint"
   ]
  },
  {
   "cell_type": "code",
   "execution_count": 21,
   "id": "f30862e6",
   "metadata": {},
   "outputs": [],
   "source": [
    "labels = ['A-line', 'total-B-line', 'Consolidation', 'Pleural effusion']\n",
    "\n",
    "models_output_df = pd.DataFrame(columns=labels)"
   ]
  },
  {
   "cell_type": "code",
   "execution_count": 22,
   "id": "701ed2fb",
   "metadata": {},
   "outputs": [
    {
     "data": {
      "text/html": [
       "<div>\n",
       "<style scoped>\n",
       "    .dataframe tbody tr th:only-of-type {\n",
       "        vertical-align: middle;\n",
       "    }\n",
       "\n",
       "    .dataframe tbody tr th {\n",
       "        vertical-align: top;\n",
       "    }\n",
       "\n",
       "    .dataframe thead th {\n",
       "        text-align: right;\n",
       "    }\n",
       "</style>\n",
       "<table border=\"1\" class=\"dataframe\">\n",
       "  <thead>\n",
       "    <tr style=\"text-align: right;\">\n",
       "      <th></th>\n",
       "      <th>USVN_A-line</th>\n",
       "      <th>USVN_total-B-line</th>\n",
       "      <th>USVN_Consolidation</th>\n",
       "      <th>USVN_Pleural effusion</th>\n",
       "    </tr>\n",
       "  </thead>\n",
       "  <tbody>\n",
       "    <tr>\n",
       "      <th>0</th>\n",
       "      <td>0.835174</td>\n",
       "      <td>0.034001</td>\n",
       "      <td>0.061054</td>\n",
       "      <td>0.027832</td>\n",
       "    </tr>\n",
       "    <tr>\n",
       "      <th>1</th>\n",
       "      <td>0.788884</td>\n",
       "      <td>0.039743</td>\n",
       "      <td>0.065775</td>\n",
       "      <td>0.031139</td>\n",
       "    </tr>\n",
       "    <tr>\n",
       "      <th>2</th>\n",
       "      <td>0.792190</td>\n",
       "      <td>0.040963</td>\n",
       "      <td>0.062990</td>\n",
       "      <td>0.031298</td>\n",
       "    </tr>\n",
       "    <tr>\n",
       "      <th>3</th>\n",
       "      <td>0.428932</td>\n",
       "      <td>0.112577</td>\n",
       "      <td>0.056853</td>\n",
       "      <td>0.019550</td>\n",
       "    </tr>\n",
       "    <tr>\n",
       "      <th>4</th>\n",
       "      <td>0.456897</td>\n",
       "      <td>0.137292</td>\n",
       "      <td>0.040597</td>\n",
       "      <td>0.013305</td>\n",
       "    </tr>\n",
       "  </tbody>\n",
       "</table>\n",
       "</div>"
      ],
      "text/plain": [
       "   USVN_A-line  USVN_total-B-line  USVN_Consolidation  USVN_Pleural effusion\n",
       "0     0.835174           0.034001            0.061054               0.027832\n",
       "1     0.788884           0.039743            0.065775               0.031139\n",
       "2     0.792190           0.040963            0.062990               0.031298\n",
       "3     0.428932           0.112577            0.056853               0.019550\n",
       "4     0.456897           0.137292            0.040597               0.013305"
      ]
     },
     "execution_count": 22,
     "metadata": {},
     "output_type": "execute_result"
    }
   ],
   "source": [
    "models_output_df = models_output_to_dataframe(models_output_df, model_name, labels, model_output)\n",
    "models_output_df.head()"
   ]
  },
  {
   "cell_type": "code",
   "execution_count": 23,
   "id": "cac53152",
   "metadata": {},
   "outputs": [
    {
     "name": "stdout",
     "output_type": "stream",
     "text": [
      "(474, 4)\n",
      "(474, 4)\n",
      "(474, 4)\n"
     ]
    }
   ],
   "source": [
    "print(np.array(model_output).shape)\n",
    "print(np.array(test_preds).shape)\n",
    "print(np.array(test_labels).shape)\n",
    "# test_preds"
   ]
  },
  {
   "cell_type": "code",
   "execution_count": 24,
   "id": "c197fd33",
   "metadata": {},
   "outputs": [
    {
     "data": {
      "text/plain": [
       "[0.8351740837097168,\n",
       " 0.03400084003806114,\n",
       " 0.061053626239299774,\n",
       " 0.02783176861703396]"
      ]
     },
     "execution_count": 24,
     "metadata": {},
     "output_type": "execute_result"
    }
   ],
   "source": [
    "model_output[0]"
   ]
  },
  {
   "cell_type": "code",
   "execution_count": 25,
   "id": "f60b4e09",
   "metadata": {},
   "outputs": [
    {
     "name": "stdout",
     "output_type": "stream",
     "text": [
      "[[0.8351740837097168, 0.03400084003806114, 0.061053626239299774, 0.02783176861703396], [0.7888836860656738, 0.03974328935146332, 0.06577546894550323, 0.031139405444264412], [0.7921899557113647, 0.04096316546201706, 0.06299032270908356, 0.03129841014742851], [0.4289322793483734, 0.1125771775841713, 0.05685330182313919, 0.019549936056137085], [0.4568968415260315, 0.13729159533977509, 0.04059718921780586, 0.013304880820214748]]\n",
      "[[1.0, 0.0, 0.0, 0.0], [1.0, 0.0, 0.0, 0.0], [1.0, 0.0, 0.0, 0.0], [1.0, 0.0, 0.0, 0.0], [1.0, 0.0, 0.0, 0.0]]\n",
      "[[1, 0, 0, 0], [1, 0, 0, 0], [1, 0, 0, 0], [1, 0, 0, 0], [1, 0, 0, 0]]\n"
     ]
    }
   ],
   "source": [
    "print(model_output[:5])\n",
    "print(test_labels[:5])\n",
    "print(test_preds[:5])"
   ]
  },
  {
   "cell_type": "code",
   "execution_count": 26,
   "id": "878dc649",
   "metadata": {},
   "outputs": [
    {
     "name": "stdout",
     "output_type": "stream",
     "text": [
      "roc_auc_score = 0.894\n"
     ]
    }
   ],
   "source": [
    "result1 = roc_auc_score(test_labels, model_output, multi_class='ovr')\n",
    "print('roc_auc_score = %.3f' %(result1))"
   ]
  },
  {
   "cell_type": "code",
   "execution_count": 27,
   "id": "856e85da",
   "metadata": {},
   "outputs": [
    {
     "data": {
      "image/png": "[encoded data removed]",
      "text/plain": [
       "<Figure size 1500x1200 with 4 Axes>"
      ]
     },
     "metadata": {},
     "output_type": "display_data"
    }
   ],
   "source": [
    "from sklearn.metrics import ConfusionMatrixDisplay, multilabel_confusion_matrix\n",
    "\n",
    "confusion_mat = multilabel_confusion_matrix(test_labels, test_preds)\n",
    "\n",
    "all_labels = [\n",
    "            'A-line',\n",
    "#             'B-line',\n",
    "#             'Confluent B-line',\n",
    "            'B-lines',\n",
    "            'Consolidation',\n",
    "            'Pleural effusion'\n",
    "            ]\n",
    "\n",
    "fig, axs = plt.subplots(nrows=2, ncols=2, figsize=(15, 12))\n",
    "plt.subplots_adjust(wspace=0.1, hspace=0.2)\n",
    "\n",
    "# axs는 2x3 array이므로 axs.flat으로 iterator를 생성합니다.\n",
    "ax_iterator = iter(axs.flat)\n",
    "\n",
    "for idx, label in enumerate(all_labels):\n",
    "    ax = next(ax_iterator)  # 다음 subplot을 가져옵니다.\n",
    "    disp = ConfusionMatrixDisplay(confusion_matrix=confusion_mat[idx], display_labels=[0, 1])\n",
    "    disp.plot(ax=ax, cmap='Blues', colorbar=False)  # 각 subplot에 colorbar를 제거합니다.\n",
    "    ax.set_title(label, fontsize=20)  # 레이블의 글자 크기를 조정합니다.\n",
    "    \n",
    "    # 각 축에 대해 텍스트 크기를 설정합니다.\n",
    "    ax.set_xlabel('Predicted label', fontsize=15)  # x축 라벨 크기 설정\n",
    "    ax.set_ylabel('True label', fontsize=15)       # y축 라벨 크기 설정\n",
    "    ax.tick_params(axis='both', which='major', labelsize=14)  # 축 글자 크기 설정\n",
    "    \n",
    "    for texts in [disp.text_]:\n",
    "        for text in texts.flatten():\n",
    "            text.set_fontsize(20)  # 숫자 텍스트의 크기를 조정합니다.\n",
    "\n",
    "# 남는 subplot을 숨깁니다.\n",
    "for ax in ax_iterator:\n",
    "    ax.set_visible(False)\n",
    "\n",
    "plt.show()"
   ]
  },
  {
   "cell_type": "code",
   "execution_count": 28,
   "id": "caf90060",
   "metadata": {},
   "outputs": [
    {
     "name": "stdout",
     "output_type": "stream",
     "text": [
      "Micro-averaged precision :  0.8606069799748213\n",
      "recall :  0.7811181434599156\n",
      "f1-score :  0.8014043404589533\n"
     ]
    }
   ],
   "source": [
    "# precision_score, recall_score, f1_score 함수를 사용하여 각 레이블별 성능을 계산합니다.\n",
    "from sklearn.metrics import precision_score, recall_score, f1_score\n",
    "\n",
    "test_prediction_flat = np.array(test_preds).flatten()\n",
    "test_labels_flat = np.array(test_labels).flatten()\n",
    "\n",
    "precision = precision_score(test_labels_flat, test_prediction_flat, average='weighted')\n",
    "recall = recall_score(test_labels_flat, test_prediction_flat, average='weighted')\n",
    "f1 = f1_score(test_labels_flat, test_prediction_flat, average='weighted')\n",
    "\n",
    "print('Micro-averaged precision : ', precision)\n",
    "print('recall : ', recall)\n",
    "print('f1-score : ', f1)"
   ]
  },
  {
   "cell_type": "code",
   "execution_count": 29,
   "id": "3211b7fc",
   "metadata": {},
   "outputs": [
    {
     "name": "stdout",
     "output_type": "stream",
     "text": [
      "                  precision    recall  f1-score   support\n",
      "\n",
      "          A-line       0.56      0.88      0.69       107\n",
      "         B-lines       0.32      0.98      0.49        84\n",
      "   Consolidation       0.52      0.73      0.61       109\n",
      "Pleural effusion       0.55      0.83      0.66        63\n",
      "\n",
      "       micro avg       0.46      0.85      0.60       363\n",
      "       macro avg       0.49      0.85      0.61       363\n",
      "    weighted avg       0.49      0.85      0.61       363\n",
      "     samples avg       0.47      0.58      0.50       363\n",
      "\n"
     ]
    }
   ],
   "source": [
    "print(classification_report(\n",
    "    test_labels,\n",
    "    test_preds,\n",
    "    output_dict=False,\n",
    "    target_names=[\n",
    "            'A-line',\n",
    "#             'B-line',\n",
    "#             'Confluent B-line',\n",
    "            'B-lines',\n",
    "            'Consolidation',\n",
    "            'Pleural effusion'\n",
    "            ]\n",
    "))"
   ]
  },
  {
   "cell_type": "code",
   "execution_count": 30,
   "id": "5c86c0c1",
   "metadata": {},
   "outputs": [
    {
     "name": "stdout",
     "output_type": "stream",
     "text": [
      "A-line results\n",
      "Best Threshold=0.360552, sensitivity = 0.869, specificity = 0.880, J=0.749\n",
      "              precision    recall  f1-score   support\n",
      "\n",
      "      A-line       0.96      0.88      0.92       367\n",
      "      Others       0.68      0.87      0.76       107\n",
      "\n",
      "    accuracy                           0.88       474\n",
      "   macro avg       0.82      0.87      0.84       474\n",
      "weighted avg       0.90      0.88      0.88       474\n",
      "\n"
     ]
    }
   ],
   "source": [
    "from numpy import argmax\n",
    "\n",
    "# calculate roc curves\n",
    "fpr, tpr, thresholds = roc_curve(np.array(test_labels)[:, 0], np.array(model_output)[:, 0])\n",
    "\n",
    "# get the best threshold\n",
    "J = tpr - fpr\n",
    "ix = argmax(J)\n",
    "best_thresh = thresholds[ix]\n",
    "print('A-line results')\n",
    "print('Best Threshold=%f, sensitivity = %.3f, specificity = %.3f, J=%.3f' % (best_thresh, tpr[ix], 1-fpr[ix], J[ix]))\n",
    "\n",
    "y_prob_pred = (np.array(model_output)[:, 0] >= best_thresh).astype(bool)\n",
    "print(classification_report(np.array(test_labels)[:, 0], y_prob_pred, target_names=['A-line', 'Others']))"
   ]
  },
  {
   "cell_type": "code",
   "execution_count": 31,
   "id": "c1fc6dfd",
   "metadata": {},
   "outputs": [
    {
     "name": "stdout",
     "output_type": "stream",
     "text": [
      "B-lines results\n",
      "Best Threshold=0.284672, sensitivity = 0.845, specificity = 0.751, J=0.597\n",
      "              precision    recall  f1-score   support\n",
      "\n",
      "      B-line       0.96      0.75      0.84       390\n",
      "      Others       0.42      0.85      0.56        84\n",
      "\n",
      "    accuracy                           0.77       474\n",
      "   macro avg       0.69      0.80      0.70       474\n",
      "weighted avg       0.86      0.77      0.79       474\n",
      "\n"
     ]
    }
   ],
   "source": [
    "from numpy import argmax\n",
    "\n",
    "# calculate roc curves\n",
    "fpr, tpr, thresholds = roc_curve(np.array(test_labels)[:, 1], np.array(model_output)[:, 1])\n",
    "\n",
    "# get the best threshold\n",
    "J = tpr - fpr\n",
    "ix = argmax(J)\n",
    "best_thresh = thresholds[ix]\n",
    "print('B-lines results')\n",
    "print('Best Threshold=%f, sensitivity = %.3f, specificity = %.3f, J=%.3f' % (best_thresh, tpr[ix], 1-fpr[ix], J[ix]))\n",
    "\n",
    "y_prob_pred = (np.array(model_output)[:, 1] >= best_thresh).astype(bool)\n",
    "print(classification_report(np.array(test_labels)[:, 1], y_prob_pred, target_names=['B-line', 'Others']))"
   ]
  },
  {
   "cell_type": "code",
   "execution_count": 32,
   "id": "247eb54f",
   "metadata": {},
   "outputs": [
    {
     "name": "stdout",
     "output_type": "stream",
     "text": [
      "Consolidation\n",
      "Best Threshold=0.236650, sensitivity = 0.826, specificity = 0.726, J=0.552\n",
      "                  precision    recall  f1-score   support\n",
      "\n",
      "Confluent B-line       0.93      0.73      0.82       365\n",
      "          Others       0.47      0.83      0.60       109\n",
      "\n",
      "        accuracy                           0.75       474\n",
      "       macro avg       0.70      0.78      0.71       474\n",
      "    weighted avg       0.83      0.75      0.77       474\n",
      "\n"
     ]
    }
   ],
   "source": [
    "from numpy import argmax\n",
    "\n",
    "# calculate roc curves\n",
    "fpr, tpr, thresholds = roc_curve(np.array(test_labels)[:, 2], np.array(model_output)[:, 2])\n",
    "\n",
    "# get the best threshold\n",
    "J = tpr - fpr\n",
    "ix = argmax(J)\n",
    "best_thresh = thresholds[ix]\n",
    "# print('Confluent B-line results')\n",
    "print('Consolidation')\n",
    "print('Best Threshold=%f, sensitivity = %.3f, specificity = %.3f, J=%.3f' % (best_thresh, tpr[ix], 1-fpr[ix], J[ix]))\n",
    "\n",
    "y_prob_pred = (np.array(model_output)[:, 2] >= best_thresh).astype(bool)\n",
    "print(classification_report(np.array(test_labels)[:, 2], y_prob_pred, target_names=['Confluent B-line', 'Others']))"
   ]
  },
  {
   "cell_type": "code",
   "execution_count": 33,
   "id": "f5bc6461",
   "metadata": {},
   "outputs": [
    {
     "name": "stdout",
     "output_type": "stream",
     "text": [
      "Pleural effusion results\n",
      "Best Threshold=0.103431, sensitivity = 0.905, specificity = 0.866, J=0.771\n",
      "                  precision    recall  f1-score   support\n",
      "\n",
      "Pleural effusion       0.98      0.87      0.92       411\n",
      "          Others       0.51      0.90      0.65        63\n",
      "\n",
      "        accuracy                           0.87       474\n",
      "       macro avg       0.75      0.89      0.79       474\n",
      "    weighted avg       0.92      0.87      0.89       474\n",
      "\n"
     ]
    }
   ],
   "source": [
    "from numpy import argmax\n",
    "\n",
    "# calculate roc curves\n",
    "fpr, tpr, thresholds = roc_curve(np.array(test_labels)[:, 3], np.array(model_output)[:, 3])\n",
    "\n",
    "# get the best threshold\n",
    "J = tpr - fpr\n",
    "ix = argmax(J)\n",
    "best_thresh = thresholds[ix]\n",
    "print('Pleural effusion results')\n",
    "print('Best Threshold=%f, sensitivity = %.3f, specificity = %.3f, J=%.3f' % (best_thresh, tpr[ix], 1-fpr[ix], J[ix]))\n",
    "\n",
    "y_prob_pred = (np.array(model_output)[:, 3] >= best_thresh).astype(bool)\n",
    "print(classification_report(np.array(test_labels)[:, 3], y_prob_pred, target_names=['Pleural effusion', 'Others']))"
   ]
  },
  {
   "cell_type": "code",
   "execution_count": 34,
   "id": "c1819f25",
   "metadata": {},
   "outputs": [
    {
     "data": {
      "image/png": "[encoded data removed]",
      "text/plain": [
       "<Figure size 800x800 with 1 Axes>"
      ]
     },
     "metadata": {},
     "output_type": "display_data"
    }
   ],
   "source": [
    "from itertools import cycle\n",
    "from sklearn.metrics import roc_curve, auc\n",
    "\n",
    "\n",
    "# ROC curve를 계산하고 시각화합니다.\n",
    "n_classes = len(test_labels[0])\n",
    "fpr = dict()\n",
    "tpr = dict()\n",
    "roc_auc = dict()\n",
    "for i in range(n_classes):\n",
    "    fpr[i], tpr[i], _ = roc_curve(np.array(test_labels)[:, i], np.array(model_output)[:, i])\n",
    "    roc_auc[i] = auc(fpr[i], tpr[i])\n",
    "\n",
    "# 마이크로 평균 ROC curve를 계산합니다.\n",
    "fpr[\"micro\"], tpr[\"micro\"], _ = roc_curve(np.array(test_labels).ravel(), np.array(model_output).ravel())\n",
    "roc_auc[\"micro\"] = auc(fpr[\"micro\"], tpr[\"micro\"])\n",
    "\n",
    "# 모든 레이블에 대한 평균 ROC curve를 계산합니다.\n",
    "all_fpr = np.unique(np.concatenate([fpr[i] for i in range(n_classes)]))\n",
    "mean_tpr = np.zeros_like(all_fpr)\n",
    "for i in range(n_classes):\n",
    "    mean_tpr += np.interp(all_fpr, fpr[i], tpr[i])\n",
    "mean_tpr /= n_classes\n",
    "fpr[\"macro\"] = all_fpr\n",
    "tpr[\"macro\"] = mean_tpr\n",
    "roc_auc[\"macro\"] = auc(fpr[\"macro\"], tpr[\"macro\"])\n",
    "\n",
    "# ROC curve를 그래프로 시각화합니다.\n",
    "plt.figure(figsize=(8, 8))\n",
    "lw = 2\n",
    "plt.plot(fpr[\"micro\"], tpr[\"micro\"], label='Micro-average ROC curve (area = {0:0.3f})'\n",
    "''.format(roc_auc[\"micro\"]), color='deeppink', linestyle=':', linewidth=4)\n",
    "plt.plot(fpr[\"macro\"], tpr[\"macro\"], label='Macro-average ROC curve (area = {0:0.3f})'\n",
    "''.format(roc_auc[\"macro\"]), color='navy', linestyle=':', linewidth=4)\n",
    "\n",
    "colors = cycle(['aqua', 'darkorange', 'cornflowerblue', 'green', 'red'])\n",
    "all_labels = [\n",
    "            'A-line',\n",
    "#             'B-line',\n",
    "#             'Confluent B-line',\n",
    "            'B-lines',\n",
    "            'Consolidation',\n",
    "            'Pleural effusion'\n",
    "            ]\n",
    "\n",
    "for i, label, color in zip(range(len(all_labels)), all_labels, colors):\n",
    "    plt.plot(fpr[i], tpr[i], color=color, lw=lw,\n",
    "            label='{0} (area = {1:0.3f})'\n",
    "            ''.format(label, roc_auc[i]))\n",
    "plt.plot([0, 1], [0, 1], 'k--', lw=lw)\n",
    "plt.xlim([0.0, 1.0])\n",
    "plt.ylim([0.0, 1.05])\n",
    "plt.xlabel('False Positive Rate')\n",
    "plt.ylabel('True Positive Rate')\n",
    "plt.title('Receiver operating characteristic for multi-label data')\n",
    "plt.legend(loc=\"lower right\", fontsize='large')\n",
    "plt.show()\n"
   ]
  },
  {
   "cell_type": "code",
   "execution_count": 35,
   "id": "0760fcf8",
   "metadata": {},
   "outputs": [
    {
     "data": {
      "text/html": [
       "<div>\n",
       "<style scoped>\n",
       "    .dataframe tbody tr th:only-of-type {\n",
       "        vertical-align: middle;\n",
       "    }\n",
       "\n",
       "    .dataframe tbody tr th {\n",
       "        vertical-align: top;\n",
       "    }\n",
       "\n",
       "    .dataframe thead th {\n",
       "        text-align: right;\n",
       "    }\n",
       "</style>\n",
       "<table border=\"1\" class=\"dataframe\">\n",
       "  <thead>\n",
       "    <tr style=\"text-align: right;\">\n",
       "      <th></th>\n",
       "      <th>USVN_A-line</th>\n",
       "      <th>USVN_total-B-line</th>\n",
       "      <th>USVN_Consolidation</th>\n",
       "      <th>USVN_Pleural effusion</th>\n",
       "    </tr>\n",
       "  </thead>\n",
       "  <tbody>\n",
       "    <tr>\n",
       "      <th>0</th>\n",
       "      <td>0.835174</td>\n",
       "      <td>0.034001</td>\n",
       "      <td>0.061054</td>\n",
       "      <td>0.027832</td>\n",
       "    </tr>\n",
       "    <tr>\n",
       "      <th>1</th>\n",
       "      <td>0.788884</td>\n",
       "      <td>0.039743</td>\n",
       "      <td>0.065775</td>\n",
       "      <td>0.031139</td>\n",
       "    </tr>\n",
       "    <tr>\n",
       "      <th>2</th>\n",
       "      <td>0.792190</td>\n",
       "      <td>0.040963</td>\n",
       "      <td>0.062990</td>\n",
       "      <td>0.031298</td>\n",
       "    </tr>\n",
       "    <tr>\n",
       "      <th>3</th>\n",
       "      <td>0.428932</td>\n",
       "      <td>0.112577</td>\n",
       "      <td>0.056853</td>\n",
       "      <td>0.019550</td>\n",
       "    </tr>\n",
       "    <tr>\n",
       "      <th>4</th>\n",
       "      <td>0.456897</td>\n",
       "      <td>0.137292</td>\n",
       "      <td>0.040597</td>\n",
       "      <td>0.013305</td>\n",
       "    </tr>\n",
       "    <tr>\n",
       "      <th>...</th>\n",
       "      <td>...</td>\n",
       "      <td>...</td>\n",
       "      <td>...</td>\n",
       "      <td>...</td>\n",
       "    </tr>\n",
       "    <tr>\n",
       "      <th>469</th>\n",
       "      <td>0.100512</td>\n",
       "      <td>0.093676</td>\n",
       "      <td>0.672315</td>\n",
       "      <td>0.421611</td>\n",
       "    </tr>\n",
       "    <tr>\n",
       "      <th>470</th>\n",
       "      <td>0.084599</td>\n",
       "      <td>0.093617</td>\n",
       "      <td>0.680392</td>\n",
       "      <td>0.409100</td>\n",
       "    </tr>\n",
       "    <tr>\n",
       "      <th>471</th>\n",
       "      <td>0.072679</td>\n",
       "      <td>0.085512</td>\n",
       "      <td>0.688389</td>\n",
       "      <td>0.407334</td>\n",
       "    </tr>\n",
       "    <tr>\n",
       "      <th>472</th>\n",
       "      <td>0.072213</td>\n",
       "      <td>0.091501</td>\n",
       "      <td>0.677976</td>\n",
       "      <td>0.371467</td>\n",
       "    </tr>\n",
       "    <tr>\n",
       "      <th>473</th>\n",
       "      <td>0.077413</td>\n",
       "      <td>0.104912</td>\n",
       "      <td>0.648702</td>\n",
       "      <td>0.353222</td>\n",
       "    </tr>\n",
       "  </tbody>\n",
       "</table>\n",
       "<p>474 rows × 4 columns</p>\n",
       "</div>"
      ],
      "text/plain": [
       "     USVN_A-line  USVN_total-B-line  USVN_Consolidation  USVN_Pleural effusion\n",
       "0       0.835174           0.034001            0.061054               0.027832\n",
       "1       0.788884           0.039743            0.065775               0.031139\n",
       "2       0.792190           0.040963            0.062990               0.031298\n",
       "3       0.428932           0.112577            0.056853               0.019550\n",
       "4       0.456897           0.137292            0.040597               0.013305\n",
       "..           ...                ...                 ...                    ...\n",
       "469     0.100512           0.093676            0.672315               0.421611\n",
       "470     0.084599           0.093617            0.680392               0.409100\n",
       "471     0.072679           0.085512            0.688389               0.407334\n",
       "472     0.072213           0.091501            0.677976               0.371467\n",
       "473     0.077413           0.104912            0.648702               0.353222\n",
       "\n",
       "[474 rows x 4 columns]"
      ]
     },
     "execution_count": 35,
     "metadata": {},
     "output_type": "execute_result"
    }
   ],
   "source": [
    "models_output_df"
   ]
  },
  {
   "cell_type": "code",
   "execution_count": 36,
   "id": "359a9f49",
   "metadata": {},
   "outputs": [
    {
     "data": {
      "text/plain": [
       "'/home/work/LUS/code/video_base/pda_detection/code'"
      ]
     },
     "execution_count": 36,
     "metadata": {},
     "output_type": "execute_result"
    }
   ],
   "source": [
    "pwd"
   ]
  },
  {
   "cell_type": "code",
   "execution_count": 37,
   "id": "ce2447a7",
   "metadata": {},
   "outputs": [],
   "source": [
    "if 'densenet161' in encoder_name:\n",
    "    # densenet 161\n",
    "    models_output_df.to_csv(f'/home/work/LUS/Results/model_output_csv/video_level/internal_test/densenet_161/{model_output_class}_artifacts_batch{batch_size}_fold_{fold_num}_{model_name}_output.csv', index = False)\n",
    "elif 'resnet' in encoder_name:\n",
    "    # resnet 50 \n",
    "    models_output_df.to_csv(f'/home/work/LUS/Results/model_output_csv/video_level/internal_test/resnet_50/{model_output_class}_artifacts_batch{batch_size}_fold_{fold_num}_{model_name}_output.csv', index = False)"
   ]
  },
  {
   "cell_type": "code",
   "execution_count": 94,
   "id": "83cee1dc",
   "metadata": {},
   "outputs": [],
   "source": [
    "# models_output_df.to_csv(f'/home/work/LUS/Results/model_output_csv/video_level/internal_test/resnet_50/{model_output_class}_artifacts_batch{batch_size}_fold_{fold_num}_{model_name}_output.csv', index = False)"
   ]
  },
  {
   "cell_type": "code",
   "execution_count": 38,
   "id": "fcf046f8",
   "metadata": {},
   "outputs": [],
   "source": [
    "def gt_to_dataframe(df, labels, model_output):\n",
    "    \"\"\"\n",
    "    모델 출력을 기존 데이터프레임에 추가하는 함수\n",
    "    \"\"\"\n",
    "    temp_df = pd.DataFrame(model_output, columns=labels)\n",
    "    temp_df.columns = [f'{label}' for label in labels]\n",
    "    \n",
    "    if df.empty:\n",
    "        return temp_df\n",
    "    else:\n",
    "        return pd.concat([df, temp_df], axis=1)"
   ]
  },
  {
   "cell_type": "code",
   "execution_count": 39,
   "id": "c9b913d2",
   "metadata": {},
   "outputs": [
    {
     "name": "stdout",
     "output_type": "stream",
     "text": [
      "474\n"
     ]
    },
    {
     "data": {
      "text/html": [
       "<div>\n",
       "<style scoped>\n",
       "    .dataframe tbody tr th:only-of-type {\n",
       "        vertical-align: middle;\n",
       "    }\n",
       "\n",
       "    .dataframe tbody tr th {\n",
       "        vertical-align: top;\n",
       "    }\n",
       "\n",
       "    .dataframe thead th {\n",
       "        text-align: right;\n",
       "    }\n",
       "</style>\n",
       "<table border=\"1\" class=\"dataframe\">\n",
       "  <thead>\n",
       "    <tr style=\"text-align: right;\">\n",
       "      <th></th>\n",
       "      <th>A-line</th>\n",
       "      <th>total-B-line</th>\n",
       "      <th>Consolidation</th>\n",
       "      <th>Pleural effusion</th>\n",
       "    </tr>\n",
       "  </thead>\n",
       "  <tbody>\n",
       "    <tr>\n",
       "      <th>0</th>\n",
       "      <td>1.0</td>\n",
       "      <td>0.0</td>\n",
       "      <td>0.0</td>\n",
       "      <td>0.0</td>\n",
       "    </tr>\n",
       "    <tr>\n",
       "      <th>1</th>\n",
       "      <td>1.0</td>\n",
       "      <td>0.0</td>\n",
       "      <td>0.0</td>\n",
       "      <td>0.0</td>\n",
       "    </tr>\n",
       "    <tr>\n",
       "      <th>2</th>\n",
       "      <td>1.0</td>\n",
       "      <td>0.0</td>\n",
       "      <td>0.0</td>\n",
       "      <td>0.0</td>\n",
       "    </tr>\n",
       "    <tr>\n",
       "      <th>3</th>\n",
       "      <td>1.0</td>\n",
       "      <td>0.0</td>\n",
       "      <td>0.0</td>\n",
       "      <td>0.0</td>\n",
       "    </tr>\n",
       "    <tr>\n",
       "      <th>4</th>\n",
       "      <td>1.0</td>\n",
       "      <td>0.0</td>\n",
       "      <td>0.0</td>\n",
       "      <td>0.0</td>\n",
       "    </tr>\n",
       "  </tbody>\n",
       "</table>\n",
       "</div>"
      ],
      "text/plain": [
       "   A-line  total-B-line  Consolidation  Pleural effusion\n",
       "0     1.0           0.0            0.0               0.0\n",
       "1     1.0           0.0            0.0               0.0\n",
       "2     1.0           0.0            0.0               0.0\n",
       "3     1.0           0.0            0.0               0.0\n",
       "4     1.0           0.0            0.0               0.0"
      ]
     },
     "execution_count": 39,
     "metadata": {},
     "output_type": "execute_result"
    }
   ],
   "source": [
    "labels = ['A-line', 'total-B-line', 'Consolidation', 'Pleural effusion']\n",
    "\n",
    "models_gt_df = pd.DataFrame(columns=labels)\n",
    "\n",
    "models_gt_df = gt_to_dataframe(models_gt_df, labels, test_labels)\n",
    "print(len(models_gt_df))\n",
    "models_gt_df.head()"
   ]
  },
  {
   "cell_type": "code",
   "execution_count": 97,
   "id": "15f67dae",
   "metadata": {},
   "outputs": [],
   "source": [
    "# models_gt_df.to_csv(f'/home/work/LUS/Results/model_output_csv/video_model2/{model_output_class}_artifacts_fold_{fold_num}_video_level_gt.csv', index = False)"
   ]
  },
  {
   "cell_type": "code",
   "execution_count": 98,
   "id": "a135931c",
   "metadata": {},
   "outputs": [],
   "source": [
    "if 'densenet161' in encoder_name:\n",
    "    # densenet 161\n",
    "    models_gt_df.to_csv(f'/home/work/LUS/Results/model_output_csv/video_level/internal_test/densenet_161/{model_output_class}_artifacts_fold_{fold_num}_video_level_gt.csv', index = False)\n",
    "if 'resnet' in encoder_name:\n",
    "    # resnet 50 \n",
    "    models_gt_df.to_csv(f'/home/work/LUS/Results/model_output_csv/video_level/internal_test/resnet_50/{model_output_class}_artifacts_fold_{fold_num}_video_level_gt.csv', index = False)"
   ]
  },
  {
   "cell_type": "markdown",
   "id": "b0144977",
   "metadata": {},
   "source": [
    "# 신뢰구간"
   ]
  },
  {
   "cell_type": "code",
   "execution_count": 40,
   "id": "1299e547",
   "metadata": {},
   "outputs": [],
   "source": [
    "from scipy.stats import norm\n",
    "from compare_auc_delong import *\n",
    "\n",
    "def delong_auc_ci(y_true, y_pred, alpha=0.95):\n",
    "    \"\"\"\n",
    "    DeLong 방법을 이용하여 AUC와 95% 신뢰 구간 계산\n",
    "    Args:\n",
    "    - y_true: 실제 레이블 값 (0과 1로 구성된 numpy 배열)\n",
    "    - y_pred: 예측 확률값 (numpy 배열)\n",
    "    - alpha: 신뢰수준 (기본값 0.95)\n",
    "\n",
    "    Returns:\n",
    "    - auc: AUC 값\n",
    "    - ci: AUC에 대한 신뢰 구간 (하한, 상한)\n",
    "    \"\"\"\n",
    "    auc, auc_var = delong_roc_variance(y_true, y_pred)\n",
    "    auc_std = np.sqrt(auc_var)\n",
    "\n",
    "    # 신뢰 구간 계산\n",
    "    lower_upper_q = np.array([0.5 - alpha / 2, 0.5 + alpha / 2])\n",
    "    ci = norm.ppf(lower_upper_q, loc=auc, scale=auc_std)\n",
    "    \n",
    "    # 신뢰 구간의 범위를 0과 1 사이로 조정\n",
    "    ci[ci < 0] = 0\n",
    "    ci[ci > 1] = 1\n",
    "\n",
    "    return auc, ci"
   ]
  },
  {
   "cell_type": "code",
   "execution_count": 41,
   "id": "766c6793",
   "metadata": {},
   "outputs": [],
   "source": [
    "def cal_CI(gt_df, method_df):\n",
    "    CI_values = {}\n",
    "    auc_values = {}\n",
    "    for idx in range(len(labels)):\n",
    "        gt_series = gt_df.iloc[:, idx]\n",
    "        method__series = method_df.iloc[:, idx]\n",
    "        \n",
    "        auc, ci = delong_auc_ci(gt_series, method__series)\n",
    "        \n",
    "        CI_values[labels[idx]] = ci\n",
    "        auc_values[labels[idx]] = auc.item()\n",
    "        \n",
    "    return CI_values, auc_values"
   ]
  },
  {
   "cell_type": "code",
   "execution_count": 42,
   "id": "2505f6df",
   "metadata": {},
   "outputs": [
    {
     "data": {
      "text/html": [
       "<div>\n",
       "<style scoped>\n",
       "    .dataframe tbody tr th:only-of-type {\n",
       "        vertical-align: middle;\n",
       "    }\n",
       "\n",
       "    .dataframe tbody tr th {\n",
       "        vertical-align: top;\n",
       "    }\n",
       "\n",
       "    .dataframe thead th {\n",
       "        text-align: right;\n",
       "    }\n",
       "</style>\n",
       "<table border=\"1\" class=\"dataframe\">\n",
       "  <thead>\n",
       "    <tr style=\"text-align: right;\">\n",
       "      <th></th>\n",
       "      <th>Label</th>\n",
       "      <th>AUC</th>\n",
       "      <th>95% CI Lower Bound</th>\n",
       "      <th>95% CI Upper Bound</th>\n",
       "    </tr>\n",
       "  </thead>\n",
       "  <tbody>\n",
       "    <tr>\n",
       "      <th>0</th>\n",
       "      <td>A-line</td>\n",
       "      <td>0.924419</td>\n",
       "      <td>0.895001</td>\n",
       "      <td>0.953836</td>\n",
       "    </tr>\n",
       "    <tr>\n",
       "      <th>1</th>\n",
       "      <td>total-B-line</td>\n",
       "      <td>0.849389</td>\n",
       "      <td>0.812951</td>\n",
       "      <td>0.885828</td>\n",
       "    </tr>\n",
       "    <tr>\n",
       "      <th>2</th>\n",
       "      <td>Consolidation</td>\n",
       "      <td>0.851728</td>\n",
       "      <td>0.815190</td>\n",
       "      <td>0.888266</td>\n",
       "    </tr>\n",
       "    <tr>\n",
       "      <th>3</th>\n",
       "      <td>Pleural effusion</td>\n",
       "      <td>0.950913</td>\n",
       "      <td>0.929957</td>\n",
       "      <td>0.971870</td>\n",
       "    </tr>\n",
       "  </tbody>\n",
       "</table>\n",
       "</div>"
      ],
      "text/plain": [
       "              Label       AUC  95% CI Lower Bound  95% CI Upper Bound\n",
       "0            A-line  0.924419            0.895001            0.953836\n",
       "1      total-B-line  0.849389            0.812951            0.885828\n",
       "2     Consolidation  0.851728            0.815190            0.888266\n",
       "3  Pleural effusion  0.950913            0.929957            0.971870"
      ]
     },
     "execution_count": 42,
     "metadata": {},
     "output_type": "execute_result"
    }
   ],
   "source": [
    "CIs, AUCs = cal_CI(models_gt_df, models_output_df)\n",
    "\n",
    "results = {\n",
    "    'Label': list(AUCs.keys()),\n",
    "    'AUC': list(AUCs.values()),\n",
    "    '95% CI Lower Bound': [ci[0] for ci in CIs.values()],\n",
    "    '95% CI Upper Bound': [ci[1] for ci in CIs.values()]\n",
    "}\n",
    "results_df = pd.DataFrame(results)\n",
    "results_df"
   ]
  },
  {
   "cell_type": "code",
   "execution_count": null,
   "id": "0d5419c3",
   "metadata": {},
   "outputs": [],
   "source": []
  },
  {
   "cell_type": "code",
   "execution_count": null,
   "id": "7ea2e0e4",
   "metadata": {},
   "outputs": [],
   "source": []
  }
 ],
 "metadata": {
  "kernelspec": {
   "display_name": "PyTorch 2.2 (NGC 23.11/Python 3.10) on Backend.AI",
   "language": "python",
   "name": "python3"
  },
  "language_info": {
   "codemirror_mode": {
    "name": "ipython",
    "version": 3
   },
   "file_extension": ".py",
   "mimetype": "text/x-python",
   "name": "python",
   "nbconvert_exporter": "python",
   "pygments_lexer": "ipython3",
   "version": "3.10.12"
  },
  "vscode": {
   "interpreter": {
    "hash": "767d51c1340bd893661ea55ea3124f6de3c7a262a8b4abca0554b478b1e2ff90"
   }
  }
 },
 "nbformat": 4,
 "nbformat_minor": 5
}
