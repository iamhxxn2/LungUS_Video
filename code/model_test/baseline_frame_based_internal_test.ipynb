{
 "cells": [
  {
   "cell_type": "markdown",
   "id": "10d50bef",
   "metadata": {},
   "source": [
    "https://www.kaggle.com/code/satishgunjal/binary-multiclass-classification-using-sklearn"
   ]
  },
  {
   "cell_type": "code",
   "execution_count": 1,
   "id": "f9316eaf",
   "metadata": {},
   "outputs": [],
   "source": [
    "import os\n",
    "import wandb\n",
    "\n",
    "import numpy as np\n",
    "import pandas as pd\n",
    "import matplotlib.pyplot as plt\n",
    "import csv\n",
    "\n",
    "import pickle\n",
    "from tqdm import tqdm\n",
    "\n",
    "import torch\n",
    "import torch.nn as nn\n",
    "import torch.optim as optim\n",
    "import torchvision\n",
    "from torchvision import models\n",
    "from torch.utils.data import DataLoader\n",
    "import random\n",
    "import torch.nn.functional as F\n",
    "\n",
    "# from Dataset_ML import *\n",
    "from Dataset_ML import *\n",
    "from utils import *\n",
    "from models import *\n",
    "import timm\n",
    "\n",
    "from sklearn.metrics import classification_report, confusion_matrix, accuracy_score\n",
    "from sklearn.metrics import roc_auc_score\n",
    "from sklearn import metrics\n",
    "from sklearn.metrics import roc_curve\n",
    "\n",
    "import math\n",
    "from sklearn.preprocessing import OneHotEncoder"
   ]
  },
  {
   "cell_type": "code",
   "execution_count": 2,
   "id": "3f4fb68c",
   "metadata": {},
   "outputs": [],
   "source": [
    "import timm"
   ]
  },
  {
   "cell_type": "code",
   "execution_count": 3,
   "id": "29c8df33",
   "metadata": {},
   "outputs": [],
   "source": [
    "def set_all_seeds(SEED):\n",
    "    # REPRODUCIBILITY\n",
    "    torch.manual_seed(SEED)\n",
    "    torch.cuda.manual_seed(SEED)\n",
    "    torch.cuda.manual_seed_all(SEED)\n",
    "    torch.backends.cudnn.deterministic = True\n",
    "    torch.backends.cudnn.benchmark = False\n",
    "    np.random.seed(SEED)\n",
    "    random.seed(SEED)"
   ]
  },
  {
   "cell_type": "code",
   "execution_count": 4,
   "id": "33d6bf73",
   "metadata": {},
   "outputs": [],
   "source": [
    "def models_output_to_dataframe(df, fold_num, labels, model_output):\n",
    "    \"\"\"\n",
    "    모델 출력을 기존 데이터프레임에 추가하는 함수\n",
    "    \"\"\"\n",
    "    temp_df = pd.DataFrame(model_output, columns=labels)\n",
    "    if fold_num is not None:\n",
    "        temp_df.columns = [f'{fold_num}_{label}' for label in labels]\n",
    "    else:\n",
    "        temp_df.columns = [f'{label}' for label in labels]\n",
    "    \n",
    "    if df.empty:\n",
    "        return temp_df\n",
    "    else:\n",
    "        return pd.concat([df, temp_df], axis=1)"
   ]
  },
  {
   "cell_type": "code",
   "execution_count": 5,
   "id": "f5f9ea78",
   "metadata": {},
   "outputs": [],
   "source": [
    "def frame_based_video_test(model_name, artifacts_num, model_test_rate, data_type, fold_num, weight_path, base_path, batch_size, img_size):\n",
    "    \n",
    "    test_csv_path = os.path.join(base_path, f'{data_type}/{version}/{artifacts_num}_artifacts/test_{model_test_rate}/fold_{fold_num}/test.csv')\n",
    "    \n",
    "    # dataset\n",
    "    test_dataset = video_dataset(test_csv_path, transforms = apply_transforms(mode=None), img_size = img_size, is_train = False)\n",
    "    # dataloader\n",
    "    test_dataloader =  torch.utils.data.DataLoader(test_dataset, batch_size=batch_size, shuffle = False, drop_last=False)\n",
    "\n",
    "    #len_dataloader\n",
    "    len_test_dataset = len(test_dataloader.dataset)\n",
    "    print(len_test_dataset)\n",
    "\n",
    "    # set seed\n",
    "    set_all_seeds(1234)\n",
    "\n",
    "    sigmoid = nn.Sigmoid()\n",
    "    \n",
    "    if model_name == 'densenet161':\n",
    "        # load imagenet pretrained model\n",
    "        model = timm.create_model('densenet161', pretrained=False, num_classes=4)\n",
    "    elif model_name == 'resnet50':\n",
    "        # load imagenet pretrained model\n",
    "        model = timm.create_model('resnet50', pretrained=False, num_classes=4)\n",
    "\n",
    "    gpu_index = 0\n",
    "    device = torch.device(f\"cuda:{gpu_index}\" if torch.cuda.is_available() else \"cpu\")\n",
    "\n",
    "    check_point = torch.load(weight_path, map_location=device)\n",
    "\n",
    "    # torch.nn.DataParallel을 사용하여 모델을 학습하고 저장한 경우에 이러한 접두어가 자주 발생\n",
    "    if 'module' in list(check_point['model'].keys())[0]:\n",
    "        # If so, remove the 'module.' prefix from the keys in the state_dict\n",
    "        new_state_dict = {k[7:]: v for k, v in check_point['model'].items()}\n",
    "        model.load_state_dict(new_state_dict)\n",
    "    else:\n",
    "        # If not using DataParallel, simply load the state_dict\n",
    "        model.load_state_dict(check_point['model'])\n",
    "\n",
    "    # model.load_state_dict(check_point['model'])\n",
    "    model = model.to(device)\n",
    "    \n",
    "    # load best threshold\n",
    "    best_val_thres = check_point['best_valid_thres']\n",
    "    print(best_val_thres)\n",
    "    \n",
    "    model_outputs = []\n",
    "    test_labels = []\n",
    "    test_preds = []\n",
    "\n",
    "    test_running_acc = 0.0\n",
    "\n",
    "    model.eval() \n",
    "    with torch.no_grad():    \n",
    "        \n",
    "        for data in tqdm(test_dataloader, desc=\"Testing\", unit=\"batch\"):\n",
    "#         for jdx, data in enumerate(test_dataloader):\n",
    "\n",
    "            test_img, test_label, _ = data\n",
    "\n",
    "            test_img = test_img.to(device)\n",
    "            test_label = test_label.to(device)\n",
    "\n",
    "            frames_preds = []\n",
    "    #         print(test_img.shape)\n",
    "            for t in range(test_img.size(1)):\n",
    "                x_in2 = test_img[:, t, :, :, :]\n",
    "                x_out = model(x_in2)\n",
    "                frame_pred = sigmoid(x_out.squeeze())\n",
    "\n",
    "                frame_pred_np = frame_pred.data.cpu().numpy()\n",
    "                frames_preds.append(frame_pred_np)\n",
    "\n",
    "            frame_2_video_preds_np = np.max(frames_preds, axis=0)\n",
    "#             frame_2_video_preds_np = np.average(frames_preds, axis=0)\n",
    "            model_outputs.append(frame_2_video_preds_np.tolist())\n",
    "            \n",
    "            frame_2_video_preds_np = np.where(frame_2_video_preds_np >= best_val_thres, 1., 0.)\n",
    "#             frame_2_video_preds_np = np.where(frame_2_video_preds_np >= 0.5, 1., 0.)\n",
    "            test_preds.append(frame_2_video_preds_np.tolist())\n",
    "\n",
    "            test_labels.append(test_label[0].cpu().detach().numpy().tolist()) \n",
    "\n",
    "            np_test_label = test_label[0].cpu().numpy()\n",
    "\n",
    "            test_accuracy = accuracy_score(np_test_label, frame_2_video_preds_np)\n",
    "\n",
    "            test_running_acc += test_accuracy\n",
    "\n",
    "#             print(f\"prediction : {frame_2_video_preds_np}, test_label : {np_test_label}\")\n",
    "#             print(f\"correct_num : {test_accuracy}\")\n",
    "#             print('-'*20)\n",
    "\n",
    "    #         if jdx == 0:\n",
    "    #             break\n",
    "\n",
    "    test_accuracy = test_running_acc / len_test_dataset\n",
    "    print(f\"test_running_acc : {test_running_acc}\")\n",
    "        \n",
    "    return test_accuracy, test_labels, test_preds, model_outputs, best_val_thres"
   ]
  },
  {
   "cell_type": "code",
   "execution_count": 66,
   "id": "a83912af",
   "metadata": {},
   "outputs": [
    {
     "name": "stdout",
     "output_type": "stream",
     "text": [
      "474\n",
      "[0.14718693, 0.08498128, 0.12685402, 0.21887156]\n"
     ]
    },
    {
     "name": "stderr",
     "output_type": "stream",
     "text": [
      "Testing: 100% 474/474 [09:32<00:00,  1.21s/batch]"
     ]
    },
    {
     "name": "stdout",
     "output_type": "stream",
     "text": [
      "test_running_acc : 288.0\n"
     ]
    },
    {
     "name": "stderr",
     "output_type": "stream",
     "text": [
      "\n"
     ]
    }
   ],
   "source": [
    "# chk_std = \"auc\"\n",
    "chk_std = \"loss\"\n",
    "\n",
    "model_test_rate = \"0.2\"\n",
    "\n",
    "fold_num = 4\n",
    "\n",
    "version = 'version_1'\n",
    "\n",
    "lr = 1e-6\n",
    "\n",
    "data_type = \"before_all_data\"\n",
    "\n",
    "frame_size = 256\n",
    "# frame_size = 512\n",
    "\n",
    "# batch_size = 32\n",
    "batch_size = 128\n",
    "\n",
    "# seed_num = 1234\n",
    "seed_num = 234\n",
    "\n",
    "# artifacts = 4\n",
    "artifacts = 5\n",
    "\n",
    "chk_std = \"loss\"\n",
    "\n",
    "model_name = 'densenet161'\n",
    "# model_name = 'resnet50'\n",
    "\n",
    "# weight_path = f'/home/work/LUS/Results/frame_base/multi_label/seed_{seed_num}_test{model_test_rate}_std_{chk_std}_{data_type}_{version}_{artifacts}_artifacts_densenet161_lr{lr}_batch{batch_size}_{frame_size}_fold{fold_num}_checkpoint'\n",
    "# no aug version\n",
    "weight_path = f'/home/work/LUS/Results/frame_base/multi_label/seed_{seed_num}_test{model_test_rate}_std_{chk_std}_{data_type}_{version}_{artifacts}_artifacts_{model_name}_lr{lr}_batch{batch_size}_{frame_size}_fold{fold_num}_noaug_checkpoint'\n",
    "\n",
    "base_path = f'/home/work/LUS/Dataset/csv_files/clip_multilabel_classification/'\n",
    "\n",
    "test_accuracy, test_labels, test_preds, model_outputs, best_val_thres = frame_based_video_test(model_name = model_name,\n",
    "                                                                                               artifacts_num = artifacts,\n",
    "                                                                                               model_test_rate=model_test_rate,\n",
    "                                                                                               data_type=data_type,\n",
    "                                                                                                fold_num=fold_num, \n",
    "                                                                                               weight_path=weight_path, \n",
    "                                                                                               base_path=base_path, \n",
    "                                                                                               batch_size=1,\n",
    "                                                                                               img_size = frame_size)"
   ]
  },
  {
   "cell_type": "code",
   "execution_count": 67,
   "id": "19fa2a94",
   "metadata": {},
   "outputs": [],
   "source": [
    "labels = ['A-line', 'total-B-line', 'Consolidation', 'Pleural effusion']\n",
    "\n",
    "models_output_df = pd.DataFrame(columns=labels)"
   ]
  },
  {
   "cell_type": "code",
   "execution_count": 68,
   "id": "87ce0ebf",
   "metadata": {},
   "outputs": [
    {
     "name": "stdout",
     "output_type": "stream",
     "text": [
      "best_threshold : [0.14718693, 0.08498128, 0.12685402, 0.21887156]\n"
     ]
    }
   ],
   "source": [
    "print(f'best_threshold : {best_val_thres}')"
   ]
  },
  {
   "cell_type": "code",
   "execution_count": 69,
   "id": "0b4c7aeb",
   "metadata": {},
   "outputs": [],
   "source": [
    "from sklearn.metrics import ConfusionMatrixDisplay, multilabel_confusion_matrix\n",
    "\n",
    "# test_labels = [idx[0] for idx in test_labels]\n",
    "test_labels = [[int(y) for y in z] for z in test_labels]\n",
    "\n",
    "confusion_mat = multilabel_confusion_matrix(test_labels, test_preds)\n",
    "\n",
    "all_labels = [\n",
    "            'A-line',\n",
    "            'B-lines',\n",
    "#             'B-line',\n",
    "#             'Confluent B-line',\n",
    "            'Consolidation',\n",
    "            'Pleural effusion'\n",
    "            ]"
   ]
  },
  {
   "cell_type": "code",
   "execution_count": 70,
   "id": "29e173f8",
   "metadata": {},
   "outputs": [
    {
     "data": {
      "image/png": "[encoded data removed]",
      "text/plain": [
       "<Figure size 1500x1200 with 4 Axes>"
      ]
     },
     "metadata": {},
     "output_type": "display_data"
    }
   ],
   "source": [
    "# ConfusionMatrixDisplay 함수를 이용하여 2행 3열로 시각화합니다.\n",
    "# figsize를 조정하여 적당한 크기로 만듭니다.\n",
    "fig, axs = plt.subplots(nrows=2, ncols=2, figsize=(15, 12))\n",
    "plt.subplots_adjust(wspace=0.1, hspace=0.2)\n",
    "\n",
    "# axs는 2x3 array이므로 axs.flat으로 iterator를 생성합니다.\n",
    "ax_iterator = iter(axs.flat)\n",
    "\n",
    "for idx, label in enumerate(all_labels):\n",
    "    ax = next(ax_iterator)  # 다음 subplot을 가져옵니다.\n",
    "    disp = ConfusionMatrixDisplay(confusion_matrix=confusion_mat[idx], display_labels=[0, 1])\n",
    "    disp.plot(ax=ax, cmap='Blues', colorbar=False)  # 각 subplot에 colorbar를 제거합니다.\n",
    "    ax.set_title(label, fontsize=20)\n",
    "    \n",
    "    # 각 축에 대해 텍스트 크기를 설정합니다.\n",
    "    for texts in [disp.text_]:\n",
    "        for text in texts.flatten():\n",
    "            text.set_fontsize(20)  # 숫자 텍스트의 크기를 조정합니다.\n",
    "\n",
    "# 남는 subplot을 숨깁니다.\n",
    "for ax in ax_iterator:\n",
    "    ax.set_visible(False)"
   ]
  },
  {
   "cell_type": "code",
   "execution_count": 71,
   "id": "ec723a0c",
   "metadata": {},
   "outputs": [
    {
     "name": "stdout",
     "output_type": "stream",
     "text": [
      "Micro-averaged precision :  0.8596904273639889\n",
      "recall :  0.6075949367088608\n",
      "f1-score :  0.6449908070136412\n"
     ]
    }
   ],
   "source": [
    "# precision_score, recall_score, f1_score 함수를 사용하여 각 레이블별 성능을 계산합니다.\n",
    "from sklearn.metrics import precision_score, recall_score, f1_score\n",
    "\n",
    "test_prediction_flat = np.array(test_preds).flatten()\n",
    "test_labels_flat = np.array(test_labels).flatten()\n",
    "\n",
    "precision = precision_score(test_labels_flat, test_prediction_flat, average='weighted')\n",
    "recall = recall_score(test_labels_flat, test_prediction_flat, average='weighted')\n",
    "f1 = f1_score(test_labels_flat, test_prediction_flat, average='weighted')\n",
    "\n",
    "print('Micro-averaged precision : ', precision)\n",
    "print('recall : ', recall)\n",
    "print('f1-score : ', f1)"
   ]
  },
  {
   "cell_type": "code",
   "execution_count": 72,
   "id": "62071737",
   "metadata": {},
   "outputs": [
    {
     "name": "stdout",
     "output_type": "stream",
     "text": [
      "                  precision    recall  f1-score   support\n",
      "\n",
      "          A-line       0.43      0.96      0.59       107\n",
      "         B-lines       0.22      1.00      0.36        84\n",
      "   Consolidation       0.31      0.96      0.46       109\n",
      "Pleural effusion       0.54      0.95      0.69        63\n",
      "\n",
      "       micro avg       0.32      0.97      0.49       363\n",
      "       macro avg       0.37      0.97      0.52       363\n",
      "    weighted avg       0.36      0.97      0.52       363\n",
      "     samples avg       0.36      0.66      0.45       363\n",
      "\n"
     ]
    },
    {
     "name": "stderr",
     "output_type": "stream",
     "text": [
      "/usr/local/lib/python3.10/dist-packages/sklearn/metrics/_classification.py:1344: UndefinedMetricWarning: Recall and F-score are ill-defined and being set to 0.0 in samples with no true labels. Use `zero_division` parameter to control this behavior.\n",
      "  _warn_prf(average, modifier, msg_start, len(result))\n"
     ]
    }
   ],
   "source": [
    "print(classification_report(\n",
    "    test_labels,\n",
    "    test_preds,\n",
    "    output_dict=False,\n",
    "    target_names=[\n",
    "            'A-line',\n",
    "            'B-lines',\n",
    "#             'B-line',\n",
    "#             'Confluent B-line',\n",
    "            'Consolidation',\n",
    "            'Pleural effusion'\n",
    "            ]\n",
    "))"
   ]
  },
  {
   "cell_type": "code",
   "execution_count": 73,
   "id": "43dcc018",
   "metadata": {},
   "outputs": [
    {
     "name": "stdout",
     "output_type": "stream",
     "text": [
      "A-line results\n",
      "Best Threshold=0.311104, sensitivity = 0.841, specificity = 0.880, J=0.721\n",
      "              precision    recall  f1-score   support\n",
      "\n",
      "      A-line       0.95      0.88      0.91       367\n",
      "      Others       0.67      0.84      0.75       107\n",
      "\n",
      "    accuracy                           0.87       474\n",
      "   macro avg       0.81      0.86      0.83       474\n",
      "weighted avg       0.89      0.87      0.88       474\n",
      "\n"
     ]
    }
   ],
   "source": [
    "from numpy import argmax\n",
    "\n",
    "# calculate roc curves\n",
    "fpr, tpr, thresholds = roc_curve(np.array(test_labels)[:, 0], np.array(model_outputs)[:, 0])\n",
    "\n",
    "# get the best threshold\n",
    "J = tpr - fpr\n",
    "ix = argmax(J)\n",
    "best_thresh = thresholds[ix]\n",
    "print('A-line results')\n",
    "print('Best Threshold=%f, sensitivity = %.3f, specificity = %.3f, J=%.3f' % (best_thresh, tpr[ix], 1-fpr[ix], J[ix]))\n",
    "\n",
    "y_prob_pred = (np.array(model_outputs)[:, 0] >= best_thresh).astype(bool)\n",
    "print(classification_report(np.array(test_labels)[:, 0], y_prob_pred, target_names=['A-line', 'Others']))"
   ]
  },
  {
   "cell_type": "code",
   "execution_count": 74,
   "id": "cd42c39a",
   "metadata": {},
   "outputs": [
    {
     "name": "stdout",
     "output_type": "stream",
     "text": [
      "B-lines results\n",
      "Best Threshold=0.609296, sensitivity = 0.750, specificity = 0.754, J=0.504\n",
      "              precision    recall  f1-score   support\n",
      "\n",
      "      B-line       0.93      0.75      0.83       390\n",
      "      Others       0.40      0.75      0.52        84\n",
      "\n",
      "    accuracy                           0.75       474\n",
      "   macro avg       0.66      0.75      0.68       474\n",
      "weighted avg       0.84      0.75      0.78       474\n",
      "\n"
     ]
    }
   ],
   "source": [
    "from numpy import argmax\n",
    "\n",
    "# calculate roc curves\n",
    "fpr, tpr, thresholds = roc_curve(np.array(test_labels)[:, 1], np.array(model_outputs)[:, 1])\n",
    "\n",
    "# get the best threshold\n",
    "J = tpr - fpr\n",
    "ix = argmax(J)\n",
    "best_thresh = thresholds[ix]\n",
    "print('B-lines results')\n",
    "print('Best Threshold=%f, sensitivity = %.3f, specificity = %.3f, J=%.3f' % (best_thresh, tpr[ix], 1-fpr[ix], J[ix]))\n",
    "\n",
    "y_prob_pred = (np.array(model_outputs)[:, 1] >= best_thresh).astype(bool)\n",
    "print(classification_report(np.array(test_labels)[:, 1], y_prob_pred, target_names=['B-line', 'Others']))"
   ]
  },
  {
   "cell_type": "code",
   "execution_count": 75,
   "id": "28048dee",
   "metadata": {},
   "outputs": [
    {
     "name": "stdout",
     "output_type": "stream",
     "text": [
      "Consolidation results\n",
      "Best Threshold=0.327406, sensitivity = 0.844, specificity = 0.682, J=0.526\n",
      "               precision    recall  f1-score   support\n",
      "\n",
      "Consolidation       0.94      0.68      0.79       365\n",
      "       Others       0.44      0.84      0.58       109\n",
      "\n",
      "     accuracy                           0.72       474\n",
      "    macro avg       0.69      0.76      0.68       474\n",
      " weighted avg       0.82      0.72      0.74       474\n",
      "\n"
     ]
    }
   ],
   "source": [
    "from numpy import argmax\n",
    "\n",
    "# calculate roc curves\n",
    "fpr, tpr, thresholds = roc_curve(np.array(test_labels)[:, 2], np.array(model_outputs)[:, 2])\n",
    "\n",
    "# get the best threshold\n",
    "J = tpr - fpr\n",
    "ix = argmax(J)\n",
    "best_thresh = thresholds[ix]\n",
    "print('Consolidation results')\n",
    "print('Best Threshold=%f, sensitivity = %.3f, specificity = %.3f, J=%.3f' % (best_thresh, tpr[ix], 1-fpr[ix], J[ix]))\n",
    "\n",
    "y_prob_pred = (np.array(model_outputs)[:, 2] >= best_thresh).astype(bool)\n",
    "print(classification_report(np.array(test_labels)[:, 2], y_prob_pred, target_names=['Consolidation', 'Others']))"
   ]
  },
  {
   "cell_type": "code",
   "execution_count": 76,
   "id": "3686a5d7",
   "metadata": {},
   "outputs": [
    {
     "name": "stdout",
     "output_type": "stream",
     "text": [
      "Pleural effusion results\n",
      "Best Threshold=0.401433, sensitivity = 0.905, specificity = 0.959, J=0.863\n",
      "                  precision    recall  f1-score   support\n",
      "\n",
      "Pleural effusion       0.98      0.96      0.97       411\n",
      "          Others       0.77      0.90      0.83        63\n",
      "\n",
      "        accuracy                           0.95       474\n",
      "       macro avg       0.88      0.93      0.90       474\n",
      "    weighted avg       0.96      0.95      0.95       474\n",
      "\n"
     ]
    }
   ],
   "source": [
    "from numpy import argmax\n",
    "\n",
    "# calculate roc curves\n",
    "fpr, tpr, thresholds = roc_curve(np.array(test_labels)[:, 3], np.array(model_outputs)[:, 3])\n",
    "\n",
    "# get the best threshold\n",
    "J = tpr - fpr\n",
    "ix = argmax(J)\n",
    "best_thresh = thresholds[ix]\n",
    "print('Pleural effusion results')\n",
    "print('Best Threshold=%f, sensitivity = %.3f, specificity = %.3f, J=%.3f' % (best_thresh, tpr[ix], 1-fpr[ix], J[ix]))\n",
    "\n",
    "y_prob_pred = (np.array(model_outputs)[:, 3] >= best_thresh).astype(bool)\n",
    "print(classification_report(np.array(test_labels)[:, 3], y_prob_pred, target_names=['Pleural effusion', 'Others']))"
   ]
  },
  {
   "cell_type": "code",
   "execution_count": 77,
   "id": "fbe8e3cc",
   "metadata": {},
   "outputs": [
    {
     "data": {
      "image/png": "[encoded data removed]",
      "text/plain": [
       "<Figure size 800x800 with 1 Axes>"
      ]
     },
     "metadata": {},
     "output_type": "display_data"
    }
   ],
   "source": [
    "from itertools import cycle\n",
    "from sklearn.metrics import roc_curve, auc\n",
    "\n",
    "\n",
    "# ROC curve를 계산하고 시각화합니다.\n",
    "n_classes = len(test_labels[0])\n",
    "fpr = dict()\n",
    "tpr = dict()\n",
    "roc_auc = dict()\n",
    "for i in range(n_classes):\n",
    "    fpr[i], tpr[i], _ = roc_curve(np.array(test_labels)[:, i], np.array(model_outputs)[:, i])\n",
    "    roc_auc[i] = auc(fpr[i], tpr[i])\n",
    "\n",
    "# 마이크로 평균 ROC curve를 계산합니다.\n",
    "fpr[\"micro\"], tpr[\"micro\"], _ = roc_curve(np.array(test_labels).ravel(), np.array(model_outputs).ravel())\n",
    "roc_auc[\"micro\"] = auc(fpr[\"micro\"], tpr[\"micro\"])\n",
    "\n",
    "# 모든 레이블에 대한 평균 ROC curve를 계산합니다.\n",
    "all_fpr = np.unique(np.concatenate([fpr[i] for i in range(n_classes)]))\n",
    "mean_tpr = np.zeros_like(all_fpr)\n",
    "for i in range(n_classes):\n",
    "    mean_tpr += np.interp(all_fpr, fpr[i], tpr[i])\n",
    "mean_tpr /= n_classes\n",
    "fpr[\"macro\"] = all_fpr\n",
    "tpr[\"macro\"] = mean_tpr\n",
    "roc_auc[\"macro\"] = auc(fpr[\"macro\"], tpr[\"macro\"])\n",
    "\n",
    "# ROC curve를 그래프로 시각화합니다.\n",
    "plt.figure(figsize=(8, 8))\n",
    "lw = 2\n",
    "plt.plot(fpr[\"micro\"], tpr[\"micro\"], label='Micro-average ROC curve (area = {0:0.3f})'\n",
    "''.format(roc_auc[\"micro\"]), color='deeppink', linestyle=':', linewidth=4)\n",
    "plt.plot(fpr[\"macro\"], tpr[\"macro\"], label='Macro-average ROC curve (area = {0:0.3f})'\n",
    "''.format(roc_auc[\"macro\"]), color='navy', linestyle=':', linewidth=4)\n",
    "\n",
    "colors = cycle(['aqua', 'darkorange', 'cornflowerblue', 'green', 'red'])\n",
    "all_labels = [\n",
    "            'A-line',\n",
    "            'B-lines',\n",
    "#             'B-line',\n",
    "#             'Confluent B-line',\n",
    "            'Consolidation',\n",
    "            'Pleural effusion'\n",
    "            ]\n",
    "\n",
    "for i, label, color in zip(range(len(all_labels)), all_labels, colors):\n",
    "    plt.plot(fpr[i], tpr[i], color=color, lw=lw,\n",
    "            label='{0} (area = {1:0.3f})'\n",
    "            ''.format(label, roc_auc[i]))\n",
    "plt.plot([0, 1], [0, 1], 'k--', lw=lw)\n",
    "plt.xlim([0.0, 1.0])\n",
    "plt.ylim([0.0, 1.05])\n",
    "plt.xlabel('False Positive Rate')\n",
    "plt.ylabel('True Positive Rate')\n",
    "plt.title('Receiver operating characteristic for multi-class data')\n",
    "plt.legend(loc=\"lower right\", fontsize='large')\n",
    "plt.show()\n"
   ]
  },
  {
   "cell_type": "code",
   "execution_count": 78,
   "id": "bf7322bd",
   "metadata": {},
   "outputs": [
    {
     "data": {
      "text/html": [
       "<div>\n",
       "<style scoped>\n",
       "    .dataframe tbody tr th:only-of-type {\n",
       "        vertical-align: middle;\n",
       "    }\n",
       "\n",
       "    .dataframe tbody tr th {\n",
       "        vertical-align: top;\n",
       "    }\n",
       "\n",
       "    .dataframe thead th {\n",
       "        text-align: right;\n",
       "    }\n",
       "</style>\n",
       "<table border=\"1\" class=\"dataframe\">\n",
       "  <thead>\n",
       "    <tr style=\"text-align: right;\">\n",
       "      <th></th>\n",
       "      <th>4_A-line</th>\n",
       "      <th>4_total-B-line</th>\n",
       "      <th>4_Consolidation</th>\n",
       "      <th>4_Pleural effusion</th>\n",
       "    </tr>\n",
       "  </thead>\n",
       "  <tbody>\n",
       "    <tr>\n",
       "      <th>0</th>\n",
       "      <td>0.933927</td>\n",
       "      <td>0.050935</td>\n",
       "      <td>0.122852</td>\n",
       "      <td>0.155477</td>\n",
       "    </tr>\n",
       "    <tr>\n",
       "      <th>1</th>\n",
       "      <td>0.902986</td>\n",
       "      <td>0.053436</td>\n",
       "      <td>0.094844</td>\n",
       "      <td>0.133922</td>\n",
       "    </tr>\n",
       "    <tr>\n",
       "      <th>2</th>\n",
       "      <td>0.907473</td>\n",
       "      <td>0.048299</td>\n",
       "      <td>0.094844</td>\n",
       "      <td>0.131402</td>\n",
       "    </tr>\n",
       "    <tr>\n",
       "      <th>3</th>\n",
       "      <td>0.630203</td>\n",
       "      <td>0.068662</td>\n",
       "      <td>0.116568</td>\n",
       "      <td>0.141746</td>\n",
       "    </tr>\n",
       "    <tr>\n",
       "      <th>4</th>\n",
       "      <td>0.496106</td>\n",
       "      <td>0.073976</td>\n",
       "      <td>0.105281</td>\n",
       "      <td>0.134649</td>\n",
       "    </tr>\n",
       "  </tbody>\n",
       "</table>\n",
       "</div>"
      ],
      "text/plain": [
       "   4_A-line  4_total-B-line  4_Consolidation  4_Pleural effusion\n",
       "0  0.933927        0.050935         0.122852            0.155477\n",
       "1  0.902986        0.053436         0.094844            0.133922\n",
       "2  0.907473        0.048299         0.094844            0.131402\n",
       "3  0.630203        0.068662         0.116568            0.141746\n",
       "4  0.496106        0.073976         0.105281            0.134649"
      ]
     },
     "execution_count": 78,
     "metadata": {},
     "output_type": "execute_result"
    }
   ],
   "source": [
    "models_output_df = models_output_to_dataframe(models_output_df, fold_num, labels, model_outputs)\n",
    "models_output_df.head()"
   ]
  },
  {
   "cell_type": "code",
   "execution_count": 79,
   "id": "5ee2766d",
   "metadata": {},
   "outputs": [],
   "source": [
    "if 'densenet161' in model_name:\n",
    "    # densenet 161\n",
    "    models_output_df.to_csv(f'/home/work/LUS/Results/model_output_csv/video_level/internal_test/densenet_161/{artifacts}_artifacts_batch{batch_size}_fold_{fold_num}_{model_name}_output.csv', index = False)\n",
    "elif 'resnet' in model_name:\n",
    "    # resnet 50 \n",
    "    models_output_df.to_csv(f'/home/work/LUS/Results/model_output_csv/video_level/internal_test/resnet_50/{artifacts}_artifacts_batch{batch_size}_fold_{fold_num}_{model_name}_output.csv', index = False)"
   ]
  },
  {
   "cell_type": "code",
   "execution_count": 80,
   "id": "0276ff17",
   "metadata": {},
   "outputs": [
    {
     "data": {
      "text/plain": [
       "128"
      ]
     },
     "execution_count": 80,
     "metadata": {},
     "output_type": "execute_result"
    }
   ],
   "source": [
    "batch_size"
   ]
  },
  {
   "cell_type": "code",
   "execution_count": 81,
   "id": "f90c71ca",
   "metadata": {},
   "outputs": [
    {
     "data": {
      "text/plain": [
       "474"
      ]
     },
     "execution_count": 81,
     "metadata": {},
     "output_type": "execute_result"
    }
   ],
   "source": [
    "len(test_labels)"
   ]
  },
  {
   "cell_type": "code",
   "execution_count": 82,
   "id": "6fd390bd",
   "metadata": {},
   "outputs": [],
   "source": [
    "def gt_to_dataframe(df, labels, model_output):\n",
    "    \"\"\"\n",
    "    모델 출력을 기존 데이터프레임에 추가하는 함수\n",
    "    \"\"\"\n",
    "    temp_df = pd.DataFrame(model_output, columns=labels)\n",
    "    temp_df.columns = [f'{label}' for label in labels]\n",
    "    \n",
    "    if df.empty:\n",
    "        return temp_df\n",
    "    else:\n",
    "        return pd.concat([df, temp_df], axis=1)"
   ]
  },
  {
   "cell_type": "code",
   "execution_count": 83,
   "id": "e87d9bc8",
   "metadata": {},
   "outputs": [
    {
     "name": "stdout",
     "output_type": "stream",
     "text": [
      "474\n"
     ]
    },
    {
     "data": {
      "text/html": [
       "<div>\n",
       "<style scoped>\n",
       "    .dataframe tbody tr th:only-of-type {\n",
       "        vertical-align: middle;\n",
       "    }\n",
       "\n",
       "    .dataframe tbody tr th {\n",
       "        vertical-align: top;\n",
       "    }\n",
       "\n",
       "    .dataframe thead th {\n",
       "        text-align: right;\n",
       "    }\n",
       "</style>\n",
       "<table border=\"1\" class=\"dataframe\">\n",
       "  <thead>\n",
       "    <tr style=\"text-align: right;\">\n",
       "      <th></th>\n",
       "      <th>A-line</th>\n",
       "      <th>total-B-line</th>\n",
       "      <th>Consolidation</th>\n",
       "      <th>Pleural effusion</th>\n",
       "    </tr>\n",
       "  </thead>\n",
       "  <tbody>\n",
       "    <tr>\n",
       "      <th>0</th>\n",
       "      <td>1</td>\n",
       "      <td>0</td>\n",
       "      <td>0</td>\n",
       "      <td>0</td>\n",
       "    </tr>\n",
       "    <tr>\n",
       "      <th>1</th>\n",
       "      <td>1</td>\n",
       "      <td>0</td>\n",
       "      <td>0</td>\n",
       "      <td>0</td>\n",
       "    </tr>\n",
       "    <tr>\n",
       "      <th>2</th>\n",
       "      <td>1</td>\n",
       "      <td>0</td>\n",
       "      <td>0</td>\n",
       "      <td>0</td>\n",
       "    </tr>\n",
       "    <tr>\n",
       "      <th>3</th>\n",
       "      <td>1</td>\n",
       "      <td>0</td>\n",
       "      <td>0</td>\n",
       "      <td>0</td>\n",
       "    </tr>\n",
       "    <tr>\n",
       "      <th>4</th>\n",
       "      <td>1</td>\n",
       "      <td>0</td>\n",
       "      <td>0</td>\n",
       "      <td>0</td>\n",
       "    </tr>\n",
       "  </tbody>\n",
       "</table>\n",
       "</div>"
      ],
      "text/plain": [
       "   A-line  total-B-line  Consolidation  Pleural effusion\n",
       "0       1             0              0                 0\n",
       "1       1             0              0                 0\n",
       "2       1             0              0                 0\n",
       "3       1             0              0                 0\n",
       "4       1             0              0                 0"
      ]
     },
     "execution_count": 83,
     "metadata": {},
     "output_type": "execute_result"
    }
   ],
   "source": [
    "labels = ['A-line', 'total-B-line', 'Consolidation', 'Pleural effusion']\n",
    "\n",
    "models_gt_df = pd.DataFrame(columns=labels)\n",
    "\n",
    "models_gt_df = gt_to_dataframe(models_gt_df, labels, test_labels)\n",
    "print(len(models_gt_df))\n",
    "models_gt_df.head()"
   ]
  },
  {
   "cell_type": "markdown",
   "id": "d720038c",
   "metadata": {},
   "source": [
    "# 신뢰구간"
   ]
  },
  {
   "cell_type": "code",
   "execution_count": 84,
   "id": "ccde009e",
   "metadata": {},
   "outputs": [],
   "source": [
    "from scipy.stats import norm\n",
    "from compare_auc_delong import *\n",
    "\n",
    "def delong_auc_ci(y_true, y_pred, alpha=0.95):\n",
    "    \"\"\"\n",
    "    DeLong 방법을 이용하여 AUC와 95% 신뢰 구간 계산\n",
    "    Args:\n",
    "    - y_true: 실제 레이블 값 (0과 1로 구성된 numpy 배열)\n",
    "    - y_pred: 예측 확률값 (numpy 배열)\n",
    "    - alpha: 신뢰수준 (기본값 0.95)\n",
    "\n",
    "    Returns:\n",
    "    - auc: AUC 값\n",
    "    - ci: AUC에 대한 신뢰 구간 (하한, 상한)\n",
    "    \"\"\"\n",
    "    auc, auc_var = delong_roc_variance(y_true, y_pred)\n",
    "    auc_std = np.sqrt(auc_var)\n",
    "\n",
    "    # 신뢰 구간 계산\n",
    "    lower_upper_q = np.array([0.5 - alpha / 2, 0.5 + alpha / 2])\n",
    "    ci = norm.ppf(lower_upper_q, loc=auc, scale=auc_std)\n",
    "    \n",
    "    # 신뢰 구간의 범위를 0과 1 사이로 조정\n",
    "    ci[ci < 0] = 0\n",
    "    ci[ci > 1] = 1\n",
    "\n",
    "    return auc, ci"
   ]
  },
  {
   "cell_type": "code",
   "execution_count": 85,
   "id": "61eaf4c1",
   "metadata": {},
   "outputs": [],
   "source": [
    "def cal_CI(gt_df, method_df):\n",
    "    CI_values = {}\n",
    "    auc_values = {}\n",
    "    for idx in range(len(labels)):\n",
    "        gt_series = gt_df.iloc[:, idx]\n",
    "        method__series = method_df.iloc[:, idx]\n",
    "        \n",
    "        auc, ci = delong_auc_ci(gt_series, method__series)\n",
    "        \n",
    "        CI_values[labels[idx]] = ci\n",
    "        auc_values[labels[idx]] = auc.item()\n",
    "        \n",
    "    return CI_values, auc_values"
   ]
  },
  {
   "cell_type": "code",
   "execution_count": 86,
   "id": "77c888ef",
   "metadata": {},
   "outputs": [
    {
     "name": "stderr",
     "output_type": "stream",
     "text": [
      "/home/work/LUS/code/video_base/pda_detection/code/compare_auc_delong.py:297: FutureWarning: Support for multi-dimensional indexing (e.g. `obj[:, None]`) is deprecated and will be removed in a future version.  Convert to a numpy array before indexing instead.\n",
      "  predictions_sorted_transposed = predictions[np.newaxis, order]\n"
     ]
    },
    {
     "data": {
      "text/html": [
       "<div>\n",
       "<style scoped>\n",
       "    .dataframe tbody tr th:only-of-type {\n",
       "        vertical-align: middle;\n",
       "    }\n",
       "\n",
       "    .dataframe tbody tr th {\n",
       "        vertical-align: top;\n",
       "    }\n",
       "\n",
       "    .dataframe thead th {\n",
       "        text-align: right;\n",
       "    }\n",
       "</style>\n",
       "<table border=\"1\" class=\"dataframe\">\n",
       "  <thead>\n",
       "    <tr style=\"text-align: right;\">\n",
       "      <th></th>\n",
       "      <th>Label</th>\n",
       "      <th>AUC</th>\n",
       "      <th>95% CI Lower Bound</th>\n",
       "      <th>95% CI Upper Bound</th>\n",
       "    </tr>\n",
       "  </thead>\n",
       "  <tbody>\n",
       "    <tr>\n",
       "      <th>0</th>\n",
       "      <td>A-line</td>\n",
       "      <td>0.924444</td>\n",
       "      <td>0.896672</td>\n",
       "      <td>0.952217</td>\n",
       "    </tr>\n",
       "    <tr>\n",
       "      <th>1</th>\n",
       "      <td>total-B-line</td>\n",
       "      <td>0.802518</td>\n",
       "      <td>0.756918</td>\n",
       "      <td>0.848119</td>\n",
       "    </tr>\n",
       "    <tr>\n",
       "      <th>2</th>\n",
       "      <td>Consolidation</td>\n",
       "      <td>0.821566</td>\n",
       "      <td>0.778932</td>\n",
       "      <td>0.864200</td>\n",
       "    </tr>\n",
       "    <tr>\n",
       "      <th>3</th>\n",
       "      <td>Pleural effusion</td>\n",
       "      <td>0.976982</td>\n",
       "      <td>0.964110</td>\n",
       "      <td>0.989854</td>\n",
       "    </tr>\n",
       "  </tbody>\n",
       "</table>\n",
       "</div>"
      ],
      "text/plain": [
       "              Label       AUC  95% CI Lower Bound  95% CI Upper Bound\n",
       "0            A-line  0.924444            0.896672            0.952217\n",
       "1      total-B-line  0.802518            0.756918            0.848119\n",
       "2     Consolidation  0.821566            0.778932            0.864200\n",
       "3  Pleural effusion  0.976982            0.964110            0.989854"
      ]
     },
     "execution_count": 86,
     "metadata": {},
     "output_type": "execute_result"
    }
   ],
   "source": [
    "CIs, AUCs = cal_CI(models_gt_df, models_output_df)\n",
    "\n",
    "results = {\n",
    "    'Label': list(AUCs.keys()),\n",
    "    'AUC': list(AUCs.values()),\n",
    "    '95% CI Lower Bound': [ci[0] for ci in CIs.values()],\n",
    "    '95% CI Upper Bound': [ci[1] for ci in CIs.values()]\n",
    "}\n",
    "results_df = pd.DataFrame(results)\n",
    "results_df"
   ]
  },
  {
   "cell_type": "code",
   "execution_count": null,
   "id": "db195a6b",
   "metadata": {},
   "outputs": [],
   "source": []
  },
  {
   "cell_type": "code",
   "execution_count": null,
   "id": "657bd5f5",
   "metadata": {},
   "outputs": [],
   "source": []
  }
 ],
 "metadata": {
  "kernelspec": {
   "display_name": "PyTorch 2.2 (NGC 23.11/Python 3.10) on Backend.AI",
   "language": "python",
   "name": "python3"
  },
  "language_info": {
   "codemirror_mode": {
    "name": "ipython",
    "version": 3
   },
   "file_extension": ".py",
   "mimetype": "text/x-python",
   "name": "python",
   "nbconvert_exporter": "python",
   "pygments_lexer": "ipython3",
   "version": "3.10.12"
  },
  "vscode": {
   "interpreter": {
    "hash": "767d51c1340bd893661ea55ea3124f6de3c7a262a8b4abca0554b478b1e2ff90"
   }
  }
 },
 "nbformat": 4,
 "nbformat_minor": 5
}
